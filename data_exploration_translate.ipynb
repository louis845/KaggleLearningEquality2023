{
 "cells": [
  {
   "cell_type": "markdown",
   "id": "babc9e57",
   "metadata": {},
   "source": [
    "# Old translation / tokenizer notebook: data_exploration_text\n",
    "This notebook explores a more efficient translation method (using ctranslate2 or OpenNMT). Tokenizers are done by using BERT tokenizers."
   ]
  },
  {
   "cell_type": "code",
   "execution_count": 1,
   "id": "e01f0bff",
   "metadata": {},
   "outputs": [],
   "source": [
    "import data\n",
    "import pandas as pd\n",
    "import numpy as np\n",
    "import time\n",
    "import math"
   ]
  },
  {
   "cell_type": "code",
   "execution_count": 13,
   "id": "0ed7db8e",
   "metadata": {},
   "outputs": [
    {
     "data": {
      "text/plain": [
       "en     36161\n",
       "es     13910\n",
       "pt      4177\n",
       "ar      3701\n",
       "fr      3701\n",
       "sw      2895\n",
       "bg      2867\n",
       "gu      2320\n",
       "bn      2176\n",
       "hi      1786\n",
       "it       866\n",
       "zh       862\n",
       "mr       300\n",
       "fil      247\n",
       "as       167\n",
       "my       135\n",
       "km       121\n",
       "kn       119\n",
       "te        93\n",
       "or        70\n",
       "ur        66\n",
       "ta        60\n",
       "pnb       51\n",
       "pl        43\n",
       "tr        40\n",
       "ru        34\n",
       "mul        4\n",
       "Name: language, dtype: int64"
      ]
     },
     "execution_count": 13,
     "metadata": {},
     "output_type": "execute_result"
    }
   ],
   "source": [
    "data.topics[\"language\"].value_counts()"
   ]
  },
  {
   "cell_type": "code",
   "execution_count": 14,
   "id": "b22913a2",
   "metadata": {},
   "outputs": [
    {
     "data": {
      "text/plain": [
       "en     65939\n",
       "es     30844\n",
       "fr     10682\n",
       "pt     10435\n",
       "ar      7418\n",
       "bg      6050\n",
       "hi      4042\n",
       "zh      3849\n",
       "gu      3677\n",
       "bn      2513\n",
       "sw      1942\n",
       "it      1300\n",
       "mr       999\n",
       "as       641\n",
       "fil      516\n",
       "km       505\n",
       "kn       501\n",
       "or       326\n",
       "pl       319\n",
       "te       285\n",
       "ur       245\n",
       "tr       225\n",
       "ta       216\n",
       "my       206\n",
       "ru       188\n",
       "pnb      184\n",
       "Name: language, dtype: int64"
      ]
     },
     "execution_count": 14,
     "metadata": {},
     "output_type": "execute_result"
    }
   ],
   "source": [
    "data.contents[\"language\"].value_counts()"
   ]
  },
  {
   "cell_type": "code",
   "execution_count": 4,
   "id": "f42c1549",
   "metadata": {},
   "outputs": [
    {
     "data": {
      "text/plain": [
       "en     102100\n",
       "es      44754\n",
       "pt      14612\n",
       "fr      14383\n",
       "ar      11119\n",
       "bg       8917\n",
       "gu       5997\n",
       "hi       5828\n",
       "zh       4711\n",
       "bn       4689\n",
       "sw       4307\n",
       "it       2166\n",
       "mr       1299\n",
       "as        808\n",
       "fil       763\n",
       "km        626\n",
       "kn        620\n",
       "swa       530\n",
       "or        396\n",
       "te        378\n",
       "pl        362\n",
       "my        341\n",
       "ur        311\n",
       "ta        276\n",
       "tr        265\n",
       "pnb       235\n",
       "ru        222\n",
       "mul         4\n",
       "Name: language, dtype: int64"
      ]
     },
     "execution_count": 4,
     "metadata": {},
     "output_type": "execute_result"
    }
   ],
   "source": [
    "pd.concat([data.contents[\"language\"], data.topics[\"language\"]]).value_counts()"
   ]
  },
  {
   "cell_type": "code",
   "execution_count": 33,
   "id": "c2296c90",
   "metadata": {},
   "outputs": [
    {
     "data": {
      "text/plain": [
       "['gu',\n",
       " 'zh',\n",
       " 'km',\n",
       " 'it',\n",
       " 'ru',\n",
       " 'sw',\n",
       " 'mul',\n",
       " 'ta',\n",
       " 'tr',\n",
       " 'mr',\n",
       " 'my',\n",
       " 'or',\n",
       " 'kn',\n",
       " 'ur',\n",
       " 'bn',\n",
       " 'fil',\n",
       " 'te',\n",
       " 'pl',\n",
       " 'pnb',\n",
       " 'ar',\n",
       " 'en',\n",
       " 'bg',\n",
       " 'hi',\n",
       " 'as',\n",
       " 'swa',\n",
       " 'fr',\n",
       " 'es',\n",
       " 'pt',\n",
       " 'en']"
      ]
     },
     "execution_count": 33,
     "metadata": {},
     "output_type": "execute_result"
    }
   ],
   "source": [
    "list(has_langs) + [\"en\"]"
   ]
  },
  {
   "cell_type": "code",
   "execution_count": 11,
   "id": "79e7e093",
   "metadata": {
    "scrolled": true
   },
   "outputs": [
    {
     "name": "stdout",
     "output_type": "stream",
     "text": [
      "{'hi', 'tr', 'es', 'pnb', 'fil', 'zh', 'it', 'en', 'ta', 'bg', 'my', 'or', 'as', 'kn', 'km', 'bn', 'ur', 'mul', 'mr', 'pl', 'te', 'pt', 'swa', 'gu', 'fr', 'ar', 'sw', 'ru'}\n",
      "{'hi', 'es', 'ja', 'sv', 'zh', 'it', 'en', 'bg', 'as', 'id', 'de', 'bn', 'hu', 'mr', 'pl', 'nl', 'pt', 'fi', 'gu', 'ar', 'fr', 'sw', 'ru', 'ko'}\n"
     ]
    },
    {
     "name": "stderr",
     "output_type": "stream",
     "text": [
      "C:\\Users\\Louis\\AppData\\Local\\Temp\\ipykernel_10200\\3261884690.py:5: FutureWarning: Passing a set as an indexer is deprecated and will raise in a future version. Use a list instead.\n",
      "  missing_langs = data.topics[\"language\"].value_counts()[has_langs.difference(available_langs)].sort_values(ascending = False)\n"
     ]
    },
    {
     "data": {
      "text/plain": [
       "fil    247\n",
       "my     135\n",
       "km     121\n",
       "kn     119\n",
       "te      93\n",
       "or      70\n",
       "ur      66\n",
       "ta      60\n",
       "pnb     51\n",
       "tr      40\n",
       "swa     35\n",
       "mul      4\n",
       "Name: language, dtype: int64"
      ]
     },
     "metadata": {},
     "output_type": "display_data"
    },
    {
     "name": "stdout",
     "output_type": "stream",
     "text": [
      "1041\n"
     ]
    },
    {
     "data": {
      "text/plain": [
       "en    36161\n",
       "es    13910\n",
       "pt     4177\n",
       "ar     3701\n",
       "fr     3701\n",
       "bg     2867\n",
       "sw     2860\n",
       "gu     2320\n",
       "bn     2176\n",
       "hi     1786\n",
       "it      866\n",
       "zh      862\n",
       "mr      300\n",
       "as      167\n",
       "pl       43\n",
       "ru       34\n",
       "Name: language, dtype: int64"
      ]
     },
     "metadata": {},
     "output_type": "display_data"
    },
    {
     "name": "stdout",
     "output_type": "stream",
     "text": [
      "75931\n"
     ]
    }
   ],
   "source": [
    "has_langs = set(data.topics[\"language\"].value_counts().index)\n",
    "print(has_langs)\n",
    "available_langs = set(list_available_langs() + [\"en\"])\n",
    "print(available_langs)\n",
    "missing_langs = data.topics[\"language\"].value_counts()[has_langs.difference(available_langs)].sort_values(ascending = False)\n",
    "display(missing_langs)\n",
    "print(missing_langs.sum())\n",
    "has_langs = data.topics[\"language\"].value_counts()[list(has_langs.intersection(available_langs))].sort_values(ascending = False)\n",
    "display(has_langs)\n",
    "print(has_langs.sum())"
   ]
  },
  {
   "cell_type": "code",
   "execution_count": 12,
   "id": "df0318c4",
   "metadata": {},
   "outputs": [
    {
     "name": "stdout",
     "output_type": "stream",
     "text": [
      "{'as', 'zh'}\n"
     ]
    }
   ],
   "source": [
    "detection_available_langs = set([\"af\", \"ar\", \"bg\", \"bn\", \"ca\", \"cs\", \"cy\", \"da\", \"de\", \"el\", \"en\", \"es\", \"et\", \"fa\", \"fi\", \"fr\", \"gu\", \"he\", \"hi\", \"hr\", \"hu\", \"id\", \"it\", \"ja\", \"kn\", \"ko\", \"lt\", \"lv\", \"mk\", \"ml\", \"mr\", \"ne\", \"nl\", \"no\", \"pa\", \"pl\", \"pt\", \"ro\", \"ru\", \"sk\", \"sl\", \"so\", \"sq\", \"sv\", \"sw\", \"ta\", \"te\", \"th\", \"tl\", \"tr\", \"uk\", \"ur\", \"vi\"])\n",
    "# available languages in langdetect 1.0.9\n",
    "print(available_langs.difference(detection_available_langs))"
   ]
  },
  {
   "cell_type": "markdown",
   "id": "f2405e14",
   "metadata": {},
   "source": [
    "# Translation"
   ]
  },
  {
   "cell_type": "code",
   "execution_count": 2,
   "id": "849039c3",
   "metadata": {},
   "outputs": [],
   "source": [
    "import ctranslate2\n",
    "import sentencepiece as spm\n",
    "import os\n",
    "import config_translation\n",
    "import langdetect\n",
    "\n",
    "langdetect.DetectorFactory.seed = 0\n",
    "\n",
    "def get_language_model_folder(lang):\n",
    "    return config_translation.resources_path + \"ct2_models_from_opus/\" + lang + \"-en/\"\n",
    "\n",
    "def list_available_langs():\n",
    "    return [lang_folder[:2] for lang_folder in os.listdir(config_translation.resources_path + \"ct2_models_from_opus/\")]\n",
    "\n",
    "def load_model(lang):\n",
    "    lang_dir = get_language_model_folder(lang)\n",
    "    if not os.path.isfile(lang_dir + \"source.spm\"):\n",
    "        raise Exception(\"Language does not exist\")\n",
    "    tokenizer = spm.SentencePieceProcessor()\n",
    "    tokenizer.load(lang_dir + \"source.spm\")\n",
    "    return tokenizer, ctranslate2.Translator(lang_dir)\n",
    "    \n",
    "def translate_sentences(sentences, translate_info):\n",
    "    tokenizer, translator = translate_info\n",
    "    tokens = tokenizer.encode(sentences, out_type=str)\n",
    "    results = translator.translate_batch(tokens)\n",
    "    output = tokenizer.decode([result.hypotheses[0] for result in results])\n",
    "    output = [text.replace(\"▁\",\" \").strip() for text in output]\n",
    "    return output\n",
    "\n",
    "def detect_language(text):\n",
    "    try:\n",
    "        langdetect.DetectorFactory.seed = 0\n",
    "        probs = langdetect.detect_langs(text)\n",
    "        probs = {probs[0].lang:probs[0].prob for x in probs} # convert to dict\n",
    "        \"\"\"for lang in probs.keys():\n",
    "            if lang.startswith(\"zh\"):\n",
    "                prob = probs[lang]\n",
    "                probs.pop(lang, None)\n",
    "                if \"zh\" in probs:\n",
    "                    probs[\"zh\"] = probs[\"zh\"] + prob\n",
    "                probs[\"zh\"] = \"\"\" # note chinese is splitted into zh-tw, zh-cn. we do not need this yet since we use en only.\n",
    "        return \"en\" in probs and probs[\"en\"] > 0.9\n",
    "    except:\n",
    "        return False\n",
    "\n",
    "# returns a list of bools, indicating whether the string is English\n",
    "def detect_languages(sentences):\n",
    "    lang_en = [detect_language(text) for text in sentences]\n",
    "    return lang_en\n",
    "\n",
    "def obtain_actual_languages(dframe, k):\n",
    "    row = dframe.iloc[k]\n",
    "    title = row[\"title\"]\n",
    "    description = row[\"description\"]\n",
    "    language = row[\"language\"]\n",
    "    if language == \"en\":\n",
    "        return language, language\n",
    "    if type(title) == str and detect_language(title):\n",
    "        title = \"en\"\n",
    "    else:\n",
    "        title = language\n",
    "    if type(description) == str and detect_language(description):\n",
    "        description = \"en\"\n",
    "    else:\n",
    "        description = language\n",
    "    return description, title\n",
    "\n",
    "def obtain_language_info(dframe):\n",
    "    description_lang = np.zeros(shape = (len(dframe)), dtype = \"object\")\n",
    "    title_lang = np.zeros(shape = (len(dframe)), dtype = \"object\")\n",
    "    for k in range(len(dframe)):\n",
    "        description, title = obtain_actual_languages(dframe, k)\n",
    "        description_lang[k] = description\n",
    "        title_lang[k] = title\n",
    "    return pd.DataFrame(data = {\"description_lang\": description_lang, \"title_lang\": title_lang}, index = dframe.index)"
   ]
  },
  {
   "cell_type": "markdown",
   "id": "3eeb715c",
   "metadata": {},
   "source": [
    "## Detect \"actual\" languages of text"
   ]
  },
  {
   "cell_type": "code",
   "execution_count": 3,
   "id": "fed571cf",
   "metadata": {
    "scrolled": true
   },
   "outputs": [
    {
     "name": "stdout",
     "output_type": "stream",
     "text": [
      "1217.622895002365\n"
     ]
    }
   ],
   "source": [
    "import translate_helpers\n",
    "\n",
    "data.topics.loc[data.topics[\"language\"] == \"swa\", \"language\"] = \"sw\"\n",
    "data.contents.loc[data.contents[\"language\"] == \"swa\", \"language\"] = \"sw\"\n",
    "\n",
    "ctime = time.time()  \n",
    "topics_lang = translate_helpers.obtain_language_info(data.topics)\n",
    "contents_lang = translate_helpers.obtain_language_info(data.contents)\n",
    "ctime = time.time() - ctime\n",
    "print(\"Obtaining language info: \",ctime)\n",
    "display((topics_lang[\"description_lang\"] != data.topics[\"language\"]).sum())\n",
    "display((topics_lang[\"title_lang\"] != data.topics[\"language\"]).sum())\n",
    "display((contents_lang[\"description_lang\"] != data.contents[\"language\"]).sum())\n",
    "display((contents_lang[\"title_lang\"] != data.contents[\"language\"]).sum())\n",
    "\n",
    "topics_lang[\"description_idx\"] = np.arange(len(topics_lang))\n",
    "topics_lang[\"title_idx\"] = np.arange(len(topics_lang), 2 * len(topics_lang))\n",
    "contents_lang[\"description_idx\"] = np.arange(2 * len(topics_lang), len(contents_lang) + 2 * len(topics_lang))\n",
    "contents_lang[\"title_idx\"] = np.arange(len(contents_lang) + 2 * len(topics_lang), 2 * len(contents_lang) + 2 * len(topics_lang))\n",
    "\n",
    "topics_lang.loc[data.topics[\"description\"].isnull(), \"description_lang\"] = \"none\"\n",
    "topics_lang.loc[data.topics[\"title\"].isnull(), \"title_lang\"] = \"none\"\n",
    "contents_lang.loc[data.contents[\"description\"].isnull(), \"description_lang\"] = \"none\"\n",
    "contents_lang.loc[data.contents[\"title\"].isnull(), \"title_lang\"] = \"none\"\n",
    "\n",
    "topics_lang.to_csv(\"detected_topics_lang.csv\")\n",
    "contents_lang.to_csv(\"detected_contents_lang.csv\")\n",
    "\n",
    "mtext = np.empty(shape = (2 * len(topics_lang) + 2 * len(contents_lang)), dtype = \"object\")\n",
    "mlang = np.empty(shape = (2 * len(topics_lang) + 2 * len(contents_lang)), dtype = \"object\")\n",
    "\n",
    "mlang[:len(topics_lang)] = topics_lang[\"description_lang\"]\n",
    "mtext[:len(topics_lang)] = data.topics[\"description\"]\n",
    "\n",
    "mlang[len(topics_lang): (2 * len(topics_lang))] = topics_lang[\"title_lang\"]\n",
    "mtext[len(topics_lang): (2 * len(topics_lang))] = data.topics[\"title\"]\n",
    "\n",
    "mlang[(2 * len(topics_lang)):(len(contents_lang) + 2 * len(topics_lang))] = contents_lang[\"description_lang\"]\n",
    "mtext[(2 * len(topics_lang)):(len(contents_lang) + 2 * len(topics_lang))] = data.contents[\"description\"]\n",
    "\n",
    "mlang[(len(contents_lang) + 2 * len(topics_lang)):(2 * len(contents_lang) + 2 * len(topics_lang))] = contents_lang[\"title_lang\"]\n",
    "mtext[(len(contents_lang) + 2 * len(topics_lang)):(2 * len(contents_lang) + 2 * len(topics_lang))] = data.contents[\"title\"]\n",
    "\n",
    "total_text = pd.DataFrame(index = np.arange(2 * len(contents_lang) + 2 * len(topics_lang)), data = {\"lang\":mlang, \"text\":mtext})\n",
    "\n",
    "total_text.to_csv(\"total_text_before_translate.csv\")"
   ]
  },
  {
   "cell_type": "code",
   "execution_count": 18,
   "id": "341cfc92",
   "metadata": {},
   "outputs": [
    {
     "name": "stdout",
     "output_type": "stream",
     "text": [
      "{'gu', 'pl', 'ur', 'pt', 'bn', 'mr', 'kn', 'pnb', 'tr', 'mul', 'fr', 'my', 'swa', 'te', 'zh', 'hi', 'bg', 'ar', 'ta', 'en', 'es', 'it', 'or', 'ru', 'km', 'sw', 'fil', 'as'}\n",
      "{'gu', 'pl', 'bn', 'mr', 'pt', 'fr', 'id', 'hu', 'zh', 'hi', 'ar', 'bg', 'nl', 'ja', 'en', 'de', 'es', 'it', 'ru', 'ko', 'sw', 'sv', 'fi', 'as'}\n"
     ]
    },
    {
     "name": "stderr",
     "output_type": "stream",
     "text": [
      "C:\\Users\\Louis\\AppData\\Local\\Temp\\ipykernel_17020\\3467206669.py:6: FutureWarning: Passing a set as an indexer is deprecated and will raise in a future version. Use a list instead.\n",
      "  missing_langs = total_topic_langs[has_langs.difference(available_langs)].sort_values(ascending = False)\n"
     ]
    },
    {
     "data": {
      "text/plain": [
       "fil    417\n",
       "my     269\n",
       "km     241\n",
       "kn     156\n",
       "te     113\n",
       "or      98\n",
       "tr      79\n",
       "ur      77\n",
       "ta      74\n",
       "pnb     64\n",
       "swa     58\n",
       "mul      8\n",
       "dtype: int64"
      ]
     },
     "metadata": {},
     "output_type": "display_data"
    },
    {
     "name": "stdout",
     "output_type": "stream",
     "text": [
      "1654\n"
     ]
    },
    {
     "data": {
      "text/plain": [
       "en    77803\n",
       "es    27523\n",
       "pt     8151\n",
       "fr     7266\n",
       "ar     6997\n",
       "bg     5728\n",
       "gu     4441\n",
       "bn     4274\n",
       "hi     3084\n",
       "sw     2936\n",
       "zh     1696\n",
       "it     1580\n",
       "mr      379\n",
       "as      281\n",
       "pl       83\n",
       "ru       68\n",
       "dtype: int64"
      ]
     },
     "metadata": {},
     "output_type": "display_data"
    },
    {
     "name": "stdout",
     "output_type": "stream",
     "text": [
      "152290\n"
     ]
    }
   ],
   "source": [
    "total_topic_langs = pd.concat([topics_lang[\"title_lang\"],topics_lang[\"description_lang\"]]).value_counts()\n",
    "has_langs = set(total_topic_langs.index)\n",
    "print(has_langs)\n",
    "available_langs = set(list_available_langs() + [\"en\"])\n",
    "print(available_langs)\n",
    "missing_langs = total_topic_langs[has_langs.difference(available_langs)].sort_values(ascending = False)\n",
    "display(missing_langs)\n",
    "print(missing_langs.sum())\n",
    "has_langs = total_topic_langs[list(has_langs.intersection(available_langs))].sort_values(ascending = False)\n",
    "display(has_langs)\n",
    "print(has_langs.sum())"
   ]
  },
  {
   "cell_type": "markdown",
   "id": "1ebb434f",
   "metadata": {},
   "source": [
    "## Test translation here"
   ]
  },
  {
   "cell_type": "code",
   "execution_count": 4,
   "id": "679508bd",
   "metadata": {
    "scrolled": true
   },
   "outputs": [
    {
     "name": "stdout",
     "output_type": "stream",
     "text": [
      "Translated  ar\n",
      "Translated  as\n",
      "Translated  bg\n",
      "Translated  bn\n",
      "Translated  es\n",
      "Translated  fr\n",
      "Translated  gu\n",
      "Translated  hi\n",
      "Translated  it\n",
      "Translated  mr\n",
      "Translated  pl\n",
      "Translated  pt\n",
      "Translated  ru\n",
      "Translated  sw\n",
      "Translated  zh\n",
      "Translation time used:  61.385201930999756\n"
     ]
    }
   ],
   "source": [
    "batch_size = 40\n",
    "languages = total_text.lang.value_counts().index\n",
    "\n",
    "langs_to_translate = list(pd.Index(translate_helpers.list_available_langs()).intersection(languages))\n",
    "translated_results = np.empty(shape = len(total_text), dtype = \"object\")\n",
    "translated_results[:] = np.nan\n",
    "\n",
    "\n",
    "ctime = time.time()\n",
    "for language in langs_to_translate:\n",
    "    translate_info = translate_helpers.load_model(language)\n",
    "    lang_idx = total_text.loc[total_text[\"lang\"] == language].index\n",
    "    length = len(lang_idx)\n",
    "    \n",
    "    for k in range(min(int(math.ceil((length + 0.0) / batch_size)), 2)):\n",
    "        low = k * batch_size\n",
    "        high = min((k+1) * batch_size, length)\n",
    "        text_idx = lang_idx[np.arange(low, high)]\n",
    "        sentences = list(total_text.loc[text_idx, \"text\"])\n",
    "        translated_sentences = translate_helpers.translate_sentences(sentences, translate_info)\n",
    "        translated_results[np.array(text_idx, dtype = np.int64)] = translated_sentences\n",
    "        \n",
    "    del translate_info\n",
    "    print(\"Translated \",language)\n",
    "total_text[\"text_translate\"] = translated_results\n",
    "ctime = time.time() - ctime\n",
    "print(\"Translation time used: \",ctime)\n",
    "total_text.to_csv(\"total_text.csv\")\n",
    "\n",
    "topics_lang[\"description\"] = np.array(total_text.loc[np.arange(len(topics_lang)), \"text_translate\"])\n",
    "topics_lang[\"title\"] = np.array(total_text.loc[np.arange(len(topics_lang), 2 * len(topics_lang)), \"text_translate\"])\n",
    "contents_lang[\"description\"] = np.array(total_text.loc[np.arange(2 * len(topics_lang), len(contents_lang) + 2 * len(topics_lang)), \"text_translate\"])\n",
    "contents_lang[\"title\"] = np.array(total_text.loc[np.arange(len(contents_lang) + 2 * len(topics_lang), 2 * len(contents_lang) + 2 * len(topics_lang)), \"text_translate\"])\n",
    "\n",
    "topics_lang.to_csv(\"topics_translated.csv\")\n",
    "contents_lang.to_csv(\"contents_translated.csv\")"
   ]
  },
  {
   "cell_type": "code",
   "execution_count": 38,
   "id": "40b650b0",
   "metadata": {},
   "outputs": [],
   "source": []
  },
  {
   "cell_type": "code",
   "execution_count": 9,
   "id": "546a6b1a",
   "metadata": {},
   "outputs": [
    {
     "name": "stdout",
     "output_type": "stream",
     "text": [
      "Original :   5acb7211ecf6d9049f561089\n",
      "Translate:   5acb7211ecf6d9049f561089\n",
      "Original :   مفهوم الحفرية\n",
      "Translate:   The concept of excavation\n",
      "Original :   5a60ac4b3d99e104fb62ce19\n",
      "Translate:   5a60ac4b3d99e104fb62ce19\n",
      "Original :   5a4c843e7dd197090857f29c\n",
      "Translate:   5a4c843e7d197090857f29c\n",
      "Original :   5ae17d4e6b9064043d25f7ee\n",
      "Translate:   5ae17d4e6b9064043d25f7ee\n",
      "Original :   5acb6cff6b9064043d877401\n",
      "Translate:   5acb6cff6b90640443d877401\n",
      "Original :   5addd9508b01ea04997272a2\n",
      "Translate:   5add9508b01ea04997272a2\n",
      "Original :   اتعلم طرق زراعة الأسطح وابتدي مشروعك أو جمّل سطح بيتك\n",
      "Translate:   You know how to grow roofs, start your project, or you can get your roof together.\n",
      "Original :   5a60a2e80ed49f0498cb213c\n",
      "Translate:   5a60a2e80ed49f0498cb213c\n",
      "Original :   5acc8bbeecf6d904a0288e7d\n",
      "Translate:   5acc8bbeecf6d904a0288e7d\n",
      "Original :   في الدرس ده هنتعرف على الدي إن إيه وإزاي بيتترجم لبروتين وكمان هنتعرف على الـ RNA ودوره في عملية الترجمة\n",
      "Translate:   In this course, we recognize DNA and Easy Pete, and we recognize RNA and its role in the translation process.\n",
      "Original :   5a6091c2f3a50d049b1d3d9a\n",
      "Translate:   5a6091c2f3a50d049b1d3d9a\n",
      "Original :   5a4c84527dd197090857ff65\n",
      "Translate:   5a4c84527dd197090857ff65\n",
      "Original :   دورة لغة Java للمبتدئين بحيث تغطي الأساسيات وتفترض هذه الدورة أنك لا تملك أي خلفية مسبقة في جافا وتشرح الأساسيات ومفهوم الكائنات من الصفر\n",
      "Translate:   Java language course for beginners so that they cover the basics and assume that you have no prior background in Java and explain the basics and concept of organisms from scratch.\n",
      "Original :   5a608fdb8c9a02049a3e7180\n",
      "Translate:   5a608fdb8c9a02049a3e7180\n",
      "Original :   5ae16e616b9064043c651f77\n",
      "Translate:   5ae16e616b9064043c651f77\n",
      "Original :   رياضيات\n",
      "Translate:   Mathematics\n",
      "Original :   في الدرس ده هنعرف إزاي الكون كبير جدا، وهنتعلم إيه هى الكواكب والأقمار والنجوم، وإيه الفرق بين الكويكبات والنيازك والشهب\n",
      "Translate:   In this lesson, we know the universe is very large, and we know what planets, moons, stars, and what the difference is between asteroids and meteors and meteors.\n",
      "Original :   5b564a9a45dea204a20c5a56\n",
      "Translate:   5b564a9a45dea204a20c5a56\n",
      "Original :   5acb721b6b9064043e21c6e3\n",
      "Translate:   5acb721b6b9064043e21c6e3\n",
      "Original :   يستقصي عمليا انواع الموجات .\t\t\t\n",
      "يفرق بين الموجة المستعرضة والموجة الطولية .\t\t\t\n",
      "يوضح أن الموجة االمستعرضة دقائق الوسط عمودي على انتشار الموجة\t\t\t\n",
      "يوضح أن الموجة الطولية دقائق الوسط مع انتشار الموجة.\t\t\t\n",
      "يعرف أن الموجة المستعرضة تتكون من قمم وقيعان .\t\t\t\n",
      "يعرف أن الموجة الطولية تتكون من تضاغط وتخلخل .\n",
      "Translate:   It shows that the wave is shown that the wave is shown to be shown in the vertical minutes of the center on the wave spread, and the wave is defined as the wave is shown in the wave's length minutes of the center as the wave spreads. The wave is defined as the wave is composed of a tops and a tops.\n",
      "Original :   5a4c845c7dd197090858048a\n",
      "Translate:   5a4c845c7d197090858048a\n",
      "Original :   إيه أهمية المعلومات في الاقتصاد؟!\n",
      "Translate:   What's the importance of information in the economy?\n",
      "Original :   5a4c843b7dd197090857f081\n",
      "Translate:   5a4c843b7d197090857f081\n",
      "Original :   5b9e2c826571f9049ab7b4a5\n",
      "Translate:   5b9e2c826571f9049ab7b4a5\n",
      "Original :   في الدرس ده هنتعرف على الدوائر الكهربية وقانون أوم، والطرق المختلفة لتوصيل المقاومات الكهربية في الدائرة.\n",
      "Translate:   In this course, we're familiar with the circuits and the Om Act, and the different ways to deliver electrical resistance in the circuit.\n",
      "Original :   يتعرف العوامل التي تؤثر في نمو البكتيريا.\n",
      "Translate:   It identifies factors that affect bacteria growth.\n",
      "Original :   يوضح معالم الجدول الدوري\n",
      "Translate:   The periodic calendar is shown\n",
      "Original :   5a4c845c7dd197090858049a\n",
      "Translate:   5a4c845c7d197090858049a\n",
      "Original :   يستقصي طريقتا التكاثر الجنسي واللاجنسي ويقارن بينهما.\n",
      "Translate:   It investigates and compares sexual and non-sexual reproduction methods.\n",
      "Original :   5addd9526b9064043d24b6b4\n",
      "Translate:   5addd9526b9064043d24b6b4\n",
      "Original :   5a60881e6b9064043689772d\n",
      "Translate:   5a608881e6b9064043689772d\n",
      "Original :   5ae174828f9c1404a0d2e386\n",
      "Translate:   5ae174828f9c1404a0d2e386\n",
      "Original :   5ae17bb48f9c1404a0d2e4a3\n",
      "Translate:   5ae17bb48f9c1404a0d2e4a3\n",
      "Original :   5acc82426b9064043e2222fe\n",
      "Translate:   5acc82426b9064043e22222fe\n",
      "Original :   في الدرس ده هتتعرف على تركيب الذرة . وإزاي معرفتنا لتكوين الذرة ممكن يساعدنا في تفسير ظواهر بنشوفها في حياتنا.\n",
      "Translate:   In this lesson, you recognize the composition of the atom, and our knowledge of the formation of the atom can help us explain phenomena that we see in our lives.\n",
      "Original :   يوضح مفهوم الحركة النسبية ، النقطة المرجعية ، \t\t\t\n",
      "يفرق بين الحركة الدورية والانتقالية .\t\t\t\n",
      "يبن أنواع حركة الأجسام مع ذكر امثلة .\t\t\t\n",
      "يوضح تطبيقات على الحركة الموجية .\t\t\t\n",
      "يفرق بين الموجات الميكانيكية والكهرومغناطيسية .\t\t\t\n",
      "يذكر مميزات الموجات الميكانيكية والكهرومغتاطيسية .\t\t\t\n",
      "يذكر امثلة على موجات ميكانيكية وكهرومغناطيسية .\t\t\t\n",
      "يفسر مشاهدات حياتية على الموجات الميكانيكية والكهرومغناطيسية.\n",
      "Translate:   It explains the concept of relative motion, the reference point, that differentiates between periodic and transitional motion, builds the types of body movement with examples. It shows applications to wave movement. It distinguishes between mechanical waves and electromagnetics. It mentions the characteristics of mechanical waves and electromagnetics. It mentions examples of mechanical and electromagnetic waves.\n",
      "Original :   التعريف بعلم الاقتصاد توزيع الموارد والثروات ما بين الناس والتعريف بالنظم الاقتصادية المختلفة والتعريف بمفهوم الاسواق وتفاصيل البيع والشراء\n",
      "Translate:   Introduction to economics: distribution of resources and wealth among people; introduction to different economic systems; definition of the concept of markets; and details of sales and purchases\n",
      "Original :   5a60914e31a9b9049548854f\n",
      "Translate:   5a60914e31a9b9049548854f\n",
      "Original :   5acc8e826b9064043d87d270\n",
      "Translate:   5acc8e826b90640443d87d270\n",
      "Original :   يتعرف مفهوم االكرة السماوية\n",
      "Translate:   He defines the concept of celestial ball.\n",
      "Original :   5a4c845c7dd1970908580489\n",
      "Translate:   5a4c845c7d1970908580489\n",
      "Original :   5ad4a3e1f342d704a74e8118\n",
      "Translate:   5ad4a3e1f342d704a74e8118\n",
      "Original :   5a4c84397dd197090857ee5a\n",
      "Translate:   5a4c84397d197090857ee5a\n",
      "Original :   5ad49cedf342d704a6254fb8\n",
      "Translate:   5ad49cedf342d704a6254fb8\n",
      "Original :   5af43ee999d5e6049fefa291\n",
      "Translate:   5af43ee999d5e6049fefa291\n",
      "Original :   5acc8437ecf6d9049f566959\n",
      "Translate:   5acc8437ecf6d9049f566959\n",
      "Original :   5a4c843b7dd197090857f057\n",
      "Translate:   5a4c843b7d197090857f057\n",
      "Original :   5ad46a663a891b049e2d024d\n",
      "Translate:   5ad46a663a891b049e2d024d\n",
      "Original :   5a4c845c7dd19709085804b3\n",
      "Translate:   5a4c845c7d19709085804b3\n",
      "Original :   5adefb3b8f9c1404a0d1f3c8\n",
      "Translate:   5adifb3b8f9c1404a0d1f3c8\n",
      "Original :   يستقصي الصفات الفيزيائية لبعض الفلزات من خلال التوزيع الإلكتروني\n",
      "Translate:   It investigates the physical characteristics of certain metals through electronic distribution.\n",
      "Original :   5a4c844a7dd197090857fc69\n",
      "Translate:   5a4c844a7d197090857fc69\n",
      "Original :   5ad46fd13a891b049e2d0964\n",
      "Translate:   5ad46fd13a891b049e2d0964\n",
      "Original :   يقدر المسافة بين النجوم باستخدام اليد\n",
      "Translate:   The distance between stars is estimated by hand.\n",
      "Original :   5a4c843b7dd197090857f073\n",
      "Translate:   5a4c843b7d197090857f073\n",
      "Original :   يوضح مفهوم الكتلة والوزن .\t\t\t\n",
      "يفرق بين الكتلة والوزن .\t\t\t\n",
      "يبين أن كتل الاجسام ثابتة .\t\t\t\n",
      "يبين أن وزن الجسم يختلف حسب جاذبية الكوكب .\t\t\t\n",
      "يذكر وحدة قياس كل من : الوزن ، الكتلة .\n",
      "Translate:   The concept of mass and weight is explained. The difference between mass and weight. It shows that body mass is constant. It shows that body weight varies according to the gravity of the planet.\n",
      "Original :   5ad4ab21f342d704a74e838b\n",
      "Translate:   5ad4ab21f342d704a74e838b\n",
      "Original :   Verbs Part 2\n",
      "Translate:   Verbs Part 2\n",
      "Original :   5ad4a8776b9064043d8b82df\n",
      "Translate:   5ad4a8776b9064043d8b82df\n",
      "Original :   5ae1766b8b01ea049973b230\n",
      "Translate:   5ae1766b8b01ea049973b230\n",
      "Original :   5a4c843a7dd197090857ef77\n",
      "Translate:   5a4c843a7d197090857ef77\n",
      "Original :   يجري تجارب بسيطة للكشف عن الحموض والقواعد باستخدام الكواشف\n",
      "Translate:   Running simple experiments to detect acids and rules using reagents.\n",
      "Original :   5a4c844a7dd197090857fc5f\n",
      "Translate:   5a4c844a7dd197090857fc5f\n",
      "Original :   5b9e5d116571f9049aba215d\n",
      "Translate:   5b9e5d116571f9049aba215d\n",
      "Original :   5add9f0c6b9064043d249164\n",
      "Translate:   5add9f0c6b9064043d249164\n",
      "Original :   5adefa698b01ea049a776386\n",
      "Translate:   5adefa698b01ea049a776386\n",
      "Original :   5b9e5eac6571f9049aba25aa\n",
      "Translate:   5b9e5eac6571f9049aba25aa\n",
      "Original :   يتعرف بعض الأمراض الفيروسية:  (فيروس ايبولا)\n",
      "Translate:   He knows some viral diseases:\n",
      "Original :   5acc83ab6b9064043e2223d8\n",
      "Translate:   5acc83ab6b9064043e2223d8\n",
      "Original :   5a4c845f7dd1970908580674\n",
      "Translate:   5a4c845f7d1970908580674\n",
      "Original :   يتعرف بعض الأمراض الفيروسية:  (فيروس ايبولا)\n",
      "Translate:   He knows some viral diseases:\n",
      "Original :   يوضح طرائق المحافظة على نسبة الكولسترول طبيعية في الجسم .\n",
      "Translate:   It explains how to maintain normal cholesterol.\n",
      "Original :   في الكورس ده هنعرف إيه علاقة دراسة الـ DNA بمعرفة أسرار التاريخ، عن طريق استخدام أحدث التقنيات الحيوية.\n",
      "Translate:   In this course we know what the DNA study has to do with knowing the secrets of history, using the latest biotechnology.\n",
      "Original :   5ae178148b01ea049973b23c\n",
      "Translate:   5ae178148b01ea049973b23c\n",
      "Original :   5aded7d68f9c1404a0d1e491\n",
      "Translate:   5aded7d68f9c1404a0d1e491\n",
      "Original :   5ad5a4716b9064043e263f63\n",
      "Translate:   5ad5a4716b9064043e263f63\n",
      "Original :   5b9e473d6571f9049ab8a7b3\n",
      "Translate:   5b9e473d6571f9049ab8a7b3\n",
      "Original :   5ae16e5e8b01ea049973aff5\n",
      "Translate:   5ae16e5e8b01ea049973aff5\n",
      "Original :   5a4c84507dd197090857fd92\n",
      "Translate:   5a4c84507d197090857fd92\n"
     ]
    }
   ],
   "source": [
    "sub = total_text.loc[total_text[\"lang\"] == \"ar\"]\n",
    "txt = sub.iloc[0:80][\"text\"]\n",
    "trans = sub.iloc[0:80][\"text_translate\"]\n",
    "for k in range(len(txt)):\n",
    "    print(\"Original :  \", txt.iloc[k])\n",
    "    print(\"Translate:  \", trans.iloc[k])"
   ]
  },
  {
   "cell_type": "code",
   "execution_count": 17,
   "id": "15176afe",
   "metadata": {},
   "outputs": [
    {
     "data": {
      "text/plain": [
       "True"
      ]
     },
     "execution_count": 17,
     "metadata": {},
     "output_type": "execute_result"
    }
   ],
   "source": [
    "mstr = \"5af43ee999d5e6049fefa291\"\n",
    "\n",
    "\" \" not in mstr and sum(c.isdigit() for c in mstr) > 7 and sum(c.isalpha() for c in mstr) > 7"
   ]
  },
  {
   "cell_type": "code",
   "execution_count": 54,
   "id": "8a6d07a1",
   "metadata": {},
   "outputs": [
    {
     "name": "stdout",
     "output_type": "stream",
     "text": [
      "Translation time used:  16.97045397758484\n"
     ]
    }
   ],
   "source": [
    "# translate_info = translate_helpers.load_model(\"zh\")\n",
    "ctime = time.time()\n",
    "translate_helpers.translate_sentences(list(total_text.loc[lang_idx[np.arange(0, 10)], \"text\"]), translate_info)\n",
    "ctime = time.time() - ctime\n",
    "print(\"Translation time used: \",ctime)"
   ]
  },
  {
   "cell_type": "code",
   "execution_count": 35,
   "id": "a0f75fa0",
   "metadata": {},
   "outputs": [
    {
     "data": {
      "text/plain": [
       "array([64330, 64410, 64577, 64691, 64777, 64846, 64906, 64931, 65419,\n",
       "       65429, 65562, 65863, 65865, 66050, 66319], dtype=int64)"
      ]
     },
     "execution_count": 35,
     "metadata": {},
     "output_type": "execute_result"
    }
   ],
   "source": [
    "np.array(lang_idx[np.arange(low, high)], dtype = np.int64)"
   ]
  },
  {
   "cell_type": "code",
   "execution_count": 49,
   "id": "141d0fd7",
   "metadata": {},
   "outputs": [
    {
     "data": {
      "text/plain": [
       "['你的动脉、静脉、毛细血管和小静脉可以容下约5升血液.你说这有啥用？它携带了呼吸作用必须的氧气以及全身上下的血脂,荷尔蒙等其他物质.在受到创伤导致失血的情况下,对医生来说区别不同的血型至关重要.我们将了解到血液系统的复杂性.',\n",
       " '掌握求平行四边形，三角形，梯形以及简单的组合图形的面积的方法。',\n",
       " '理解圆的概念，会求圆的周长及面积',\n",
       " '认识生活中的小数与小数的读法，掌握一位小数的含义与写法，掌握一位小数的大小比较，计算一位小数的加、减法',\n",
       " '学习加、减的含义.',\n",
       " '没有肌肉，我们不能做太多的东西。本教程探索肌肉细胞是什么和它们如何合作以运作我们的身体。',\n",
       " '学习含有变量的等式与不等式. 这些教程着重于解方程和了解不等式的解.',\n",
       " '用20以内的加减法解决生活中的简单问题',\n",
       " '掌握计算长方体和正方体的表面积的方法。',\n",
       " '理解并掌握分数除法']"
      ]
     },
     "execution_count": 49,
     "metadata": {},
     "output_type": "execute_result"
    }
   ],
   "source": [
    "list(total_text.loc[lang_idx[np.arange(low, high)], \"text\"])"
   ]
  }
 ],
 "metadata": {
  "kernelspec": {
   "display_name": "Python 3 (ipykernel)",
   "language": "python",
   "name": "python3"
  },
  "language_info": {
   "codemirror_mode": {
    "name": "ipython",
    "version": 3
   },
   "file_extension": ".py",
   "mimetype": "text/x-python",
   "name": "python",
   "nbconvert_exporter": "python",
   "pygments_lexer": "ipython3",
   "version": "3.10.8"
  }
 },
 "nbformat": 4,
 "nbformat_minor": 5
}
