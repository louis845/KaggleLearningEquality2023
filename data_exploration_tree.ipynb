{
 "cells": [
  {
   "cell_type": "markdown",
   "id": "31b6dc56",
   "metadata": {},
   "source": [
    "# Import data"
   ]
  },
  {
   "cell_type": "code",
   "execution_count": 1,
   "id": "7254221b",
   "metadata": {},
   "outputs": [],
   "source": [
    "import data\n",
    "import pandas as pd"
   ]
  },
  {
   "cell_type": "markdown",
   "id": "6c456001",
   "metadata": {},
   "source": [
    "# Display topics data"
   ]
  },
  {
   "cell_type": "code",
   "execution_count": 2,
   "id": "e67acd45",
   "metadata": {},
   "outputs": [
    {
     "data": {
      "text/html": [
       "<div>\n",
       "<style scoped>\n",
       "    .dataframe tbody tr th:only-of-type {\n",
       "        vertical-align: middle;\n",
       "    }\n",
       "\n",
       "    .dataframe tbody tr th {\n",
       "        vertical-align: top;\n",
       "    }\n",
       "\n",
       "    .dataframe thead th {\n",
       "        text-align: right;\n",
       "    }\n",
       "</style>\n",
       "<table border=\"1\" class=\"dataframe\">\n",
       "  <thead>\n",
       "    <tr style=\"text-align: right;\">\n",
       "      <th></th>\n",
       "      <th>title</th>\n",
       "      <th>description</th>\n",
       "      <th>channel</th>\n",
       "      <th>category</th>\n",
       "      <th>level</th>\n",
       "      <th>language</th>\n",
       "      <th>parent</th>\n",
       "      <th>has_content</th>\n",
       "    </tr>\n",
       "    <tr>\n",
       "      <th>id</th>\n",
       "      <th></th>\n",
       "      <th></th>\n",
       "      <th></th>\n",
       "      <th></th>\n",
       "      <th></th>\n",
       "      <th></th>\n",
       "      <th></th>\n",
       "      <th></th>\n",
       "    </tr>\n",
       "  </thead>\n",
       "  <tbody>\n",
       "    <tr>\n",
       "      <th>t_00004da3a1b2</th>\n",
       "      <td>Откриването на резисторите</td>\n",
       "      <td>Изследване на материали, които предизвикват на...</td>\n",
       "      <td>000cf7</td>\n",
       "      <td>source</td>\n",
       "      <td>4</td>\n",
       "      <td>bg</td>\n",
       "      <td>t_16e29365b50d</td>\n",
       "      <td>True</td>\n",
       "    </tr>\n",
       "    <tr>\n",
       "      <th>t_000095e03056</th>\n",
       "      <td>Unit 3.3 Enlargements and Similarities</td>\n",
       "      <td>NaN</td>\n",
       "      <td>b3f329</td>\n",
       "      <td>aligned</td>\n",
       "      <td>2</td>\n",
       "      <td>en</td>\n",
       "      <td>t_aa32fb6252dc</td>\n",
       "      <td>False</td>\n",
       "    </tr>\n",
       "    <tr>\n",
       "      <th>t_00068291e9a4</th>\n",
       "      <td>Entradas e saídas de uma função</td>\n",
       "      <td>Entenda um pouco mais sobre funções.</td>\n",
       "      <td>8e286a</td>\n",
       "      <td>source</td>\n",
       "      <td>4</td>\n",
       "      <td>pt</td>\n",
       "      <td>t_d14b6c2a2b70</td>\n",
       "      <td>True</td>\n",
       "    </tr>\n",
       "    <tr>\n",
       "      <th>t_00069b63a70a</th>\n",
       "      <td>Transcripts</td>\n",
       "      <td>NaN</td>\n",
       "      <td>6e3ba4</td>\n",
       "      <td>source</td>\n",
       "      <td>3</td>\n",
       "      <td>en</td>\n",
       "      <td>t_4054df11a74e</td>\n",
       "      <td>True</td>\n",
       "    </tr>\n",
       "    <tr>\n",
       "      <th>t_0006d41a73a8</th>\n",
       "      <td>Графики на експоненциални функции (Алгебра 2 н...</td>\n",
       "      <td>Научи повече за графиките на сложните показате...</td>\n",
       "      <td>000cf7</td>\n",
       "      <td>source</td>\n",
       "      <td>4</td>\n",
       "      <td>bg</td>\n",
       "      <td>t_e2452e21d252</td>\n",
       "      <td>True</td>\n",
       "    </tr>\n",
       "    <tr>\n",
       "      <th>...</th>\n",
       "      <td>...</td>\n",
       "      <td>...</td>\n",
       "      <td>...</td>\n",
       "      <td>...</td>\n",
       "      <td>...</td>\n",
       "      <td>...</td>\n",
       "      <td>...</td>\n",
       "      <td>...</td>\n",
       "    </tr>\n",
       "    <tr>\n",
       "      <th>t_fffb0bf2801d</th>\n",
       "      <td>4.3 Graph of functions</td>\n",
       "      <td>NaN</td>\n",
       "      <td>e77b55</td>\n",
       "      <td>aligned</td>\n",
       "      <td>4</td>\n",
       "      <td>en</td>\n",
       "      <td>t_676e6a1a4dc7</td>\n",
       "      <td>False</td>\n",
       "    </tr>\n",
       "    <tr>\n",
       "      <th>t_fffbe1d5d43c</th>\n",
       "      <td>Inscribed shapes problem solving</td>\n",
       "      <td>Use properties of inscribed angles to prove pr...</td>\n",
       "      <td>0c929f</td>\n",
       "      <td>source</td>\n",
       "      <td>4</td>\n",
       "      <td>sw</td>\n",
       "      <td>t_50145b9bab3f</td>\n",
       "      <td>True</td>\n",
       "    </tr>\n",
       "    <tr>\n",
       "      <th>t_fffe14f1be1e</th>\n",
       "      <td>Lección 7</td>\n",
       "      <td>NaN</td>\n",
       "      <td>6e90a7</td>\n",
       "      <td>aligned</td>\n",
       "      <td>6</td>\n",
       "      <td>es</td>\n",
       "      <td>t_d448c707984d</td>\n",
       "      <td>True</td>\n",
       "    </tr>\n",
       "    <tr>\n",
       "      <th>t_fffe811a6da9</th>\n",
       "      <td>تحديد العلاقة بين الإحداثيّات القطبية والإحداث...</td>\n",
       "      <td>5b9e5ca86571f90499ea987f</td>\n",
       "      <td>9fd860</td>\n",
       "      <td>source</td>\n",
       "      <td>2</td>\n",
       "      <td>ar</td>\n",
       "      <td>t_5b4f3ba4eb7d</td>\n",
       "      <td>True</td>\n",
       "    </tr>\n",
       "    <tr>\n",
       "      <th>t_fffe88835149</th>\n",
       "      <td>Formation of shadows and eclipses (umbra and p...</td>\n",
       "      <td>NaN</td>\n",
       "      <td>c7ca13</td>\n",
       "      <td>aligned</td>\n",
       "      <td>4</td>\n",
       "      <td>en</td>\n",
       "      <td>t_988923176459</td>\n",
       "      <td>False</td>\n",
       "    </tr>\n",
       "  </tbody>\n",
       "</table>\n",
       "<p>76972 rows × 8 columns</p>\n",
       "</div>"
      ],
      "text/plain": [
       "                                                            title  \\\n",
       "id                                                                  \n",
       "t_00004da3a1b2                         Откриването на резисторите   \n",
       "t_000095e03056             Unit 3.3 Enlargements and Similarities   \n",
       "t_00068291e9a4                    Entradas e saídas de uma função   \n",
       "t_00069b63a70a                                        Transcripts   \n",
       "t_0006d41a73a8  Графики на експоненциални функции (Алгебра 2 н...   \n",
       "...                                                           ...   \n",
       "t_fffb0bf2801d                             4.3 Graph of functions   \n",
       "t_fffbe1d5d43c                   Inscribed shapes problem solving   \n",
       "t_fffe14f1be1e                                          Lección 7   \n",
       "t_fffe811a6da9  تحديد العلاقة بين الإحداثيّات القطبية والإحداث...   \n",
       "t_fffe88835149  Formation of shadows and eclipses (umbra and p...   \n",
       "\n",
       "                                                      description channel  \\\n",
       "id                                                                          \n",
       "t_00004da3a1b2  Изследване на материали, които предизвикват на...  000cf7   \n",
       "t_000095e03056                                                NaN  b3f329   \n",
       "t_00068291e9a4               Entenda um pouco mais sobre funções.  8e286a   \n",
       "t_00069b63a70a                                                NaN  6e3ba4   \n",
       "t_0006d41a73a8  Научи повече за графиките на сложните показате...  000cf7   \n",
       "...                                                           ...     ...   \n",
       "t_fffb0bf2801d                                                NaN  e77b55   \n",
       "t_fffbe1d5d43c  Use properties of inscribed angles to prove pr...  0c929f   \n",
       "t_fffe14f1be1e                                                NaN  6e90a7   \n",
       "t_fffe811a6da9                           5b9e5ca86571f90499ea987f  9fd860   \n",
       "t_fffe88835149                                                NaN  c7ca13   \n",
       "\n",
       "               category  level language          parent  has_content  \n",
       "id                                                                    \n",
       "t_00004da3a1b2   source      4       bg  t_16e29365b50d         True  \n",
       "t_000095e03056  aligned      2       en  t_aa32fb6252dc        False  \n",
       "t_00068291e9a4   source      4       pt  t_d14b6c2a2b70         True  \n",
       "t_00069b63a70a   source      3       en  t_4054df11a74e         True  \n",
       "t_0006d41a73a8   source      4       bg  t_e2452e21d252         True  \n",
       "...                 ...    ...      ...             ...          ...  \n",
       "t_fffb0bf2801d  aligned      4       en  t_676e6a1a4dc7        False  \n",
       "t_fffbe1d5d43c   source      4       sw  t_50145b9bab3f         True  \n",
       "t_fffe14f1be1e  aligned      6       es  t_d448c707984d         True  \n",
       "t_fffe811a6da9   source      2       ar  t_5b4f3ba4eb7d         True  \n",
       "t_fffe88835149  aligned      4       en  t_988923176459        False  \n",
       "\n",
       "[76972 rows x 8 columns]"
      ]
     },
     "metadata": {},
     "output_type": "display_data"
    }
   ],
   "source": [
    "display(data.topics)"
   ]
  },
  {
   "cell_type": "markdown",
   "id": "1783c9e4",
   "metadata": {},
   "source": [
    "# Tree structure"
   ]
  },
  {
   "cell_type": "code",
   "execution_count": 3,
   "id": "5c03e1ea",
   "metadata": {
    "scrolled": true
   },
   "outputs": [
    {
     "data": {
      "text/markdown": [
       "**List of trees**"
      ],
      "text/plain": [
       "<IPython.core.display.Markdown object>"
      ]
     },
     "metadata": {},
     "output_type": "display_data"
    },
    {
     "data": {
      "text/plain": [
       "fef095    5770\n",
       "0ec697    5355\n",
       "6e90a7    4554\n",
       "2ee29d    4438\n",
       "36a98b    3667\n",
       "          ... \n",
       "af86ca       6\n",
       "5a410f       6\n",
       "5864bf       6\n",
       "8ca895       3\n",
       "8dd5f3       1\n",
       "Name: channel, Length: 171, dtype: int64"
      ]
     },
     "metadata": {},
     "output_type": "display_data"
    },
    {
     "data": {
      "text/markdown": [
       "**List of root nodes**"
      ],
      "text/plain": [
       "<IPython.core.display.Markdown object>"
      ]
     },
     "metadata": {},
     "output_type": "display_data"
    },
    {
     "data": {
      "text/plain": [
       "ef2088    1\n",
       "cf94d5    1\n",
       "ebc86c    1\n",
       "36068f    1\n",
       "b3f329    1\n",
       "         ..\n",
       "983e56    1\n",
       "02be07    1\n",
       "23f9e1    1\n",
       "da1fa7    1\n",
       "28ffa8    1\n",
       "Name: channel, Length: 171, dtype: int64"
      ]
     },
     "metadata": {},
     "output_type": "display_data"
    }
   ],
   "source": [
    "import IPython.display\n",
    "\n",
    "# see whether each tree has a unique root node\n",
    "\n",
    "display(IPython.display.Markdown(\"**List of trees**\"))\n",
    "display(data.topics[\"channel\"].value_counts())\n",
    "display(IPython.display.Markdown(\"**List of root nodes**\"))\n",
    "\n",
    "topics_with_no_parent = data.topics.loc[data.topics[\"parent\"].isnull()]\n",
    "display(topics_with_no_parent[\"channel\"].value_counts())\n",
    "topic_trees = list(data.topics[\"channel\"].value_counts().index)"
   ]
  },
  {
   "cell_type": "markdown",
   "id": "ad84de64",
   "metadata": {},
   "source": [
    "There is a unique root node for each topic."
   ]
  },
  {
   "cell_type": "code",
   "execution_count": 4,
   "id": "66b29828",
   "metadata": {
    "scrolled": true
   },
   "outputs": [
    {
     "data": {
      "text/html": [
       "<div>\n",
       "<style scoped>\n",
       "    .dataframe tbody tr th:only-of-type {\n",
       "        vertical-align: middle;\n",
       "    }\n",
       "\n",
       "    .dataframe tbody tr th {\n",
       "        vertical-align: top;\n",
       "    }\n",
       "\n",
       "    .dataframe thead th {\n",
       "        text-align: right;\n",
       "    }\n",
       "</style>\n",
       "<table border=\"1\" class=\"dataframe\">\n",
       "  <thead>\n",
       "    <tr style=\"text-align: right;\">\n",
       "      <th></th>\n",
       "      <th>id_x</th>\n",
       "      <th>title_x</th>\n",
       "      <th>description_x</th>\n",
       "      <th>channel_x</th>\n",
       "      <th>category_x</th>\n",
       "      <th>level_x</th>\n",
       "      <th>language_x</th>\n",
       "      <th>parent_x</th>\n",
       "      <th>has_content_x</th>\n",
       "      <th>id_y</th>\n",
       "      <th>title_y</th>\n",
       "      <th>description_y</th>\n",
       "      <th>channel_y</th>\n",
       "      <th>category_y</th>\n",
       "      <th>level_y</th>\n",
       "      <th>language_y</th>\n",
       "      <th>parent_y</th>\n",
       "      <th>has_content_y</th>\n",
       "    </tr>\n",
       "  </thead>\n",
       "  <tbody>\n",
       "    <tr>\n",
       "      <th>0</th>\n",
       "      <td>t_00004da3a1b2</td>\n",
       "      <td>Откриването на резисторите</td>\n",
       "      <td>Изследване на материали, които предизвикват на...</td>\n",
       "      <td>000cf7</td>\n",
       "      <td>source</td>\n",
       "      <td>4</td>\n",
       "      <td>bg</td>\n",
       "      <td>t_16e29365b50d</td>\n",
       "      <td>True</td>\n",
       "      <td>t_16e29365b50d</td>\n",
       "      <td>Открития и проекти</td>\n",
       "      <td>Преоткрийте най-важните научни наблюдения в хо...</td>\n",
       "      <td>000cf7</td>\n",
       "      <td>source</td>\n",
       "      <td>3.0</td>\n",
       "      <td>bg</td>\n",
       "      <td>t_c85886762db7</td>\n",
       "      <td>False</td>\n",
       "    </tr>\n",
       "    <tr>\n",
       "      <th>1</th>\n",
       "      <td>t_000095e03056</td>\n",
       "      <td>Unit 3.3 Enlargements and Similarities</td>\n",
       "      <td>NaN</td>\n",
       "      <td>b3f329</td>\n",
       "      <td>aligned</td>\n",
       "      <td>2</td>\n",
       "      <td>en</td>\n",
       "      <td>t_aa32fb6252dc</td>\n",
       "      <td>False</td>\n",
       "      <td>t_aa32fb6252dc</td>\n",
       "      <td>Junior High Level 3</td>\n",
       "      <td>NaN</td>\n",
       "      <td>b3f329</td>\n",
       "      <td>aligned</td>\n",
       "      <td>1.0</td>\n",
       "      <td>en</td>\n",
       "      <td>t_a7bda143557e</td>\n",
       "      <td>False</td>\n",
       "    </tr>\n",
       "    <tr>\n",
       "      <th>2</th>\n",
       "      <td>t_00068291e9a4</td>\n",
       "      <td>Entradas e saídas de uma função</td>\n",
       "      <td>Entenda um pouco mais sobre funções.</td>\n",
       "      <td>8e286a</td>\n",
       "      <td>source</td>\n",
       "      <td>4</td>\n",
       "      <td>pt</td>\n",
       "      <td>t_d14b6c2a2b70</td>\n",
       "      <td>True</td>\n",
       "      <td>t_d14b6c2a2b70</td>\n",
       "      <td>Álgebra: funções</td>\n",
       "      <td>Nessa unidade temática vamos trabalhar com fun...</td>\n",
       "      <td>8e286a</td>\n",
       "      <td>source</td>\n",
       "      <td>3.0</td>\n",
       "      <td>pt</td>\n",
       "      <td>t_461c9a8dd863</td>\n",
       "      <td>False</td>\n",
       "    </tr>\n",
       "    <tr>\n",
       "      <th>3</th>\n",
       "      <td>t_00069b63a70a</td>\n",
       "      <td>Transcripts</td>\n",
       "      <td>NaN</td>\n",
       "      <td>6e3ba4</td>\n",
       "      <td>source</td>\n",
       "      <td>3</td>\n",
       "      <td>en</td>\n",
       "      <td>t_4054df11a74e</td>\n",
       "      <td>True</td>\n",
       "      <td>t_4054df11a74e</td>\n",
       "      <td>Flow Charts: Logical Thinking?</td>\n",
       "      <td>This lesson is focused on flow charts. It supp...</td>\n",
       "      <td>6e3ba4</td>\n",
       "      <td>source</td>\n",
       "      <td>2.0</td>\n",
       "      <td>en</td>\n",
       "      <td>t_acbbd893e6af</td>\n",
       "      <td>True</td>\n",
       "    </tr>\n",
       "    <tr>\n",
       "      <th>4</th>\n",
       "      <td>t_0006d41a73a8</td>\n",
       "      <td>Графики на експоненциални функции (Алгебра 2 н...</td>\n",
       "      <td>Научи повече за графиките на сложните показате...</td>\n",
       "      <td>000cf7</td>\n",
       "      <td>source</td>\n",
       "      <td>4</td>\n",
       "      <td>bg</td>\n",
       "      <td>t_e2452e21d252</td>\n",
       "      <td>True</td>\n",
       "      <td>t_e2452e21d252</td>\n",
       "      <td>Показателни и логаритмични функции</td>\n",
       "      <td>Тази тема покрива:\\n\\n- Корени и рационални ст...</td>\n",
       "      <td>000cf7</td>\n",
       "      <td>source</td>\n",
       "      <td>3.0</td>\n",
       "      <td>bg</td>\n",
       "      <td>t_5f4cc8e02423</td>\n",
       "      <td>False</td>\n",
       "    </tr>\n",
       "    <tr>\n",
       "      <th>...</th>\n",
       "      <td>...</td>\n",
       "      <td>...</td>\n",
       "      <td>...</td>\n",
       "      <td>...</td>\n",
       "      <td>...</td>\n",
       "      <td>...</td>\n",
       "      <td>...</td>\n",
       "      <td>...</td>\n",
       "      <td>...</td>\n",
       "      <td>...</td>\n",
       "      <td>...</td>\n",
       "      <td>...</td>\n",
       "      <td>...</td>\n",
       "      <td>...</td>\n",
       "      <td>...</td>\n",
       "      <td>...</td>\n",
       "      <td>...</td>\n",
       "      <td>...</td>\n",
       "    </tr>\n",
       "    <tr>\n",
       "      <th>76967</th>\n",
       "      <td>t_fffb0bf2801d</td>\n",
       "      <td>4.3 Graph of functions</td>\n",
       "      <td>NaN</td>\n",
       "      <td>e77b55</td>\n",
       "      <td>aligned</td>\n",
       "      <td>4</td>\n",
       "      <td>en</td>\n",
       "      <td>t_676e6a1a4dc7</td>\n",
       "      <td>False</td>\n",
       "      <td>t_676e6a1a4dc7</td>\n",
       "      <td>Unit 4 - Relations and Functions</td>\n",
       "      <td>NaN</td>\n",
       "      <td>e77b55</td>\n",
       "      <td>aligned</td>\n",
       "      <td>3.0</td>\n",
       "      <td>en</td>\n",
       "      <td>t_30d005327467</td>\n",
       "      <td>True</td>\n",
       "    </tr>\n",
       "    <tr>\n",
       "      <th>76968</th>\n",
       "      <td>t_fffbe1d5d43c</td>\n",
       "      <td>Inscribed shapes problem solving</td>\n",
       "      <td>Use properties of inscribed angles to prove pr...</td>\n",
       "      <td>0c929f</td>\n",
       "      <td>source</td>\n",
       "      <td>4</td>\n",
       "      <td>sw</td>\n",
       "      <td>t_50145b9bab3f</td>\n",
       "      <td>True</td>\n",
       "      <td>t_50145b9bab3f</td>\n",
       "      <td>Miduara</td>\n",
       "      <td>In this chapter, we will learn about circles, ...</td>\n",
       "      <td>0c929f</td>\n",
       "      <td>source</td>\n",
       "      <td>3.0</td>\n",
       "      <td>sw</td>\n",
       "      <td>t_c520677cef1d</td>\n",
       "      <td>False</td>\n",
       "    </tr>\n",
       "    <tr>\n",
       "      <th>76969</th>\n",
       "      <td>t_fffe14f1be1e</td>\n",
       "      <td>Lección 7</td>\n",
       "      <td>NaN</td>\n",
       "      <td>6e90a7</td>\n",
       "      <td>aligned</td>\n",
       "      <td>6</td>\n",
       "      <td>es</td>\n",
       "      <td>t_d448c707984d</td>\n",
       "      <td>True</td>\n",
       "      <td>t_d448c707984d</td>\n",
       "      <td>Unidad 4</td>\n",
       "      <td>NaN</td>\n",
       "      <td>6e90a7</td>\n",
       "      <td>aligned</td>\n",
       "      <td>5.0</td>\n",
       "      <td>es</td>\n",
       "      <td>t_8c734f803ed6</td>\n",
       "      <td>True</td>\n",
       "    </tr>\n",
       "    <tr>\n",
       "      <th>76970</th>\n",
       "      <td>t_fffe811a6da9</td>\n",
       "      <td>تحديد العلاقة بين الإحداثيّات القطبية والإحداث...</td>\n",
       "      <td>5b9e5ca86571f90499ea987f</td>\n",
       "      <td>9fd860</td>\n",
       "      <td>source</td>\n",
       "      <td>2</td>\n",
       "      <td>ar</td>\n",
       "      <td>t_5b4f3ba4eb7d</td>\n",
       "      <td>True</td>\n",
       "      <td>t_5b4f3ba4eb7d</td>\n",
       "      <td>الهندسة وعلم المثلثات</td>\n",
       "      <td>5a608819f3a50d049abf68ea</td>\n",
       "      <td>9fd860</td>\n",
       "      <td>source</td>\n",
       "      <td>1.0</td>\n",
       "      <td>ar</td>\n",
       "      <td>t_ed0fb96f82d9</td>\n",
       "      <td>False</td>\n",
       "    </tr>\n",
       "    <tr>\n",
       "      <th>76971</th>\n",
       "      <td>t_fffe88835149</td>\n",
       "      <td>Formation of shadows and eclipses (umbra and p...</td>\n",
       "      <td>NaN</td>\n",
       "      <td>c7ca13</td>\n",
       "      <td>aligned</td>\n",
       "      <td>4</td>\n",
       "      <td>en</td>\n",
       "      <td>t_988923176459</td>\n",
       "      <td>False</td>\n",
       "      <td>t_988923176459</td>\n",
       "      <td>8.0 Rectilinear propagation of light and refle...</td>\n",
       "      <td>NaN</td>\n",
       "      <td>c7ca13</td>\n",
       "      <td>aligned</td>\n",
       "      <td>3.0</td>\n",
       "      <td>en</td>\n",
       "      <td>t_8684979a5e04</td>\n",
       "      <td>False</td>\n",
       "    </tr>\n",
       "  </tbody>\n",
       "</table>\n",
       "<p>76972 rows × 18 columns</p>\n",
       "</div>"
      ],
      "text/plain": [
       "                 id_x                                            title_x  \\\n",
       "0      t_00004da3a1b2                         Откриването на резисторите   \n",
       "1      t_000095e03056             Unit 3.3 Enlargements and Similarities   \n",
       "2      t_00068291e9a4                    Entradas e saídas de uma função   \n",
       "3      t_00069b63a70a                                        Transcripts   \n",
       "4      t_0006d41a73a8  Графики на експоненциални функции (Алгебра 2 н...   \n",
       "...               ...                                                ...   \n",
       "76967  t_fffb0bf2801d                             4.3 Graph of functions   \n",
       "76968  t_fffbe1d5d43c                   Inscribed shapes problem solving   \n",
       "76969  t_fffe14f1be1e                                          Lección 7   \n",
       "76970  t_fffe811a6da9  تحديد العلاقة بين الإحداثيّات القطبية والإحداث...   \n",
       "76971  t_fffe88835149  Formation of shadows and eclipses (umbra and p...   \n",
       "\n",
       "                                           description_x channel_x category_x  \\\n",
       "0      Изследване на материали, които предизвикват на...    000cf7     source   \n",
       "1                                                    NaN    b3f329    aligned   \n",
       "2                   Entenda um pouco mais sobre funções.    8e286a     source   \n",
       "3                                                    NaN    6e3ba4     source   \n",
       "4      Научи повече за графиките на сложните показате...    000cf7     source   \n",
       "...                                                  ...       ...        ...   \n",
       "76967                                                NaN    e77b55    aligned   \n",
       "76968  Use properties of inscribed angles to prove pr...    0c929f     source   \n",
       "76969                                                NaN    6e90a7    aligned   \n",
       "76970                           5b9e5ca86571f90499ea987f    9fd860     source   \n",
       "76971                                                NaN    c7ca13    aligned   \n",
       "\n",
       "       level_x language_x        parent_x  has_content_x            id_y  \\\n",
       "0            4         bg  t_16e29365b50d           True  t_16e29365b50d   \n",
       "1            2         en  t_aa32fb6252dc          False  t_aa32fb6252dc   \n",
       "2            4         pt  t_d14b6c2a2b70           True  t_d14b6c2a2b70   \n",
       "3            3         en  t_4054df11a74e           True  t_4054df11a74e   \n",
       "4            4         bg  t_e2452e21d252           True  t_e2452e21d252   \n",
       "...        ...        ...             ...            ...             ...   \n",
       "76967        4         en  t_676e6a1a4dc7          False  t_676e6a1a4dc7   \n",
       "76968        4         sw  t_50145b9bab3f           True  t_50145b9bab3f   \n",
       "76969        6         es  t_d448c707984d           True  t_d448c707984d   \n",
       "76970        2         ar  t_5b4f3ba4eb7d           True  t_5b4f3ba4eb7d   \n",
       "76971        4         en  t_988923176459          False  t_988923176459   \n",
       "\n",
       "                                                 title_y  \\\n",
       "0                                     Открития и проекти   \n",
       "1                                    Junior High Level 3   \n",
       "2                                       Álgebra: funções   \n",
       "3                         Flow Charts: Logical Thinking?   \n",
       "4                     Показателни и логаритмични функции   \n",
       "...                                                  ...   \n",
       "76967                   Unit 4 - Relations and Functions   \n",
       "76968                                            Miduara   \n",
       "76969                                           Unidad 4   \n",
       "76970                              الهندسة وعلم المثلثات   \n",
       "76971  8.0 Rectilinear propagation of light and refle...   \n",
       "\n",
       "                                           description_y channel_y category_y  \\\n",
       "0      Преоткрийте най-важните научни наблюдения в хо...    000cf7     source   \n",
       "1                                                    NaN    b3f329    aligned   \n",
       "2      Nessa unidade temática vamos trabalhar com fun...    8e286a     source   \n",
       "3      This lesson is focused on flow charts. It supp...    6e3ba4     source   \n",
       "4      Тази тема покрива:\\n\\n- Корени и рационални ст...    000cf7     source   \n",
       "...                                                  ...       ...        ...   \n",
       "76967                                                NaN    e77b55    aligned   \n",
       "76968  In this chapter, we will learn about circles, ...    0c929f     source   \n",
       "76969                                                NaN    6e90a7    aligned   \n",
       "76970                           5a608819f3a50d049abf68ea    9fd860     source   \n",
       "76971                                                NaN    c7ca13    aligned   \n",
       "\n",
       "       level_y language_y        parent_y has_content_y  \n",
       "0          3.0         bg  t_c85886762db7         False  \n",
       "1          1.0         en  t_a7bda143557e         False  \n",
       "2          3.0         pt  t_461c9a8dd863         False  \n",
       "3          2.0         en  t_acbbd893e6af          True  \n",
       "4          3.0         bg  t_5f4cc8e02423         False  \n",
       "...        ...        ...             ...           ...  \n",
       "76967      3.0         en  t_30d005327467          True  \n",
       "76968      3.0         sw  t_c520677cef1d         False  \n",
       "76969      5.0         es  t_8c734f803ed6          True  \n",
       "76970      1.0         ar  t_ed0fb96f82d9         False  \n",
       "76971      3.0         en  t_8684979a5e04         False  \n",
       "\n",
       "[76972 rows x 18 columns]"
      ]
     },
     "metadata": {},
     "output_type": "display_data"
    },
    {
     "name": "stdout",
     "output_type": "stream",
     "text": [
      "171\n"
     ]
    }
   ],
   "source": [
    "# see whether there level corresponds to the DFS level\n",
    "topics_id = data.topics.reset_index(level=0)\n",
    "mg = topics_id.merge(topics_id, how = \"left\", left_on = \"parent\", right_on = \"id\")\n",
    "display(mg)\n",
    "not_equal = (mg[\"level_x\"] - mg[\"level_y\"]) != 1\n",
    "print(not_equal.sum())"
   ]
  },
  {
   "cell_type": "markdown",
   "id": "8c3483e0",
   "metadata": {},
   "source": [
    "The level indeed indicates the level of the DFS starting from the root. It is therefore easy to create the tree structure using the level attribute."
   ]
  },
  {
   "cell_type": "markdown",
   "id": "71c0308a",
   "metadata": {},
   "source": [
    "# Null values"
   ]
  },
  {
   "cell_type": "code",
   "execution_count": 5,
   "id": "2b878e64",
   "metadata": {},
   "outputs": [
    {
     "data": {
      "text/plain": [
       "title              2\n",
       "description    42019\n",
       "channel            0\n",
       "category           0\n",
       "level              0\n",
       "language           0\n",
       "parent           171\n",
       "has_content        0\n",
       "dtype: int64"
      ]
     },
     "metadata": {},
     "output_type": "display_data"
    }
   ],
   "source": [
    "display(data.topics.isnull().sum())"
   ]
  },
  {
   "cell_type": "markdown",
   "id": "0dc58514",
   "metadata": {},
   "source": [
    "# Information on trees"
   ]
  },
  {
   "cell_type": "code",
   "execution_count": 6,
   "id": "908dd661",
   "metadata": {
    "scrolled": true
   },
   "outputs": [
    {
     "data": {
      "text/markdown": [
       "***Multiple languages:***"
      ],
      "text/plain": [
       "<IPython.core.display.Markdown object>"
      ]
     },
     "metadata": {},
     "output_type": "display_data"
    },
    {
     "data": {
      "text/markdown": [
       "**217993**"
      ],
      "text/plain": [
       "<IPython.core.display.Markdown object>"
      ]
     },
     "metadata": {},
     "output_type": "display_data"
    },
    {
     "data": {
      "text/plain": [
       "hi     273\n",
       "mr     250\n",
       "gu     105\n",
       "kn      98\n",
       "bn      94\n",
       "te      93\n",
       "as      66\n",
       "ur      66\n",
       "ta      60\n",
       "or      58\n",
       "pnb     51\n",
       "en      46\n",
       "mul      1\n",
       "Name: language, dtype: int64"
      ]
     },
     "metadata": {},
     "output_type": "display_data"
    },
    {
     "data": {
      "text/markdown": [
       "**38a3e2**"
      ],
      "text/plain": [
       "<IPython.core.display.Markdown object>"
      ]
     },
     "metadata": {},
     "output_type": "display_data"
    },
    {
     "data": {
      "text/plain": [
       "ar    38\n",
       "en    24\n",
       "Name: language, dtype: int64"
      ]
     },
     "metadata": {},
     "output_type": "display_data"
    },
    {
     "data": {
      "text/markdown": [
       "**4d2d4a**"
      ],
      "text/plain": [
       "<IPython.core.display.Markdown object>"
      ]
     },
     "metadata": {},
     "output_type": "display_data"
    },
    {
     "data": {
      "text/plain": [
       "hi     204\n",
       "en     136\n",
       "as      21\n",
       "kn      21\n",
       "bn      20\n",
       "or      12\n",
       "mul      1\n",
       "Name: language, dtype: int64"
      ]
     },
     "metadata": {},
     "output_type": "display_data"
    },
    {
     "data": {
      "text/markdown": [
       "**5139e9**"
      ],
      "text/plain": [
       "<IPython.core.display.Markdown object>"
      ]
     },
     "metadata": {},
     "output_type": "display_data"
    },
    {
     "data": {
      "text/plain": [
       "ar    1401\n",
       "en       1\n",
       "Name: language, dtype: int64"
      ]
     },
     "metadata": {},
     "output_type": "display_data"
    },
    {
     "data": {
      "text/markdown": [
       "**6e90a7**"
      ],
      "text/plain": [
       "<IPython.core.display.Markdown object>"
      ]
     },
     "metadata": {},
     "output_type": "display_data"
    },
    {
     "data": {
      "text/plain": [
       "es    4495\n",
       "en      59\n",
       "Name: language, dtype: int64"
      ]
     },
     "metadata": {},
     "output_type": "display_data"
    },
    {
     "data": {
      "text/markdown": [
       "**8260fc**"
      ],
      "text/plain": [
       "<IPython.core.display.Markdown object>"
      ]
     },
     "metadata": {},
     "output_type": "display_data"
    },
    {
     "data": {
      "text/plain": [
       "swa    35\n",
       "en     24\n",
       "mul     1\n",
       "Name: language, dtype: int64"
      ]
     },
     "metadata": {},
     "output_type": "display_data"
    },
    {
     "data": {
      "text/markdown": [
       "**9a51b0**"
      ],
      "text/plain": [
       "<IPython.core.display.Markdown object>"
      ]
     },
     "metadata": {},
     "output_type": "display_data"
    },
    {
     "data": {
      "text/plain": [
       "hi    5\n",
       "en    1\n",
       "Name: language, dtype: int64"
      ]
     },
     "metadata": {},
     "output_type": "display_data"
    },
    {
     "data": {
      "text/markdown": [
       "**9dd9a7**"
      ],
      "text/plain": [
       "<IPython.core.display.Markdown object>"
      ]
     },
     "metadata": {},
     "output_type": "display_data"
    },
    {
     "data": {
      "text/plain": [
       "my     4\n",
       "en     4\n",
       "mul    1\n",
       "Name: language, dtype: int64"
      ]
     },
     "metadata": {},
     "output_type": "display_data"
    },
    {
     "data": {
      "text/markdown": [
       "**bbce73**"
      ],
      "text/plain": [
       "<IPython.core.display.Markdown object>"
      ]
     },
     "metadata": {},
     "output_type": "display_data"
    },
    {
     "data": {
      "text/plain": [
       "ar    88\n",
       "en     3\n",
       "Name: language, dtype: int64"
      ]
     },
     "metadata": {},
     "output_type": "display_data"
    },
    {
     "data": {
      "text/markdown": [
       "**c8450a**"
      ],
      "text/plain": [
       "<IPython.core.display.Markdown object>"
      ]
     },
     "metadata": {},
     "output_type": "display_data"
    },
    {
     "data": {
      "text/plain": [
       "as    80\n",
       "en     4\n",
       "Name: language, dtype: int64"
      ]
     },
     "metadata": {},
     "output_type": "display_data"
    }
   ],
   "source": [
    "import IPython.display\n",
    "# See whether each tree has the same language.\n",
    "display(IPython.display.Markdown(\"***Multiple languages:***\"))\n",
    "for name, group in data.topics.groupby(\"channel\")[\"language\"]:\n",
    "    languages = group.value_counts()\n",
    "    if len(languages) > 1:\n",
    "        display(IPython.display.Markdown(\"**{}**\".format(name)))\n",
    "        display(languages)"
   ]
  },
  {
   "cell_type": "markdown",
   "id": "0a2cd17c",
   "metadata": {},
   "source": [
    "Seems like there are trees with different languages."
   ]
  },
  {
   "cell_type": "markdown",
   "id": "f1051efb",
   "metadata": {},
   "source": [
    "# See if all leaf nodes of trees are same level"
   ]
  },
  {
   "cell_type": "code",
   "execution_count": 7,
   "id": "77fa4164",
   "metadata": {},
   "outputs": [
    {
     "data": {
      "text/markdown": [
       "**fef095**"
      ],
      "text/plain": [
       "<IPython.core.display.Markdown object>"
      ]
     },
     "metadata": {},
     "output_type": "display_data"
    },
    {
     "name": "stdout",
     "output_type": "stream",
     "text": [
      "('The Pattern CVC#', 4)      ('Using the Basic Operator Symbols and Parentheses', 6)\n"
     ]
    },
    {
     "data": {
      "text/markdown": [
       "**0ec697**"
      ],
      "text/plain": [
       "<IPython.core.display.Markdown object>"
      ]
     },
     "metadata": {},
     "output_type": "display_data"
    },
    {
     "name": "stdout",
     "output_type": "stream",
     "text": [
      "('Depreciation and amortization', 4)      ('Lesson 3: Exploring circumference', 5)\n"
     ]
    },
    {
     "data": {
      "text/markdown": [
       "**6e90a7**"
      ],
      "text/plain": [
       "<IPython.core.display.Markdown object>"
      ]
     },
     "metadata": {},
     "output_type": "display_data"
    },
    {
     "name": "stdout",
     "output_type": "stream",
     "text": [
      "('Lección 3', 6)      ('Lenguaje y Pensamiento Critico', 5)\n"
     ]
    },
    {
     "data": {
      "text/markdown": [
       "**36a98b**"
      ],
      "text/plain": [
       "<IPython.core.display.Markdown object>"
      ]
     },
     "metadata": {},
     "output_type": "display_data"
    },
    {
     "name": "stdout",
     "output_type": "stream",
     "text": [
      "('Construir modelos lineales para relaciones del mundo real', 4)      ('Sistema digestivo humano: órganos y fisiología de la digestión en el ser humano', 5)\n"
     ]
    },
    {
     "data": {
      "text/markdown": [
       "**8e286a**"
      ],
      "text/plain": [
       "<IPython.core.display.Markdown object>"
      ]
     },
     "metadata": {},
     "output_type": "display_data"
    },
    {
     "name": "stdout",
     "output_type": "stream",
     "text": [
      "('A elasticidade dos preços', 4)      ('Sistema de Cuidados Médicos', 3)\n"
     ]
    },
    {
     "data": {
      "text/markdown": [
       "**0c929f**"
      ],
      "text/plain": [
       "<IPython.core.display.Markdown object>"
      ]
     },
     "metadata": {},
     "output_type": "display_data"
    },
    {
     "name": "stdout",
     "output_type": "stream",
     "text": [
      "('The postwar era, 1945-1950', 4)      ('Geometric Measurement and Relationships', 3)\n"
     ]
    },
    {
     "data": {
      "text/markdown": [
       "**ef2088**"
      ],
      "text/plain": [
       "<IPython.core.display.Markdown object>"
      ]
     },
     "metadata": {},
     "output_type": "display_data"
    },
    {
     "name": "stdout",
     "output_type": "stream",
     "text": [
      "('Linear Equations in One Variable', 5)      ('New Questions and Ideas', 4)\n"
     ]
    },
    {
     "data": {
      "text/markdown": [
       "**410920**"
      ],
      "text/plain": [
       "<IPython.core.display.Markdown object>"
      ]
     },
     "metadata": {},
     "output_type": "display_data"
    },
    {
     "name": "stdout",
     "output_type": "stream",
     "text": [
      "('Lección 2', 4)      ('Dominio 12: luchando por una causa', 3)\n"
     ]
    },
    {
     "data": {
      "text/markdown": [
       "**5139e9**"
      ],
      "text/plain": [
       "<IPython.core.display.Markdown object>"
      ]
     },
     "metadata": {},
     "output_type": "display_data"
    },
    {
     "name": "stdout",
     "output_type": "stream",
     "text": [
      "('كلام مبرمجين', 4)      ('مثال عملي لإنشاء كلاس الكتاب - الجزء الثامن -عملي', 5)\n"
     ]
    },
    {
     "data": {
      "text/markdown": [
       "**274269**"
      ],
      "text/plain": [
       "<IPython.core.display.Markdown object>"
      ]
     },
     "metadata": {},
     "output_type": "display_data"
    },
    {
     "name": "stdout",
     "output_type": "stream",
     "text": [
      "('Videos', 5)      ('Explore', 6)\n"
     ]
    },
    {
     "data": {
      "text/markdown": [
       "**217993**"
      ],
      "text/plain": [
       "<IPython.core.display.Markdown object>"
      ]
     },
     "metadata": {},
     "output_type": "display_data"
    },
    {
     "name": "stdout",
     "output_type": "stream",
     "text": [
      "('ਮੌਜ-ਮਸਤੀ', 3)      ('ਅੰਗਰੇਜ਼ੀ ਬੋਲੋ', 4)\n"
     ]
    },
    {
     "data": {
      "text/markdown": [
       "**88c9d6**"
      ],
      "text/plain": [
       "<IPython.core.display.Markdown object>"
      ]
     },
     "metadata": {},
     "output_type": "display_data"
    },
    {
     "name": "stdout",
     "output_type": "stream",
     "text": [
      "('Front Matter', 4)      ('1.7: People in the System', 5)\n"
     ]
    },
    {
     "data": {
      "text/markdown": [
       "**ebc86c**"
      ],
      "text/plain": [
       "<IPython.core.display.Markdown object>"
      ]
     },
     "metadata": {},
     "output_type": "display_data"
    },
    {
     "name": "stdout",
     "output_type": "stream",
     "text": [
      "('5. DNA replication I: Enzymes and mechanism', 5)      ('Genetic Methods in Microorganisms', 6)\n"
     ]
    },
    {
     "data": {
      "text/markdown": [
       "**14d190**"
      ],
      "text/plain": [
       "<IPython.core.display.Markdown object>"
      ]
     },
     "metadata": {},
     "output_type": "display_data"
    },
    {
     "name": "stdout",
     "output_type": "stream",
     "text": [
      "('J2.2.9.1 distinguish between Possessive and reflexive pronouns.', 5)      ('Unit 4: Verb Tense Forms (Past Perfect ,Past Perfect Continuous ,Simple Future)', 4)\n"
     ]
    },
    {
     "data": {
      "text/markdown": [
       "**344113**"
      ],
      "text/plain": [
       "<IPython.core.display.Markdown object>"
      ]
     },
     "metadata": {},
     "output_type": "display_data"
    },
    {
     "name": "stdout",
     "output_type": "stream",
     "text": [
      "('Geometry Length and Area Properties', 4)      ('Percent problems', 5)\n"
     ]
    },
    {
     "data": {
      "text/markdown": [
       "**c7ca13**"
      ],
      "text/plain": [
       "<IPython.core.display.Markdown object>"
      ]
     },
     "metadata": {},
     "output_type": "display_data"
    },
    {
     "name": "stdout",
     "output_type": "stream",
     "text": [
      "('7.2.1 Alkaline earth metals - Group 2 Electron arrangement, gradation in size of the atom, ion and trends in ionisation energy', 5)      ('7.1.2 Alkali metals Group 1 - Physical properties: appearance, melting point, boiling point, thermal and electrical conductivity -- Supplementary Resources', 6)\n"
     ]
    },
    {
     "data": {
      "text/markdown": [
       "**7f116c**"
      ],
      "text/plain": [
       "<IPython.core.display.Markdown object>"
      ]
     },
     "metadata": {},
     "output_type": "display_data"
    },
    {
     "name": "stdout",
     "output_type": "stream",
     "text": [
      "('How the internet works', 6)      ('Irregular plural nouns: base plurals and irregular endings', 7)\n"
     ]
    },
    {
     "data": {
      "text/markdown": [
       "**5223e0**"
      ],
      "text/plain": [
       "<IPython.core.display.Markdown object>"
      ]
     },
     "metadata": {},
     "output_type": "display_data"
    },
    {
     "name": "stdout",
     "output_type": "stream",
     "text": [
      "('જોડીયા સંબંધો [04-DM-01]', 4)      ('ધો-૮ વાંચન-ગણન-લેખન Topic', 2)\n"
     ]
    },
    {
     "data": {
      "text/markdown": [
       "**1fb613**"
      ],
      "text/plain": [
       "<IPython.core.display.Markdown object>"
      ]
     },
     "metadata": {},
     "output_type": "display_data"
    },
    {
     "name": "stdout",
     "output_type": "stream",
     "text": [
      "('6 Prime numbers', 4)      ('9.1 Rational numbers', 5)\n"
     ]
    },
    {
     "data": {
      "text/markdown": [
       "**760ea6**"
      ],
      "text/plain": [
       "<IPython.core.display.Markdown object>"
      ]
     },
     "metadata": {},
     "output_type": "display_data"
    },
    {
     "name": "stdout",
     "output_type": "stream",
     "text": [
      "('Explore', 5)      ('Assessments', 4)\n"
     ]
    },
    {
     "data": {
      "text/markdown": [
       "**42e8ef**"
      ],
      "text/plain": [
       "<IPython.core.display.Markdown object>"
      ]
     },
     "metadata": {},
     "output_type": "display_data"
    },
    {
     "name": "stdout",
     "output_type": "stream",
     "text": [
      "('middleware', 5)      ('Markdown Links', 4)\n"
     ]
    },
    {
     "data": {
      "text/markdown": [
       "**d2ac0e**"
      ],
      "text/plain": [
       "<IPython.core.display.Markdown object>"
      ]
     },
     "metadata": {},
     "output_type": "display_data"
    },
    {
     "name": "stdout",
     "output_type": "stream",
     "text": [
      "('Factoring a polynomial', 4)      ('Number systems', 3)\n"
     ]
    },
    {
     "data": {
      "text/markdown": [
       "**f83dcf**"
      ],
      "text/plain": [
       "<IPython.core.display.Markdown object>"
      ]
     },
     "metadata": {},
     "output_type": "display_data"
    },
    {
     "name": "stdout",
     "output_type": "stream",
     "text": [
      "('运算顺序', 4)      ('Lab values and concentrations ', 3)\n"
     ]
    },
    {
     "data": {
      "text/markdown": [
       "**6e3ba4**"
      ],
      "text/plain": [
       "<IPython.core.display.Markdown object>"
      ]
     },
     "metadata": {},
     "output_type": "display_data"
    },
    {
     "name": "stdout",
     "output_type": "stream",
     "text": [
      "('Transcripts', 3)      ('Transcripts', 4)\n"
     ]
    },
    {
     "data": {
      "text/markdown": [
       "**8bbad6**"
      ],
      "text/plain": [
       "<IPython.core.display.Markdown object>"
      ]
     },
     "metadata": {},
     "output_type": "display_data"
    },
    {
     "name": "stdout",
     "output_type": "stream",
     "text": [
      "('Identifying Halves, Quarters, and Three Quarters', 4)      ('Numbers 0 to 120', 6)\n"
     ]
    },
    {
     "data": {
      "text/markdown": [
       "**e77b55**"
      ],
      "text/plain": [
       "<IPython.core.display.Markdown object>"
      ]
     },
     "metadata": {},
     "output_type": "display_data"
    },
    {
     "name": "stdout",
     "output_type": "stream",
     "text": [
      "('7.1 Revision on logic', 4)      ('Introduction to derivatives', 5)\n"
     ]
    },
    {
     "data": {
      "text/markdown": [
       "**54971d**"
      ],
      "text/plain": [
       "<IPython.core.display.Markdown object>"
      ]
     },
     "metadata": {},
     "output_type": "display_data"
    },
    {
     "name": "stdout",
     "output_type": "stream",
     "text": [
      "('03 Lección 22 Las cargas eléctricas', 5)      ('Introducción a la tabla periódica', 6)\n"
     ]
    },
    {
     "data": {
      "text/markdown": [
       "**39979b**"
      ],
      "text/plain": [
       "<IPython.core.display.Markdown object>"
      ]
     },
     "metadata": {},
     "output_type": "display_data"
    },
    {
     "name": "stdout",
     "output_type": "stream",
     "text": [
      "('Introduction to Carbon - Basic', 5)      ('Social Health', 4)\n"
     ]
    },
    {
     "data": {
      "text/markdown": [
       "**998df9**"
      ],
      "text/plain": [
       "<IPython.core.display.Markdown object>"
      ]
     },
     "metadata": {},
     "output_type": "display_data"
    },
    {
     "name": "stdout",
     "output_type": "stream",
     "text": [
      "('Sólidos geométricos', 5)      ('OA 11. Reconocer, describir, crear y continuar patrones', 3)\n"
     ]
    },
    {
     "data": {
      "text/markdown": [
       "**b4897d**"
      ],
      "text/plain": [
       "<IPython.core.display.Markdown object>"
      ]
     },
     "metadata": {},
     "output_type": "display_data"
    },
    {
     "name": "stdout",
     "output_type": "stream",
     "text": [
      "('Introduction to Adjectives', 4)      ('Cumulative', 6)\n"
     ]
    },
    {
     "data": {
      "text/markdown": [
       "**fc9105**"
      ],
      "text/plain": [
       "<IPython.core.display.Markdown object>"
      ]
     },
     "metadata": {},
     "output_type": "display_data"
    },
    {
     "name": "stdout",
     "output_type": "stream",
     "text": [
      "('npm-scripts', 2)      ('src', 4)\n"
     ]
    },
    {
     "data": {
      "text/markdown": [
       "**bfc678**"
      ],
      "text/plain": [
       "<IPython.core.display.Markdown object>"
      ]
     },
     "metadata": {},
     "output_type": "display_data"
    },
    {
     "name": "stdout",
     "output_type": "stream",
     "text": [
      "('Première manuels', 2)      ('Pour prendre un bon départ', 4)\n"
     ]
    },
    {
     "data": {
      "text/markdown": [
       "**4d2d4a**"
      ],
      "text/plain": [
       "<IPython.core.display.Markdown object>"
      ]
     },
     "metadata": {},
     "output_type": "display_data"
    },
    {
     "name": "stdout",
     "output_type": "stream",
     "text": [
      "('\\n      ফলপ্রসূ অভ্যাস    ', 3)      ('\\n      ফলপ্রসূ অভ্যাস    ', 4)\n"
     ]
    },
    {
     "data": {
      "text/markdown": [
       "**383b8a**"
      ],
      "text/plain": [
       "<IPython.core.display.Markdown object>"
      ]
     },
     "metadata": {},
     "output_type": "display_data"
    },
    {
     "name": "stdout",
     "output_type": "stream",
     "text": [
      "('Inverse Functions', 4)      ('Inputs and Outputs of Functions', 3)\n"
     ]
    },
    {
     "data": {
      "text/markdown": [
       "**50fe84**"
      ],
      "text/plain": [
       "<IPython.core.display.Markdown object>"
      ]
     },
     "metadata": {},
     "output_type": "display_data"
    },
    {
     "name": "stdout",
     "output_type": "stream",
     "text": [
      "('Geography Form 4', 3)      ('I.R.E. Form 2', 4)\n"
     ]
    },
    {
     "data": {
      "text/markdown": [
       "**ef93f0**"
      ],
      "text/plain": [
       "<IPython.core.display.Markdown object>"
      ]
     },
     "metadata": {},
     "output_type": "display_data"
    },
    {
     "name": "stdout",
     "output_type": "stream",
     "text": [
      "('Videos', 4)      ('Air pollution - Cause, effect, the green house effect', 3)\n"
     ]
    },
    {
     "data": {
      "text/markdown": [
       "**cf94d5**"
      ],
      "text/plain": [
       "<IPython.core.display.Markdown object>"
      ]
     },
     "metadata": {},
     "output_type": "display_data"
    },
    {
     "name": "stdout",
     "output_type": "stream",
     "text": [
      "('Supplemental Modules (Modern Physics)', 3)      ('Front Matter', 4)\n"
     ]
    },
    {
     "data": {
      "text/markdown": [
       "**c6dab5**"
      ],
      "text/plain": [
       "<IPython.core.display.Markdown object>"
      ]
     },
     "metadata": {},
     "output_type": "display_data"
    },
    {
     "name": "stdout",
     "output_type": "stream",
     "text": [
      "('Curriculum', 1)      ('Iterative Process [07-IPP-02]', 4)\n"
     ]
    },
    {
     "data": {
      "text/markdown": [
       "**484bd2**"
      ],
      "text/plain": [
       "<IPython.core.display.Markdown object>"
      ]
     },
     "metadata": {},
     "output_type": "display_data"
    },
    {
     "name": "stdout",
     "output_type": "stream",
     "text": [
      "('Sumar y restar fracciones con denominadores comunes', 3)      ('Problemas con sumas y restas.', 4)\n"
     ]
    },
    {
     "data": {
      "text/markdown": [
       "**14cb7f**"
      ],
      "text/plain": [
       "<IPython.core.display.Markdown object>"
      ]
     },
     "metadata": {},
     "output_type": "display_data"
    },
    {
     "name": "stdout",
     "output_type": "stream",
     "text": [
      "('Ionic bonding', 3)      ('Measurement of Distance', 4)\n"
     ]
    },
    {
     "data": {
      "text/markdown": [
       "**d5fb04**"
      ],
      "text/plain": [
       "<IPython.core.display.Markdown object>"
      ]
     },
     "metadata": {},
     "output_type": "display_data"
    },
    {
     "name": "stdout",
     "output_type": "stream",
     "text": [
      "('Percentage: another way of comparing quantities', 3)      ('Visualizing solid shapes', 2)\n"
     ]
    },
    {
     "data": {
      "text/markdown": [
       "**a13d2e**"
      ],
      "text/plain": [
       "<IPython.core.display.Markdown object>"
      ]
     },
     "metadata": {},
     "output_type": "display_data"
    },
    {
     "name": "stdout",
     "output_type": "stream",
     "text": [
      "('التمثيل الرياضي للمعلومات', 3)      ('القوى والحركة', 4)\n"
     ]
    },
    {
     "data": {
      "text/markdown": [
       "**05be9f**"
      ],
      "text/plain": [
       "<IPython.core.display.Markdown object>"
      ]
     },
     "metadata": {},
     "output_type": "display_data"
    },
    {
     "name": "stdout",
     "output_type": "stream",
     "text": [
      "('10.5.2.1 Calculate length and area using a given scale and vice versa.', 4)      ('11.4.2 Composite functions', 3)\n"
     ]
    },
    {
     "data": {
      "text/markdown": [
       "**d4eeb3**"
      ],
      "text/plain": [
       "<IPython.core.display.Markdown object>"
      ]
     },
     "metadata": {},
     "output_type": "display_data"
    },
    {
     "name": "stdout",
     "output_type": "stream",
     "text": [
      "('Module 6 - Selfies & Self-Esteem', 2)      ('The writing process', 4)\n"
     ]
    },
    {
     "data": {
      "text/markdown": [
       "**c88ff6**"
      ],
      "text/plain": [
       "<IPython.core.display.Markdown object>"
      ]
     },
     "metadata": {},
     "output_type": "display_data"
    },
    {
     "name": "stdout",
     "output_type": "stream",
     "text": [
      "(\"MYDev Facilitator's Manuals\", 2)      ('Module 5_ Safety and Health at Work', 3)\n"
     ]
    },
    {
     "data": {
      "text/markdown": [
       "**50083f**"
      ],
      "text/plain": [
       "<IPython.core.display.Markdown object>"
      ]
     },
     "metadata": {},
     "output_type": "display_data"
    },
    {
     "name": "stdout",
     "output_type": "stream",
     "text": [
      "('Numerical adjectives', 4)      ('Adverbs of Manner', 5)\n"
     ]
    },
    {
     "data": {
      "text/markdown": [
       "**6b09a4**"
      ],
      "text/plain": [
       "<IPython.core.display.Markdown object>"
      ]
     },
     "metadata": {},
     "output_type": "display_data"
    },
    {
     "name": "stdout",
     "output_type": "stream",
     "text": [
      "('Complex conjugates and dividing complex numbers', 5)      (\"Working with 'i'\", 4)\n"
     ]
    },
    {
     "data": {
      "text/markdown": [
       "**2293a4**"
      ],
      "text/plain": [
       "<IPython.core.display.Markdown object>"
      ]
     },
     "metadata": {},
     "output_type": "display_data"
    },
    {
     "name": "stdout",
     "output_type": "stream",
     "text": [
      "('Listen to and retell stories', 5)      ('Draw with Bush Baby', 6)\n"
     ]
    },
    {
     "data": {
      "text/markdown": [
       "**36068f**"
      ],
      "text/plain": [
       "<IPython.core.display.Markdown object>"
      ]
     },
     "metadata": {},
     "output_type": "display_data"
    },
    {
     "name": "stdout",
     "output_type": "stream",
     "text": [
      "('পদার্থ বিজ্ঞান', 2)      ('অধ্যায় ৭: ব্যাবহারিক জ্যামিতি', 3)\n"
     ]
    },
    {
     "data": {
      "text/markdown": [
       "**00a2b4**"
      ],
      "text/plain": [
       "<IPython.core.display.Markdown object>"
      ]
     },
     "metadata": {},
     "output_type": "display_data"
    },
    {
     "name": "stdout",
     "output_type": "stream",
     "text": [
      "('নিজে করি (১)', 4)      ('৬ষ্ঠ অধ্যায়: যোগ, বিয়োগ, গুন ও ভাগ সংক্রান্ত সমস্যা', 3)\n"
     ]
    },
    {
     "data": {
      "text/markdown": [
       "**06fb18**"
      ],
      "text/plain": [
       "<IPython.core.display.Markdown object>"
      ]
     },
     "metadata": {},
     "output_type": "display_data"
    },
    {
     "name": "stdout",
     "output_type": "stream",
     "text": [
      "('4.- LA FUNCIÓN DE REPRODUCCIÓN', 3)      ('2.4.- APARATO CIRCULATORIO ANIMAL', 4)\n"
     ]
    },
    {
     "data": {
      "text/markdown": [
       "**f65044**"
      ],
      "text/plain": [
       "<IPython.core.display.Markdown object>"
      ]
     },
     "metadata": {},
     "output_type": "display_data"
    },
    {
     "name": "stdout",
     "output_type": "stream",
     "text": [
      "('7 Persistiré hasta lograr lo que me propongo', 4)      ('Actividades y recursos', 5)\n"
     ]
    },
    {
     "data": {
      "text/markdown": [
       "**5c4c46**"
      ],
      "text/plain": [
       "<IPython.core.display.Markdown object>"
      ]
     },
     "metadata": {},
     "output_type": "display_data"
    },
    {
     "name": "stdout",
     "output_type": "stream",
     "text": [
      "('7.3.a.iii Kuchora mistari sambamba', 4)      ('7.3.e Ukubwa wa miche', 3)\n"
     ]
    },
    {
     "data": {
      "text/markdown": [
       "**4b0f81**"
      ],
      "text/plain": [
       "<IPython.core.display.Markdown object>"
      ]
     },
     "metadata": {},
     "output_type": "display_data"
    },
    {
     "name": "stdout",
     "output_type": "stream",
     "text": [
      "('Forming Questions', 3)      ('Verbs', 2)\n"
     ]
    },
    {
     "data": {
      "text/markdown": [
       "**49ea7a**"
      ],
      "text/plain": [
       "<IPython.core.display.Markdown object>"
      ]
     },
     "metadata": {},
     "output_type": "display_data"
    },
    {
     "name": "stdout",
     "output_type": "stream",
     "text": [
      "('Stoichiometry', 3)      ('Calculating Molar Mass', 4)\n"
     ]
    },
    {
     "data": {
      "text/markdown": [
       "**57e9d3**"
      ],
      "text/plain": [
       "<IPython.core.display.Markdown object>"
      ]
     },
     "metadata": {},
     "output_type": "display_data"
    },
    {
     "name": "stdout",
     "output_type": "stream",
     "text": [
      "('Trecho C2: Bacias Hidrográficas', 4)      ('Desvendando os Mistérios', 5)\n"
     ]
    },
    {
     "data": {
      "text/markdown": [
       "**0f546a**"
      ],
      "text/plain": [
       "<IPython.core.display.Markdown object>"
      ]
     },
     "metadata": {},
     "output_type": "display_data"
    },
    {
     "name": "stdout",
     "output_type": "stream",
     "text": [
      "('8.5.2.1 Evaluate algebraic expressions.', 4)      ('8.5.4 Construction of formulae.', 3)\n"
     ]
    },
    {
     "data": {
      "text/markdown": [
       "**0a9df7**"
      ],
      "text/plain": [
       "<IPython.core.display.Markdown object>"
      ]
     },
     "metadata": {},
     "output_type": "display_data"
    },
    {
     "name": "stdout",
     "output_type": "stream",
     "text": [
      "('Plants and Animals', 3)      ('Career And Occupation Skills (Supplemental)', 4)\n"
     ]
    },
    {
     "data": {
      "text/markdown": [
       "**735876**"
      ],
      "text/plain": [
       "<IPython.core.display.Markdown object>"
      ]
     },
     "metadata": {},
     "output_type": "display_data"
    },
    {
     "name": "stdout",
     "output_type": "stream",
     "text": [
      "('Persuasive Writing', 3)      ('21st Century Skills', 2)\n"
     ]
    },
    {
     "data": {
      "text/markdown": [
       "**8afc0b**"
      ],
      "text/plain": [
       "<IPython.core.display.Markdown object>"
      ]
     },
     "metadata": {},
     "output_type": "display_data"
    },
    {
     "name": "stdout",
     "output_type": "stream",
     "text": [
      "('Assessment', 1)      ('Revision on the set of rational Numbers Topic', 4)\n"
     ]
    },
    {
     "data": {
      "text/markdown": [
       "**11171c**"
      ],
      "text/plain": [
       "<IPython.core.display.Markdown object>"
      ]
     },
     "metadata": {},
     "output_type": "display_data"
    },
    {
     "name": "stdout",
     "output_type": "stream",
     "text": [
      "('9.7.3 Observe permanent slides of mammalian skin', 4)      ('7.7 Additional Resources for Gaseous Exchange', 3)\n"
     ]
    },
    {
     "data": {
      "text/markdown": [
       "**494cf2**"
      ],
      "text/plain": [
       "<IPython.core.display.Markdown object>"
      ]
     },
     "metadata": {},
     "output_type": "display_data"
    },
    {
     "name": "stdout",
     "output_type": "stream",
     "text": [
      "('9.1.0 State the unit of charge', 5)      ('5.2.2 Brownian motion', 4)\n"
     ]
    },
    {
     "data": {
      "text/markdown": [
       "**179e73**"
      ],
      "text/plain": [
       "<IPython.core.display.Markdown object>"
      ]
     },
     "metadata": {},
     "output_type": "display_data"
    },
    {
     "name": "stdout",
     "output_type": "stream",
     "text": [
      "('4 Practicamos actividades físicas al ritmo de la música peruana para construir nuestra identidad nacional', 4)      ('Materiales adaptados', 5)\n"
     ]
    },
    {
     "data": {
      "text/markdown": [
       "**d5963f**"
      ],
      "text/plain": [
       "<IPython.core.display.Markdown object>"
      ]
     },
     "metadata": {},
     "output_type": "display_data"
    },
    {
     "name": "stdout",
     "output_type": "stream",
     "text": [
      "('4. A descubrir lo elemental (144-191)', 3)      ('Volúmenes de prismas', 5)\n"
     ]
    },
    {
     "data": {
      "text/markdown": [
       "**bae253**"
      ],
      "text/plain": [
       "<IPython.core.display.Markdown object>"
      ]
     },
     "metadata": {},
     "output_type": "display_data"
    },
    {
     "name": "stdout",
     "output_type": "stream",
     "text": [
      "('Principles for a Healthy Life', 1)      ('The reproductive system', 2)\n"
     ]
    },
    {
     "data": {
      "text/markdown": [
       "**686d66**"
      ],
      "text/plain": [
       "<IPython.core.display.Markdown object>"
      ]
     },
     "metadata": {},
     "output_type": "display_data"
    },
    {
     "name": "stdout",
     "output_type": "stream",
     "text": [
      "('10.7.1.1 Carry out calculations that involve Shares, dividends and investment Bonds.', 4)      ('10.2.1 Indices', 3)\n"
     ]
    },
    {
     "data": {
      "text/markdown": [
       "**c1d57e**"
      ],
      "text/plain": [
       "<IPython.core.display.Markdown object>"
      ]
     },
     "metadata": {},
     "output_type": "display_data"
    },
    {
     "name": "stdout",
     "output_type": "stream",
     "text": [
      "('Test', 3)      ('Os cinco sentidos', 2)\n"
     ]
    },
    {
     "data": {
      "text/markdown": [
       "**23f9e1**"
      ],
      "text/plain": [
       "<IPython.core.display.Markdown object>"
      ]
     },
     "metadata": {},
     "output_type": "display_data"
    },
    {
     "name": "stdout",
     "output_type": "stream",
     "text": [
      "('Spheres', 3)      ('Intro to rates', 4)\n"
     ]
    },
    {
     "data": {
      "text/markdown": [
       "**d30518**"
      ],
      "text/plain": [
       "<IPython.core.display.Markdown object>"
      ]
     },
     "metadata": {},
     "output_type": "display_data"
    },
    {
     "name": "stdout",
     "output_type": "stream",
     "text": [
      "('Exponent properties- part 2/3', 3)      ('Fractional Exponents', 4)\n"
     ]
    },
    {
     "data": {
      "text/markdown": [
       "**71fd51**"
      ],
      "text/plain": [
       "<IPython.core.display.Markdown object>"
      ]
     },
     "metadata": {},
     "output_type": "display_data"
    },
    {
     "name": "stdout",
     "output_type": "stream",
     "text": [
      "('Cambios en la programación didáctica', 3)      ('TIC_PROFESIONAL - Las TIC al servicio de la educación', 2)\n"
     ]
    },
    {
     "data": {
      "text/markdown": [
       "**b3f329**"
      ],
      "text/plain": [
       "<IPython.core.display.Markdown object>"
      ]
     },
     "metadata": {},
     "output_type": "display_data"
    },
    {
     "name": "stdout",
     "output_type": "stream",
     "text": [
      "('Objective 1.5.2 Solve problems on circumference of a circle', 3)      ('Precursor skills', 4)\n"
     ]
    },
    {
     "data": {
      "text/markdown": [
       "**2765c6**"
      ],
      "text/plain": [
       "<IPython.core.display.Markdown object>"
      ]
     },
     "metadata": {},
     "output_type": "display_data"
    },
    {
     "name": "stdout",
     "output_type": "stream",
     "text": [
      "('Neuroscience', 3)      ('History', 2)\n"
     ]
    },
    {
     "data": {
      "text/markdown": [
       "**abd7dc**"
      ],
      "text/plain": [
       "<IPython.core.display.Markdown object>"
      ]
     },
     "metadata": {},
     "output_type": "display_data"
    },
    {
     "name": "stdout",
     "output_type": "stream",
     "text": [
      "('Plate Heat Exchanger', 4)      ('Book: Distillation Science (Coleman)', 3)\n"
     ]
    },
    {
     "data": {
      "text/markdown": [
       "**9d5527**"
      ],
      "text/plain": [
       "<IPython.core.display.Markdown object>"
      ]
     },
     "metadata": {},
     "output_type": "display_data"
    },
    {
     "name": "stdout",
     "output_type": "stream",
     "text": [
      "('B4.6.1.1 Read widely for pleasure, personal development and demonstrate independent reading and learning in the literary content areas', 3)      ('Sub-Strand 6: Using Adverbs', 2)\n"
     ]
    },
    {
     "data": {
      "text/markdown": [
       "**c36745**"
      ],
      "text/plain": [
       "<IPython.core.display.Markdown object>"
      ]
     },
     "metadata": {},
     "output_type": "display_data"
    },
    {
     "name": "stdout",
     "output_type": "stream",
     "text": [
      "('Pedagogical Innovation Itinerary professional', 3)      (\"TIC_PROFESSIONNEL – Les TIC au service de l'éducation\", 2)\n"
     ]
    },
    {
     "data": {
      "text/markdown": [
       "**956596**"
      ],
      "text/plain": [
       "<IPython.core.display.Markdown object>"
      ]
     },
     "metadata": {},
     "output_type": "display_data"
    },
    {
     "name": "stdout",
     "output_type": "stream",
     "text": [
      "('৮ম অধ্যায়: ভগ্নাংশ', 3)      ('সময়ের রূপান্তর', 4)\n"
     ]
    },
    {
     "data": {
      "text/markdown": [
       "**02be07**"
      ],
      "text/plain": [
       "<IPython.core.display.Markdown object>"
      ]
     },
     "metadata": {},
     "output_type": "display_data"
    },
    {
     "name": "stdout",
     "output_type": "stream",
     "text": [
      "('গুণিতক', 4)      ('অধ্যায় ৮: গড়', 3)\n"
     ]
    },
    {
     "data": {
      "text/markdown": [
       "**5d4a02**"
      ],
      "text/plain": [
       "<IPython.core.display.Markdown object>"
      ]
     },
     "metadata": {},
     "output_type": "display_data"
    },
    {
     "name": "stdout",
     "output_type": "stream",
     "text": [
      "('6.3.2 - Angles and Arcs Determined by Lines Intersecting Outside a Circle', 4)      ('6.2 - Special Quadrilaterals', 3)\n"
     ]
    },
    {
     "data": {
      "text/markdown": [
       "**7db7f2**"
      ],
      "text/plain": [
       "<IPython.core.display.Markdown object>"
      ]
     },
     "metadata": {},
     "output_type": "display_data"
    },
    {
     "name": "stdout",
     "output_type": "stream",
     "text": [
      "('Decimals', 2)      ('Fraction practice: simulation', 3)\n"
     ]
    },
    {
     "data": {
      "text/markdown": [
       "**00fda4**"
      ],
      "text/plain": [
       "<IPython.core.display.Markdown object>"
      ]
     },
     "metadata": {},
     "output_type": "display_data"
    },
    {
     "name": "stdout",
     "output_type": "stream",
     "text": [
      "('ﺎﻠﻔﻳﺰﻳﺍﺀ', 3)      ('صيغة المبالغة وصفة مشبهة', 4)\n"
     ]
    },
    {
     "data": {
      "text/markdown": [
       "**998b74**"
      ],
      "text/plain": [
       "<IPython.core.display.Markdown object>"
      ]
     },
     "metadata": {},
     "output_type": "display_data"
    },
    {
     "name": "stdout",
     "output_type": "stream",
     "text": [
      "('Properties of Elements', 3)      ('Ions', 2)\n"
     ]
    },
    {
     "data": {
      "text/markdown": [
       "**03de11**"
      ],
      "text/plain": [
       "<IPython.core.display.Markdown object>"
      ]
     },
     "metadata": {},
     "output_type": "display_data"
    },
    {
     "name": "stdout",
     "output_type": "stream",
     "text": [
      "('7.4.3 Importance of noble gases', 4)      ('11.3 Preparation and properties of carbon (IV) oxide (carbon dioxide)', 3)\n"
     ]
    },
    {
     "data": {
      "text/markdown": [
       "**fc1d48**"
      ],
      "text/plain": [
       "<IPython.core.display.Markdown object>"
      ]
     },
     "metadata": {},
     "output_type": "display_data"
    },
    {
     "name": "stdout",
     "output_type": "stream",
     "text": [
      "('TEMA SEMANAS DEL 15 AL 28 DE MARZO', 6)      ('Tema Especifico', 7)\n"
     ]
    },
    {
     "data": {
      "text/markdown": [
       "**c8450a**"
      ],
      "text/plain": [
       "<IPython.core.display.Markdown object>"
      ]
     },
     "metadata": {},
     "output_type": "display_data"
    },
    {
     "name": "stdout",
     "output_type": "stream",
     "text": [
      "('সপ্তম শ্ৰেণী/ Standard 7', 2)      ('পৰিৱেশ বিজ্ঞান/Environmental science', 1)\n"
     ]
    },
    {
     "data": {
      "text/markdown": [
       "**75fbe2**"
      ],
      "text/plain": [
       "<IPython.core.display.Markdown object>"
      ]
     },
     "metadata": {},
     "output_type": "display_data"
    },
    {
     "name": "stdout",
     "output_type": "stream",
     "text": [
      "('Modeling grass with parabolas', 3)      ('Orientation', 2)\n"
     ]
    },
    {
     "data": {
      "text/markdown": [
       "**239d8f**"
      ],
      "text/plain": [
       "<IPython.core.display.Markdown object>"
      ]
     },
     "metadata": {},
     "output_type": "display_data"
    },
    {
     "name": "stdout",
     "output_type": "stream",
     "text": [
      "('Modelo atómico actual', 6)      ('Tercer Periodo', 2)\n"
     ]
    },
    {
     "data": {
      "text/markdown": [
       "**1843c5**"
      ],
      "text/plain": [
       "<IPython.core.display.Markdown object>"
      ]
     },
     "metadata": {},
     "output_type": "display_data"
    },
    {
     "name": "stdout",
     "output_type": "stream",
     "text": [
      "('Bird Structure', 2)      ('Plants', 1)\n"
     ]
    },
    {
     "data": {
      "text/markdown": [
       "**8b5488**"
      ],
      "text/plain": [
       "<IPython.core.display.Markdown object>"
      ]
     },
     "metadata": {},
     "output_type": "display_data"
    },
    {
     "name": "stdout",
     "output_type": "stream",
     "text": [
      "('Perímetro', 3)      ('Polígonos', 2)\n"
     ]
    },
    {
     "data": {
      "text/markdown": [
       "**cfc6dd**"
      ],
      "text/plain": [
       "<IPython.core.display.Markdown object>"
      ]
     },
     "metadata": {},
     "output_type": "display_data"
    },
    {
     "name": "stdout",
     "output_type": "stream",
     "text": [
      "('Area of trapezoids & composite figures', 3)      ('Multiplying matrices by scalars', 4)\n"
     ]
    },
    {
     "data": {
      "text/markdown": [
       "**ca3996**"
      ],
      "text/plain": [
       "<IPython.core.display.Markdown object>"
      ]
     },
     "metadata": {},
     "output_type": "display_data"
    },
    {
     "name": "stdout",
     "output_type": "stream",
     "text": [
      "('Numeracy', 3)      ('Looking at Life', 4)\n"
     ]
    },
    {
     "data": {
      "text/markdown": [
       "**f08256**"
      ],
      "text/plain": [
       "<IPython.core.display.Markdown object>"
      ]
     },
     "metadata": {},
     "output_type": "display_data"
    },
    {
     "name": "stdout",
     "output_type": "stream",
     "text": [
      "('Polygons', 4)      ('Present Perfect & Present Perfect Continuous', 5)\n"
     ]
    },
    {
     "data": {
      "text/markdown": [
       "**d4c17c**"
      ],
      "text/plain": [
       "<IPython.core.display.Markdown object>"
      ]
     },
     "metadata": {},
     "output_type": "display_data"
    },
    {
     "name": "stdout",
     "output_type": "stream",
     "text": [
      "('Recursos', 2)      ('A Arte das Vendas Fundamentos de Venda', 1)\n"
     ]
    },
    {
     "data": {
      "text/markdown": [
       "**fc72b4**"
      ],
      "text/plain": [
       "<IPython.core.display.Markdown object>"
      ]
     },
     "metadata": {},
     "output_type": "display_data"
    },
    {
     "name": "stdout",
     "output_type": "stream",
     "text": [
      "('Les activités du programme principal', 2)      ('Manuel de Formation', 1)\n"
     ]
    },
    {
     "data": {
      "text/markdown": [
       "**b03884**"
      ],
      "text/plain": [
       "<IPython.core.display.Markdown object>"
      ]
     },
     "metadata": {},
     "output_type": "display_data"
    },
    {
     "name": "stdout",
     "output_type": "stream",
     "text": [
      "('Knowing One’s Heights and Weight', 3)      ('Training Manual', 1)\n"
     ]
    },
    {
     "data": {
      "text/markdown": [
       "**983e56**"
      ],
      "text/plain": [
       "<IPython.core.display.Markdown object>"
      ]
     },
     "metadata": {},
     "output_type": "display_data"
    },
    {
     "name": "stdout",
     "output_type": "stream",
     "text": [
      "('1.1.0 Classify natural numbers as odd numbers', 4)      ('Prime numbers', 5)\n"
     ]
    },
    {
     "data": {
      "text/markdown": [
       "**38a3e2**"
      ],
      "text/plain": [
       "<IPython.core.display.Markdown object>"
      ]
     },
     "metadata": {},
     "output_type": "display_data"
    },
    {
     "name": "stdout",
     "output_type": "stream",
     "text": [
      "('Unit 12', 3)      ('المهارات الأساسية في الحسابات الرياضية', 2)\n"
     ]
    },
    {
     "data": {
      "text/markdown": [
       "**8299ce**"
      ],
      "text/plain": [
       "<IPython.core.display.Markdown object>"
      ]
     },
     "metadata": {},
     "output_type": "display_data"
    },
    {
     "name": "stdout",
     "output_type": "stream",
     "text": [
      "('可下載的資源', 2)      ('销售的艺术：销售的基本要素', 1)\n"
     ]
    },
    {
     "data": {
      "text/markdown": [
       "**b14cf2**"
      ],
      "text/plain": [
       "<IPython.core.display.Markdown object>"
      ]
     },
     "metadata": {},
     "output_type": "display_data"
    },
    {
     "name": "stdout",
     "output_type": "stream",
     "text": [
      "('સૂચનોનો સમૂહ અમલમાં મૂકવો [02-DA-01]', 2)      ('અભ્યાસક્રમ (Curriculum)', 1)\n"
     ]
    },
    {
     "data": {
      "text/markdown": [
       "**bda367**"
      ],
      "text/plain": [
       "<IPython.core.display.Markdown object>"
      ]
     },
     "metadata": {},
     "output_type": "display_data"
    },
    {
     "name": "stdout",
     "output_type": "stream",
     "text": [
      "('12.0 Length', 2)      ('Conversion of units', 3)\n"
     ]
    },
    {
     "data": {
      "text/markdown": [
       "**cd1388**"
      ],
      "text/plain": [
       "<IPython.core.display.Markdown object>"
      ]
     },
     "metadata": {},
     "output_type": "display_data"
    },
    {
     "name": "stdout",
     "output_type": "stream",
     "text": [
      "(' DNA', 3)      ('Microorganisms', 2)\n"
     ]
    },
    {
     "data": {
      "text/markdown": [
       "**64cbe8**"
      ],
      "text/plain": [
       "<IPython.core.display.Markdown object>"
      ]
     },
     "metadata": {},
     "output_type": "display_data"
    },
    {
     "name": "stdout",
     "output_type": "stream",
     "text": [
      "('Noción de fracción, partes de una fracción', 4)      ('Derechos Básicos de Aprendizaje - GRADO 3', 3)\n"
     ]
    },
    {
     "data": {
      "text/markdown": [
       "**b632e3**"
      ],
      "text/plain": [
       "<IPython.core.display.Markdown object>"
      ]
     },
     "metadata": {},
     "output_type": "display_data"
    },
    {
     "name": "stdout",
     "output_type": "stream",
     "text": [
      "('तार्किक पहेली [02-PS-33]', 2)      ('पाठ्यक्रम', 1)\n"
     ]
    },
    {
     "data": {
      "text/markdown": [
       "**1b97a4**"
      ],
      "text/plain": [
       "<IPython.core.display.Markdown object>"
      ]
     },
     "metadata": {},
     "output_type": "display_data"
    },
    {
     "name": "stdout",
     "output_type": "stream",
     "text": [
      "('Trecho D3: Modelos Visuais', 4)      ('Comparação entre números decimais', 5)\n"
     ]
    },
    {
     "data": {
      "text/markdown": [
       "**064c49**"
      ],
      "text/plain": [
       "<IPython.core.display.Markdown object>"
      ]
     },
     "metadata": {},
     "output_type": "display_data"
    },
    {
     "name": "stdout",
     "output_type": "stream",
     "text": [
      "('Opportunities', 1)      ('Using Butter', 5)\n"
     ]
    },
    {
     "data": {
      "text/markdown": [
       "**c3dc85**"
      ],
      "text/plain": [
       "<IPython.core.display.Markdown object>"
      ]
     },
     "metadata": {},
     "output_type": "display_data"
    },
    {
     "name": "stdout",
     "output_type": "stream",
     "text": [
      "('माहीती मांडणी व विश्लेषण [03-IP-01]', 2)      ('अभ्यासक्रम', 1)\n"
     ]
    },
    {
     "data": {
      "text/markdown": [
       "**858f89**"
      ],
      "text/plain": [
       "<IPython.core.display.Markdown object>"
      ]
     },
     "metadata": {},
     "output_type": "display_data"
    },
    {
     "name": "stdout",
     "output_type": "stream",
     "text": [
      "('Resources- Unit 4', 3)      ('Forms of Energy', 4)\n"
     ]
    },
    {
     "data": {
      "text/markdown": [
       "**f9db19**"
      ],
      "text/plain": [
       "<IPython.core.display.Markdown object>"
      ]
     },
     "metadata": {},
     "output_type": "display_data"
    },
    {
     "name": "stdout",
     "output_type": "stream",
     "text": [
      "('Problemas verbales de multiplicación y división', 3)      ('4.1 Numeros Naturales', 2)\n"
     ]
    },
    {
     "data": {
      "text/markdown": [
       "**bb3a0c**"
      ],
      "text/plain": [
       "<IPython.core.display.Markdown object>"
      ]
     },
     "metadata": {},
     "output_type": "display_data"
    },
    {
     "name": "stdout",
     "output_type": "stream",
     "text": [
      "('Introduction to rational numbers', 3)      ('Cubes and cubes roots', 2)\n"
     ]
    },
    {
     "data": {
      "text/markdown": [
       "**a2924d**"
      ],
      "text/plain": [
       "<IPython.core.display.Markdown object>"
      ]
     },
     "metadata": {},
     "output_type": "display_data"
    },
    {
     "name": "stdout",
     "output_type": "stream",
     "text": [
      "('Square Roots', 2)      ('Real Numbers', 1)\n"
     ]
    },
    {
     "data": {
      "text/markdown": [
       "**9905b7**"
      ],
      "text/plain": [
       "<IPython.core.display.Markdown object>"
      ]
     },
     "metadata": {},
     "output_type": "display_data"
    },
    {
     "name": "stdout",
     "output_type": "stream",
     "text": [
      "('العلوم للصف الرابع الإبتدائي', 3)      ('الأحياء للصف الثالث الثانوي', 4)\n"
     ]
    },
    {
     "data": {
      "text/markdown": [
       "**f41d17**"
      ],
      "text/plain": [
       "<IPython.core.display.Markdown object>"
      ]
     },
     "metadata": {},
     "output_type": "display_data"
    },
    {
     "name": "stdout",
     "output_type": "stream",
     "text": [
      "('10-13 años', 2)      ('13-14 años', 3)\n"
     ]
    },
    {
     "data": {
      "text/markdown": [
       "**231e82**"
      ],
      "text/plain": [
       "<IPython.core.display.Markdown object>"
      ]
     },
     "metadata": {},
     "output_type": "display_data"
    },
    {
     "name": "stdout",
     "output_type": "stream",
     "text": [
      "('II Año', 4)      ('Propósito e importancia de la Educación', 5)\n"
     ]
    },
    {
     "data": {
      "text/markdown": [
       "**4689b3**"
      ],
      "text/plain": [
       "<IPython.core.display.Markdown object>"
      ]
     },
     "metadata": {},
     "output_type": "display_data"
    },
    {
     "name": "stdout",
     "output_type": "stream",
     "text": [
      "('Java 101', 1)      ('ترتيب العمليات', 2)\n"
     ]
    },
    {
     "data": {
      "text/markdown": [
       "**6465e0**"
      ],
      "text/plain": [
       "<IPython.core.display.Markdown object>"
      ]
     },
     "metadata": {},
     "output_type": "display_data"
    },
    {
     "name": "stdout",
     "output_type": "stream",
     "text": [
      "('Números de 0 a 120', 4)      ('Mediatrices', 3)\n"
     ]
    },
    {
     "data": {
      "text/markdown": [
       "**b1e277**"
      ],
      "text/plain": [
       "<IPython.core.display.Markdown object>"
      ]
     },
     "metadata": {},
     "output_type": "display_data"
    },
    {
     "name": "stdout",
     "output_type": "stream",
     "text": [
      "('Documentos de profesorado', 2)      ('El correo electronico', 1)\n"
     ]
    },
    {
     "data": {
      "text/markdown": [
       "**a91e32**"
      ],
      "text/plain": [
       "<IPython.core.display.Markdown object>"
      ]
     },
     "metadata": {},
     "output_type": "display_data"
    },
    {
     "name": "stdout",
     "output_type": "stream",
     "text": [
      "('Algebraic expressions', 3)      ('Sets Worksheets', 4)\n"
     ]
    },
    {
     "data": {
      "text/markdown": [
       "**ed5f98**"
      ],
      "text/plain": [
       "<IPython.core.display.Markdown object>"
      ]
     },
     "metadata": {},
     "output_type": "display_data"
    },
    {
     "name": "stdout",
     "output_type": "stream",
     "text": [
      "('Motion', 2)      ('Earth Science', 1)\n"
     ]
    },
    {
     "data": {
      "text/markdown": [
       "**edb272**"
      ],
      "text/plain": [
       "<IPython.core.display.Markdown object>"
      ]
     },
     "metadata": {},
     "output_type": "display_data"
    },
    {
     "name": "stdout",
     "output_type": "stream",
     "text": [
      "('Concepts', 2)      ('Biology', 1)\n"
     ]
    },
    {
     "data": {
      "text/markdown": [
       "**cc360a**"
      ],
      "text/plain": [
       "<IPython.core.display.Markdown object>"
      ]
     },
     "metadata": {},
     "output_type": "display_data"
    },
    {
     "name": "stdout",
     "output_type": "stream",
     "text": [
      "('How to Give a Vaccine', 3)      ('Dyslipidemia', 2)\n"
     ]
    },
    {
     "data": {
      "text/markdown": [
       "**16c07b**"
      ],
      "text/plain": [
       "<IPython.core.display.Markdown object>"
      ]
     },
     "metadata": {},
     "output_type": "display_data"
    },
    {
     "name": "stdout",
     "output_type": "stream",
     "text": [
      "('Word of the Day', 1)      ('English Sentences', 2)\n"
     ]
    },
    {
     "data": {
      "text/markdown": [
       "**9dd9a7**"
      ],
      "text/plain": [
       "<IPython.core.display.Markdown object>"
      ]
     },
     "metadata": {},
     "output_type": "display_data"
    },
    {
     "name": "stdout",
     "output_type": "stream",
     "text": [
      "('2 - ၂၁ ရာစု စိတ်နေသဘောထားများနှင့် အလေ့အကျင့်များ', 3)      ('Videos', 2)\n"
     ]
    }
   ],
   "source": [
    "import IPython.display\n",
    "def dfs_find_leaves(node, mlist):\n",
    "    child_count = len(node.children)\n",
    "    if child_count == 0:\n",
    "        mlist.append((node.title, node.level))\n",
    "    else:\n",
    "        for child in node.children:\n",
    "            dfs_find_leaves(child, mlist)\n",
    "\n",
    "for channel in data.topic_trees_id_list:\n",
    "    root_node = data.topic_trees[channel]\n",
    "    mlist = []\n",
    "    dfs_find_leaves(root_node, mlist)\n",
    "    level = mlist[0]\n",
    "    all_equal = True\n",
    "    problem = None\n",
    "    for lv in mlist:\n",
    "        if lv[1] != level[1]:\n",
    "            all_equal = False\n",
    "            problem = lv\n",
    "            break\n",
    "    if not all_equal:\n",
    "        display(IPython.display.Markdown(\"**{}**\".format(channel)))\n",
    "        print(level, \"    \", problem)"
   ]
  },
  {
   "cell_type": "markdown",
   "id": "4a6a8ccd",
   "metadata": {},
   "source": [
    "Not all trees have leaves all in the same level."
   ]
  },
  {
   "cell_type": "markdown",
   "id": "b0afca1e",
   "metadata": {},
   "source": [
    "# See if all leaf nodes contain some content"
   ]
  },
  {
   "cell_type": "code",
   "execution_count": 8,
   "id": "fde4bea7",
   "metadata": {},
   "outputs": [
    {
     "data": {
      "text/markdown": [
       "**channel: ef2088   title: CBSE**"
      ],
      "text/plain": [
       "<IPython.core.display.Markdown object>"
      ]
     },
     "metadata": {},
     "output_type": "display_data"
    },
    {
     "name": "stdout",
     "output_type": "stream",
     "text": [
      "61 ,    New Questions and Ideas\n"
     ]
    },
    {
     "data": {
      "text/markdown": [
       "**channel: 274269   title: Maths G3 to G10**"
      ],
      "text/plain": [
       "<IPython.core.display.Markdown object>"
      ]
     },
     "metadata": {},
     "output_type": "display_data"
    },
    {
     "name": "stdout",
     "output_type": "stream",
     "text": [
      "35 ,    Assessments\n"
     ]
    },
    {
     "data": {
      "text/markdown": [
       "**channel: 88c9d6   title: LibreTexts Engineering**"
      ],
      "text/plain": [
       "<IPython.core.display.Markdown object>"
      ]
     },
     "metadata": {},
     "output_type": "display_data"
    },
    {
     "name": "stdout",
     "output_type": "stream",
     "text": [
      "471 ,    1: Part I - Ecosystems and Humans\n"
     ]
    },
    {
     "data": {
      "text/markdown": [
       "**channel: ebc86c   title: Libretext Open Educational Resource Library**"
      ],
      "text/plain": [
       "<IPython.core.display.Markdown object>"
      ]
     },
     "metadata": {},
     "output_type": "display_data"
    },
    {
     "name": "stdout",
     "output_type": "stream",
     "text": [
      "95 ,    2.5: Structures Outside the Cell Wall\n"
     ]
    },
    {
     "data": {
      "text/markdown": [
       "**channel: 14d190   title: Ghana English Language Curriculum**"
      ],
      "text/plain": [
       "<IPython.core.display.Markdown object>"
      ]
     },
     "metadata": {},
     "output_type": "display_data"
    },
    {
     "name": "stdout",
     "output_type": "stream",
     "text": [
      "25 ,    Unit 4: Verb Tense Forms (Past Perfect ,Past Perfect Continuous ,Simple Future)\n"
     ]
    },
    {
     "data": {
      "text/markdown": [
       "**channel: 344113   title: Secondary Education**"
      ],
      "text/plain": [
       "<IPython.core.display.Markdown object>"
      ]
     },
     "metadata": {},
     "output_type": "display_data"
    },
    {
     "name": "stdout",
     "output_type": "stream",
     "text": [
      "88 ,    Study design\n"
     ]
    },
    {
     "data": {
      "text/markdown": [
       "**channel: c7ca13   title: Kolibri Library for Kenya**"
      ],
      "text/plain": [
       "<IPython.core.display.Markdown object>"
      ]
     },
     "metadata": {},
     "output_type": "display_data"
    },
    {
     "name": "stdout",
     "output_type": "stream",
     "text": [
      "18 ,    7.4.3 Importance of noble gases\n"
     ]
    },
    {
     "data": {
      "text/markdown": [
       "**channel: 7f116c   title: SCHOOL-DEV**"
      ],
      "text/plain": [
       "<IPython.core.display.Markdown object>"
      ]
     },
     "metadata": {},
     "output_type": "display_data"
    },
    {
     "name": "stdout",
     "output_type": "stream",
     "text": [
      "393 ,    Rational numbers\n"
     ]
    },
    {
     "data": {
      "text/markdown": [
       "**channel: 5223e0   title: DIGITAL EDUCATION WITH MEHUL**"
      ],
      "text/plain": [
       "<IPython.core.display.Markdown object>"
      ]
     },
     "metadata": {},
     "output_type": "display_data"
    },
    {
     "name": "stdout",
     "output_type": "stream",
     "text": [
      "21 ,    સંભાવના\n"
     ]
    },
    {
     "data": {
      "text/markdown": [
       "**channel: 1fb613   title: Libretext Open Educational Resource Library**"
      ],
      "text/plain": [
       "<IPython.core.display.Markdown object>"
      ]
     },
     "metadata": {},
     "output_type": "display_data"
    },
    {
     "name": "stdout",
     "output_type": "stream",
     "text": [
      "110 ,    Chapter 1: Problem Solving Strategies\n"
     ]
    },
    {
     "data": {
      "text/markdown": [
       "**channel: 760ea6   title: Science channel**"
      ],
      "text/plain": [
       "<IPython.core.display.Markdown object>"
      ]
     },
     "metadata": {},
     "output_type": "display_data"
    },
    {
     "name": "stdout",
     "output_type": "stream",
     "text": [
      "19 ,    Assessments\n"
     ]
    },
    {
     "data": {
      "text/markdown": [
       "**channel: 42e8ef   title: Ganar - Habilidades para el Trabajo**"
      ],
      "text/plain": [
       "<IPython.core.display.Markdown object>"
      ]
     },
     "metadata": {},
     "output_type": "display_data"
    },
    {
     "name": "stdout",
     "output_type": "stream",
     "text": [
      "257 ,    Nuestro juego de mesa\n"
     ]
    },
    {
     "data": {
      "text/markdown": [
       "**channel: d2ac0e   title: Rajasthan State Hindi Channel**"
      ],
      "text/plain": [
       "<IPython.core.display.Markdown object>"
      ]
     },
     "metadata": {},
     "output_type": "display_data"
    },
    {
     "name": "stdout",
     "output_type": "stream",
     "text": [
      "15 ,    Number systems\n"
     ]
    },
    {
     "data": {
      "text/markdown": [
       "**channel: 8bbad6   title: Maharashtra State Class 3 to 9 (English)**"
      ],
      "text/plain": [
       "<IPython.core.display.Markdown object>"
      ]
     },
     "metadata": {},
     "output_type": "display_data"
    },
    {
     "name": "stdout",
     "output_type": "stream",
     "text": [
      "34 ,    KA resources\n"
     ]
    },
    {
     "data": {
      "text/markdown": [
       "**channel: e77b55   title: Camara Education Ethiopia Secondary Science and Maths for the Deaf**"
      ],
      "text/plain": [
       "<IPython.core.display.Markdown object>"
      ]
     },
     "metadata": {},
     "output_type": "display_data"
    },
    {
     "name": "stdout",
     "output_type": "stream",
     "text": [
      "192 ,    4.3 Graph of functions\n"
     ]
    },
    {
     "data": {
      "text/markdown": [
       "**channel: 54971d   title: Ciencias Naturales - Honduras**"
      ],
      "text/plain": [
       "<IPython.core.display.Markdown object>"
      ]
     },
     "metadata": {},
     "output_type": "display_data"
    },
    {
     "name": "stdout",
     "output_type": "stream",
     "text": [
      "60 ,    Lactancia materna\n"
     ]
    },
    {
     "data": {
      "text/markdown": [
       "**channel: 39979b   title: BB-Science**"
      ],
      "text/plain": [
       "<IPython.core.display.Markdown object>"
      ]
     },
     "metadata": {},
     "output_type": "display_data"
    },
    {
     "name": "stdout",
     "output_type": "stream",
     "text": [
      "138 ,    Social Health\n"
     ]
    },
    {
     "data": {
      "text/markdown": [
       "**channel: 998df9   title: Chile - 1° Básico a 2° Medio - Matemáticas**"
      ],
      "text/plain": [
       "<IPython.core.display.Markdown object>"
      ]
     },
     "metadata": {},
     "output_type": "display_data"
    },
    {
     "name": "stdout",
     "output_type": "stream",
     "text": [
      "31 ,    Representan cantidades de 0 a 20 de manera concreta y escriben el número representado.\n"
     ]
    },
    {
     "data": {
      "text/markdown": [
       "**channel: b4897d   title: BB-English**"
      ],
      "text/plain": [
       "<IPython.core.display.Markdown object>"
      ]
     },
     "metadata": {},
     "output_type": "display_data"
    },
    {
     "name": "stdout",
     "output_type": "stream",
     "text": [
      "75 ,    Prepositions\n"
     ]
    },
    {
     "data": {
      "text/markdown": [
       "**channel: fc9105   title: Laboratoria**"
      ],
      "text/plain": [
       "<IPython.core.display.Markdown object>"
      ]
     },
     "metadata": {},
     "output_type": "display_data"
    },
    {
     "name": "stdout",
     "output_type": "stream",
     "text": [
      "388 ,    Intro\n"
     ]
    },
    {
     "data": {
      "text/markdown": [
       "**channel: bfc678   title: Math**"
      ],
      "text/plain": [
       "<IPython.core.display.Markdown object>"
      ]
     },
     "metadata": {},
     "output_type": "display_data"
    },
    {
     "name": "stdout",
     "output_type": "stream",
     "text": [
      "93 ,    Déplacements\n"
     ]
    },
    {
     "data": {
      "text/markdown": [
       "**channel: 383b8a   title: College**"
      ],
      "text/plain": [
       "<IPython.core.display.Markdown object>"
      ]
     },
     "metadata": {},
     "output_type": "display_data"
    },
    {
     "name": "stdout",
     "output_type": "stream",
     "text": [
      "18 ,    Inputs and Outputs of Functions\n"
     ]
    },
    {
     "data": {
      "text/markdown": [
       "**channel: ef93f0   title: Clone of Science remix channel**"
      ],
      "text/plain": [
       "<IPython.core.display.Markdown object>"
      ]
     },
     "metadata": {},
     "output_type": "display_data"
    },
    {
     "name": "stdout",
     "output_type": "stream",
     "text": [
      "7 ,    Air pollution - Cause, effect, the green house effect\n"
     ]
    },
    {
     "data": {
      "text/markdown": [
       "**channel: cf94d5   title: LibreTexts Physics**"
      ],
      "text/plain": [
       "<IPython.core.display.Markdown object>"
      ]
     },
     "metadata": {},
     "output_type": "display_data"
    },
    {
     "name": "stdout",
     "output_type": "stream",
     "text": [
      "126 ,    Map: Cosmology (Knox)\n"
     ]
    },
    {
     "data": {
      "text/markdown": [
       "**channel: 484bd2   title: PORTAL ESTUDIANTIL**"
      ],
      "text/plain": [
       "<IPython.core.display.Markdown object>"
      ]
     },
     "metadata": {},
     "output_type": "display_data"
    },
    {
     "name": "stdout",
     "output_type": "stream",
     "text": [
      "97 ,    N3: Multiplicación\n"
     ]
    },
    {
     "data": {
      "text/markdown": [
       "**channel: 14cb7f   title: Zim**"
      ],
      "text/plain": [
       "<IPython.core.display.Markdown object>"
      ]
     },
     "metadata": {},
     "output_type": "display_data"
    },
    {
     "name": "stdout",
     "output_type": "stream",
     "text": [
      "60 ,    Measure of Area\n"
     ]
    },
    {
     "data": {
      "text/markdown": [
       "**channel: d5fb04   title: Rajasthan State English Channel**"
      ],
      "text/plain": [
       "<IPython.core.display.Markdown object>"
      ]
     },
     "metadata": {},
     "output_type": "display_data"
    },
    {
     "name": "stdout",
     "output_type": "stream",
     "text": [
      "8 ,    Visualizing solid shapes\n"
     ]
    },
    {
     "data": {
      "text/markdown": [
       "**channel: 05be9f   title: Camara Education ZamSTEM Maths Grade 8 to 12**"
      ],
      "text/plain": [
       "<IPython.core.display.Markdown object>"
      ]
     },
     "metadata": {},
     "output_type": "display_data"
    },
    {
     "name": "stdout",
     "output_type": "stream",
     "text": [
      "50 ,    11.4.2 Composite functions\n"
     ]
    },
    {
     "data": {
      "text/markdown": [
       "**channel: d4eeb3   title: Level 6 (Grade 9)**"
      ],
      "text/plain": [
       "<IPython.core.display.Markdown object>"
      ]
     },
     "metadata": {},
     "output_type": "display_data"
    },
    {
     "name": "stdout",
     "output_type": "stream",
     "text": [
      "67 ,    Parts of speech: the adverb\n"
     ]
    },
    {
     "data": {
      "text/markdown": [
       "**channel: 50083f   title: English Content**"
      ],
      "text/plain": [
       "<IPython.core.display.Markdown object>"
      ]
     },
     "metadata": {},
     "output_type": "display_data"
    },
    {
     "name": "stdout",
     "output_type": "stream",
     "text": [
      "126 ,    Syntax: subject-verb agreement\n"
     ]
    },
    {
     "data": {
      "text/markdown": [
       "**channel: 6b09a4   title: Fiji Y10 Mathematics**"
      ],
      "text/plain": [
       "<IPython.core.display.Markdown object>"
      ]
     },
     "metadata": {},
     "output_type": "display_data"
    },
    {
     "name": "stdout",
     "output_type": "stream",
     "text": [
      "9 ,    Addition and Subtraction\n"
     ]
    },
    {
     "data": {
      "text/markdown": [
       "**channel: 2293a4   title: Ubongo Kids (Malawi)**"
      ],
      "text/plain": [
       "<IPython.core.display.Markdown object>"
      ]
     },
     "metadata": {},
     "output_type": "display_data"
    },
    {
     "name": "stdout",
     "output_type": "stream",
     "text": [
      "22 ,    Talking about different sounds and stories\n"
     ]
    },
    {
     "data": {
      "text/markdown": [
       "**channel: 36068f   title: আগামী**"
      ],
      "text/plain": [
       "<IPython.core.display.Markdown object>"
      ]
     },
     "metadata": {},
     "output_type": "display_data"
    },
    {
     "name": "stdout",
     "output_type": "stream",
     "text": [
      "2 ,    পদার্থ বিজ্ঞান\n"
     ]
    },
    {
     "data": {
      "text/markdown": [
       "**channel: f65044   title: Aprendo en Casa - Primaria**"
      ],
      "text/plain": [
       "<IPython.core.display.Markdown object>"
      ]
     },
     "metadata": {},
     "output_type": "display_data"
    },
    {
     "name": "stdout",
     "output_type": "stream",
     "text": [
      "93 ,    7 Riqueza en la diversidad | Mi mundo y todo el mundo mejor\n"
     ]
    },
    {
     "data": {
      "text/markdown": [
       "**channel: 5c4c46   title: Khan Academy Hisabati (Tanzania)**"
      ],
      "text/plain": [
       "<IPython.core.display.Markdown object>"
      ]
     },
     "metadata": {},
     "output_type": "display_data"
    },
    {
     "name": "stdout",
     "output_type": "stream",
     "text": [
      "5 ,    7.3.e Ukubwa wa miche\n"
     ]
    },
    {
     "data": {
      "text/markdown": [
       "**channel: 4b0f81   title: English (Gr4-7)**"
      ],
      "text/plain": [
       "<IPython.core.display.Markdown object>"
      ]
     },
     "metadata": {},
     "output_type": "display_data"
    },
    {
     "name": "stdout",
     "output_type": "stream",
     "text": [
      "6 ,    Writing\n"
     ]
    },
    {
     "data": {
      "text/markdown": [
       "**channel: 49ea7a   title: Chemistry**"
      ],
      "text/plain": [
       "<IPython.core.display.Markdown object>"
      ]
     },
     "metadata": {},
     "output_type": "display_data"
    },
    {
     "name": "stdout",
     "output_type": "stream",
     "text": [
      "26 ,    8. Extraction of Metals\n"
     ]
    },
    {
     "data": {
      "text/markdown": [
       "**channel: 57e9d3   title: Universo do Conhecimento**"
      ],
      "text/plain": [
       "<IPython.core.display.Markdown object>"
      ]
     },
     "metadata": {},
     "output_type": "display_data"
    },
    {
     "name": "stdout",
     "output_type": "stream",
     "text": [
      "4 ,    Trecho C2: Bacias Hidrográficas\n"
     ]
    },
    {
     "data": {
      "text/markdown": [
       "**channel: 0f546a   title: Camara Education ZamSTEM Maths Junior Secondary - Grade 8 and 9**"
      ],
      "text/plain": [
       "<IPython.core.display.Markdown object>"
      ]
     },
     "metadata": {},
     "output_type": "display_data"
    },
    {
     "name": "stdout",
     "output_type": "stream",
     "text": [
      "11 ,    8.5.4 Construction of formulae.\n"
     ]
    },
    {
     "data": {
      "text/markdown": [
       "**channel: 0a9df7   title: Our World and Our People (Ghana)**"
      ],
      "text/plain": [
       "<IPython.core.display.Markdown object>"
      ]
     },
     "metadata": {},
     "output_type": "display_data"
    },
    {
     "name": "stdout",
     "output_type": "stream",
     "text": [
      "44 ,    Map Making and Landmarks\n"
     ]
    },
    {
     "data": {
      "text/markdown": [
       "**channel: 8afc0b   title: Camara Education - Ethiopia**"
      ],
      "text/plain": [
       "<IPython.core.display.Markdown object>"
      ]
     },
     "metadata": {},
     "output_type": "display_data"
    },
    {
     "name": "stdout",
     "output_type": "stream",
     "text": [
      "1 ,    Assessment\n"
     ]
    },
    {
     "data": {
      "text/markdown": [
       "**channel: 11171c   title: KICD Biology Curriculum (DRAFT)**"
      ],
      "text/plain": [
       "<IPython.core.display.Markdown object>"
      ]
     },
     "metadata": {},
     "output_type": "display_data"
    },
    {
     "name": "stdout",
     "output_type": "stream",
     "text": [
      "50 ,    1.4 Characteristics of living organisms\n"
     ]
    },
    {
     "data": {
      "text/markdown": [
       "**channel: 494cf2   title: Camara Education St. Martin's Physics**"
      ],
      "text/plain": [
       "<IPython.core.display.Markdown object>"
      ]
     },
     "metadata": {},
     "output_type": "display_data"
    },
    {
     "name": "stdout",
     "output_type": "stream",
     "text": [
      "16 ,    5.2.2 Brownian motion\n"
     ]
    },
    {
     "data": {
      "text/markdown": [
       "**channel: bae253   title: PF (English)**"
      ],
      "text/plain": [
       "<IPython.core.display.Markdown object>"
      ]
     },
     "metadata": {},
     "output_type": "display_data"
    },
    {
     "name": "stdout",
     "output_type": "stream",
     "text": [
      "1 ,    Principles for a Healthy Life\n"
     ]
    },
    {
     "data": {
      "text/markdown": [
       "**channel: 686d66   title: Camara Education ZamSTEM Maths Senior Secondary - Grade 10, 11 and 12**"
      ],
      "text/plain": [
       "<IPython.core.display.Markdown object>"
      ]
     },
     "metadata": {},
     "output_type": "display_data"
    },
    {
     "name": "stdout",
     "output_type": "stream",
     "text": [
      "22 ,    10.2.1 Indices\n"
     ]
    },
    {
     "data": {
      "text/markdown": [
       "**channel: c1d57e   title: PF (Português)**"
      ],
      "text/plain": [
       "<IPython.core.display.Markdown object>"
      ]
     },
     "metadata": {},
     "output_type": "display_data"
    },
    {
     "name": "stdout",
     "output_type": "stream",
     "text": [
      "117 ,    IN_PROFISSIONAL - Metodologias de ensino inovadoras\n"
     ]
    },
    {
     "data": {
      "text/markdown": [
       "**channel: 23f9e1   title: F3 Math**"
      ],
      "text/plain": [
       "<IPython.core.display.Markdown object>"
      ]
     },
     "metadata": {},
     "output_type": "display_data"
    },
    {
     "name": "stdout",
     "output_type": "stream",
     "text": [
      "33 ,    Inputs and Outputs of Functions\n"
     ]
    },
    {
     "data": {
      "text/markdown": [
       "**channel: d30518   title: F2 Math**"
      ],
      "text/plain": [
       "<IPython.core.display.Markdown object>"
      ]
     },
     "metadata": {},
     "output_type": "display_data"
    },
    {
     "name": "stdout",
     "output_type": "stream",
     "text": [
      "12 ,    Laws of Exponents\n"
     ]
    },
    {
     "data": {
      "text/markdown": [
       "**channel: 71fd51   title: PF (Español)**"
      ],
      "text/plain": [
       "<IPython.core.display.Markdown object>"
      ]
     },
     "metadata": {},
     "output_type": "display_data"
    },
    {
     "name": "stdout",
     "output_type": "stream",
     "text": [
      "9 ,    TIC_PROFESIONAL - Las TIC al servicio de la educación\n"
     ]
    },
    {
     "data": {
      "text/markdown": [
       "**channel: b3f329   title: Ghana JHS Curriculum (in progress)**"
      ],
      "text/plain": [
       "<IPython.core.display.Markdown object>"
      ]
     },
     "metadata": {},
     "output_type": "display_data"
    },
    {
     "name": "stdout",
     "output_type": "stream",
     "text": [
      "12 ,    Unit 1.4 Shape and Space\n"
     ]
    },
    {
     "data": {
      "text/markdown": [
       "**channel: 9d5527   title: Basic 4 - English**"
      ],
      "text/plain": [
       "<IPython.core.display.Markdown object>"
      ]
     },
     "metadata": {},
     "output_type": "display_data"
    },
    {
     "name": "stdout",
     "output_type": "stream",
     "text": [
      "10 ,    Sub-Strand 6: Using Adverbs\n"
     ]
    },
    {
     "data": {
      "text/markdown": [
       "**channel: c36745   title: PF (Français, langue française)**"
      ],
      "text/plain": [
       "<IPython.core.display.Markdown object>"
      ]
     },
     "metadata": {},
     "output_type": "display_data"
    },
    {
     "name": "stdout",
     "output_type": "stream",
     "text": [
      "4 ,    TIC_PROFESSIONNEL – Les TIC au service de l'éducation\n"
     ]
    },
    {
     "data": {
      "text/markdown": [
       "**channel: 02be07   title: Exercise (KAB)**"
      ],
      "text/plain": [
       "<IPython.core.display.Markdown object>"
      ]
     },
     "metadata": {},
     "output_type": "display_data"
    },
    {
     "name": "stdout",
     "output_type": "stream",
     "text": [
      "20 ,    অধ্যায় ৮: গড়\n"
     ]
    },
    {
     "data": {
      "text/markdown": [
       "**channel: 5d4a02   title: Camara Education Ethiopia Impact Maths**"
      ],
      "text/plain": [
       "<IPython.core.display.Markdown object>"
      ]
     },
     "metadata": {},
     "output_type": "display_data"
    },
    {
     "name": "stdout",
     "output_type": "stream",
     "text": [
      "14 ,    5.2 - The reciprocal Functions of the Basic Trigonometric Functions\n"
     ]
    },
    {
     "data": {
      "text/markdown": [
       "**channel: 998b74   title: Chemistry CP**"
      ],
      "text/plain": [
       "<IPython.core.display.Markdown object>"
      ]
     },
     "metadata": {},
     "output_type": "display_data"
    },
    {
     "name": "stdout",
     "output_type": "stream",
     "text": [
      "22 ,    Ions\n"
     ]
    },
    {
     "data": {
      "text/markdown": [
       "**channel: 03de11   title: KICD Chemistry Curriculum (DRAFT)**"
      ],
      "text/plain": [
       "<IPython.core.display.Markdown object>"
      ]
     },
     "metadata": {},
     "output_type": "display_data"
    },
    {
     "name": "stdout",
     "output_type": "stream",
     "text": [
      "21 ,    11.3 Preparation and properties of carbon (IV) oxide (carbon dioxide)\n"
     ]
    },
    {
     "data": {
      "text/markdown": [
       "**channel: fc1d48   title: BLIBLIOTECA - EDUCACIÒN FISICA - GRADO PRIMERO A ONCE**"
      ],
      "text/plain": [
       "<IPython.core.display.Markdown object>"
      ]
     },
     "metadata": {},
     "output_type": "display_data"
    },
    {
     "name": "stdout",
     "output_type": "stream",
     "text": [
      "34 ,    Tema General\n"
     ]
    },
    {
     "data": {
      "text/markdown": [
       "**channel: c8450a   title: Assam SEBA Curriculum (Assamese-Medium)**"
      ],
      "text/plain": [
       "<IPython.core.display.Markdown object>"
      ]
     },
     "metadata": {},
     "output_type": "display_data"
    },
    {
     "name": "stdout",
     "output_type": "stream",
     "text": [
      "4 ,    পৰিৱেশ বিজ্ঞান/Environmental science\n"
     ]
    },
    {
     "data": {
      "text/markdown": [
       "**channel: 75fbe2   title: Computer Science**"
      ],
      "text/plain": [
       "<IPython.core.display.Markdown object>"
      ]
     },
     "metadata": {},
     "output_type": "display_data"
    },
    {
     "name": "stdout",
     "output_type": "stream",
     "text": [
      "25 ,    Orientation\n"
     ]
    },
    {
     "data": {
      "text/markdown": [
       "**channel: 239d8f   title: BIBLIOTECA . QUIMINICA GRADO DECIMO A GRADO ONCE**"
      ],
      "text/plain": [
       "<IPython.core.display.Markdown object>"
      ]
     },
     "metadata": {},
     "output_type": "display_data"
    },
    {
     "name": "stdout",
     "output_type": "stream",
     "text": [
      "23 ,    Tema General\n"
     ]
    },
    {
     "data": {
      "text/markdown": [
       "**channel: 1843c5   title: Form 3 Biology**"
      ],
      "text/plain": [
       "<IPython.core.display.Markdown object>"
      ]
     },
     "metadata": {},
     "output_type": "display_data"
    },
    {
     "name": "stdout",
     "output_type": "stream",
     "text": [
      "46 ,    Fish\n"
     ]
    },
    {
     "data": {
      "text/markdown": [
       "**channel: 8b5488   title: Matemáticas grado segundo**"
      ],
      "text/plain": [
       "<IPython.core.display.Markdown object>"
      ]
     },
     "metadata": {},
     "output_type": "display_data"
    },
    {
     "name": "stdout",
     "output_type": "stream",
     "text": [
      "5 ,    Medición\n"
     ]
    },
    {
     "data": {
      "text/markdown": [
       "**channel: cfc6dd   title: F4 Math**"
      ],
      "text/plain": [
       "<IPython.core.display.Markdown object>"
      ]
     },
     "metadata": {},
     "output_type": "display_data"
    },
    {
     "name": "stdout",
     "output_type": "stream",
     "text": [
      "65 ,    Simultaneous Equations word problems 2\n"
     ]
    },
    {
     "data": {
      "text/markdown": [
       "**channel: f08256   title: Ghana Education Service (GES) Curriculum**"
      ],
      "text/plain": [
       "<IPython.core.display.Markdown object>"
      ]
     },
     "metadata": {},
     "output_type": "display_data"
    },
    {
     "name": "stdout",
     "output_type": "stream",
     "text": [
      "23 ,    Geometric Construction\n"
     ]
    },
    {
     "data": {
      "text/markdown": [
       "**channel: 983e56   title: Camara Learning Studio Demo**"
      ],
      "text/plain": [
       "<IPython.core.display.Markdown object>"
      ]
     },
     "metadata": {},
     "output_type": "display_data"
    },
    {
     "name": "stdout",
     "output_type": "stream",
     "text": [
      "9 ,    1.1.0 Round of numbers to the nearest tens, hundreds, thousands, millions and billions,\n"
     ]
    },
    {
     "data": {
      "text/markdown": [
       "**channel: cd1388   title: FuseSchool**"
      ],
      "text/plain": [
       "<IPython.core.display.Markdown object>"
      ]
     },
     "metadata": {},
     "output_type": "display_data"
    },
    {
     "name": "stdout",
     "output_type": "stream",
     "text": [
      "17 ,    Geometry and Measures \n"
     ]
    },
    {
     "data": {
      "text/markdown": [
       "**channel: 64cbe8   title: GRADO 3**"
      ],
      "text/plain": [
       "<IPython.core.display.Markdown object>"
      ]
     },
     "metadata": {},
     "output_type": "display_data"
    },
    {
     "name": "stdout",
     "output_type": "stream",
     "text": [
      "47 ,    Algoritmos de multiplicación\n"
     ]
    },
    {
     "data": {
      "text/markdown": [
       "**channel: 064c49   title: Real Futures**"
      ],
      "text/plain": [
       "<IPython.core.display.Markdown object>"
      ]
     },
     "metadata": {},
     "output_type": "display_data"
    },
    {
     "name": "stdout",
     "output_type": "stream",
     "text": [
      "16 ,    Baking and Home-Made Desserts\n"
     ]
    },
    {
     "data": {
      "text/markdown": [
       "**channel: bb3a0c   title: khan math 8**"
      ],
      "text/plain": [
       "<IPython.core.display.Markdown object>"
      ]
     },
     "metadata": {},
     "output_type": "display_data"
    },
    {
     "name": "stdout",
     "output_type": "stream",
     "text": [
      "26 ,    Cubes and cubes roots\n"
     ]
    },
    {
     "data": {
      "text/markdown": [
       "**channel: a2924d   title: Form 2 Maths**"
      ],
      "text/plain": [
       "<IPython.core.display.Markdown object>"
      ]
     },
     "metadata": {},
     "output_type": "display_data"
    },
    {
     "name": "stdout",
     "output_type": "stream",
     "text": [
      "8 ,    Real Numbers\n"
     ]
    },
    {
     "data": {
      "text/markdown": [
       "**channel: 231e82   title: Fundación Fab**"
      ],
      "text/plain": [
       "<IPython.core.display.Markdown object>"
      ]
     },
     "metadata": {},
     "output_type": "display_data"
    },
    {
     "name": "stdout",
     "output_type": "stream",
     "text": [
      "4 ,    II Año\n"
     ]
    }
   ],
   "source": [
    "import IPython.display\n",
    "\n",
    "for channel in data.topic_trees_id_list:\n",
    "    root_node = data.topic_trees[channel]\n",
    "    result = root_node.search_preorder(lambda x: not x.has_content, at = \"leaf\")\n",
    "    \n",
    "    if result is not None:\n",
    "        display(IPython.display.Markdown(\"**channel: {}   title: {}**\".format(channel, root_node.title)))\n",
    "        print(result[0], \",   \", result[1].title)"
   ]
  },
  {
   "cell_type": "markdown",
   "id": "978daa6f",
   "metadata": {},
   "source": [
    "Not all leaf nodes contain some content"
   ]
  },
  {
   "cell_type": "markdown",
   "id": "73156307",
   "metadata": {},
   "source": [
    "# See if all the contents only appear in leaf nodes"
   ]
  },
  {
   "cell_type": "code",
   "execution_count": 11,
   "id": "442091dc",
   "metadata": {},
   "outputs": [
    {
     "data": {
      "text/markdown": [
       "**channel: 6e90a7   title: CREE**"
      ],
      "text/plain": [
       "<IPython.core.display.Markdown object>"
      ]
     },
     "metadata": {},
     "output_type": "display_data"
    },
    {
     "name": "stdout",
     "output_type": "stream",
     "text": [
      "2 ,    Educación Media\n"
     ]
    },
    {
     "data": {
      "text/markdown": [
       "**channel: ef2088   title: CBSE**"
      ],
      "text/plain": [
       "<IPython.core.display.Markdown object>"
      ]
     },
     "metadata": {},
     "output_type": "display_data"
    },
    {
     "name": "stdout",
     "output_type": "stream",
     "text": [
      "1670 ,    Coordinating Conjunctions\n"
     ]
    },
    {
     "data": {
      "text/markdown": [
       "**channel: 410920   title: EngageNY (es)**"
      ],
      "text/plain": [
       "<IPython.core.display.Markdown object>"
      ]
     },
     "metadata": {},
     "output_type": "display_data"
    },
    {
     "name": "stdout",
     "output_type": "stream",
     "text": [
      "2 ,    Módulo 5\n"
     ]
    },
    {
     "data": {
      "text/markdown": [
       "**channel: 5139e9   title: وزارة التربية والتعليم الأردنية**"
      ],
      "text/plain": [
       "<IPython.core.display.Markdown object>"
      ]
     },
     "metadata": {},
     "output_type": "display_data"
    },
    {
     "name": "stdout",
     "output_type": "stream",
     "text": [
      "0 ,    وزارة التربية والتعليم الأردنية\n"
     ]
    },
    {
     "data": {
      "text/markdown": [
       "**channel: 274269   title: Maths G3 to G10**"
      ],
      "text/plain": [
       "<IPython.core.display.Markdown object>"
      ]
     },
     "metadata": {},
     "output_type": "display_data"
    },
    {
     "name": "stdout",
     "output_type": "stream",
     "text": [
      "6 ,    Assessments\n"
     ]
    },
    {
     "data": {
      "text/markdown": [
       "**channel: 217993   title: PraDigi**"
      ],
      "text/plain": [
       "<IPython.core.display.Markdown object>"
      ]
     },
     "metadata": {},
     "output_type": "display_data"
    },
    {
     "name": "stdout",
     "output_type": "stream",
     "text": [
      "7 ,    ਇੰਗਲਿਸ਼\n"
     ]
    },
    {
     "data": {
      "text/markdown": [
       "**channel: 88c9d6   title: LibreTexts Engineering**"
      ],
      "text/plain": [
       "<IPython.core.display.Markdown object>"
      ]
     },
     "metadata": {},
     "output_type": "display_data"
    },
    {
     "name": "stdout",
     "output_type": "stream",
     "text": [
      "6 ,    1: Chapters\n"
     ]
    },
    {
     "data": {
      "text/markdown": [
       "**channel: ebc86c   title: Libretext Open Educational Resource Library**"
      ],
      "text/plain": [
       "<IPython.core.display.Markdown object>"
      ]
     },
     "metadata": {},
     "output_type": "display_data"
    },
    {
     "name": "stdout",
     "output_type": "stream",
     "text": [
      "14 ,    1: Fundamental Properties of Genes\n"
     ]
    },
    {
     "data": {
      "text/markdown": [
       "**channel: 9fd860   title: Edraak (العربيّة)**"
      ],
      "text/plain": [
       "<IPython.core.display.Markdown object>"
      ]
     },
     "metadata": {},
     "output_type": "display_data"
    },
    {
     "name": "stdout",
     "output_type": "stream",
     "text": [
      "2 ,    استقصاء الحاجة إلى مقاييس التشتّت وحساب هذه المقاييس وتوضيح المعلومات التي تقدّمها عن البيانات\n"
     ]
    },
    {
     "data": {
      "text/markdown": [
       "**channel: 14d190   title: Ghana English Language Curriculum**"
      ],
      "text/plain": [
       "<IPython.core.display.Markdown object>"
      ]
     },
     "metadata": {},
     "output_type": "display_data"
    },
    {
     "name": "stdout",
     "output_type": "stream",
     "text": [
      "45 ,    J2.5.1.4 determine how stories are developed i.e. plot.\n"
     ]
    },
    {
     "data": {
      "text/markdown": [
       "**channel: 344113   title: Secondary Education**"
      ],
      "text/plain": [
       "<IPython.core.display.Markdown object>"
      ]
     },
     "metadata": {},
     "output_type": "display_data"
    },
    {
     "name": "stdout",
     "output_type": "stream",
     "text": [
      "8 ,    Ratio and Proportion\n"
     ]
    },
    {
     "data": {
      "text/markdown": [
       "**channel: c7ca13   title: Kolibri Library for Kenya**"
      ],
      "text/plain": [
       "<IPython.core.display.Markdown object>"
      ]
     },
     "metadata": {},
     "output_type": "display_data"
    },
    {
     "name": "stdout",
     "output_type": "stream",
     "text": [
      "0 ,    Kolibri Library for Kenya\n"
     ]
    },
    {
     "data": {
      "text/markdown": [
       "**channel: 7f116c   title: SCHOOL-DEV**"
      ],
      "text/plain": [
       "<IPython.core.display.Markdown object>"
      ]
     },
     "metadata": {},
     "output_type": "display_data"
    },
    {
     "name": "stdout",
     "output_type": "stream",
     "text": [
      "4 ,    ICT JSS2\n"
     ]
    },
    {
     "data": {
      "text/markdown": [
       "**channel: 5223e0   title: DIGITAL EDUCATION WITH MEHUL**"
      ],
      "text/plain": [
       "<IPython.core.display.Markdown object>"
      ]
     },
     "metadata": {},
     "output_type": "display_data"
    },
    {
     "name": "stdout",
     "output_type": "stream",
     "text": [
      "15 ,    ધો-૩ વાંચન-ગણન-લેખન Topic\n"
     ]
    },
    {
     "data": {
      "text/markdown": [
       "**channel: 1fb613   title: Libretext Open Educational Resource Library**"
      ],
      "text/plain": [
       "<IPython.core.display.Markdown object>"
      ]
     },
     "metadata": {},
     "output_type": "display_data"
    },
    {
     "name": "stdout",
     "output_type": "stream",
     "text": [
      "12 ,    9 Rational numbers, Irrational Numbers, and Continued fractions\n"
     ]
    },
    {
     "data": {
      "text/markdown": [
       "**channel: 760ea6   title: Science channel**"
      ],
      "text/plain": [
       "<IPython.core.display.Markdown object>"
      ]
     },
     "metadata": {},
     "output_type": "display_data"
    },
    {
     "name": "stdout",
     "output_type": "stream",
     "text": [
      "9 ,    Assessments\n"
     ]
    },
    {
     "data": {
      "text/markdown": [
       "**channel: 42e8ef   title: Ganar - Habilidades para el Trabajo**"
      ],
      "text/plain": [
       "<IPython.core.display.Markdown object>"
      ]
     },
     "metadata": {},
     "output_type": "display_data"
    },
    {
     "name": "stdout",
     "output_type": "stream",
     "text": [
      "2 ,    Bootcamp @Laboratoria\n"
     ]
    },
    {
     "data": {
      "text/markdown": [
       "**channel: d2ac0e   title: Rajasthan State Hindi Channel**"
      ],
      "text/plain": [
       "<IPython.core.display.Markdown object>"
      ]
     },
     "metadata": {},
     "output_type": "display_data"
    },
    {
     "name": "stdout",
     "output_type": "stream",
     "text": [
      "0 ,    Rajasthan State Hindi Channel\n"
     ]
    },
    {
     "data": {
      "text/markdown": [
       "**channel: 6e3ba4   title: MIT Blossoms**"
      ],
      "text/plain": [
       "<IPython.core.display.Markdown object>"
      ]
     },
     "metadata": {},
     "output_type": "display_data"
    },
    {
     "name": "stdout",
     "output_type": "stream",
     "text": [
      "2 ,    An Introduction to the Physics of Sailing\n"
     ]
    },
    {
     "data": {
      "text/markdown": [
       "**channel: 8bbad6   title: Maharashtra State Class 3 to 9 (English)**"
      ],
      "text/plain": [
       "<IPython.core.display.Markdown object>"
      ]
     },
     "metadata": {},
     "output_type": "display_data"
    },
    {
     "name": "stdout",
     "output_type": "stream",
     "text": [
      "16 ,    3 digit numbers\n"
     ]
    },
    {
     "data": {
      "text/markdown": [
       "**channel: e77b55   title: Camara Education Ethiopia Secondary Science and Maths for the Deaf**"
      ],
      "text/plain": [
       "<IPython.core.display.Markdown object>"
      ]
     },
     "metadata": {},
     "output_type": "display_data"
    },
    {
     "name": "stdout",
     "output_type": "stream",
     "text": [
      "2 ,    Mathematics\n"
     ]
    },
    {
     "data": {
      "text/markdown": [
       "**channel: 54971d   title: Ciencias Naturales - Honduras**"
      ],
      "text/plain": [
       "<IPython.core.display.Markdown object>"
      ]
     },
     "metadata": {},
     "output_type": "display_data"
    },
    {
     "name": "stdout",
     "output_type": "stream",
     "text": [
      "2 ,    9eno\n"
     ]
    },
    {
     "data": {
      "text/markdown": [
       "**channel: 998df9   title: Chile - 1° Básico a 2° Medio - Matemáticas**"
      ],
      "text/plain": [
       "<IPython.core.display.Markdown object>"
      ]
     },
     "metadata": {},
     "output_type": "display_data"
    },
    {
     "name": "stdout",
     "output_type": "stream",
     "text": [
      "3 ,    OA 14. Identificar figuras 2D y 3D\n"
     ]
    },
    {
     "data": {
      "text/markdown": [
       "**channel: b4897d   title: BB-English**"
      ],
      "text/plain": [
       "<IPython.core.display.Markdown object>"
      ]
     },
     "metadata": {},
     "output_type": "display_data"
    },
    {
     "name": "stdout",
     "output_type": "stream",
     "text": [
      "7 ,    Coordinating Conjunctions\n"
     ]
    },
    {
     "data": {
      "text/markdown": [
       "**channel: fc9105   title: Laboratoria**"
      ],
      "text/plain": [
       "<IPython.core.display.Markdown object>"
      ]
     },
     "metadata": {},
     "output_type": "display_data"
    },
    {
     "name": "stdout",
     "output_type": "stream",
     "text": [
      "0 ,    Laboratoria\n"
     ]
    },
    {
     "data": {
      "text/markdown": [
       "**channel: 4d2d4a   title: TESSIndia**"
      ],
      "text/plain": [
       "<IPython.core.display.Markdown object>"
      ]
     },
     "metadata": {},
     "output_type": "display_data"
    },
    {
     "name": "stdout",
     "output_type": "stream",
     "text": [
      "2 ,    বিদ্যালয়ের নেতৃত্ব\n"
     ]
    },
    {
     "data": {
      "text/markdown": [
       "**channel: 383b8a   title: College**"
      ],
      "text/plain": [
       "<IPython.core.display.Markdown object>"
      ]
     },
     "metadata": {},
     "output_type": "display_data"
    },
    {
     "name": "stdout",
     "output_type": "stream",
     "text": [
      "217 ,    Quadratics Exercises 1\n"
     ]
    },
    {
     "data": {
      "text/markdown": [
       "**channel: 50fe84   title: High School**"
      ],
      "text/plain": [
       "<IPython.core.display.Markdown object>"
      ]
     },
     "metadata": {},
     "output_type": "display_data"
    },
    {
     "name": "stdout",
     "output_type": "stream",
     "text": [
      "0 ,    High School\n"
     ]
    },
    {
     "data": {
      "text/markdown": [
       "**channel: ef93f0   title: Clone of Science remix channel**"
      ],
      "text/plain": [
       "<IPython.core.display.Markdown object>"
      ]
     },
     "metadata": {},
     "output_type": "display_data"
    },
    {
     "name": "stdout",
     "output_type": "stream",
     "text": [
      "157 ,    Assessments\n"
     ]
    },
    {
     "data": {
      "text/markdown": [
       "**channel: cf94d5   title: LibreTexts Physics**"
      ],
      "text/plain": [
       "<IPython.core.display.Markdown object>"
      ]
     },
     "metadata": {},
     "output_type": "display_data"
    },
    {
     "name": "stdout",
     "output_type": "stream",
     "text": [
      "4 ,    Book: Spiral Modern Physics (D'Alessandris)\n"
     ]
    },
    {
     "data": {
      "text/markdown": [
       "**channel: 14cb7f   title: Zim**"
      ],
      "text/plain": [
       "<IPython.core.display.Markdown object>"
      ]
     },
     "metadata": {},
     "output_type": "display_data"
    },
    {
     "name": "stdout",
     "output_type": "stream",
     "text": [
      "254 ,    Transformation\n"
     ]
    },
    {
     "data": {
      "text/markdown": [
       "**channel: 653433   title: Khan Academy - Standardized Test Preparation**"
      ],
      "text/plain": [
       "<IPython.core.display.Markdown object>"
      ]
     },
     "metadata": {},
     "output_type": "display_data"
    },
    {
     "name": "stdout",
     "output_type": "stream",
     "text": [
      "0 ,    Khan Academy - Standardized Test Preparation\n"
     ]
    },
    {
     "data": {
      "text/markdown": [
       "**channel: d5fb04   title: Rajasthan State English Channel**"
      ],
      "text/plain": [
       "<IPython.core.display.Markdown object>"
      ]
     },
     "metadata": {},
     "output_type": "display_data"
    },
    {
     "name": "stdout",
     "output_type": "stream",
     "text": [
      "9 ,    Triangle and its properties\n"
     ]
    },
    {
     "data": {
      "text/markdown": [
       "**channel: d4eeb3   title: Level 6 (Grade 9)**"
      ],
      "text/plain": [
       "<IPython.core.display.Markdown object>"
      ]
     },
     "metadata": {},
     "output_type": "display_data"
    },
    {
     "name": "stdout",
     "output_type": "stream",
     "text": [
      "18 ,    Summary\n"
     ]
    },
    {
     "data": {
      "text/markdown": [
       "**channel: c88ff6   title: Alternative Learning System**"
      ],
      "text/plain": [
       "<IPython.core.display.Markdown object>"
      ]
     },
     "metadata": {},
     "output_type": "display_data"
    },
    {
     "name": "stdout",
     "output_type": "stream",
     "text": [
      "3 ,    Opportunity 2.0 Self-Directed Learning Modules\n"
     ]
    },
    {
     "data": {
      "text/markdown": [
       "**channel: 50083f   title: English Content**"
      ],
      "text/plain": [
       "<IPython.core.display.Markdown object>"
      ]
     },
     "metadata": {},
     "output_type": "display_data"
    },
    {
     "name": "stdout",
     "output_type": "stream",
     "text": [
      "39 ,    Verbs\n"
     ]
    },
    {
     "data": {
      "text/markdown": [
       "**channel: 2293a4   title: Ubongo Kids (Malawi)**"
      ],
      "text/plain": [
       "<IPython.core.display.Markdown object>"
      ]
     },
     "metadata": {},
     "output_type": "display_data"
    },
    {
     "name": "stdout",
     "output_type": "stream",
     "text": [
      "134 ,    Questions\n"
     ]
    },
    {
     "data": {
      "text/markdown": [
       "**channel: 36068f   title: আগামী**"
      ],
      "text/plain": [
       "<IPython.core.display.Markdown object>"
      ]
     },
     "metadata": {},
     "output_type": "display_data"
    },
    {
     "name": "stdout",
     "output_type": "stream",
     "text": [
      "10 ,    অধ্যায় ৮: তথ্য ও উপাত্ত\n"
     ]
    },
    {
     "data": {
      "text/markdown": [
       "**channel: 06fb18   title: Proyecto Biosfera**"
      ],
      "text/plain": [
       "<IPython.core.display.Markdown object>"
      ]
     },
     "metadata": {},
     "output_type": "display_data"
    },
    {
     "name": "stdout",
     "output_type": "stream",
     "text": [
      "2 ,    LAS FUNCIONES DE LOS SERES VIVOS\n"
     ]
    },
    {
     "data": {
      "text/markdown": [
       "**channel: f65044   title: Aprendo en Casa - Primaria**"
      ],
      "text/plain": [
       "<IPython.core.display.Markdown object>"
      ]
     },
     "metadata": {},
     "output_type": "display_data"
    },
    {
     "name": "stdout",
     "output_type": "stream",
     "text": [
      "10 ,    Experiencia 6\n"
     ]
    },
    {
     "data": {
      "text/markdown": [
       "**channel: 4b0f81   title: English (Gr4-7)**"
      ],
      "text/plain": [
       "<IPython.core.display.Markdown object>"
      ]
     },
     "metadata": {},
     "output_type": "display_data"
    },
    {
     "name": "stdout",
     "output_type": "stream",
     "text": [
      "1 ,    Gr 4 Spare Files\n"
     ]
    },
    {
     "data": {
      "text/markdown": [
       "**channel: 49ea7a   title: Chemistry**"
      ],
      "text/plain": [
       "<IPython.core.display.Markdown object>"
      ]
     },
     "metadata": {},
     "output_type": "display_data"
    },
    {
     "name": "stdout",
     "output_type": "stream",
     "text": [
      "5 ,    Molar Mass\n"
     ]
    },
    {
     "data": {
      "text/markdown": [
       "**channel: 57e9d3   title: Universo do Conhecimento**"
      ],
      "text/plain": [
       "<IPython.core.display.Markdown object>"
      ]
     },
     "metadata": {},
     "output_type": "display_data"
    },
    {
     "name": "stdout",
     "output_type": "stream",
     "text": [
      "17 ,    Trilha G: Água na Terra\n"
     ]
    },
    {
     "data": {
      "text/markdown": [
       "**channel: 0f546a   title: Camara Education ZamSTEM Maths Junior Secondary - Grade 8 and 9**"
      ],
      "text/plain": [
       "<IPython.core.display.Markdown object>"
      ]
     },
     "metadata": {},
     "output_type": "display_data"
    },
    {
     "name": "stdout",
     "output_type": "stream",
     "text": [
      "1 ,    Grade 8\n"
     ]
    },
    {
     "data": {
      "text/markdown": [
       "**channel: 0a9df7   title: Our World and Our People (Ghana)**"
      ],
      "text/plain": [
       "<IPython.core.display.Markdown object>"
      ]
     },
     "metadata": {},
     "output_type": "display_data"
    },
    {
     "name": "stdout",
     "output_type": "stream",
     "text": [
      "12 ,    Home and School\n"
     ]
    },
    {
     "data": {
      "text/markdown": [
       "**channel: 8afc0b   title: Camara Education - Ethiopia**"
      ],
      "text/plain": [
       "<IPython.core.display.Markdown object>"
      ]
     },
     "metadata": {},
     "output_type": "display_data"
    },
    {
     "name": "stdout",
     "output_type": "stream",
     "text": [
      "2 ,    Math Grade 9\n"
     ]
    },
    {
     "data": {
      "text/markdown": [
       "**channel: 11171c   title: KICD Biology Curriculum (DRAFT)**"
      ],
      "text/plain": [
       "<IPython.core.display.Markdown object>"
      ]
     },
     "metadata": {},
     "output_type": "display_data"
    },
    {
     "name": "stdout",
     "output_type": "stream",
     "text": [
      "1 ,    Form 2 Biology Curriculum\n"
     ]
    },
    {
     "data": {
      "text/markdown": [
       "**channel: 494cf2   title: Camara Education St. Martin's Physics**"
      ],
      "text/plain": [
       "<IPython.core.display.Markdown object>"
      ]
     },
     "metadata": {},
     "output_type": "display_data"
    },
    {
     "name": "stdout",
     "output_type": "stream",
     "text": [
      "2 ,    Form 1\n"
     ]
    },
    {
     "data": {
      "text/markdown": [
       "**channel: 179e73   title: Aprendo en Casa - Secundaria**"
      ],
      "text/plain": [
       "<IPython.core.display.Markdown object>"
      ]
     },
     "metadata": {},
     "output_type": "display_data"
    },
    {
     "name": "stdout",
     "output_type": "stream",
     "text": [
      "35 ,    5 Elaboramos prototipos que revaloren la diversidad cultural de nuestro entorno\n"
     ]
    },
    {
     "data": {
      "text/markdown": [
       "**channel: d5963f   title: Cubo Educativo (Chile)**"
      ],
      "text/plain": [
       "<IPython.core.display.Markdown object>"
      ]
     },
     "metadata": {},
     "output_type": "display_data"
    },
    {
     "name": "stdout",
     "output_type": "stream",
     "text": [
      "2 ,    Química\n"
     ]
    },
    {
     "data": {
      "text/markdown": [
       "**channel: bae253   title: PF (English)**"
      ],
      "text/plain": [
       "<IPython.core.display.Markdown object>"
      ]
     },
     "metadata": {},
     "output_type": "display_data"
    },
    {
     "name": "stdout",
     "output_type": "stream",
     "text": [
      "60 ,    Level Up\n"
     ]
    },
    {
     "data": {
      "text/markdown": [
       "**channel: 686d66   title: Camara Education ZamSTEM Maths Senior Secondary - Grade 10, 11 and 12**"
      ],
      "text/plain": [
       "<IPython.core.display.Markdown object>"
      ]
     },
     "metadata": {},
     "output_type": "display_data"
    },
    {
     "name": "stdout",
     "output_type": "stream",
     "text": [
      "1 ,    Grade 10\n"
     ]
    },
    {
     "data": {
      "text/markdown": [
       "**channel: d30518   title: F2 Math**"
      ],
      "text/plain": [
       "<IPython.core.display.Markdown object>"
      ]
     },
     "metadata": {},
     "output_type": "display_data"
    },
    {
     "name": "stdout",
     "output_type": "stream",
     "text": [
      "117 ,    52 Statistics 3\n"
     ]
    },
    {
     "data": {
      "text/markdown": [
       "**channel: b3f329   title: Ghana JHS Curriculum (in progress)**"
      ],
      "text/plain": [
       "<IPython.core.display.Markdown object>"
      ]
     },
     "metadata": {},
     "output_type": "display_data"
    },
    {
     "name": "stdout",
     "output_type": "stream",
     "text": [
      "4 ,    Objective 1.5.1 Solve problems on perimeter of polygons\n"
     ]
    },
    {
     "data": {
      "text/markdown": [
       "**channel: abd7dc   title: Libretext Open Educational Resource Library**"
      ],
      "text/plain": [
       "<IPython.core.display.Markdown object>"
      ]
     },
     "metadata": {},
     "output_type": "display_data"
    },
    {
     "name": "stdout",
     "output_type": "stream",
     "text": [
      "75 ,    9: Dimensional Analysis\n"
     ]
    },
    {
     "data": {
      "text/markdown": [
       "**channel: 9d5527   title: Basic 4 - English**"
      ],
      "text/plain": [
       "<IPython.core.display.Markdown object>"
      ]
     },
     "metadata": {},
     "output_type": "display_data"
    },
    {
     "name": "stdout",
     "output_type": "stream",
     "text": [
      "2 ,    Sub-Strand 1: Building the Love and Culture of Reading\n"
     ]
    },
    {
     "data": {
      "text/markdown": [
       "**channel: 956596   title: Videos (KAB)**"
      ],
      "text/plain": [
       "<IPython.core.display.Markdown object>"
      ]
     },
     "metadata": {},
     "output_type": "display_data"
    },
    {
     "name": "stdout",
     "output_type": "stream",
     "text": [
      "64 ,    অধ্যায় ৭: ব্যাবহারিক জ্যামিতি\n"
     ]
    },
    {
     "data": {
      "text/markdown": [
       "**channel: 5d4a02   title: Camara Education Ethiopia Impact Maths**"
      ],
      "text/plain": [
       "<IPython.core.display.Markdown object>"
      ]
     },
     "metadata": {},
     "output_type": "display_data"
    },
    {
     "name": "stdout",
     "output_type": "stream",
     "text": [
      "1 ,    Grade 10\n"
     ]
    },
    {
     "data": {
      "text/markdown": [
       "**channel: 7db7f2   title: Level 1 (Grade 4)**"
      ],
      "text/plain": [
       "<IPython.core.display.Markdown object>"
      ]
     },
     "metadata": {},
     "output_type": "display_data"
    },
    {
     "name": "stdout",
     "output_type": "stream",
     "text": [
      "10 ,    Multiple Operations and Grouping\n"
     ]
    },
    {
     "data": {
      "text/markdown": [
       "**channel: 00fda4   title: Awael Educational Website (العربيّة)**"
      ],
      "text/plain": [
       "<IPython.core.display.Markdown object>"
      ]
     },
     "metadata": {},
     "output_type": "display_data"
    },
    {
     "name": "stdout",
     "output_type": "stream",
     "text": [
      "4 ,    اللغة العربية\n"
     ]
    },
    {
     "data": {
      "text/markdown": [
       "**channel: 018d08   title: KICD Physics Curriculum (DRAFT)**"
      ],
      "text/plain": [
       "<IPython.core.display.Markdown object>"
      ]
     },
     "metadata": {},
     "output_type": "display_data"
    },
    {
     "name": "stdout",
     "output_type": "stream",
     "text": [
      "26 ,    8.0 Rectilinear propagation of light and reflection at a plane surface (16 lessons)\n"
     ]
    },
    {
     "data": {
      "text/markdown": [
       "**channel: 03de11   title: KICD Chemistry Curriculum (DRAFT)**"
      ],
      "text/plain": [
       "<IPython.core.display.Markdown object>"
      ]
     },
     "metadata": {},
     "output_type": "display_data"
    },
    {
     "name": "stdout",
     "output_type": "stream",
     "text": [
      "26 ,    8.0 Structure and Bonding (20 lessons)\n"
     ]
    },
    {
     "data": {
      "text/markdown": [
       "**channel: bbce73   title: ELD Teacher Professional Development Cources (العربيّة)**"
      ],
      "text/plain": [
       "<IPython.core.display.Markdown object>"
      ]
     },
     "metadata": {},
     "output_type": "display_data"
    },
    {
     "name": "stdout",
     "output_type": "stream",
     "text": [
      "37 ,    علم النفس التربوي\n"
     ]
    },
    {
     "data": {
      "text/markdown": [
       "**channel: c8450a   title: Assam SEBA Curriculum (Assamese-Medium)**"
      ],
      "text/plain": [
       "<IPython.core.display.Markdown object>"
      ]
     },
     "metadata": {},
     "output_type": "display_data"
    },
    {
     "name": "stdout",
     "output_type": "stream",
     "text": [
      "15 ,    জ্যামিতি আৰু জোখ / Geometry and Measurement\n"
     ]
    },
    {
     "data": {
      "text/markdown": [
       "**channel: 239d8f   title: BIBLIOTECA . QUIMINICA GRADO DECIMO A GRADO ONCE**"
      ],
      "text/plain": [
       "<IPython.core.display.Markdown object>"
      ]
     },
     "metadata": {},
     "output_type": "display_data"
    },
    {
     "name": "stdout",
     "output_type": "stream",
     "text": [
      "2 ,    Segundo Periodo\n"
     ]
    },
    {
     "data": {
      "text/markdown": [
       "**channel: 8b5488   title: Matemáticas grado segundo**"
      ],
      "text/plain": [
       "<IPython.core.display.Markdown object>"
      ]
     },
     "metadata": {},
     "output_type": "display_data"
    },
    {
     "name": "stdout",
     "output_type": "stream",
     "text": [
      "1 ,    Pensamiento Espacial\n"
     ]
    },
    {
     "data": {
      "text/markdown": [
       "**channel: cfc6dd   title: F4 Math**"
      ],
      "text/plain": [
       "<IPython.core.display.Markdown object>"
      ]
     },
     "metadata": {},
     "output_type": "display_data"
    },
    {
     "name": "stdout",
     "output_type": "stream",
     "text": [
      "13 ,    Invertible matrices\n"
     ]
    },
    {
     "data": {
      "text/markdown": [
       "**channel: ca3996   title: TESSA - Teacher Resources**"
      ],
      "text/plain": [
       "<IPython.core.display.Markdown object>"
      ]
     },
     "metadata": {},
     "output_type": "display_data"
    },
    {
     "name": "stdout",
     "output_type": "stream",
     "text": [
      "40 ,    Handbooks and Toolkits for Teachers and Teacher Educators\n"
     ]
    },
    {
     "data": {
      "text/markdown": [
       "**channel: d4c17c   title: HP LIFE - Cursos (Português)**"
      ],
      "text/plain": [
       "<IPython.core.display.Markdown object>"
      ]
     },
     "metadata": {},
     "output_type": "display_data"
    },
    {
     "name": "stdout",
     "output_type": "stream",
     "text": [
      "1 ,    Lucros e prejuízos\n"
     ]
    },
    {
     "data": {
      "text/markdown": [
       "**channel: 983e56   title: Camara Learning Studio Demo**"
      ],
      "text/plain": [
       "<IPython.core.display.Markdown object>"
      ]
     },
     "metadata": {},
     "output_type": "display_data"
    },
    {
     "name": "stdout",
     "output_type": "stream",
     "text": [
      "1 ,    Form 1 Maths\n"
     ]
    },
    {
     "data": {
      "text/markdown": [
       "**channel: 03f103   title: HP LIFE - कार्यक्रम (हिन्दी)**"
      ],
      "text/plain": [
       "<IPython.core.display.Markdown object>"
      ]
     },
     "metadata": {},
     "output_type": "display_data"
    },
    {
     "name": "stdout",
     "output_type": "stream",
     "text": [
      "1 ,    लाभ और हानि\n"
     ]
    },
    {
     "data": {
      "text/markdown": [
       "**channel: 38a3e2   title: ELD King Khaled University Learning (العربيّة)**"
      ],
      "text/plain": [
       "<IPython.core.display.Markdown object>"
      ]
     },
     "metadata": {},
     "output_type": "display_data"
    },
    {
     "name": "stdout",
     "output_type": "stream",
     "text": [
      "14 ,    قواعد الإملاء العربي\n"
     ]
    },
    {
     "data": {
      "text/markdown": [
       "**channel: 8299ce   title: HP LIFE - 课程 (中国大陆)**"
      ],
      "text/plain": [
       "<IPython.core.display.Markdown object>"
      ]
     },
     "metadata": {},
     "output_type": "display_data"
    },
    {
     "name": "stdout",
     "output_type": "stream",
     "text": [
      "1 ,    商务电子邮件\n"
     ]
    },
    {
     "data": {
      "text/markdown": [
       "**channel: 32e583   title: HP LIFE - Cours (Français)**"
      ],
      "text/plain": [
       "<IPython.core.display.Markdown object>"
      ]
     },
     "metadata": {},
     "output_type": "display_data"
    },
    {
     "name": "stdout",
     "output_type": "stream",
     "text": [
      "1 ,    Leadership efficace\n"
     ]
    },
    {
     "data": {
      "text/markdown": [
       "**channel: 0ea5f3   title: HP LIFE - Courses (English)**"
      ],
      "text/plain": [
       "<IPython.core.display.Markdown object>"
      ]
     },
     "metadata": {},
     "output_type": "display_data"
    },
    {
     "name": "stdout",
     "output_type": "stream",
     "text": [
      "1 ,    Selling online\n"
     ]
    },
    {
     "data": {
      "text/markdown": [
       "**channel: f27bd5   title: HP LIFE - دورات ومسارات (العربية)**"
      ],
      "text/plain": [
       "<IPython.core.display.Markdown object>"
      ]
     },
     "metadata": {},
     "output_type": "display_data"
    },
    {
     "name": "stdout",
     "output_type": "stream",
     "text": [
      "1 ,    تعيين الموظفين\n"
     ]
    },
    {
     "data": {
      "text/markdown": [
       "**channel: 27d43f   title: HP LIFE - Cursos (Español)**"
      ],
      "text/plain": [
       "<IPython.core.display.Markdown object>"
      ]
     },
     "metadata": {},
     "output_type": "display_data"
    },
    {
     "name": "stdout",
     "output_type": "stream",
     "text": [
      "1 ,    Administración del inventario\n"
     ]
    },
    {
     "data": {
      "text/markdown": [
       "**channel: 64cbe8   title: GRADO 3**"
      ],
      "text/plain": [
       "<IPython.core.display.Markdown object>"
      ]
     },
     "metadata": {},
     "output_type": "display_data"
    },
    {
     "name": "stdout",
     "output_type": "stream",
     "text": [
      "5 ,    CONTENIDOS PARA MATEMÁTICAS GRADO 3\n"
     ]
    },
    {
     "data": {
      "text/markdown": [
       "**channel: 1b97a4   title: Matemática - Preparando o Futuro**"
      ],
      "text/plain": [
       "<IPython.core.display.Markdown object>"
      ]
     },
     "metadata": {},
     "output_type": "display_data"
    },
    {
     "name": "stdout",
     "output_type": "stream",
     "text": [
      "3 ,    Trilha D: Porcentagens\n"
     ]
    },
    {
     "data": {
      "text/markdown": [
       "**channel: 064c49   title: Real Futures**"
      ],
      "text/plain": [
       "<IPython.core.display.Markdown object>"
      ]
     },
     "metadata": {},
     "output_type": "display_data"
    },
    {
     "name": "stdout",
     "output_type": "stream",
     "text": [
      "34 ,    For educators and caregivers\n"
     ]
    },
    {
     "data": {
      "text/markdown": [
       "**channel: 858f89   title: KPK - Class 6**"
      ],
      "text/plain": [
       "<IPython.core.display.Markdown object>"
      ]
     },
     "metadata": {},
     "output_type": "display_data"
    },
    {
     "name": "stdout",
     "output_type": "stream",
     "text": [
      "1 ,    General Science\n"
     ]
    },
    {
     "data": {
      "text/markdown": [
       "**channel: f9db19   title: Matemáticas Quinto Grado (Guatemala)**"
      ],
      "text/plain": [
       "<IPython.core.display.Markdown object>"
      ]
     },
     "metadata": {},
     "output_type": "display_data"
    },
    {
     "name": "stdout",
     "output_type": "stream",
     "text": [
      "0 ,    Matemáticas Quinto Grado (Guatemala)\n"
     ]
    },
    {
     "data": {
      "text/markdown": [
       "**channel: bae778   title: Form 4 Biology**"
      ],
      "text/plain": [
       "<IPython.core.display.Markdown object>"
      ]
     },
     "metadata": {},
     "output_type": "display_data"
    },
    {
     "name": "stdout",
     "output_type": "stream",
     "text": [
      "7 ,    Respiration\n"
     ]
    },
    {
     "data": {
      "text/markdown": [
       "**channel: 6465e0   title: Matemáticas - 1° Básico a 6° Básico - Chile**"
      ],
      "text/plain": [
       "<IPython.core.display.Markdown object>"
      ]
     },
     "metadata": {},
     "output_type": "display_data"
    },
    {
     "name": "stdout",
     "output_type": "stream",
     "text": [
      "9 ,    Geometría\n"
     ]
    },
    {
     "data": {
      "text/markdown": [
       "**channel: a91e32   title: Malawi Mathematics Syllabus**"
      ],
      "text/plain": [
       "<IPython.core.display.Markdown object>"
      ]
     },
     "metadata": {},
     "output_type": "display_data"
    },
    {
     "name": "stdout",
     "output_type": "stream",
     "text": [
      "0 ,    Malawi Mathematics Syllabus\n"
     ]
    },
    {
     "data": {
      "text/markdown": [
       "**channel: cc360a   title: Medicine**"
      ],
      "text/plain": [
       "<IPython.core.display.Markdown object>"
      ]
     },
     "metadata": {},
     "output_type": "display_data"
    },
    {
     "name": "stdout",
     "output_type": "stream",
     "text": [
      "0 ,    Medicine\n"
     ]
    },
    {
     "data": {
      "text/markdown": [
       "**channel: 9dd9a7   title: PointB 21CS Guide**"
      ],
      "text/plain": [
       "<IPython.core.display.Markdown object>"
      ]
     },
     "metadata": {},
     "output_type": "display_data"
    },
    {
     "name": "stdout",
     "output_type": "stream",
     "text": [
      "2 ,    21st Century Guide\n"
     ]
    }
   ],
   "source": [
    "import IPython.display\n",
    "\n",
    "for channel in data.topic_trees_id_list:\n",
    "    root_node = data.topic_trees[channel]\n",
    "    result = root_node.search_preorder(lambda x: x.has_content, at = \"nonleaf\")\n",
    "    \n",
    "    if result is not None:\n",
    "        display(IPython.display.Markdown(\"**channel: {}   title: {}**\".format(channel, root_node.title)))\n",
    "        print(result[0], \",   \", result[1].title)"
   ]
  },
  {
   "cell_type": "markdown",
   "id": "b3bf20ee",
   "metadata": {},
   "source": [
    "Not all contents are in leaf nodes."
   ]
  },
  {
   "cell_type": "markdown",
   "id": "a9147454",
   "metadata": {},
   "source": [
    "# See if all the contents are contained by some node"
   ]
  },
  {
   "cell_type": "code",
   "execution_count": 9,
   "id": "c896161b",
   "metadata": {},
   "outputs": [
    {
     "data": {
      "text/html": [
       "<div>\n",
       "<style scoped>\n",
       "    .dataframe tbody tr th:only-of-type {\n",
       "        vertical-align: middle;\n",
       "    }\n",
       "\n",
       "    .dataframe tbody tr th {\n",
       "        vertical-align: top;\n",
       "    }\n",
       "\n",
       "    .dataframe thead th {\n",
       "        text-align: right;\n",
       "    }\n",
       "</style>\n",
       "<table border=\"1\" class=\"dataframe\">\n",
       "  <thead>\n",
       "    <tr style=\"text-align: right;\">\n",
       "      <th></th>\n",
       "      <th>content_ids</th>\n",
       "    </tr>\n",
       "    <tr>\n",
       "      <th>topic_id</th>\n",
       "      <th></th>\n",
       "    </tr>\n",
       "  </thead>\n",
       "  <tbody>\n",
       "    <tr>\n",
       "      <th>t_00004da3a1b2</th>\n",
       "      <td>c_1108dd0c7a5d c_376c5a8eb028 c_5bc0e1e2cba0 c...</td>\n",
       "    </tr>\n",
       "    <tr>\n",
       "      <th>t_00068291e9a4</th>\n",
       "      <td>c_639ea2ef9c95 c_89ce9367be10 c_ac1672cdcd2c c...</td>\n",
       "    </tr>\n",
       "    <tr>\n",
       "      <th>t_00069b63a70a</th>\n",
       "      <td>c_11a1dc0bfb99</td>\n",
       "    </tr>\n",
       "    <tr>\n",
       "      <th>t_0006d41a73a8</th>\n",
       "      <td>c_0c6473c3480d c_1c57a1316568 c_5e375cf14c47 c...</td>\n",
       "    </tr>\n",
       "    <tr>\n",
       "      <th>t_0008768bdee6</th>\n",
       "      <td>c_34e1424229b4 c_7d1a964d66d5 c_aab93ee667f4</td>\n",
       "    </tr>\n",
       "    <tr>\n",
       "      <th>...</th>\n",
       "      <td>...</td>\n",
       "    </tr>\n",
       "    <tr>\n",
       "      <th>t_fff830472691</th>\n",
       "      <td>c_61fb63326e5d c_8f224e321c87</td>\n",
       "    </tr>\n",
       "    <tr>\n",
       "      <th>t_fff9e5407d13</th>\n",
       "      <td>c_026db653a269 c_0fb048a6412c c_20de77522603 c...</td>\n",
       "    </tr>\n",
       "    <tr>\n",
       "      <th>t_fffbe1d5d43c</th>\n",
       "      <td>c_46f852a49c08 c_6659207b25d5</td>\n",
       "    </tr>\n",
       "    <tr>\n",
       "      <th>t_fffe14f1be1e</th>\n",
       "      <td>c_cece166bad6a</td>\n",
       "    </tr>\n",
       "    <tr>\n",
       "      <th>t_fffe811a6da9</th>\n",
       "      <td>c_92b8fad372ee</td>\n",
       "    </tr>\n",
       "  </tbody>\n",
       "</table>\n",
       "<p>61517 rows × 1 columns</p>\n",
       "</div>"
      ],
      "text/plain": [
       "                                                      content_ids\n",
       "topic_id                                                         \n",
       "t_00004da3a1b2  c_1108dd0c7a5d c_376c5a8eb028 c_5bc0e1e2cba0 c...\n",
       "t_00068291e9a4  c_639ea2ef9c95 c_89ce9367be10 c_ac1672cdcd2c c...\n",
       "t_00069b63a70a                                     c_11a1dc0bfb99\n",
       "t_0006d41a73a8  c_0c6473c3480d c_1c57a1316568 c_5e375cf14c47 c...\n",
       "t_0008768bdee6       c_34e1424229b4 c_7d1a964d66d5 c_aab93ee667f4\n",
       "...                                                           ...\n",
       "t_fff830472691                      c_61fb63326e5d c_8f224e321c87\n",
       "t_fff9e5407d13  c_026db653a269 c_0fb048a6412c c_20de77522603 c...\n",
       "t_fffbe1d5d43c                      c_46f852a49c08 c_6659207b25d5\n",
       "t_fffe14f1be1e                                     c_cece166bad6a\n",
       "t_fffe811a6da9                                     c_92b8fad372ee\n",
       "\n",
       "[61517 rows x 1 columns]"
      ]
     },
     "metadata": {},
     "output_type": "display_data"
    }
   ],
   "source": [
    "display(data.correlations)"
   ]
  },
  {
   "cell_type": "code",
   "execution_count": 10,
   "id": "6c89faec",
   "metadata": {},
   "outputs": [
    {
     "data": {
      "text/plain": [
       "0"
      ]
     },
     "metadata": {},
     "output_type": "display_data"
    }
   ],
   "source": [
    "mcontents = data.correlations[\"content_ids\"].apply(lambda x: pd.Series(data = x.split())).stack().reset_index(drop = True)\n",
    "mcontents.name = \"id\"\n",
    "mcontents = pd.DataFrame(data = mcontents, index = mcontents.index)\n",
    "mcontents[\"dummy\"] = True\n",
    "merged = data.contents.merge(mcontents, right_on = \"id\", left_on = \"id\", how = \"left\")\n",
    "display(merged[\"dummy\"].isnull().sum())"
   ]
  },
  {
   "cell_type": "markdown",
   "id": "83e2ee6f",
   "metadata": {},
   "source": [
    "This creates a list of content_ids from the correlations data (mcontents). A left outer join is used to see if the data there are ids in data.contents which are not in the correlations file (mcontents). If such exists, there should be a null value in the dummy column in merge. So all contents are contained by some node."
   ]
  },
  {
   "cell_type": "markdown",
   "id": "7c5ab928",
   "metadata": {},
   "source": [
    "# See if the contents belong to different trees are mutually disjoint"
   ]
  },
  {
   "cell_type": "code",
   "execution_count": 41,
   "id": "717eaf0f",
   "metadata": {},
   "outputs": [],
   "source": [
    "topic_and_contents = data.topics.loc[data.topics.has_content == True].merge(data.correlations, left_on = \"id\", right_on = \"topic_id\", how = \"inner\")\n",
    "channel_and_contents = topic_and_contents[[\"channel\", \"content_ids\"]]\n",
    "channel_contents = dict()\n",
    "for idx in channel_and_contents.index:\n",
    "    chl = channel_and_contents.loc[idx, \"channel\"]\n",
    "    content_ids = channel_and_contents.loc[idx, \"content_ids\"]\n",
    "    if not chl in channel_contents:\n",
    "        channel_contents[chl] = []\n",
    "    for content_id in content_ids.split():\n",
    "        channel_contents[chl].append(content_id)\n",
    "for channel in data.topic_trees_id_list:\n",
    "    channel_contents[channel] = pd.Series(data = channel_contents[channel], name = channel).sort_values().reset_index(drop = True)"
   ]
  },
  {
   "cell_type": "code",
   "execution_count": 63,
   "id": "90e23fae",
   "metadata": {},
   "outputs": [
    {
     "name": "stdout",
     "output_type": "stream",
     "text": [
      "fef095   14d190\n",
      "fef095   344113\n",
      "fef095   c7ca13\n",
      "fef095   7f116c\n",
      "fef095   760ea6\n",
      "fef095   e77b55\n",
      "fef095   383b8a\n",
      "fef095   50fe84\n",
      "fef095   ef93f0\n",
      "fef095   14cb7f\n",
      "fef095   05be9f\n",
      "fef095   d4eeb3\n",
      "fef095   50083f\n",
      "fef095   6b09a4\n",
      "fef095   4b0f81\n",
      "fef095   49ea7a\n",
      "fef095   0f546a\n",
      "fef095   0a9df7\n",
      "fef095   8afc0b\n",
      "fef095   11171c\n",
      "fef095   494cf2\n",
      "fef095   bae253\n",
      "fef095   686d66\n",
      "fef095   23f9e1\n",
      "fef095   d30518\n",
      "fef095   b3f329\n",
      "fef095   9d5527\n",
      "fef095   5d4a02\n",
      "fef095   7db7f2\n",
      "fef095   018d08\n",
      "fef095   03de11\n",
      "fef095   1843c5\n",
      "fef095   cfc6dd\n",
      "fef095   bda367\n",
      "fef095   858f89\n",
      "fef095   bae778\n",
      "fef095   5de4e5\n",
      "fef095   a91e32\n",
      "fef095   cc360a\n",
      "0ec697   0ec697\n",
      "0ec697   2ee29d\n",
      "0ec697   274269\n",
      "0ec697   14d190\n",
      "0ec697   344113\n",
      "0ec697   c7ca13\n",
      "0ec697   7f116c\n",
      "0ec697   8bbad6\n",
      "0ec697   e77b55\n",
      "0ec697   383b8a\n",
      "0ec697   50fe84\n",
      "0ec697   14cb7f\n",
      "0ec697   653433\n",
      "0ec697   d5fb04\n",
      "0ec697   05be9f\n",
      "0ec697   d4eeb3\n",
      "0ec697   50083f\n",
      "0ec697   6b09a4\n",
      "0ec697   4b0f81\n",
      "0ec697   49ea7a\n",
      "0ec697   0f546a\n",
      "0ec697   8afc0b\n",
      "0ec697   11171c\n",
      "0ec697   494cf2\n",
      "0ec697   686d66\n",
      "0ec697   23f9e1\n",
      "0ec697   d30518\n",
      "0ec697   b3f329\n",
      "0ec697   5d4a02\n",
      "0ec697   7db7f2\n",
      "0ec697   018d08\n",
      "0ec697   03de11\n",
      "0ec697   75fbe2\n",
      "0ec697   1843c5\n",
      "0ec697   cfc6dd\n",
      "0ec697   983e56\n",
      "0ec697   bda367\n",
      "0ec697   1dfd91\n",
      "0ec697   4a1401\n",
      "0ec697   858f89\n",
      "0ec697   bb3a0c\n",
      "0ec697   a2924d\n",
      "0ec697   bae778\n",
      "0ec697   5de4e5\n",
      "0ec697   a91e32\n",
      "0ec697   cc360a\n",
      "6e90a7   6e90a7\n",
      "6e90a7   36a98b\n",
      "6e90a7   54971d\n",
      "6e90a7   998df9\n",
      "6e90a7   484bd2\n",
      "6e90a7   d5963f\n",
      "6e90a7   8b5488\n",
      "6e90a7   f9db19\n",
      "6e90a7   6465e0\n",
      "2ee29d   0ec697\n",
      "2ee29d   2ee29d\n",
      "2ee29d   274269\n",
      "2ee29d   14d190\n",
      "2ee29d   344113\n",
      "2ee29d   c7ca13\n",
      "2ee29d   7f116c\n",
      "2ee29d   8bbad6\n",
      "2ee29d   e77b55\n",
      "2ee29d   383b8a\n",
      "2ee29d   50fe84\n",
      "2ee29d   14cb7f\n",
      "2ee29d   653433\n",
      "2ee29d   d5fb04\n",
      "2ee29d   05be9f\n",
      "2ee29d   d4eeb3\n",
      "2ee29d   50083f\n",
      "2ee29d   6b09a4\n",
      "2ee29d   4b0f81\n",
      "2ee29d   49ea7a\n",
      "2ee29d   0f546a\n",
      "2ee29d   8afc0b\n",
      "2ee29d   11171c\n",
      "2ee29d   494cf2\n",
      "2ee29d   686d66\n",
      "2ee29d   23f9e1\n",
      "2ee29d   d30518\n",
      "2ee29d   b3f329\n",
      "2ee29d   5d4a02\n",
      "2ee29d   7db7f2\n",
      "2ee29d   018d08\n",
      "2ee29d   03de11\n",
      "2ee29d   75fbe2\n",
      "2ee29d   1843c5\n",
      "2ee29d   cfc6dd\n",
      "2ee29d   983e56\n",
      "2ee29d   bda367\n",
      "2ee29d   1dfd91\n",
      "2ee29d   4a1401\n",
      "2ee29d   858f89\n",
      "2ee29d   bb3a0c\n",
      "2ee29d   a2924d\n",
      "2ee29d   bae778\n",
      "2ee29d   5de4e5\n",
      "2ee29d   a91e32\n",
      "36a98b   6e90a7\n",
      "36a98b   36a98b\n",
      "36a98b   54971d\n",
      "36a98b   998df9\n",
      "36a98b   484bd2\n",
      "36a98b   d5963f\n",
      "36a98b   239d8f\n",
      "36a98b   8b5488\n",
      "36a98b   64cbe8\n",
      "36a98b   f9db19\n",
      "36a98b   6465e0\n",
      "000cf7   000cf7\n",
      "8e286a   8e286a\n",
      "8e286a   f9b74f\n",
      "8e286a   57e9d3\n",
      "8e286a   1b97a4\n",
      "0c929f   0c929f\n",
      "0c929f   5c4c46\n",
      "c152d6   c152d6\n",
      "ef2088   ef2088\n",
      "ef2088   274269\n",
      "ef2088   ebc86c\n",
      "ef2088   760ea6\n",
      "ef2088   e77b55\n",
      "ef2088   39979b\n",
      "ef2088   b4897d\n",
      "ef2088   383b8a\n",
      "ef2088   ef93f0\n",
      "ef2088   d4eeb3\n",
      "ef2088   50083f\n",
      "ef2088   6b09a4\n",
      "ef2088   4b0f81\n",
      "ef2088   8afc0b\n",
      "ef2088   5d4a02\n",
      "ef2088   7db7f2\n",
      "ef2088   858f89\n",
      "410920   410920\n",
      "410920   14d190\n",
      "410920   54971d\n",
      "410920   998df9\n",
      "4662df   4662df\n",
      "4662df   5223e0\n"
     ]
    },
    {
     "ename": "KeyboardInterrupt",
     "evalue": "",
     "output_type": "error",
     "traceback": [
      "\u001b[1;31m---------------------------------------------------------------------------\u001b[0m",
      "\u001b[1;31mKeyboardInterrupt\u001b[0m                         Traceback (most recent call last)",
      "Cell \u001b[1;32mIn[63], line 6\u001b[0m\n\u001b[0;32m      4\u001b[0m series1 \u001b[38;5;241m=\u001b[39m channel_contents[channel1]\n\u001b[0;32m      5\u001b[0m series2 \u001b[38;5;241m=\u001b[39m channel_contents[channel2]\n\u001b[1;32m----> 6\u001b[0m intersect \u001b[38;5;241m=\u001b[39m \u001b[38;5;28mset\u001b[39m(series1)\u001b[38;5;241m.\u001b[39mintersection(\u001b[38;5;28;43mset\u001b[39;49m\u001b[43m(\u001b[49m\u001b[43mseries2\u001b[49m\u001b[43m)\u001b[49m)\n\u001b[0;32m      7\u001b[0m \u001b[38;5;28;01mif\u001b[39;00m \u001b[38;5;28mlen\u001b[39m(intersect)\u001b[38;5;241m>\u001b[39m\u001b[38;5;241m0\u001b[39m:\n\u001b[0;32m      8\u001b[0m     \u001b[38;5;28mprint\u001b[39m(channel1, \u001b[38;5;124m\"\u001b[39m\u001b[38;5;124m \u001b[39m\u001b[38;5;124m\"\u001b[39m, channel2)\n",
      "File \u001b[1;32mD:\\KaggleLearningEquality2023Env\\lib\\site-packages\\pandas\\core\\base.py:742\u001b[0m, in \u001b[0;36mIndexOpsMixin.__iter__\u001b[1;34m(self)\u001b[0m\n\u001b[0;32m    738\u001b[0m     \u001b[38;5;28;01mreturn\u001b[39;00m \u001b[38;5;28mself\u001b[39m\u001b[38;5;241m.\u001b[39m_values\u001b[38;5;241m.\u001b[39mtolist()\n\u001b[0;32m    740\u001b[0m to_list \u001b[38;5;241m=\u001b[39m tolist\n\u001b[1;32m--> 742\u001b[0m \u001b[38;5;28;01mdef\u001b[39;00m \u001b[38;5;21m__iter__\u001b[39m(\u001b[38;5;28mself\u001b[39m):\n\u001b[0;32m    743\u001b[0m \u001b[38;5;250m    \u001b[39m\u001b[38;5;124;03m\"\"\"\u001b[39;00m\n\u001b[0;32m    744\u001b[0m \u001b[38;5;124;03m    Return an iterator of the values.\u001b[39;00m\n\u001b[0;32m    745\u001b[0m \n\u001b[1;32m   (...)\u001b[0m\n\u001b[0;32m    752\u001b[0m \u001b[38;5;124;03m    iterator\u001b[39;00m\n\u001b[0;32m    753\u001b[0m \u001b[38;5;124;03m    \"\"\"\u001b[39;00m\n\u001b[0;32m    754\u001b[0m     \u001b[38;5;66;03m# We are explicitly making element iterators.\u001b[39;00m\n",
      "\u001b[1;31mKeyboardInterrupt\u001b[0m: "
     ]
    }
   ],
   "source": [
    "for channel1 in data.topic_trees_id_list:\n",
    "    for channel2 in data.topic_trees_id_list:\n",
    "        if not (channel == channel2):\n",
    "            series1 = channel_contents[channel1]\n",
    "            series2 = channel_contents[channel2]\n",
    "            intersect = set(series1).intersection(set(series2))\n",
    "            if len(intersect)>0:\n",
    "                print(channel1, \" \", channel2)"
   ]
  },
  {
   "cell_type": "code",
   "execution_count": 72,
   "id": "409c4227",
   "metadata": {},
   "outputs": [
    {
     "name": "stdout",
     "output_type": "stream",
     "text": [
      "c_d9bd227c1c36   found1:  199     Four Suffixes: -ful, -less, -ly, and -y   found2:  762     Four Suffixes: -ful, -less, -ly, and -y\n",
      "c_1680fd899614   found1:  2191     Modern Biodiversity   found2:  144     J1.3.3.1 read silently and answer factual and inferential questions\n",
      "c_c3fde8c81974   found1:  245     The Prefix Ex-   found2:  793     The Prefix Ex-\n",
      "c_3886b552379f   found1:  202     Sounds of -s and -es   found2:  748     Sounds of -s and -es\n",
      "c_5d5b716eaa23   found1:  66     [f] Spelled <ph>, <pph>, <gh>, <lf>, and <ft>   found2:  259     [f] Spelled <ph>, <pph>, <gh>, <lf>, and <ft>\n",
      "c_baaa5ee3d14d   found1:  47     Long and Short <a> and <e>   found2:  67     Long and Short <a> and <e>\n",
      "c_703c569e1500   found1:  157     Bound Bases, Prefixes, and Suffixes   found2:  776     Bound Bases, Prefixes, and Suffixes\n",
      "c_d8dd608c00ab   found1:  246     The Prefix Syn-   found2:  788     The Prefix Syn-\n",
      "c_3832238718f1   found1:  228     -s As [z] or [s]   found2:  744     -s As [z] or [s]\n",
      "c_8e5fbccff081   found1:  256     The Prefix Ad-   found2:  796     The Prefix Ad-\n",
      "c_7949b3f952e9   found1:  234     Spelling Possessives with Apostrophes   found2:  134     J1.4.1.5 write sentences accurately using the apostrophe.\n",
      "c_4a1e77225469   found1:  160     Bound Stems and Prefixes   found2:  782     Bound Stems and Prefixes\n",
      "c_5c19c445c412   found1:  227     Sounds of -ing and -ed   found2:  747     Sounds of -ing and -ed\n",
      "c_19259afccd7d   found1:  197     -ed Is Always Spelled <ed>   found2:  751     -ed Is Always Spelled <ed>\n",
      "c_f74d84a5cb95   found1:  257     The Prefix Re-   found2:  786     The Prefix Re-\n",
      "c_eeee8463ba98   found1:  257     The Prefix Re-   found2:  786     The Prefix Re-\n",
      "c_1613b5de6f66   found1:  213     Adjectives to Nouns with -ity   found2:  765     Adjectives to Nouns with -ity\n",
      "c_4c5c2e65a76b   found1:  216     The Suffixes -ed and -ing   found2:  760     The Suffixes -ed and -ing\n",
      "c_c1695e02abc0   found1:  40     The Diphthong [oi]   found2:  283     The Diphthong [oi]\n",
      "c_db9b68576002   found1:  33     The Vowel <a>   found2:  193     J1.1.1.1 distinguish between the various pure vowel sounds.\n",
      "c_e34b93976f79   found1:  27     The Combinations [ur] and [ər]   found2:  287     The Combinations [ur] and [ər]\n",
      "c_2833d78fbeef   found1:  36     Spelling Long 'oo'   found2:  260     Spelling Long 'oo'\n",
      "c_27864a440f9a   found1:  240     The Prefix ln- and Assimilation   found2:  795     The Prefix ln- and Assimilation\n",
      "c_4a3646010a35   found1:  221     The Suffixes Spelled <ly>   found2:  746     The Suffixes Spelled <ly>\n",
      "c_049f818a7198   found1:  253     The Prefix Non-   found2:  794     The Prefix Non-\n",
      "c_aa3ac960db9f   found1:  38     Long and Short <i> and <o>   found2:  195     J1.1.1.3 identify words containing pure vowel sounds\n",
      "c_61cc9a93913e   found1:  43     The Vowel <i>   found2:  193     J1.1.1.1 distinguish between the various pure vowel sounds.\n",
      "c_9322334f7e60   found1:  251     The Prefix Dis-   found2:  791     The Prefix Dis-\n",
      "c_3de7a6b9fee1   found1:  235     Spelling Using Apostrophes   found2:  134     J1.4.1.5 write sentences accurately using the apostrophe.\n",
      "c_07077062a7b2   found1:  35     The Vowel <e>   found2:  193     J1.1.1.1 distinguish between the various pure vowel sounds.\n",
      "c_30514819f8ff   found1:  160     Bound Stems and Prefixes   found2:  782     Bound Stems and Prefixes\n",
      "c_efa6bdb3c5fc   found1:  223     The Suffix -s and Nouns   found2:  171     J1.2.1.1 identify common and proper nouns in texts.\n",
      "c_59ee0f9c7c38   found1:  900     Human Skeletal System   found2:  308     B6.1.8.1: Demonstrate understanding in asking and answering questions correctly\n",
      "c_a6f4b699a519   found1:  2422     Rocks and Processes of the Rock Cycle   found2:  384     B5.4.14.1: Write informative/ expository essays\n",
      "c_40f160a5b90a   found1:  23     Four Long and Short <u> Sounds   found2:  193     J1.1.1.1 distinguish between the various pure vowel sounds.\n",
      "c_509414b830da   found1:  162     The Set of Bases duce and duct   found2:  777     The Set of Bases duce and duct\n",
      "c_3fd013b28b39   found1:  46     The Vowel <o>   found2:  193     J1.1.1.1 distinguish between the various pure vowel sounds.\n",
      "c_4d19a61fbbe9   found1:  87     The Consonant Sounds [h] and [th]   found2:  70     The Consonant Sounds [h] and [th]\n",
      "c_32091a74f8ef   found1:  900     Human Skeletal System   found2:  308     B6.1.8.1: Demonstrate understanding in asking and answering questions correctly\n",
      "c_e39212b66bff   found1:  250     The Prefixes Under-, Over-, and Counter-   found2:  790     The Prefixes Under-, Over-, and Counter-\n",
      "c_c1158f1e2b66   found1:  214     The Suffixes -al, -ial, and -ual   found2:  763     The Suffixes -al, -ial, and -ual\n",
      "c_225713f4ec00   found1:  27     The Combinations [ur] and [ər]   found2:  287     The Combinations [ur] and [ər]\n",
      "c_a8ef08c66db8   found1:  36     Spelling Long 'oo'   found2:  260     Spelling Long 'oo'\n",
      "c_c1ceb4394e5d   found1:  17     Compounds like Dogcatcher and Steamboat   found2:  772     Compounds like Dogcatcher and Steamboat\n",
      "c_c2eb841e75ad   found1:  217     Verbs to Nouns with -al   found2:  753     Verbs to Nouns with -al\n",
      "c_9ada23a1f331   found1:  2258     Climate Change in Earth History   found2:  139     J1.3.2.1 read given texts within given time limits for specific and general information.\n",
      "c_4a372f2431fb   found1:  16     Overview of Compound Words   found2:  771     Overview of Compound Words\n",
      "c_242e241542fd   found1:  241     The Prefix Ad- and Assimilation   found2:  798     The Prefix Ad- and Assimilation\n",
      "c_58cc81bd432d   found1:  216     The Suffixes -ed and -ing   found2:  760     The Suffixes -ed and -ing\n",
      "c_d8bd9e89c56d   found1:  163     The Free Bases scribe and script   found2:  781     The Free Bases scribe and script\n",
      "c_cdb77adc9174   found1:  205     Bases with -able and -ible   found2:  768     Bases with -able and -ible\n",
      "c_d7e4c81cc9ef   found1:  96     The Consonant Sounds [l] and [r]   found2:  69     The Consonant Sounds [l] and [r]\n",
      "c_27c4b28983fb   found1:  222     The Suffixes -ed and -ing with -ly   found2:  757     The Suffixes -ed and -ing with -ly\n",
      "c_f4deba02be29   found1:  226     The Suffix -s   found2:  759     The Suffix -s\n",
      "c_327178ebdd17   found1:  233     Spelling Contractions with Apostrophes   found2:  352     B5.5.2.1: Show understanding of how punctuations are used appropriately in writing\n",
      "c_8e34bdac2bce   found1:  220     Forming Plurals Using -s or -es   found2:  745     Forming Plurals Using -s or -es\n",
      "c_349029d5371f   found1:  219     The Suffixes -er and -est   found2:  764     The Suffixes -er and -est\n",
      "c_256b47d609e6   found1:  155     Word Elements and Bases   found2:  783     Word Elements and Bases\n",
      "c_ee63020b0e5a   found1:  154     Bound Bases and Bound Stems   found2:  779     Bound Bases and Bound Stems\n",
      "c_a0e4f0f5eaa4   found1:  80     Consonant Sounds and Spellings: [p], [b], [t], [d], [k], and [g]   found2:  66     Consonant Sounds and Spellings: [p], [b], [t], [d], [k], and [g]\n",
      "c_cdd4ba961ab2   found1:  208     The Suffix -ize   found2:  755     The Suffix -ize\n",
      "c_0f8c01fdc561   found1:  106     [ch] Spelled <c>, <cc>, and <tsch>   found2:  256     [ch] Spelled <c>, <cc>, and <tsch>\n",
      "c_d9d0cbb4678b   found1:  25     The Diphthong   found2:  191     J1.1.3.1 pronounce the diphthongs correctly in words and in sentences.\n",
      "c_7e2f10528e5b   found1:  237     The Prefix In-   found2:  797     The Prefix In-\n",
      "c_49d72710a91d   found1:  80     Consonant Sounds and Spellings: [p], [b], [t], [d], [k], and [g]   found2:  66     Consonant Sounds and Spellings: [p], [b], [t], [d], [k], and [g]\n",
      "c_0428913bd3be   found1:  195     The Suffixes -ity, -ety, and -ty   found2:  767     The Suffixes -ity, -ety, and -ty\n",
      "c_f41dea03c970   found1:  74     The Consonant Sounds [m] and [n]   found2:  68     The Consonant Sounds [m] and [n]\n",
      "c_c9b720d6b0dd   found1:  227     Sounds of -ing and -ed   found2:  747     Sounds of -ing and -ed\n",
      "c_92bbfdb2be44   found1:  47     Long and Short <a> and <e>   found2:  67     Long and Short <a> and <e>\n",
      "c_0e864c0824e1   found1:  23     Four Long and Short <u> Sounds   found2:  193     J1.1.1.1 distinguish between the various pure vowel sounds.\n",
      "c_6ca2a3bd3887   found1:  14     Compounds like Hilltop and Fireplace   found2:  773     Compounds like Hilltop and Fireplace\n",
      "c_0c0351319c37   found1:  206     The Suffix -ness   found2:  749     The Suffix -ness\n",
      "c_fb62211522ba   found1:  204     The Suffix -s and Verbs   found2:  766     The Suffix -s and Verbs\n",
      "c_82f592872cbb   found1:  249     The Prefix Sub-   found2:  787     The Prefix Sub-\n",
      "c_b1bab41d7d87   found1:  210     The Suffixes -ance and -ence   found2:  750     The Suffixes -ance and -ence\n",
      "c_138c8829980f   found1:  92     Consonant Sounds and Spellings: [j], [ch], [sh], [f], [v], [s], and [z]   found2:  65     Consonant Sounds and Spellings: [j], [ch], [sh], [f], [v], [s], and [z]\n",
      "c_23df18cbc6ef   found1:  226     The Suffix -s   found2:  759     The Suffix -s\n",
      "c_e2626a03f27c   found1:  243     The Prefixes Un-, Re-, Dis-, and Mis-   found2:  792     The Prefixes Un-, Re-, Dis-, and Mis-\n",
      "c_645a6d133970   found1:  195     The Suffixes -ity, -ety, and -ty   found2:  767     The Suffixes -ity, -ety, and -ty\n",
      "c_e8fb79ec7d84   found1:  230     The Suffix -ment   found2:  752     The Suffix -ment\n",
      "c_59cea2cf3ce4   found1:  159     The Set of Bound Bases miss and mit   found2:  778     The Set of Bound Bases miss and mit\n",
      "c_03767980945c   found1:  223     The Suffix -s and Nouns   found2:  756     The Suffix -s and Nouns\n",
      "c_e6e7c111a30b   found1:  2227     Greenhouse Effect   found2:  139     J1.3.2.1 read given texts within given time limits for specific and general information.\n",
      "c_a3794bf911b3   found1:  252     The Prefix Ob-   found2:  789     The Prefix Ob-\n",
      "c_f8c1971593df   found1:  212     The Suffixes -ist and -est   found2:  769     The Suffixes -ist and -est\n",
      "c_fabad6533780   found1:  248     The Prefixes Inter- and Sur-   found2:  785     The Prefixes Inter- and Sur-\n",
      "c_3f9c3a6e37b6   found1:  155     Word Elements and Bases   found2:  783     Word Elements and Bases\n",
      "c_2cbc089bb4fa   found1:  198     -ly with <y>-to-<i> or -al   found2:  761     -ly with <y>-to-<i> or -al\n",
      "c_2a818337f54a   found1:  200     Verbs to Adjectives with -able versus -ible   found2:  758     Verbs to Adjectives with -able versus -ible\n",
      "c_85b696b64142   found1:  33     The Vowel <a>   found2:  193     J1.1.1.1 distinguish between the various pure vowel sounds.\n",
      "c_bde5bb33e788   found1:  229     The Suffix -ion   found2:  754     The Suffix -ion\n",
      "c_6d1a77d33ee4   found1:  250     The Prefixes Under-, Over-, and Counter-   found2:  790     The Prefixes Under-, Over-, and Counter-\n",
      "c_99eb00cbd609   found1:  158     The Set of Bound Bases ceive and cept   found2:  780     The Set of Bound Bases ceive and cept\n"
     ]
    },
    {
     "name": "stdout",
     "output_type": "stream",
     "text": [
      "c_f812736b4a2a   found1:  31     Vowel Digraphs   found2:  799     B3.2.2.1.2. Use the alphabetic knowledge to decode unknown words (e.g. consonant blends, consonant digraphs, vowel sounds, vowel diagraphs and word patterns),\n",
      "c_0d9bb3a9f7f7   found1:  153     Four Bound Bases: cept, fect, gest, and spect   found2:  775     Four Bound Bases: cept, fect, gest, and spect\n",
      "c_b28edd467da5   found1:  219     The Suffixes -er and -est   found2:  764     The Suffixes -er and -est\n",
      "c_dfc524d551a7   found1:  212     The Suffixes -ist and -est   found2:  769     The Suffixes -ist and -est\n",
      "c_2c3670ad0780   found1:  224     -s and -es in Nouns and Verbs   found2:  175     J1.2.4.2 use correct verb forms in speech and in writing.\n",
      "c_c72268390f4d   found1:  2461     Mars   found2:  144     J1.3.3.1 read silently and answer factual and inferential questions\n",
      "c_3a35ef0682a6   found1:  202     Sounds of -s and -es   found2:  748     Sounds of -s and -es\n",
      "c_8609e600cf4b   found1:  66     [f] Spelled <ph>, <pph>, <gh>, <lf>, and <ft>   found2:  259     [f] Spelled <ph>, <pph>, <gh>, <lf>, and <ft>\n"
     ]
    }
   ],
   "source": [
    "def find_intersections(channel1, channel2):\n",
    "    series1 = channel_contents[channel1]\n",
    "    series2 = channel_contents[channel2]\n",
    "    intersect = list(set(series1).intersection(set(series2)))\n",
    "    for content_id in intersect:\n",
    "        found1 = data.topic_trees[channel1].search_preorder(lambda x: x.has_content and content_id in data.correlations.loc[x.uid, \"content_ids\"])\n",
    "        found2 = data.topic_trees[channel2].search_preorder(lambda x: x.has_content and content_id in data.correlations.loc[x.uid, \"content_ids\"])\n",
    "        print(content_id, \"  found1: \", found1[0], \"   \", found1[1].title, \"  found2: \", found2[0], \"   \", found2[1].title)\n",
    "find_intersections(\"fef095\", \"14d190\")"
   ]
  },
  {
   "cell_type": "code",
   "execution_count": 75,
   "id": "199feff9",
   "metadata": {},
   "outputs": [
    {
     "data": {
      "text/plain": [
       "279919"
      ]
     },
     "metadata": {},
     "output_type": "display_data"
    }
   ],
   "source": [
    "display(data.correlations[\"content_ids\"].apply(lambda x: len(x.split())).sum())"
   ]
  },
  {
   "cell_type": "code",
   "execution_count": 74,
   "id": "f0849beb",
   "metadata": {},
   "outputs": [
    {
     "data": {
      "text/html": [
       "<div>\n",
       "<style scoped>\n",
       "    .dataframe tbody tr th:only-of-type {\n",
       "        vertical-align: middle;\n",
       "    }\n",
       "\n",
       "    .dataframe tbody tr th {\n",
       "        vertical-align: top;\n",
       "    }\n",
       "\n",
       "    .dataframe thead th {\n",
       "        text-align: right;\n",
       "    }\n",
       "</style>\n",
       "<table border=\"1\" class=\"dataframe\">\n",
       "  <thead>\n",
       "    <tr style=\"text-align: right;\">\n",
       "      <th></th>\n",
       "      <th>title</th>\n",
       "      <th>description</th>\n",
       "      <th>kind</th>\n",
       "      <th>text</th>\n",
       "      <th>language</th>\n",
       "      <th>copyright_holder</th>\n",
       "      <th>license</th>\n",
       "    </tr>\n",
       "    <tr>\n",
       "      <th>id</th>\n",
       "      <th></th>\n",
       "      <th></th>\n",
       "      <th></th>\n",
       "      <th></th>\n",
       "      <th></th>\n",
       "      <th></th>\n",
       "      <th></th>\n",
       "    </tr>\n",
       "  </thead>\n",
       "  <tbody>\n",
       "    <tr>\n",
       "      <th>c_00002381196d</th>\n",
       "      <td>Sumar números de varios dígitos: 48,029+233,930</td>\n",
       "      <td>Suma 48,029+233,930 mediante el algoritmo está...</td>\n",
       "      <td>video</td>\n",
       "      <td>NaN</td>\n",
       "      <td>es</td>\n",
       "      <td>NaN</td>\n",
       "      <td>NaN</td>\n",
       "    </tr>\n",
       "    <tr>\n",
       "      <th>c_000087304a9e</th>\n",
       "      <td>Trovare i fattori di un numero</td>\n",
       "      <td>Sal trova i fattori di 120.\\n\\n</td>\n",
       "      <td>video</td>\n",
       "      <td>NaN</td>\n",
       "      <td>it</td>\n",
       "      <td>NaN</td>\n",
       "      <td>NaN</td>\n",
       "    </tr>\n",
       "    <tr>\n",
       "      <th>c_0000ad142ddb</th>\n",
       "      <td>Sumar curvas de demanda</td>\n",
       "      <td>Cómo añadir curvas de demanda\\n\\n</td>\n",
       "      <td>video</td>\n",
       "      <td>NaN</td>\n",
       "      <td>es</td>\n",
       "      <td>NaN</td>\n",
       "      <td>NaN</td>\n",
       "    </tr>\n",
       "    <tr>\n",
       "      <th>c_0000c03adc8d</th>\n",
       "      <td>Nado de aproximação</td>\n",
       "      <td>Neste vídeo você vai aprender o nado de aproxi...</td>\n",
       "      <td>document</td>\n",
       "      <td>\\nNado de aproximação\\nSaber nadar nas ondas ...</td>\n",
       "      <td>pt</td>\n",
       "      <td>Sikana Education</td>\n",
       "      <td>CC BY-NC-ND</td>\n",
       "    </tr>\n",
       "    <tr>\n",
       "      <th>c_00016694ea2a</th>\n",
       "      <td>geometry-m3-topic-a-overview.pdf</td>\n",
       "      <td>geometry-m3-topic-a-overview.pdf</td>\n",
       "      <td>document</td>\n",
       "      <td>Estándares Comunes del Estado de Nueva York\\n\\...</td>\n",
       "      <td>es</td>\n",
       "      <td>Engage NY</td>\n",
       "      <td>CC BY-NC-SA</td>\n",
       "    </tr>\n",
       "    <tr>\n",
       "      <th>...</th>\n",
       "      <td>...</td>\n",
       "      <td>...</td>\n",
       "      <td>...</td>\n",
       "      <td>...</td>\n",
       "      <td>...</td>\n",
       "      <td>...</td>\n",
       "      <td>...</td>\n",
       "    </tr>\n",
       "    <tr>\n",
       "      <th>c_fffcbdd4de8b</th>\n",
       "      <td>2. 12: Diffusion</td>\n",
       "      <td>NaN</td>\n",
       "      <td>html5</td>\n",
       "      <td>What will eventually happen to these dyes?\\n\\n...</td>\n",
       "      <td>en</td>\n",
       "      <td>CSU and Merlot</td>\n",
       "      <td>CC BY-NC-SA</td>\n",
       "    </tr>\n",
       "    <tr>\n",
       "      <th>c_fffe15a2d069</th>\n",
       "      <td>Sommare facendo gruppi da 10</td>\n",
       "      <td>Sal somma 5+68 spezzando il 5 in un 2 e un 3.\\n\\n</td>\n",
       "      <td>video</td>\n",
       "      <td>NaN</td>\n",
       "      <td>it</td>\n",
       "      <td>NaN</td>\n",
       "      <td>NaN</td>\n",
       "    </tr>\n",
       "    <tr>\n",
       "      <th>c_fffed7b0d13a</th>\n",
       "      <td>Introdução à subtração</td>\n",
       "      <td>Sal fala sobre o que significa subtrair. Os ex...</td>\n",
       "      <td>video</td>\n",
       "      <td>NaN</td>\n",
       "      <td>pt</td>\n",
       "      <td>NaN</td>\n",
       "      <td>NaN</td>\n",
       "    </tr>\n",
       "    <tr>\n",
       "      <th>c_ffff04ba7ac7</th>\n",
       "      <td>SA of a Cone</td>\n",
       "      <td>NaN</td>\n",
       "      <td>video</td>\n",
       "      <td>NaN</td>\n",
       "      <td>en</td>\n",
       "      <td>NaN</td>\n",
       "      <td>NaN</td>\n",
       "    </tr>\n",
       "    <tr>\n",
       "      <th>c_ffffe5254266</th>\n",
       "      <td>The Jats</td>\n",
       "      <td>NaN</td>\n",
       "      <td>video</td>\n",
       "      <td>NaN</td>\n",
       "      <td>en</td>\n",
       "      <td>NaN</td>\n",
       "      <td>NaN</td>\n",
       "    </tr>\n",
       "  </tbody>\n",
       "</table>\n",
       "<p>154047 rows × 7 columns</p>\n",
       "</div>"
      ],
      "text/plain": [
       "                                                           title  \\\n",
       "id                                                                 \n",
       "c_00002381196d  Sumar números de varios dígitos: 48,029+233,930    \n",
       "c_000087304a9e                    Trovare i fattori di un numero   \n",
       "c_0000ad142ddb                           Sumar curvas de demanda   \n",
       "c_0000c03adc8d                               Nado de aproximação   \n",
       "c_00016694ea2a                  geometry-m3-topic-a-overview.pdf   \n",
       "...                                                          ...   \n",
       "c_fffcbdd4de8b                                  2. 12: Diffusion   \n",
       "c_fffe15a2d069                      Sommare facendo gruppi da 10   \n",
       "c_fffed7b0d13a                            Introdução à subtração   \n",
       "c_ffff04ba7ac7                                      SA of a Cone   \n",
       "c_ffffe5254266                                          The Jats   \n",
       "\n",
       "                                                      description      kind  \\\n",
       "id                                                                            \n",
       "c_00002381196d  Suma 48,029+233,930 mediante el algoritmo está...     video   \n",
       "c_000087304a9e                    Sal trova i fattori di 120.\\n\\n     video   \n",
       "c_0000ad142ddb                  Cómo añadir curvas de demanda\\n\\n     video   \n",
       "c_0000c03adc8d  Neste vídeo você vai aprender o nado de aproxi...  document   \n",
       "c_00016694ea2a                   geometry-m3-topic-a-overview.pdf  document   \n",
       "...                                                           ...       ...   \n",
       "c_fffcbdd4de8b                                                NaN     html5   \n",
       "c_fffe15a2d069  Sal somma 5+68 spezzando il 5 in un 2 e un 3.\\n\\n     video   \n",
       "c_fffed7b0d13a  Sal fala sobre o que significa subtrair. Os ex...     video   \n",
       "c_ffff04ba7ac7                                                NaN     video   \n",
       "c_ffffe5254266                                                NaN     video   \n",
       "\n",
       "                                                             text language  \\\n",
       "id                                                                           \n",
       "c_00002381196d                                                NaN       es   \n",
       "c_000087304a9e                                                NaN       it   \n",
       "c_0000ad142ddb                                                NaN       es   \n",
       "c_0000c03adc8d  \\nNado de aproximação\\nSaber nadar nas ondas ...       pt   \n",
       "c_00016694ea2a  Estándares Comunes del Estado de Nueva York\\n\\...       es   \n",
       "...                                                           ...      ...   \n",
       "c_fffcbdd4de8b  What will eventually happen to these dyes?\\n\\n...       en   \n",
       "c_fffe15a2d069                                                NaN       it   \n",
       "c_fffed7b0d13a                                                NaN       pt   \n",
       "c_ffff04ba7ac7                                                NaN       en   \n",
       "c_ffffe5254266                                                NaN       en   \n",
       "\n",
       "                copyright_holder      license  \n",
       "id                                             \n",
       "c_00002381196d               NaN          NaN  \n",
       "c_000087304a9e               NaN          NaN  \n",
       "c_0000ad142ddb               NaN          NaN  \n",
       "c_0000c03adc8d  Sikana Education  CC BY-NC-ND  \n",
       "c_00016694ea2a         Engage NY  CC BY-NC-SA  \n",
       "...                          ...          ...  \n",
       "c_fffcbdd4de8b    CSU and Merlot  CC BY-NC-SA  \n",
       "c_fffe15a2d069               NaN          NaN  \n",
       "c_fffed7b0d13a               NaN          NaN  \n",
       "c_ffff04ba7ac7               NaN          NaN  \n",
       "c_ffffe5254266               NaN          NaN  \n",
       "\n",
       "[154047 rows x 7 columns]"
      ]
     },
     "metadata": {},
     "output_type": "display_data"
    }
   ],
   "source": [
    "display(data.contents)"
   ]
  },
  {
   "cell_type": "code",
   "execution_count": null,
   "id": "a5bec6a0",
   "metadata": {},
   "outputs": [],
   "source": []
  }
 ],
 "metadata": {
  "kernelspec": {
   "display_name": "Python 3 (ipykernel)",
   "language": "python",
   "name": "python3"
  },
  "language_info": {
   "codemirror_mode": {
    "name": "ipython",
    "version": 3
   },
   "file_extension": ".py",
   "mimetype": "text/x-python",
   "name": "python",
   "nbconvert_exporter": "python",
   "pygments_lexer": "ipython3",
   "version": "3.10.8"
  }
 },
 "nbformat": 4,
 "nbformat_minor": 5
}
