{
 "cells": [
  {
   "cell_type": "markdown",
   "id": "31b6dc56",
   "metadata": {},
   "source": [
    "# Import data"
   ]
  },
  {
   "cell_type": "code",
   "execution_count": 1,
   "id": "7254221b",
   "metadata": {},
   "outputs": [
    {
     "name": "stderr",
     "output_type": "stream",
     "text": [
      "D:\\KaggleLearningEquality2023Env\\lib\\site-packages\\tqdm\\auto.py:22: TqdmWarning: IProgress not found. Please update jupyter and ipywidgets. See https://ipywidgets.readthedocs.io/en/stable/user_install.html\n",
      "  from .autonotebook import tqdm as notebook_tqdm\n"
     ]
    }
   ],
   "source": [
    "import data\n",
    "import pandas as pd\n",
    "import seaborn as sns\n",
    "import matplotlib.pyplot as plt\n",
    "import numpy as np"
   ]
  },
  {
   "cell_type": "code",
   "execution_count": 6,
   "id": "0181a934",
   "metadata": {},
   "outputs": [
    {
     "data": {
      "text/html": [
       "<div>\n",
       "<style scoped>\n",
       "    .dataframe tbody tr th:only-of-type {\n",
       "        vertical-align: middle;\n",
       "    }\n",
       "\n",
       "    .dataframe tbody tr th {\n",
       "        vertical-align: top;\n",
       "    }\n",
       "\n",
       "    .dataframe thead th {\n",
       "        text-align: right;\n",
       "    }\n",
       "</style>\n",
       "<table border=\"1\" class=\"dataframe\">\n",
       "  <thead>\n",
       "    <tr style=\"text-align: right;\">\n",
       "      <th></th>\n",
       "      <th>title</th>\n",
       "      <th>description</th>\n",
       "      <th>channel</th>\n",
       "      <th>category</th>\n",
       "      <th>level</th>\n",
       "      <th>language</th>\n",
       "      <th>parent</th>\n",
       "      <th>has_content</th>\n",
       "    </tr>\n",
       "    <tr>\n",
       "      <th>id</th>\n",
       "      <th></th>\n",
       "      <th></th>\n",
       "      <th></th>\n",
       "      <th></th>\n",
       "      <th></th>\n",
       "      <th></th>\n",
       "      <th></th>\n",
       "      <th></th>\n",
       "    </tr>\n",
       "  </thead>\n",
       "  <tbody>\n",
       "    <tr>\n",
       "      <th>t_0b7645bf6979</th>\n",
       "      <td>Danny O'Neill - President of The Roasterie</td>\n",
       "      <td>Danny O’Neill, President of The Roasterie, des...</td>\n",
       "      <td>2ee29d</td>\n",
       "      <td>aligned</td>\n",
       "      <td>4</td>\n",
       "      <td>en</td>\n",
       "      <td>t_bbc91072dcea</td>\n",
       "      <td>True</td>\n",
       "    </tr>\n",
       "    <tr>\n",
       "      <th>t_0b764c16d623</th>\n",
       "      <td>Les angles d'un polygone</td>\n",
       "      <td>Les propriétés des angles - intérieurs ou exté...</td>\n",
       "      <td>c152d6</td>\n",
       "      <td>source</td>\n",
       "      <td>4</td>\n",
       "      <td>fr</td>\n",
       "      <td>t_74acfb50e4dc</td>\n",
       "      <td>True</td>\n",
       "    </tr>\n",
       "    <tr>\n",
       "      <th>t_0b78af73fd33</th>\n",
       "      <td>Right triangles &amp; trigonometry</td>\n",
       "      <td>Triangles are not always right (although they ...</td>\n",
       "      <td>0c929f</td>\n",
       "      <td>source</td>\n",
       "      <td>3</td>\n",
       "      <td>sw</td>\n",
       "      <td>t_b398e33b23cc</td>\n",
       "      <td>False</td>\n",
       "    </tr>\n",
       "    <tr>\n",
       "      <th>t_0b7988ad21b8</th>\n",
       "      <td>15. Materials we Use</td>\n",
       "      <td>NaN</td>\n",
       "      <td>760ea6</td>\n",
       "      <td>supplemental</td>\n",
       "      <td>2</td>\n",
       "      <td>en</td>\n",
       "      <td>t_4c5cbfe9ce46</td>\n",
       "      <td>False</td>\n",
       "    </tr>\n",
       "    <tr>\n",
       "      <th>t_0b7998d9b05f</th>\n",
       "      <td>Triangles</td>\n",
       "      <td>NaN</td>\n",
       "      <td>2ee29d</td>\n",
       "      <td>aligned</td>\n",
       "      <td>3</td>\n",
       "      <td>en</td>\n",
       "      <td>t_c9d0d220ed09</td>\n",
       "      <td>False</td>\n",
       "    </tr>\n",
       "    <tr>\n",
       "      <th>t_0b79b114bb0d</th>\n",
       "      <td>Sistemas conjugados e reações pericíclicas</td>\n",
       "      <td>Moléculas com conjugação podem sofrer algumas ...</td>\n",
       "      <td>8e286a</td>\n",
       "      <td>source</td>\n",
       "      <td>3</td>\n",
       "      <td>pt</td>\n",
       "      <td>t_ffdfd53288a4</td>\n",
       "      <td>False</td>\n",
       "    </tr>\n",
       "    <tr>\n",
       "      <th>t_0b79d14ef44c</th>\n",
       "      <td>Problemas com funções e equações lineares</td>\n",
       "      <td>Resolva vários problemas que envolvem relações...</td>\n",
       "      <td>8e286a</td>\n",
       "      <td>source</td>\n",
       "      <td>3</td>\n",
       "      <td>pt</td>\n",
       "      <td>t_687526a622c8</td>\n",
       "      <td>False</td>\n",
       "    </tr>\n",
       "    <tr>\n",
       "      <th>t_0b7ac17166e5</th>\n",
       "      <td>Divisores e múltiplos</td>\n",
       "      <td>Entender e encontrar divisores e múltiplos. De...</td>\n",
       "      <td>f9b74f</td>\n",
       "      <td>source</td>\n",
       "      <td>3</td>\n",
       "      <td>pt</td>\n",
       "      <td>t_2f7f59ec2707</td>\n",
       "      <td>False</td>\n",
       "    </tr>\n",
       "  </tbody>\n",
       "</table>\n",
       "</div>"
      ],
      "text/plain": [
       "                                                     title  \\\n",
       "id                                                           \n",
       "t_0b7645bf6979  Danny O'Neill - President of The Roasterie   \n",
       "t_0b764c16d623                    Les angles d'un polygone   \n",
       "t_0b78af73fd33              Right triangles & trigonometry   \n",
       "t_0b7988ad21b8                        15. Materials we Use   \n",
       "t_0b7998d9b05f                                   Triangles   \n",
       "t_0b79b114bb0d  Sistemas conjugados e reações pericíclicas   \n",
       "t_0b79d14ef44c   Problemas com funções e equações lineares   \n",
       "t_0b7ac17166e5                       Divisores e múltiplos   \n",
       "\n",
       "                                                      description channel  \\\n",
       "id                                                                          \n",
       "t_0b7645bf6979  Danny O’Neill, President of The Roasterie, des...  2ee29d   \n",
       "t_0b764c16d623  Les propriétés des angles - intérieurs ou exté...  c152d6   \n",
       "t_0b78af73fd33  Triangles are not always right (although they ...  0c929f   \n",
       "t_0b7988ad21b8                                                NaN  760ea6   \n",
       "t_0b7998d9b05f                                                NaN  2ee29d   \n",
       "t_0b79b114bb0d  Moléculas com conjugação podem sofrer algumas ...  8e286a   \n",
       "t_0b79d14ef44c  Resolva vários problemas que envolvem relações...  8e286a   \n",
       "t_0b7ac17166e5  Entender e encontrar divisores e múltiplos. De...  f9b74f   \n",
       "\n",
       "                    category  level language          parent  has_content  \n",
       "id                                                                         \n",
       "t_0b7645bf6979       aligned      4       en  t_bbc91072dcea         True  \n",
       "t_0b764c16d623        source      4       fr  t_74acfb50e4dc         True  \n",
       "t_0b78af73fd33        source      3       sw  t_b398e33b23cc        False  \n",
       "t_0b7988ad21b8  supplemental      2       en  t_4c5cbfe9ce46        False  \n",
       "t_0b7998d9b05f       aligned      3       en  t_c9d0d220ed09        False  \n",
       "t_0b79b114bb0d        source      3       pt  t_ffdfd53288a4        False  \n",
       "t_0b79d14ef44c        source      3       pt  t_687526a622c8        False  \n",
       "t_0b7ac17166e5        source      3       pt  t_2f7f59ec2707        False  "
      ]
     },
     "metadata": {},
     "output_type": "display_data"
    },
    {
     "data": {
      "text/html": [
       "<div>\n",
       "<style scoped>\n",
       "    .dataframe tbody tr th:only-of-type {\n",
       "        vertical-align: middle;\n",
       "    }\n",
       "\n",
       "    .dataframe tbody tr th {\n",
       "        vertical-align: top;\n",
       "    }\n",
       "\n",
       "    .dataframe thead th {\n",
       "        text-align: right;\n",
       "    }\n",
       "</style>\n",
       "<table border=\"1\" class=\"dataframe\">\n",
       "  <thead>\n",
       "    <tr style=\"text-align: right;\">\n",
       "      <th></th>\n",
       "      <th>title</th>\n",
       "      <th>description</th>\n",
       "      <th>channel</th>\n",
       "      <th>category</th>\n",
       "      <th>level</th>\n",
       "      <th>language</th>\n",
       "      <th>parent</th>\n",
       "      <th>has_content</th>\n",
       "      <th>title_translate</th>\n",
       "      <th>description_translate</th>\n",
       "    </tr>\n",
       "    <tr>\n",
       "      <th>id</th>\n",
       "      <th></th>\n",
       "      <th></th>\n",
       "      <th></th>\n",
       "      <th></th>\n",
       "      <th></th>\n",
       "      <th></th>\n",
       "      <th></th>\n",
       "      <th></th>\n",
       "      <th></th>\n",
       "      <th></th>\n",
       "    </tr>\n",
       "  </thead>\n",
       "  <tbody>\n",
       "    <tr>\n",
       "      <th>t_0b7645bf6979</th>\n",
       "      <td>Danny O'Neill - President of The Roasterie</td>\n",
       "      <td>Danny O’Neill, President of The Roasterie, des...</td>\n",
       "      <td>2ee29d</td>\n",
       "      <td>aligned</td>\n",
       "      <td>4</td>\n",
       "      <td>en</td>\n",
       "      <td>t_bbc91072dcea</td>\n",
       "      <td>True</td>\n",
       "      <td>Danny O'Neill - President of The Roasterie</td>\n",
       "      <td>Danny O’Neill, President of The Roasterie, des...</td>\n",
       "    </tr>\n",
       "    <tr>\n",
       "      <th>t_0b764c16d623</th>\n",
       "      <td>Les angles d'un polygone</td>\n",
       "      <td>Les propriétés des angles - intérieurs ou exté...</td>\n",
       "      <td>c152d6</td>\n",
       "      <td>source</td>\n",
       "      <td>4</td>\n",
       "      <td>fr</td>\n",
       "      <td>t_74acfb50e4dc</td>\n",
       "      <td>True</td>\n",
       "      <td>The angles of a polygon</td>\n",
       "      <td>The properties of the angles - inside or outsi...</td>\n",
       "    </tr>\n",
       "    <tr>\n",
       "      <th>t_0b78af73fd33</th>\n",
       "      <td>Right triangles &amp; trigonometry</td>\n",
       "      <td>Triangles are not always right (although they ...</td>\n",
       "      <td>0c929f</td>\n",
       "      <td>source</td>\n",
       "      <td>3</td>\n",
       "      <td>sw</td>\n",
       "      <td>t_b398e33b23cc</td>\n",
       "      <td>False</td>\n",
       "      <td>NaN</td>\n",
       "      <td>NaN</td>\n",
       "    </tr>\n",
       "    <tr>\n",
       "      <th>t_0b7988ad21b8</th>\n",
       "      <td>15. Materials we Use</td>\n",
       "      <td>NaN</td>\n",
       "      <td>760ea6</td>\n",
       "      <td>supplemental</td>\n",
       "      <td>2</td>\n",
       "      <td>en</td>\n",
       "      <td>t_4c5cbfe9ce46</td>\n",
       "      <td>False</td>\n",
       "      <td>15. Materials we Use</td>\n",
       "      <td>NaN</td>\n",
       "    </tr>\n",
       "    <tr>\n",
       "      <th>t_0b7998d9b05f</th>\n",
       "      <td>Triangles</td>\n",
       "      <td>NaN</td>\n",
       "      <td>2ee29d</td>\n",
       "      <td>aligned</td>\n",
       "      <td>3</td>\n",
       "      <td>en</td>\n",
       "      <td>t_c9d0d220ed09</td>\n",
       "      <td>False</td>\n",
       "      <td>Triangles</td>\n",
       "      <td>NaN</td>\n",
       "    </tr>\n",
       "    <tr>\n",
       "      <th>t_0b79b114bb0d</th>\n",
       "      <td>Sistemas conjugados e reações pericíclicas</td>\n",
       "      <td>Moléculas com conjugação podem sofrer algumas ...</td>\n",
       "      <td>8e286a</td>\n",
       "      <td>source</td>\n",
       "      <td>3</td>\n",
       "      <td>pt</td>\n",
       "      <td>t_ffdfd53288a4</td>\n",
       "      <td>False</td>\n",
       "      <td>Conjugated systems and pericyclic reactions</td>\n",
       "      <td>Molecules with conjugation can suffer some int...</td>\n",
       "    </tr>\n",
       "    <tr>\n",
       "      <th>t_0b79d14ef44c</th>\n",
       "      <td>Problemas com funções e equações lineares</td>\n",
       "      <td>Resolva vários problemas que envolvem relações...</td>\n",
       "      <td>8e286a</td>\n",
       "      <td>source</td>\n",
       "      <td>3</td>\n",
       "      <td>pt</td>\n",
       "      <td>t_687526a622c8</td>\n",
       "      <td>False</td>\n",
       "      <td>Problems with linear functions and equations</td>\n",
       "      <td>Solve several problems that involve real-world...</td>\n",
       "    </tr>\n",
       "    <tr>\n",
       "      <th>t_0b7ac17166e5</th>\n",
       "      <td>Divisores e múltiplos</td>\n",
       "      <td>Entender e encontrar divisores e múltiplos. De...</td>\n",
       "      <td>f9b74f</td>\n",
       "      <td>source</td>\n",
       "      <td>3</td>\n",
       "      <td>pt</td>\n",
       "      <td>t_2f7f59ec2707</td>\n",
       "      <td>False</td>\n",
       "      <td>Splitters and multiples</td>\n",
       "      <td>Understand and find splitters and multiples. A...</td>\n",
       "    </tr>\n",
       "  </tbody>\n",
       "</table>\n",
       "</div>"
      ],
      "text/plain": [
       "                                                     title  \\\n",
       "id                                                           \n",
       "t_0b7645bf6979  Danny O'Neill - President of The Roasterie   \n",
       "t_0b764c16d623                    Les angles d'un polygone   \n",
       "t_0b78af73fd33              Right triangles & trigonometry   \n",
       "t_0b7988ad21b8                        15. Materials we Use   \n",
       "t_0b7998d9b05f                                   Triangles   \n",
       "t_0b79b114bb0d  Sistemas conjugados e reações pericíclicas   \n",
       "t_0b79d14ef44c   Problemas com funções e equações lineares   \n",
       "t_0b7ac17166e5                       Divisores e múltiplos   \n",
       "\n",
       "                                                      description channel  \\\n",
       "id                                                                          \n",
       "t_0b7645bf6979  Danny O’Neill, President of The Roasterie, des...  2ee29d   \n",
       "t_0b764c16d623  Les propriétés des angles - intérieurs ou exté...  c152d6   \n",
       "t_0b78af73fd33  Triangles are not always right (although they ...  0c929f   \n",
       "t_0b7988ad21b8                                                NaN  760ea6   \n",
       "t_0b7998d9b05f                                                NaN  2ee29d   \n",
       "t_0b79b114bb0d  Moléculas com conjugação podem sofrer algumas ...  8e286a   \n",
       "t_0b79d14ef44c  Resolva vários problemas que envolvem relações...  8e286a   \n",
       "t_0b7ac17166e5  Entender e encontrar divisores e múltiplos. De...  f9b74f   \n",
       "\n",
       "                    category  level language          parent  has_content  \\\n",
       "id                                                                          \n",
       "t_0b7645bf6979       aligned      4       en  t_bbc91072dcea         True   \n",
       "t_0b764c16d623        source      4       fr  t_74acfb50e4dc         True   \n",
       "t_0b78af73fd33        source      3       sw  t_b398e33b23cc        False   \n",
       "t_0b7988ad21b8  supplemental      2       en  t_4c5cbfe9ce46        False   \n",
       "t_0b7998d9b05f       aligned      3       en  t_c9d0d220ed09        False   \n",
       "t_0b79b114bb0d        source      3       pt  t_ffdfd53288a4        False   \n",
       "t_0b79d14ef44c        source      3       pt  t_687526a622c8        False   \n",
       "t_0b7ac17166e5        source      3       pt  t_2f7f59ec2707        False   \n",
       "\n",
       "                                             title_translate  \\\n",
       "id                                                             \n",
       "t_0b7645bf6979    Danny O'Neill - President of The Roasterie   \n",
       "t_0b764c16d623                       The angles of a polygon   \n",
       "t_0b78af73fd33                                           NaN   \n",
       "t_0b7988ad21b8                          15. Materials we Use   \n",
       "t_0b7998d9b05f                                     Triangles   \n",
       "t_0b79b114bb0d   Conjugated systems and pericyclic reactions   \n",
       "t_0b79d14ef44c  Problems with linear functions and equations   \n",
       "t_0b7ac17166e5                       Splitters and multiples   \n",
       "\n",
       "                                            description_translate  \n",
       "id                                                                 \n",
       "t_0b7645bf6979  Danny O’Neill, President of The Roasterie, des...  \n",
       "t_0b764c16d623  The properties of the angles - inside or outsi...  \n",
       "t_0b78af73fd33                                                NaN  \n",
       "t_0b7988ad21b8                                                NaN  \n",
       "t_0b7998d9b05f                                                NaN  \n",
       "t_0b79b114bb0d  Molecules with conjugation can suffer some int...  \n",
       "t_0b79d14ef44c  Solve several problems that involve real-world...  \n",
       "t_0b7ac17166e5  Understand and find splitters and multiples. A...  "
      ]
     },
     "metadata": {},
     "output_type": "display_data"
    }
   ],
   "source": [
    "import random\n",
    "lc = random.randint(0, len(data.topics)-10)\n",
    "display(data.topics.iloc[lc:lc+8])\n",
    "display(data.topics_translate.iloc[lc:lc+8])"
   ]
  },
  {
   "cell_type": "markdown",
   "id": "6c456001",
   "metadata": {},
   "source": [
    "# Display topics data"
   ]
  },
  {
   "cell_type": "code",
   "execution_count": 2,
   "id": "e67acd45",
   "metadata": {},
   "outputs": [
    {
     "data": {
      "text/html": [
       "<div>\n",
       "<style scoped>\n",
       "    .dataframe tbody tr th:only-of-type {\n",
       "        vertical-align: middle;\n",
       "    }\n",
       "\n",
       "    .dataframe tbody tr th {\n",
       "        vertical-align: top;\n",
       "    }\n",
       "\n",
       "    .dataframe thead th {\n",
       "        text-align: right;\n",
       "    }\n",
       "</style>\n",
       "<table border=\"1\" class=\"dataframe\">\n",
       "  <thead>\n",
       "    <tr style=\"text-align: right;\">\n",
       "      <th></th>\n",
       "      <th>title</th>\n",
       "      <th>description</th>\n",
       "      <th>channel</th>\n",
       "      <th>category</th>\n",
       "      <th>level</th>\n",
       "      <th>language</th>\n",
       "      <th>parent</th>\n",
       "      <th>has_content</th>\n",
       "    </tr>\n",
       "    <tr>\n",
       "      <th>id</th>\n",
       "      <th></th>\n",
       "      <th></th>\n",
       "      <th></th>\n",
       "      <th></th>\n",
       "      <th></th>\n",
       "      <th></th>\n",
       "      <th></th>\n",
       "      <th></th>\n",
       "    </tr>\n",
       "  </thead>\n",
       "  <tbody>\n",
       "    <tr>\n",
       "      <th>t_00004da3a1b2</th>\n",
       "      <td>Откриването на резисторите</td>\n",
       "      <td>Изследване на материали, които предизвикват на...</td>\n",
       "      <td>000cf7</td>\n",
       "      <td>source</td>\n",
       "      <td>4</td>\n",
       "      <td>bg</td>\n",
       "      <td>t_16e29365b50d</td>\n",
       "      <td>True</td>\n",
       "    </tr>\n",
       "    <tr>\n",
       "      <th>t_000095e03056</th>\n",
       "      <td>Unit 3.3 Enlargements and Similarities</td>\n",
       "      <td>NaN</td>\n",
       "      <td>b3f329</td>\n",
       "      <td>aligned</td>\n",
       "      <td>2</td>\n",
       "      <td>en</td>\n",
       "      <td>t_aa32fb6252dc</td>\n",
       "      <td>False</td>\n",
       "    </tr>\n",
       "    <tr>\n",
       "      <th>t_00068291e9a4</th>\n",
       "      <td>Entradas e saídas de uma função</td>\n",
       "      <td>Entenda um pouco mais sobre funções.</td>\n",
       "      <td>8e286a</td>\n",
       "      <td>source</td>\n",
       "      <td>4</td>\n",
       "      <td>pt</td>\n",
       "      <td>t_d14b6c2a2b70</td>\n",
       "      <td>True</td>\n",
       "    </tr>\n",
       "    <tr>\n",
       "      <th>t_00069b63a70a</th>\n",
       "      <td>Transcripts</td>\n",
       "      <td>NaN</td>\n",
       "      <td>6e3ba4</td>\n",
       "      <td>source</td>\n",
       "      <td>3</td>\n",
       "      <td>en</td>\n",
       "      <td>t_4054df11a74e</td>\n",
       "      <td>True</td>\n",
       "    </tr>\n",
       "    <tr>\n",
       "      <th>t_0006d41a73a8</th>\n",
       "      <td>Графики на експоненциални функции (Алгебра 2 н...</td>\n",
       "      <td>Научи повече за графиките на сложните показате...</td>\n",
       "      <td>000cf7</td>\n",
       "      <td>source</td>\n",
       "      <td>4</td>\n",
       "      <td>bg</td>\n",
       "      <td>t_e2452e21d252</td>\n",
       "      <td>True</td>\n",
       "    </tr>\n",
       "    <tr>\n",
       "      <th>...</th>\n",
       "      <td>...</td>\n",
       "      <td>...</td>\n",
       "      <td>...</td>\n",
       "      <td>...</td>\n",
       "      <td>...</td>\n",
       "      <td>...</td>\n",
       "      <td>...</td>\n",
       "      <td>...</td>\n",
       "    </tr>\n",
       "    <tr>\n",
       "      <th>t_fffb0bf2801d</th>\n",
       "      <td>4.3 Graph of functions</td>\n",
       "      <td>NaN</td>\n",
       "      <td>e77b55</td>\n",
       "      <td>aligned</td>\n",
       "      <td>4</td>\n",
       "      <td>en</td>\n",
       "      <td>t_676e6a1a4dc7</td>\n",
       "      <td>False</td>\n",
       "    </tr>\n",
       "    <tr>\n",
       "      <th>t_fffbe1d5d43c</th>\n",
       "      <td>Inscribed shapes problem solving</td>\n",
       "      <td>Use properties of inscribed angles to prove pr...</td>\n",
       "      <td>0c929f</td>\n",
       "      <td>source</td>\n",
       "      <td>4</td>\n",
       "      <td>sw</td>\n",
       "      <td>t_50145b9bab3f</td>\n",
       "      <td>True</td>\n",
       "    </tr>\n",
       "    <tr>\n",
       "      <th>t_fffe14f1be1e</th>\n",
       "      <td>Lección 7</td>\n",
       "      <td>NaN</td>\n",
       "      <td>6e90a7</td>\n",
       "      <td>aligned</td>\n",
       "      <td>6</td>\n",
       "      <td>es</td>\n",
       "      <td>t_d448c707984d</td>\n",
       "      <td>True</td>\n",
       "    </tr>\n",
       "    <tr>\n",
       "      <th>t_fffe811a6da9</th>\n",
       "      <td>تحديد العلاقة بين الإحداثيّات القطبية والإحداث...</td>\n",
       "      <td>5b9e5ca86571f90499ea987f</td>\n",
       "      <td>9fd860</td>\n",
       "      <td>source</td>\n",
       "      <td>2</td>\n",
       "      <td>ar</td>\n",
       "      <td>t_5b4f3ba4eb7d</td>\n",
       "      <td>True</td>\n",
       "    </tr>\n",
       "    <tr>\n",
       "      <th>t_fffe88835149</th>\n",
       "      <td>Formation of shadows and eclipses (umbra and p...</td>\n",
       "      <td>NaN</td>\n",
       "      <td>c7ca13</td>\n",
       "      <td>aligned</td>\n",
       "      <td>4</td>\n",
       "      <td>en</td>\n",
       "      <td>t_988923176459</td>\n",
       "      <td>False</td>\n",
       "    </tr>\n",
       "  </tbody>\n",
       "</table>\n",
       "<p>76972 rows × 8 columns</p>\n",
       "</div>"
      ],
      "text/plain": [
       "                                                            title  \\\n",
       "id                                                                  \n",
       "t_00004da3a1b2                         Откриването на резисторите   \n",
       "t_000095e03056             Unit 3.3 Enlargements and Similarities   \n",
       "t_00068291e9a4                    Entradas e saídas de uma função   \n",
       "t_00069b63a70a                                        Transcripts   \n",
       "t_0006d41a73a8  Графики на експоненциални функции (Алгебра 2 н...   \n",
       "...                                                           ...   \n",
       "t_fffb0bf2801d                             4.3 Graph of functions   \n",
       "t_fffbe1d5d43c                   Inscribed shapes problem solving   \n",
       "t_fffe14f1be1e                                          Lección 7   \n",
       "t_fffe811a6da9  تحديد العلاقة بين الإحداثيّات القطبية والإحداث...   \n",
       "t_fffe88835149  Formation of shadows and eclipses (umbra and p...   \n",
       "\n",
       "                                                      description channel  \\\n",
       "id                                                                          \n",
       "t_00004da3a1b2  Изследване на материали, които предизвикват на...  000cf7   \n",
       "t_000095e03056                                                NaN  b3f329   \n",
       "t_00068291e9a4               Entenda um pouco mais sobre funções.  8e286a   \n",
       "t_00069b63a70a                                                NaN  6e3ba4   \n",
       "t_0006d41a73a8  Научи повече за графиките на сложните показате...  000cf7   \n",
       "...                                                           ...     ...   \n",
       "t_fffb0bf2801d                                                NaN  e77b55   \n",
       "t_fffbe1d5d43c  Use properties of inscribed angles to prove pr...  0c929f   \n",
       "t_fffe14f1be1e                                                NaN  6e90a7   \n",
       "t_fffe811a6da9                           5b9e5ca86571f90499ea987f  9fd860   \n",
       "t_fffe88835149                                                NaN  c7ca13   \n",
       "\n",
       "               category  level language          parent  has_content  \n",
       "id                                                                    \n",
       "t_00004da3a1b2   source      4       bg  t_16e29365b50d         True  \n",
       "t_000095e03056  aligned      2       en  t_aa32fb6252dc        False  \n",
       "t_00068291e9a4   source      4       pt  t_d14b6c2a2b70         True  \n",
       "t_00069b63a70a   source      3       en  t_4054df11a74e         True  \n",
       "t_0006d41a73a8   source      4       bg  t_e2452e21d252         True  \n",
       "...                 ...    ...      ...             ...          ...  \n",
       "t_fffb0bf2801d  aligned      4       en  t_676e6a1a4dc7        False  \n",
       "t_fffbe1d5d43c   source      4       sw  t_50145b9bab3f         True  \n",
       "t_fffe14f1be1e  aligned      6       es  t_d448c707984d         True  \n",
       "t_fffe811a6da9   source      2       ar  t_5b4f3ba4eb7d         True  \n",
       "t_fffe88835149  aligned      4       en  t_988923176459        False  \n",
       "\n",
       "[76972 rows x 8 columns]"
      ]
     },
     "metadata": {},
     "output_type": "display_data"
    },
    {
     "data": {
      "text/html": [
       "<div>\n",
       "<style scoped>\n",
       "    .dataframe tbody tr th:only-of-type {\n",
       "        vertical-align: middle;\n",
       "    }\n",
       "\n",
       "    .dataframe tbody tr th {\n",
       "        vertical-align: top;\n",
       "    }\n",
       "\n",
       "    .dataframe thead th {\n",
       "        text-align: right;\n",
       "    }\n",
       "</style>\n",
       "<table border=\"1\" class=\"dataframe\">\n",
       "  <thead>\n",
       "    <tr style=\"text-align: right;\">\n",
       "      <th></th>\n",
       "      <th>content_ids</th>\n",
       "    </tr>\n",
       "    <tr>\n",
       "      <th>topic_id</th>\n",
       "      <th></th>\n",
       "    </tr>\n",
       "  </thead>\n",
       "  <tbody>\n",
       "    <tr>\n",
       "      <th>t_00004da3a1b2</th>\n",
       "      <td>c_1108dd0c7a5d c_376c5a8eb028 c_5bc0e1e2cba0 c...</td>\n",
       "    </tr>\n",
       "    <tr>\n",
       "      <th>t_00068291e9a4</th>\n",
       "      <td>c_639ea2ef9c95 c_89ce9367be10 c_ac1672cdcd2c c...</td>\n",
       "    </tr>\n",
       "    <tr>\n",
       "      <th>t_00069b63a70a</th>\n",
       "      <td>c_11a1dc0bfb99</td>\n",
       "    </tr>\n",
       "    <tr>\n",
       "      <th>t_0006d41a73a8</th>\n",
       "      <td>c_0c6473c3480d c_1c57a1316568 c_5e375cf14c47 c...</td>\n",
       "    </tr>\n",
       "    <tr>\n",
       "      <th>t_0008768bdee6</th>\n",
       "      <td>c_34e1424229b4 c_7d1a964d66d5 c_aab93ee667f4</td>\n",
       "    </tr>\n",
       "    <tr>\n",
       "      <th>...</th>\n",
       "      <td>...</td>\n",
       "    </tr>\n",
       "    <tr>\n",
       "      <th>t_fff830472691</th>\n",
       "      <td>c_61fb63326e5d c_8f224e321c87</td>\n",
       "    </tr>\n",
       "    <tr>\n",
       "      <th>t_fff9e5407d13</th>\n",
       "      <td>c_026db653a269 c_0fb048a6412c c_20de77522603 c...</td>\n",
       "    </tr>\n",
       "    <tr>\n",
       "      <th>t_fffbe1d5d43c</th>\n",
       "      <td>c_46f852a49c08 c_6659207b25d5</td>\n",
       "    </tr>\n",
       "    <tr>\n",
       "      <th>t_fffe14f1be1e</th>\n",
       "      <td>c_cece166bad6a</td>\n",
       "    </tr>\n",
       "    <tr>\n",
       "      <th>t_fffe811a6da9</th>\n",
       "      <td>c_92b8fad372ee</td>\n",
       "    </tr>\n",
       "  </tbody>\n",
       "</table>\n",
       "<p>61517 rows × 1 columns</p>\n",
       "</div>"
      ],
      "text/plain": [
       "                                                      content_ids\n",
       "topic_id                                                         \n",
       "t_00004da3a1b2  c_1108dd0c7a5d c_376c5a8eb028 c_5bc0e1e2cba0 c...\n",
       "t_00068291e9a4  c_639ea2ef9c95 c_89ce9367be10 c_ac1672cdcd2c c...\n",
       "t_00069b63a70a                                     c_11a1dc0bfb99\n",
       "t_0006d41a73a8  c_0c6473c3480d c_1c57a1316568 c_5e375cf14c47 c...\n",
       "t_0008768bdee6       c_34e1424229b4 c_7d1a964d66d5 c_aab93ee667f4\n",
       "...                                                           ...\n",
       "t_fff830472691                      c_61fb63326e5d c_8f224e321c87\n",
       "t_fff9e5407d13  c_026db653a269 c_0fb048a6412c c_20de77522603 c...\n",
       "t_fffbe1d5d43c                      c_46f852a49c08 c_6659207b25d5\n",
       "t_fffe14f1be1e                                     c_cece166bad6a\n",
       "t_fffe811a6da9                                     c_92b8fad372ee\n",
       "\n",
       "[61517 rows x 1 columns]"
      ]
     },
     "metadata": {},
     "output_type": "display_data"
    },
    {
     "data": {
      "text/html": [
       "<div>\n",
       "<style scoped>\n",
       "    .dataframe tbody tr th:only-of-type {\n",
       "        vertical-align: middle;\n",
       "    }\n",
       "\n",
       "    .dataframe tbody tr th {\n",
       "        vertical-align: top;\n",
       "    }\n",
       "\n",
       "    .dataframe thead th {\n",
       "        text-align: right;\n",
       "    }\n",
       "</style>\n",
       "<table border=\"1\" class=\"dataframe\">\n",
       "  <thead>\n",
       "    <tr style=\"text-align: right;\">\n",
       "      <th></th>\n",
       "      <th>title</th>\n",
       "      <th>description</th>\n",
       "      <th>kind</th>\n",
       "      <th>text</th>\n",
       "      <th>language</th>\n",
       "      <th>copyright_holder</th>\n",
       "      <th>license</th>\n",
       "    </tr>\n",
       "    <tr>\n",
       "      <th>id</th>\n",
       "      <th></th>\n",
       "      <th></th>\n",
       "      <th></th>\n",
       "      <th></th>\n",
       "      <th></th>\n",
       "      <th></th>\n",
       "      <th></th>\n",
       "    </tr>\n",
       "  </thead>\n",
       "  <tbody>\n",
       "    <tr>\n",
       "      <th>c_00002381196d</th>\n",
       "      <td>Sumar números de varios dígitos: 48,029+233,930</td>\n",
       "      <td>Suma 48,029+233,930 mediante el algoritmo está...</td>\n",
       "      <td>video</td>\n",
       "      <td>NaN</td>\n",
       "      <td>es</td>\n",
       "      <td>NaN</td>\n",
       "      <td>NaN</td>\n",
       "    </tr>\n",
       "    <tr>\n",
       "      <th>c_000087304a9e</th>\n",
       "      <td>Trovare i fattori di un numero</td>\n",
       "      <td>Sal trova i fattori di 120.\\n\\n</td>\n",
       "      <td>video</td>\n",
       "      <td>NaN</td>\n",
       "      <td>it</td>\n",
       "      <td>NaN</td>\n",
       "      <td>NaN</td>\n",
       "    </tr>\n",
       "    <tr>\n",
       "      <th>c_0000ad142ddb</th>\n",
       "      <td>Sumar curvas de demanda</td>\n",
       "      <td>Cómo añadir curvas de demanda\\n\\n</td>\n",
       "      <td>video</td>\n",
       "      <td>NaN</td>\n",
       "      <td>es</td>\n",
       "      <td>NaN</td>\n",
       "      <td>NaN</td>\n",
       "    </tr>\n",
       "    <tr>\n",
       "      <th>c_0000c03adc8d</th>\n",
       "      <td>Nado de aproximação</td>\n",
       "      <td>Neste vídeo você vai aprender o nado de aproxi...</td>\n",
       "      <td>document</td>\n",
       "      <td>\\nNado de aproximação\\nSaber nadar nas ondas ...</td>\n",
       "      <td>pt</td>\n",
       "      <td>Sikana Education</td>\n",
       "      <td>CC BY-NC-ND</td>\n",
       "    </tr>\n",
       "    <tr>\n",
       "      <th>c_00016694ea2a</th>\n",
       "      <td>geometry-m3-topic-a-overview.pdf</td>\n",
       "      <td>geometry-m3-topic-a-overview.pdf</td>\n",
       "      <td>document</td>\n",
       "      <td>Estándares Comunes del Estado de Nueva York\\n\\...</td>\n",
       "      <td>es</td>\n",
       "      <td>Engage NY</td>\n",
       "      <td>CC BY-NC-SA</td>\n",
       "    </tr>\n",
       "    <tr>\n",
       "      <th>...</th>\n",
       "      <td>...</td>\n",
       "      <td>...</td>\n",
       "      <td>...</td>\n",
       "      <td>...</td>\n",
       "      <td>...</td>\n",
       "      <td>...</td>\n",
       "      <td>...</td>\n",
       "    </tr>\n",
       "    <tr>\n",
       "      <th>c_fffcbdd4de8b</th>\n",
       "      <td>2. 12: Diffusion</td>\n",
       "      <td>NaN</td>\n",
       "      <td>html5</td>\n",
       "      <td>What will eventually happen to these dyes?\\n\\n...</td>\n",
       "      <td>en</td>\n",
       "      <td>CSU and Merlot</td>\n",
       "      <td>CC BY-NC-SA</td>\n",
       "    </tr>\n",
       "    <tr>\n",
       "      <th>c_fffe15a2d069</th>\n",
       "      <td>Sommare facendo gruppi da 10</td>\n",
       "      <td>Sal somma 5+68 spezzando il 5 in un 2 e un 3.\\n\\n</td>\n",
       "      <td>video</td>\n",
       "      <td>NaN</td>\n",
       "      <td>it</td>\n",
       "      <td>NaN</td>\n",
       "      <td>NaN</td>\n",
       "    </tr>\n",
       "    <tr>\n",
       "      <th>c_fffed7b0d13a</th>\n",
       "      <td>Introdução à subtração</td>\n",
       "      <td>Sal fala sobre o que significa subtrair. Os ex...</td>\n",
       "      <td>video</td>\n",
       "      <td>NaN</td>\n",
       "      <td>pt</td>\n",
       "      <td>NaN</td>\n",
       "      <td>NaN</td>\n",
       "    </tr>\n",
       "    <tr>\n",
       "      <th>c_ffff04ba7ac7</th>\n",
       "      <td>SA of a Cone</td>\n",
       "      <td>NaN</td>\n",
       "      <td>video</td>\n",
       "      <td>NaN</td>\n",
       "      <td>en</td>\n",
       "      <td>NaN</td>\n",
       "      <td>NaN</td>\n",
       "    </tr>\n",
       "    <tr>\n",
       "      <th>c_ffffe5254266</th>\n",
       "      <td>The Jats</td>\n",
       "      <td>NaN</td>\n",
       "      <td>video</td>\n",
       "      <td>NaN</td>\n",
       "      <td>en</td>\n",
       "      <td>NaN</td>\n",
       "      <td>NaN</td>\n",
       "    </tr>\n",
       "  </tbody>\n",
       "</table>\n",
       "<p>154047 rows × 7 columns</p>\n",
       "</div>"
      ],
      "text/plain": [
       "                                                           title  \\\n",
       "id                                                                 \n",
       "c_00002381196d  Sumar números de varios dígitos: 48,029+233,930    \n",
       "c_000087304a9e                    Trovare i fattori di un numero   \n",
       "c_0000ad142ddb                           Sumar curvas de demanda   \n",
       "c_0000c03adc8d                               Nado de aproximação   \n",
       "c_00016694ea2a                  geometry-m3-topic-a-overview.pdf   \n",
       "...                                                          ...   \n",
       "c_fffcbdd4de8b                                  2. 12: Diffusion   \n",
       "c_fffe15a2d069                      Sommare facendo gruppi da 10   \n",
       "c_fffed7b0d13a                            Introdução à subtração   \n",
       "c_ffff04ba7ac7                                      SA of a Cone   \n",
       "c_ffffe5254266                                          The Jats   \n",
       "\n",
       "                                                      description      kind  \\\n",
       "id                                                                            \n",
       "c_00002381196d  Suma 48,029+233,930 mediante el algoritmo está...     video   \n",
       "c_000087304a9e                    Sal trova i fattori di 120.\\n\\n     video   \n",
       "c_0000ad142ddb                  Cómo añadir curvas de demanda\\n\\n     video   \n",
       "c_0000c03adc8d  Neste vídeo você vai aprender o nado de aproxi...  document   \n",
       "c_00016694ea2a                   geometry-m3-topic-a-overview.pdf  document   \n",
       "...                                                           ...       ...   \n",
       "c_fffcbdd4de8b                                                NaN     html5   \n",
       "c_fffe15a2d069  Sal somma 5+68 spezzando il 5 in un 2 e un 3.\\n\\n     video   \n",
       "c_fffed7b0d13a  Sal fala sobre o que significa subtrair. Os ex...     video   \n",
       "c_ffff04ba7ac7                                                NaN     video   \n",
       "c_ffffe5254266                                                NaN     video   \n",
       "\n",
       "                                                             text language  \\\n",
       "id                                                                           \n",
       "c_00002381196d                                                NaN       es   \n",
       "c_000087304a9e                                                NaN       it   \n",
       "c_0000ad142ddb                                                NaN       es   \n",
       "c_0000c03adc8d  \\nNado de aproximação\\nSaber nadar nas ondas ...       pt   \n",
       "c_00016694ea2a  Estándares Comunes del Estado de Nueva York\\n\\...       es   \n",
       "...                                                           ...      ...   \n",
       "c_fffcbdd4de8b  What will eventually happen to these dyes?\\n\\n...       en   \n",
       "c_fffe15a2d069                                                NaN       it   \n",
       "c_fffed7b0d13a                                                NaN       pt   \n",
       "c_ffff04ba7ac7                                                NaN       en   \n",
       "c_ffffe5254266                                                NaN       en   \n",
       "\n",
       "                copyright_holder      license  \n",
       "id                                             \n",
       "c_00002381196d               NaN          NaN  \n",
       "c_000087304a9e               NaN          NaN  \n",
       "c_0000ad142ddb               NaN          NaN  \n",
       "c_0000c03adc8d  Sikana Education  CC BY-NC-ND  \n",
       "c_00016694ea2a         Engage NY  CC BY-NC-SA  \n",
       "...                          ...          ...  \n",
       "c_fffcbdd4de8b    CSU and Merlot  CC BY-NC-SA  \n",
       "c_fffe15a2d069               NaN          NaN  \n",
       "c_fffed7b0d13a               NaN          NaN  \n",
       "c_ffff04ba7ac7               NaN          NaN  \n",
       "c_ffffe5254266               NaN          NaN  \n",
       "\n",
       "[154047 rows x 7 columns]"
      ]
     },
     "metadata": {},
     "output_type": "display_data"
    }
   ],
   "source": [
    "display(data.topics)\n",
    "display(data.correlations)\n",
    "display(data.contents)"
   ]
  },
  {
   "cell_type": "markdown",
   "id": "1783c9e4",
   "metadata": {},
   "source": [
    "# Tree structure"
   ]
  },
  {
   "cell_type": "code",
   "execution_count": 3,
   "id": "5c03e1ea",
   "metadata": {
    "scrolled": true
   },
   "outputs": [
    {
     "data": {
      "text/markdown": [
       "**List of trees**"
      ],
      "text/plain": [
       "<IPython.core.display.Markdown object>"
      ]
     },
     "metadata": {},
     "output_type": "display_data"
    },
    {
     "data": {
      "text/plain": [
       "fef095    5770\n",
       "0ec697    5355\n",
       "6e90a7    4554\n",
       "2ee29d    4438\n",
       "36a98b    3667\n",
       "          ... \n",
       "af86ca       6\n",
       "5a410f       6\n",
       "5864bf       6\n",
       "8ca895       3\n",
       "8dd5f3       1\n",
       "Name: channel, Length: 171, dtype: int64"
      ]
     },
     "metadata": {},
     "output_type": "display_data"
    },
    {
     "data": {
      "text/markdown": [
       "**List of root nodes**"
      ],
      "text/plain": [
       "<IPython.core.display.Markdown object>"
      ]
     },
     "metadata": {},
     "output_type": "display_data"
    },
    {
     "data": {
      "text/plain": [
       "ef2088    1\n",
       "cf94d5    1\n",
       "ebc86c    1\n",
       "36068f    1\n",
       "b3f329    1\n",
       "         ..\n",
       "983e56    1\n",
       "02be07    1\n",
       "23f9e1    1\n",
       "da1fa7    1\n",
       "28ffa8    1\n",
       "Name: channel, Length: 171, dtype: int64"
      ]
     },
     "metadata": {},
     "output_type": "display_data"
    }
   ],
   "source": [
    "import IPython.display\n",
    "\n",
    "# see whether each tree has a unique root node\n",
    "\n",
    "display(IPython.display.Markdown(\"**List of trees**\"))\n",
    "display(data.topics[\"channel\"].value_counts())\n",
    "display(IPython.display.Markdown(\"**List of root nodes**\"))\n",
    "\n",
    "topics_with_no_parent = data.topics.loc[data.topics[\"parent\"].isnull()]\n",
    "display(topics_with_no_parent[\"channel\"].value_counts())\n",
    "topic_trees = list(data.topics[\"channel\"].value_counts().index)"
   ]
  },
  {
   "cell_type": "markdown",
   "id": "ad84de64",
   "metadata": {},
   "source": [
    "There is a unique root node for each topic."
   ]
  },
  {
   "cell_type": "code",
   "execution_count": 4,
   "id": "66b29828",
   "metadata": {
    "scrolled": true
   },
   "outputs": [
    {
     "data": {
      "text/html": [
       "<div>\n",
       "<style scoped>\n",
       "    .dataframe tbody tr th:only-of-type {\n",
       "        vertical-align: middle;\n",
       "    }\n",
       "\n",
       "    .dataframe tbody tr th {\n",
       "        vertical-align: top;\n",
       "    }\n",
       "\n",
       "    .dataframe thead th {\n",
       "        text-align: right;\n",
       "    }\n",
       "</style>\n",
       "<table border=\"1\" class=\"dataframe\">\n",
       "  <thead>\n",
       "    <tr style=\"text-align: right;\">\n",
       "      <th></th>\n",
       "      <th>id_x</th>\n",
       "      <th>title_x</th>\n",
       "      <th>description_x</th>\n",
       "      <th>channel_x</th>\n",
       "      <th>category_x</th>\n",
       "      <th>level_x</th>\n",
       "      <th>language_x</th>\n",
       "      <th>parent_x</th>\n",
       "      <th>has_content_x</th>\n",
       "      <th>id_y</th>\n",
       "      <th>title_y</th>\n",
       "      <th>description_y</th>\n",
       "      <th>channel_y</th>\n",
       "      <th>category_y</th>\n",
       "      <th>level_y</th>\n",
       "      <th>language_y</th>\n",
       "      <th>parent_y</th>\n",
       "      <th>has_content_y</th>\n",
       "    </tr>\n",
       "  </thead>\n",
       "  <tbody>\n",
       "    <tr>\n",
       "      <th>0</th>\n",
       "      <td>t_00004da3a1b2</td>\n",
       "      <td>Откриването на резисторите</td>\n",
       "      <td>Изследване на материали, които предизвикват на...</td>\n",
       "      <td>000cf7</td>\n",
       "      <td>source</td>\n",
       "      <td>4</td>\n",
       "      <td>bg</td>\n",
       "      <td>t_16e29365b50d</td>\n",
       "      <td>True</td>\n",
       "      <td>t_16e29365b50d</td>\n",
       "      <td>Открития и проекти</td>\n",
       "      <td>Преоткрийте най-важните научни наблюдения в хо...</td>\n",
       "      <td>000cf7</td>\n",
       "      <td>source</td>\n",
       "      <td>3.0</td>\n",
       "      <td>bg</td>\n",
       "      <td>t_c85886762db7</td>\n",
       "      <td>False</td>\n",
       "    </tr>\n",
       "    <tr>\n",
       "      <th>1</th>\n",
       "      <td>t_000095e03056</td>\n",
       "      <td>Unit 3.3 Enlargements and Similarities</td>\n",
       "      <td>NaN</td>\n",
       "      <td>b3f329</td>\n",
       "      <td>aligned</td>\n",
       "      <td>2</td>\n",
       "      <td>en</td>\n",
       "      <td>t_aa32fb6252dc</td>\n",
       "      <td>False</td>\n",
       "      <td>t_aa32fb6252dc</td>\n",
       "      <td>Junior High Level 3</td>\n",
       "      <td>NaN</td>\n",
       "      <td>b3f329</td>\n",
       "      <td>aligned</td>\n",
       "      <td>1.0</td>\n",
       "      <td>en</td>\n",
       "      <td>t_a7bda143557e</td>\n",
       "      <td>False</td>\n",
       "    </tr>\n",
       "    <tr>\n",
       "      <th>2</th>\n",
       "      <td>t_00068291e9a4</td>\n",
       "      <td>Entradas e saídas de uma função</td>\n",
       "      <td>Entenda um pouco mais sobre funções.</td>\n",
       "      <td>8e286a</td>\n",
       "      <td>source</td>\n",
       "      <td>4</td>\n",
       "      <td>pt</td>\n",
       "      <td>t_d14b6c2a2b70</td>\n",
       "      <td>True</td>\n",
       "      <td>t_d14b6c2a2b70</td>\n",
       "      <td>Álgebra: funções</td>\n",
       "      <td>Nessa unidade temática vamos trabalhar com fun...</td>\n",
       "      <td>8e286a</td>\n",
       "      <td>source</td>\n",
       "      <td>3.0</td>\n",
       "      <td>pt</td>\n",
       "      <td>t_461c9a8dd863</td>\n",
       "      <td>False</td>\n",
       "    </tr>\n",
       "    <tr>\n",
       "      <th>3</th>\n",
       "      <td>t_00069b63a70a</td>\n",
       "      <td>Transcripts</td>\n",
       "      <td>NaN</td>\n",
       "      <td>6e3ba4</td>\n",
       "      <td>source</td>\n",
       "      <td>3</td>\n",
       "      <td>en</td>\n",
       "      <td>t_4054df11a74e</td>\n",
       "      <td>True</td>\n",
       "      <td>t_4054df11a74e</td>\n",
       "      <td>Flow Charts: Logical Thinking?</td>\n",
       "      <td>This lesson is focused on flow charts. It supp...</td>\n",
       "      <td>6e3ba4</td>\n",
       "      <td>source</td>\n",
       "      <td>2.0</td>\n",
       "      <td>en</td>\n",
       "      <td>t_acbbd893e6af</td>\n",
       "      <td>True</td>\n",
       "    </tr>\n",
       "    <tr>\n",
       "      <th>4</th>\n",
       "      <td>t_0006d41a73a8</td>\n",
       "      <td>Графики на експоненциални функции (Алгебра 2 н...</td>\n",
       "      <td>Научи повече за графиките на сложните показате...</td>\n",
       "      <td>000cf7</td>\n",
       "      <td>source</td>\n",
       "      <td>4</td>\n",
       "      <td>bg</td>\n",
       "      <td>t_e2452e21d252</td>\n",
       "      <td>True</td>\n",
       "      <td>t_e2452e21d252</td>\n",
       "      <td>Показателни и логаритмични функции</td>\n",
       "      <td>Тази тема покрива:\\n\\n- Корени и рационални ст...</td>\n",
       "      <td>000cf7</td>\n",
       "      <td>source</td>\n",
       "      <td>3.0</td>\n",
       "      <td>bg</td>\n",
       "      <td>t_5f4cc8e02423</td>\n",
       "      <td>False</td>\n",
       "    </tr>\n",
       "    <tr>\n",
       "      <th>...</th>\n",
       "      <td>...</td>\n",
       "      <td>...</td>\n",
       "      <td>...</td>\n",
       "      <td>...</td>\n",
       "      <td>...</td>\n",
       "      <td>...</td>\n",
       "      <td>...</td>\n",
       "      <td>...</td>\n",
       "      <td>...</td>\n",
       "      <td>...</td>\n",
       "      <td>...</td>\n",
       "      <td>...</td>\n",
       "      <td>...</td>\n",
       "      <td>...</td>\n",
       "      <td>...</td>\n",
       "      <td>...</td>\n",
       "      <td>...</td>\n",
       "      <td>...</td>\n",
       "    </tr>\n",
       "    <tr>\n",
       "      <th>76967</th>\n",
       "      <td>t_fffb0bf2801d</td>\n",
       "      <td>4.3 Graph of functions</td>\n",
       "      <td>NaN</td>\n",
       "      <td>e77b55</td>\n",
       "      <td>aligned</td>\n",
       "      <td>4</td>\n",
       "      <td>en</td>\n",
       "      <td>t_676e6a1a4dc7</td>\n",
       "      <td>False</td>\n",
       "      <td>t_676e6a1a4dc7</td>\n",
       "      <td>Unit 4 - Relations and Functions</td>\n",
       "      <td>NaN</td>\n",
       "      <td>e77b55</td>\n",
       "      <td>aligned</td>\n",
       "      <td>3.0</td>\n",
       "      <td>en</td>\n",
       "      <td>t_30d005327467</td>\n",
       "      <td>True</td>\n",
       "    </tr>\n",
       "    <tr>\n",
       "      <th>76968</th>\n",
       "      <td>t_fffbe1d5d43c</td>\n",
       "      <td>Inscribed shapes problem solving</td>\n",
       "      <td>Use properties of inscribed angles to prove pr...</td>\n",
       "      <td>0c929f</td>\n",
       "      <td>source</td>\n",
       "      <td>4</td>\n",
       "      <td>sw</td>\n",
       "      <td>t_50145b9bab3f</td>\n",
       "      <td>True</td>\n",
       "      <td>t_50145b9bab3f</td>\n",
       "      <td>Miduara</td>\n",
       "      <td>In this chapter, we will learn about circles, ...</td>\n",
       "      <td>0c929f</td>\n",
       "      <td>source</td>\n",
       "      <td>3.0</td>\n",
       "      <td>sw</td>\n",
       "      <td>t_c520677cef1d</td>\n",
       "      <td>False</td>\n",
       "    </tr>\n",
       "    <tr>\n",
       "      <th>76969</th>\n",
       "      <td>t_fffe14f1be1e</td>\n",
       "      <td>Lección 7</td>\n",
       "      <td>NaN</td>\n",
       "      <td>6e90a7</td>\n",
       "      <td>aligned</td>\n",
       "      <td>6</td>\n",
       "      <td>es</td>\n",
       "      <td>t_d448c707984d</td>\n",
       "      <td>True</td>\n",
       "      <td>t_d448c707984d</td>\n",
       "      <td>Unidad 4</td>\n",
       "      <td>NaN</td>\n",
       "      <td>6e90a7</td>\n",
       "      <td>aligned</td>\n",
       "      <td>5.0</td>\n",
       "      <td>es</td>\n",
       "      <td>t_8c734f803ed6</td>\n",
       "      <td>True</td>\n",
       "    </tr>\n",
       "    <tr>\n",
       "      <th>76970</th>\n",
       "      <td>t_fffe811a6da9</td>\n",
       "      <td>تحديد العلاقة بين الإحداثيّات القطبية والإحداث...</td>\n",
       "      <td>5b9e5ca86571f90499ea987f</td>\n",
       "      <td>9fd860</td>\n",
       "      <td>source</td>\n",
       "      <td>2</td>\n",
       "      <td>ar</td>\n",
       "      <td>t_5b4f3ba4eb7d</td>\n",
       "      <td>True</td>\n",
       "      <td>t_5b4f3ba4eb7d</td>\n",
       "      <td>الهندسة وعلم المثلثات</td>\n",
       "      <td>5a608819f3a50d049abf68ea</td>\n",
       "      <td>9fd860</td>\n",
       "      <td>source</td>\n",
       "      <td>1.0</td>\n",
       "      <td>ar</td>\n",
       "      <td>t_ed0fb96f82d9</td>\n",
       "      <td>False</td>\n",
       "    </tr>\n",
       "    <tr>\n",
       "      <th>76971</th>\n",
       "      <td>t_fffe88835149</td>\n",
       "      <td>Formation of shadows and eclipses (umbra and p...</td>\n",
       "      <td>NaN</td>\n",
       "      <td>c7ca13</td>\n",
       "      <td>aligned</td>\n",
       "      <td>4</td>\n",
       "      <td>en</td>\n",
       "      <td>t_988923176459</td>\n",
       "      <td>False</td>\n",
       "      <td>t_988923176459</td>\n",
       "      <td>8.0 Rectilinear propagation of light and refle...</td>\n",
       "      <td>NaN</td>\n",
       "      <td>c7ca13</td>\n",
       "      <td>aligned</td>\n",
       "      <td>3.0</td>\n",
       "      <td>en</td>\n",
       "      <td>t_8684979a5e04</td>\n",
       "      <td>False</td>\n",
       "    </tr>\n",
       "  </tbody>\n",
       "</table>\n",
       "<p>76972 rows × 18 columns</p>\n",
       "</div>"
      ],
      "text/plain": [
       "                 id_x                                            title_x  \\\n",
       "0      t_00004da3a1b2                         Откриването на резисторите   \n",
       "1      t_000095e03056             Unit 3.3 Enlargements and Similarities   \n",
       "2      t_00068291e9a4                    Entradas e saídas de uma função   \n",
       "3      t_00069b63a70a                                        Transcripts   \n",
       "4      t_0006d41a73a8  Графики на експоненциални функции (Алгебра 2 н...   \n",
       "...               ...                                                ...   \n",
       "76967  t_fffb0bf2801d                             4.3 Graph of functions   \n",
       "76968  t_fffbe1d5d43c                   Inscribed shapes problem solving   \n",
       "76969  t_fffe14f1be1e                                          Lección 7   \n",
       "76970  t_fffe811a6da9  تحديد العلاقة بين الإحداثيّات القطبية والإحداث...   \n",
       "76971  t_fffe88835149  Formation of shadows and eclipses (umbra and p...   \n",
       "\n",
       "                                           description_x channel_x category_x  \\\n",
       "0      Изследване на материали, които предизвикват на...    000cf7     source   \n",
       "1                                                    NaN    b3f329    aligned   \n",
       "2                   Entenda um pouco mais sobre funções.    8e286a     source   \n",
       "3                                                    NaN    6e3ba4     source   \n",
       "4      Научи повече за графиките на сложните показате...    000cf7     source   \n",
       "...                                                  ...       ...        ...   \n",
       "76967                                                NaN    e77b55    aligned   \n",
       "76968  Use properties of inscribed angles to prove pr...    0c929f     source   \n",
       "76969                                                NaN    6e90a7    aligned   \n",
       "76970                           5b9e5ca86571f90499ea987f    9fd860     source   \n",
       "76971                                                NaN    c7ca13    aligned   \n",
       "\n",
       "       level_x language_x        parent_x  has_content_x            id_y  \\\n",
       "0            4         bg  t_16e29365b50d           True  t_16e29365b50d   \n",
       "1            2         en  t_aa32fb6252dc          False  t_aa32fb6252dc   \n",
       "2            4         pt  t_d14b6c2a2b70           True  t_d14b6c2a2b70   \n",
       "3            3         en  t_4054df11a74e           True  t_4054df11a74e   \n",
       "4            4         bg  t_e2452e21d252           True  t_e2452e21d252   \n",
       "...        ...        ...             ...            ...             ...   \n",
       "76967        4         en  t_676e6a1a4dc7          False  t_676e6a1a4dc7   \n",
       "76968        4         sw  t_50145b9bab3f           True  t_50145b9bab3f   \n",
       "76969        6         es  t_d448c707984d           True  t_d448c707984d   \n",
       "76970        2         ar  t_5b4f3ba4eb7d           True  t_5b4f3ba4eb7d   \n",
       "76971        4         en  t_988923176459          False  t_988923176459   \n",
       "\n",
       "                                                 title_y  \\\n",
       "0                                     Открития и проекти   \n",
       "1                                    Junior High Level 3   \n",
       "2                                       Álgebra: funções   \n",
       "3                         Flow Charts: Logical Thinking?   \n",
       "4                     Показателни и логаритмични функции   \n",
       "...                                                  ...   \n",
       "76967                   Unit 4 - Relations and Functions   \n",
       "76968                                            Miduara   \n",
       "76969                                           Unidad 4   \n",
       "76970                              الهندسة وعلم المثلثات   \n",
       "76971  8.0 Rectilinear propagation of light and refle...   \n",
       "\n",
       "                                           description_y channel_y category_y  \\\n",
       "0      Преоткрийте най-важните научни наблюдения в хо...    000cf7     source   \n",
       "1                                                    NaN    b3f329    aligned   \n",
       "2      Nessa unidade temática vamos trabalhar com fun...    8e286a     source   \n",
       "3      This lesson is focused on flow charts. It supp...    6e3ba4     source   \n",
       "4      Тази тема покрива:\\n\\n- Корени и рационални ст...    000cf7     source   \n",
       "...                                                  ...       ...        ...   \n",
       "76967                                                NaN    e77b55    aligned   \n",
       "76968  In this chapter, we will learn about circles, ...    0c929f     source   \n",
       "76969                                                NaN    6e90a7    aligned   \n",
       "76970                           5a608819f3a50d049abf68ea    9fd860     source   \n",
       "76971                                                NaN    c7ca13    aligned   \n",
       "\n",
       "       level_y language_y        parent_y has_content_y  \n",
       "0          3.0         bg  t_c85886762db7         False  \n",
       "1          1.0         en  t_a7bda143557e         False  \n",
       "2          3.0         pt  t_461c9a8dd863         False  \n",
       "3          2.0         en  t_acbbd893e6af          True  \n",
       "4          3.0         bg  t_5f4cc8e02423         False  \n",
       "...        ...        ...             ...           ...  \n",
       "76967      3.0         en  t_30d005327467          True  \n",
       "76968      3.0         sw  t_c520677cef1d         False  \n",
       "76969      5.0         es  t_8c734f803ed6          True  \n",
       "76970      1.0         ar  t_ed0fb96f82d9         False  \n",
       "76971      3.0         en  t_8684979a5e04         False  \n",
       "\n",
       "[76972 rows x 18 columns]"
      ]
     },
     "metadata": {},
     "output_type": "display_data"
    },
    {
     "name": "stdout",
     "output_type": "stream",
     "text": [
      "171\n"
     ]
    }
   ],
   "source": [
    "# see whether there level corresponds to the DFS level\n",
    "topics_id = data.topics.reset_index(level=0)\n",
    "mg = topics_id.merge(topics_id, how = \"left\", left_on = \"parent\", right_on = \"id\")\n",
    "display(mg)\n",
    "not_equal = (mg[\"level_x\"] - mg[\"level_y\"]) != 1\n",
    "print(not_equal.sum())"
   ]
  },
  {
   "cell_type": "markdown",
   "id": "8c3483e0",
   "metadata": {},
   "source": [
    "The level indeed indicates the level of the DFS starting from the root. It is therefore easy to create the tree structure using the level attribute."
   ]
  },
  {
   "cell_type": "markdown",
   "id": "71c0308a",
   "metadata": {},
   "source": [
    "# Null values"
   ]
  },
  {
   "cell_type": "code",
   "execution_count": 5,
   "id": "2b878e64",
   "metadata": {},
   "outputs": [
    {
     "data": {
      "text/plain": [
       "title              2\n",
       "description    42019\n",
       "channel            0\n",
       "category           0\n",
       "level              0\n",
       "language           0\n",
       "parent           171\n",
       "has_content        0\n",
       "dtype: int64"
      ]
     },
     "metadata": {},
     "output_type": "display_data"
    }
   ],
   "source": [
    "display(data.topics.isnull().sum())"
   ]
  },
  {
   "cell_type": "markdown",
   "id": "0dc58514",
   "metadata": {},
   "source": [
    "# Information on trees"
   ]
  },
  {
   "cell_type": "code",
   "execution_count": 6,
   "id": "908dd661",
   "metadata": {
    "scrolled": true
   },
   "outputs": [
    {
     "data": {
      "text/markdown": [
       "***Multiple languages:***"
      ],
      "text/plain": [
       "<IPython.core.display.Markdown object>"
      ]
     },
     "metadata": {},
     "output_type": "display_data"
    },
    {
     "data": {
      "text/markdown": [
       "**217993**"
      ],
      "text/plain": [
       "<IPython.core.display.Markdown object>"
      ]
     },
     "metadata": {},
     "output_type": "display_data"
    },
    {
     "data": {
      "text/plain": [
       "hi     273\n",
       "mr     250\n",
       "gu     105\n",
       "kn      98\n",
       "bn      94\n",
       "te      93\n",
       "as      66\n",
       "ur      66\n",
       "ta      60\n",
       "or      58\n",
       "pnb     51\n",
       "en      46\n",
       "mul      1\n",
       "Name: language, dtype: int64"
      ]
     },
     "metadata": {},
     "output_type": "display_data"
    },
    {
     "data": {
      "text/markdown": [
       "**38a3e2**"
      ],
      "text/plain": [
       "<IPython.core.display.Markdown object>"
      ]
     },
     "metadata": {},
     "output_type": "display_data"
    },
    {
     "data": {
      "text/plain": [
       "ar    38\n",
       "en    24\n",
       "Name: language, dtype: int64"
      ]
     },
     "metadata": {},
     "output_type": "display_data"
    },
    {
     "data": {
      "text/markdown": [
       "**4d2d4a**"
      ],
      "text/plain": [
       "<IPython.core.display.Markdown object>"
      ]
     },
     "metadata": {},
     "output_type": "display_data"
    },
    {
     "data": {
      "text/plain": [
       "hi     204\n",
       "en     136\n",
       "as      21\n",
       "kn      21\n",
       "bn      20\n",
       "or      12\n",
       "mul      1\n",
       "Name: language, dtype: int64"
      ]
     },
     "metadata": {},
     "output_type": "display_data"
    },
    {
     "data": {
      "text/markdown": [
       "**5139e9**"
      ],
      "text/plain": [
       "<IPython.core.display.Markdown object>"
      ]
     },
     "metadata": {},
     "output_type": "display_data"
    },
    {
     "data": {
      "text/plain": [
       "ar    1401\n",
       "en       1\n",
       "Name: language, dtype: int64"
      ]
     },
     "metadata": {},
     "output_type": "display_data"
    },
    {
     "data": {
      "text/markdown": [
       "**6e90a7**"
      ],
      "text/plain": [
       "<IPython.core.display.Markdown object>"
      ]
     },
     "metadata": {},
     "output_type": "display_data"
    },
    {
     "data": {
      "text/plain": [
       "es    4495\n",
       "en      59\n",
       "Name: language, dtype: int64"
      ]
     },
     "metadata": {},
     "output_type": "display_data"
    },
    {
     "data": {
      "text/markdown": [
       "**8260fc**"
      ],
      "text/plain": [
       "<IPython.core.display.Markdown object>"
      ]
     },
     "metadata": {},
     "output_type": "display_data"
    },
    {
     "data": {
      "text/plain": [
       "swa    35\n",
       "en     24\n",
       "mul     1\n",
       "Name: language, dtype: int64"
      ]
     },
     "metadata": {},
     "output_type": "display_data"
    },
    {
     "data": {
      "text/markdown": [
       "**9a51b0**"
      ],
      "text/plain": [
       "<IPython.core.display.Markdown object>"
      ]
     },
     "metadata": {},
     "output_type": "display_data"
    },
    {
     "data": {
      "text/plain": [
       "hi    5\n",
       "en    1\n",
       "Name: language, dtype: int64"
      ]
     },
     "metadata": {},
     "output_type": "display_data"
    },
    {
     "data": {
      "text/markdown": [
       "**9dd9a7**"
      ],
      "text/plain": [
       "<IPython.core.display.Markdown object>"
      ]
     },
     "metadata": {},
     "output_type": "display_data"
    },
    {
     "data": {
      "text/plain": [
       "my     4\n",
       "en     4\n",
       "mul    1\n",
       "Name: language, dtype: int64"
      ]
     },
     "metadata": {},
     "output_type": "display_data"
    },
    {
     "data": {
      "text/markdown": [
       "**bbce73**"
      ],
      "text/plain": [
       "<IPython.core.display.Markdown object>"
      ]
     },
     "metadata": {},
     "output_type": "display_data"
    },
    {
     "data": {
      "text/plain": [
       "ar    88\n",
       "en     3\n",
       "Name: language, dtype: int64"
      ]
     },
     "metadata": {},
     "output_type": "display_data"
    },
    {
     "data": {
      "text/markdown": [
       "**c8450a**"
      ],
      "text/plain": [
       "<IPython.core.display.Markdown object>"
      ]
     },
     "metadata": {},
     "output_type": "display_data"
    },
    {
     "data": {
      "text/plain": [
       "as    80\n",
       "en     4\n",
       "Name: language, dtype: int64"
      ]
     },
     "metadata": {},
     "output_type": "display_data"
    }
   ],
   "source": [
    "import IPython.display\n",
    "# See whether each tree has the same language.\n",
    "display(IPython.display.Markdown(\"***Multiple languages:***\"))\n",
    "for name, group in data.topics.groupby(\"channel\")[\"language\"]:\n",
    "    languages = group.value_counts()\n",
    "    if len(languages) > 1:\n",
    "        display(IPython.display.Markdown(\"**{}**\".format(name)))\n",
    "        display(languages)"
   ]
  },
  {
   "cell_type": "markdown",
   "id": "0a2cd17c",
   "metadata": {},
   "source": [
    "Seems like there are trees with different languages."
   ]
  },
  {
   "cell_type": "markdown",
   "id": "f1051efb",
   "metadata": {},
   "source": [
    "# See if all leaf nodes of trees are same level"
   ]
  },
  {
   "cell_type": "code",
   "execution_count": 7,
   "id": "77fa4164",
   "metadata": {},
   "outputs": [
    {
     "data": {
      "text/markdown": [
       "**fef095**"
      ],
      "text/plain": [
       "<IPython.core.display.Markdown object>"
      ]
     },
     "metadata": {},
     "output_type": "display_data"
    },
    {
     "name": "stdout",
     "output_type": "stream",
     "text": [
      "('The Pattern CVC#', 4)      ('Using the Basic Operator Symbols and Parentheses', 6)\n"
     ]
    },
    {
     "data": {
      "text/markdown": [
       "**0ec697**"
      ],
      "text/plain": [
       "<IPython.core.display.Markdown object>"
      ]
     },
     "metadata": {},
     "output_type": "display_data"
    },
    {
     "name": "stdout",
     "output_type": "stream",
     "text": [
      "('Depreciation and amortization', 4)      ('Lesson 3: Exploring circumference', 5)\n"
     ]
    },
    {
     "data": {
      "text/markdown": [
       "**6e90a7**"
      ],
      "text/plain": [
       "<IPython.core.display.Markdown object>"
      ]
     },
     "metadata": {},
     "output_type": "display_data"
    },
    {
     "name": "stdout",
     "output_type": "stream",
     "text": [
      "('Lección 3', 6)      ('Lenguaje y Pensamiento Critico', 5)\n"
     ]
    },
    {
     "data": {
      "text/markdown": [
       "**36a98b**"
      ],
      "text/plain": [
       "<IPython.core.display.Markdown object>"
      ]
     },
     "metadata": {},
     "output_type": "display_data"
    },
    {
     "name": "stdout",
     "output_type": "stream",
     "text": [
      "('Construir modelos lineales para relaciones del mundo real', 4)      ('Sistema digestivo humano: órganos y fisiología de la digestión en el ser humano', 5)\n"
     ]
    },
    {
     "data": {
      "text/markdown": [
       "**8e286a**"
      ],
      "text/plain": [
       "<IPython.core.display.Markdown object>"
      ]
     },
     "metadata": {},
     "output_type": "display_data"
    },
    {
     "name": "stdout",
     "output_type": "stream",
     "text": [
      "('A elasticidade dos preços', 4)      ('Sistema de Cuidados Médicos', 3)\n"
     ]
    },
    {
     "data": {
      "text/markdown": [
       "**0c929f**"
      ],
      "text/plain": [
       "<IPython.core.display.Markdown object>"
      ]
     },
     "metadata": {},
     "output_type": "display_data"
    },
    {
     "name": "stdout",
     "output_type": "stream",
     "text": [
      "('The postwar era, 1945-1950', 4)      ('Geometric Measurement and Relationships', 3)\n"
     ]
    },
    {
     "data": {
      "text/markdown": [
       "**ef2088**"
      ],
      "text/plain": [
       "<IPython.core.display.Markdown object>"
      ]
     },
     "metadata": {},
     "output_type": "display_data"
    },
    {
     "name": "stdout",
     "output_type": "stream",
     "text": [
      "('Linear Equations in One Variable', 5)      ('New Questions and Ideas', 4)\n"
     ]
    },
    {
     "data": {
      "text/markdown": [
       "**410920**"
      ],
      "text/plain": [
       "<IPython.core.display.Markdown object>"
      ]
     },
     "metadata": {},
     "output_type": "display_data"
    },
    {
     "name": "stdout",
     "output_type": "stream",
     "text": [
      "('Lección 2', 4)      ('Dominio 12: luchando por una causa', 3)\n"
     ]
    },
    {
     "data": {
      "text/markdown": [
       "**5139e9**"
      ],
      "text/plain": [
       "<IPython.core.display.Markdown object>"
      ]
     },
     "metadata": {},
     "output_type": "display_data"
    },
    {
     "name": "stdout",
     "output_type": "stream",
     "text": [
      "('كلام مبرمجين', 4)      ('مثال عملي لإنشاء كلاس الكتاب - الجزء الثامن -عملي', 5)\n"
     ]
    },
    {
     "data": {
      "text/markdown": [
       "**274269**"
      ],
      "text/plain": [
       "<IPython.core.display.Markdown object>"
      ]
     },
     "metadata": {},
     "output_type": "display_data"
    },
    {
     "name": "stdout",
     "output_type": "stream",
     "text": [
      "('Videos', 5)      ('Explore', 6)\n"
     ]
    },
    {
     "data": {
      "text/markdown": [
       "**217993**"
      ],
      "text/plain": [
       "<IPython.core.display.Markdown object>"
      ]
     },
     "metadata": {},
     "output_type": "display_data"
    },
    {
     "name": "stdout",
     "output_type": "stream",
     "text": [
      "('ਮੌਜ-ਮਸਤੀ', 3)      ('ਅੰਗਰੇਜ਼ੀ ਬੋਲੋ', 4)\n"
     ]
    },
    {
     "data": {
      "text/markdown": [
       "**88c9d6**"
      ],
      "text/plain": [
       "<IPython.core.display.Markdown object>"
      ]
     },
     "metadata": {},
     "output_type": "display_data"
    },
    {
     "name": "stdout",
     "output_type": "stream",
     "text": [
      "('Front Matter', 4)      ('1.7: People in the System', 5)\n"
     ]
    },
    {
     "data": {
      "text/markdown": [
       "**ebc86c**"
      ],
      "text/plain": [
       "<IPython.core.display.Markdown object>"
      ]
     },
     "metadata": {},
     "output_type": "display_data"
    },
    {
     "name": "stdout",
     "output_type": "stream",
     "text": [
      "('5. DNA replication I: Enzymes and mechanism', 5)      ('Genetic Methods in Microorganisms', 6)\n"
     ]
    },
    {
     "data": {
      "text/markdown": [
       "**14d190**"
      ],
      "text/plain": [
       "<IPython.core.display.Markdown object>"
      ]
     },
     "metadata": {},
     "output_type": "display_data"
    },
    {
     "name": "stdout",
     "output_type": "stream",
     "text": [
      "('J2.2.9.1 distinguish between Possessive and reflexive pronouns.', 5)      ('Unit 4: Verb Tense Forms (Past Perfect ,Past Perfect Continuous ,Simple Future)', 4)\n"
     ]
    },
    {
     "data": {
      "text/markdown": [
       "**344113**"
      ],
      "text/plain": [
       "<IPython.core.display.Markdown object>"
      ]
     },
     "metadata": {},
     "output_type": "display_data"
    },
    {
     "name": "stdout",
     "output_type": "stream",
     "text": [
      "('Geometry Length and Area Properties', 4)      ('Percent problems', 5)\n"
     ]
    },
    {
     "data": {
      "text/markdown": [
       "**c7ca13**"
      ],
      "text/plain": [
       "<IPython.core.display.Markdown object>"
      ]
     },
     "metadata": {},
     "output_type": "display_data"
    },
    {
     "name": "stdout",
     "output_type": "stream",
     "text": [
      "('7.2.1 Alkaline earth metals - Group 2 Electron arrangement, gradation in size of the atom, ion and trends in ionisation energy', 5)      ('7.1.2 Alkali metals Group 1 - Physical properties: appearance, melting point, boiling point, thermal and electrical conductivity -- Supplementary Resources', 6)\n"
     ]
    },
    {
     "data": {
      "text/markdown": [
       "**7f116c**"
      ],
      "text/plain": [
       "<IPython.core.display.Markdown object>"
      ]
     },
     "metadata": {},
     "output_type": "display_data"
    },
    {
     "name": "stdout",
     "output_type": "stream",
     "text": [
      "('How the internet works', 6)      ('Irregular plural nouns: base plurals and irregular endings', 7)\n"
     ]
    },
    {
     "data": {
      "text/markdown": [
       "**5223e0**"
      ],
      "text/plain": [
       "<IPython.core.display.Markdown object>"
      ]
     },
     "metadata": {},
     "output_type": "display_data"
    },
    {
     "name": "stdout",
     "output_type": "stream",
     "text": [
      "('જોડીયા સંબંધો [04-DM-01]', 4)      ('ધો-૮ વાંચન-ગણન-લેખન Topic', 2)\n"
     ]
    },
    {
     "data": {
      "text/markdown": [
       "**1fb613**"
      ],
      "text/plain": [
       "<IPython.core.display.Markdown object>"
      ]
     },
     "metadata": {},
     "output_type": "display_data"
    },
    {
     "name": "stdout",
     "output_type": "stream",
     "text": [
      "('6 Prime numbers', 4)      ('9.1 Rational numbers', 5)\n"
     ]
    },
    {
     "data": {
      "text/markdown": [
       "**760ea6**"
      ],
      "text/plain": [
       "<IPython.core.display.Markdown object>"
      ]
     },
     "metadata": {},
     "output_type": "display_data"
    },
    {
     "name": "stdout",
     "output_type": "stream",
     "text": [
      "('Explore', 5)      ('Assessments', 4)\n"
     ]
    },
    {
     "data": {
      "text/markdown": [
       "**42e8ef**"
      ],
      "text/plain": [
       "<IPython.core.display.Markdown object>"
      ]
     },
     "metadata": {},
     "output_type": "display_data"
    },
    {
     "name": "stdout",
     "output_type": "stream",
     "text": [
      "('middleware', 5)      ('Markdown Links', 4)\n"
     ]
    },
    {
     "data": {
      "text/markdown": [
       "**d2ac0e**"
      ],
      "text/plain": [
       "<IPython.core.display.Markdown object>"
      ]
     },
     "metadata": {},
     "output_type": "display_data"
    },
    {
     "name": "stdout",
     "output_type": "stream",
     "text": [
      "('Factoring a polynomial', 4)      ('Number systems', 3)\n"
     ]
    },
    {
     "data": {
      "text/markdown": [
       "**f83dcf**"
      ],
      "text/plain": [
       "<IPython.core.display.Markdown object>"
      ]
     },
     "metadata": {},
     "output_type": "display_data"
    },
    {
     "name": "stdout",
     "output_type": "stream",
     "text": [
      "('运算顺序', 4)      ('Lab values and concentrations ', 3)\n"
     ]
    },
    {
     "data": {
      "text/markdown": [
       "**6e3ba4**"
      ],
      "text/plain": [
       "<IPython.core.display.Markdown object>"
      ]
     },
     "metadata": {},
     "output_type": "display_data"
    },
    {
     "name": "stdout",
     "output_type": "stream",
     "text": [
      "('Transcripts', 3)      ('Transcripts', 4)\n"
     ]
    },
    {
     "data": {
      "text/markdown": [
       "**8bbad6**"
      ],
      "text/plain": [
       "<IPython.core.display.Markdown object>"
      ]
     },
     "metadata": {},
     "output_type": "display_data"
    },
    {
     "name": "stdout",
     "output_type": "stream",
     "text": [
      "('Identifying Halves, Quarters, and Three Quarters', 4)      ('Numbers 0 to 120', 6)\n"
     ]
    },
    {
     "data": {
      "text/markdown": [
       "**e77b55**"
      ],
      "text/plain": [
       "<IPython.core.display.Markdown object>"
      ]
     },
     "metadata": {},
     "output_type": "display_data"
    },
    {
     "name": "stdout",
     "output_type": "stream",
     "text": [
      "('7.1 Revision on logic', 4)      ('Introduction to derivatives', 5)\n"
     ]
    },
    {
     "data": {
      "text/markdown": [
       "**54971d**"
      ],
      "text/plain": [
       "<IPython.core.display.Markdown object>"
      ]
     },
     "metadata": {},
     "output_type": "display_data"
    },
    {
     "name": "stdout",
     "output_type": "stream",
     "text": [
      "('03 Lección 22 Las cargas eléctricas', 5)      ('Introducción a la tabla periódica', 6)\n"
     ]
    },
    {
     "data": {
      "text/markdown": [
       "**39979b**"
      ],
      "text/plain": [
       "<IPython.core.display.Markdown object>"
      ]
     },
     "metadata": {},
     "output_type": "display_data"
    },
    {
     "name": "stdout",
     "output_type": "stream",
     "text": [
      "('Introduction to Carbon - Basic', 5)      ('Social Health', 4)\n"
     ]
    },
    {
     "data": {
      "text/markdown": [
       "**998df9**"
      ],
      "text/plain": [
       "<IPython.core.display.Markdown object>"
      ]
     },
     "metadata": {},
     "output_type": "display_data"
    },
    {
     "name": "stdout",
     "output_type": "stream",
     "text": [
      "('Sólidos geométricos', 5)      ('OA 11. Reconocer, describir, crear y continuar patrones', 3)\n"
     ]
    },
    {
     "data": {
      "text/markdown": [
       "**b4897d**"
      ],
      "text/plain": [
       "<IPython.core.display.Markdown object>"
      ]
     },
     "metadata": {},
     "output_type": "display_data"
    },
    {
     "name": "stdout",
     "output_type": "stream",
     "text": [
      "('Introduction to Adjectives', 4)      ('Cumulative', 6)\n"
     ]
    },
    {
     "data": {
      "text/markdown": [
       "**fc9105**"
      ],
      "text/plain": [
       "<IPython.core.display.Markdown object>"
      ]
     },
     "metadata": {},
     "output_type": "display_data"
    },
    {
     "name": "stdout",
     "output_type": "stream",
     "text": [
      "('npm-scripts', 2)      ('src', 4)\n"
     ]
    },
    {
     "data": {
      "text/markdown": [
       "**bfc678**"
      ],
      "text/plain": [
       "<IPython.core.display.Markdown object>"
      ]
     },
     "metadata": {},
     "output_type": "display_data"
    },
    {
     "name": "stdout",
     "output_type": "stream",
     "text": [
      "('Première manuels', 2)      ('Pour prendre un bon départ', 4)\n"
     ]
    },
    {
     "data": {
      "text/markdown": [
       "**4d2d4a**"
      ],
      "text/plain": [
       "<IPython.core.display.Markdown object>"
      ]
     },
     "metadata": {},
     "output_type": "display_data"
    },
    {
     "name": "stdout",
     "output_type": "stream",
     "text": [
      "('\\n      ফলপ্রসূ অভ্যাস    ', 3)      ('\\n      ফলপ্রসূ অভ্যাস    ', 4)\n"
     ]
    },
    {
     "data": {
      "text/markdown": [
       "**383b8a**"
      ],
      "text/plain": [
       "<IPython.core.display.Markdown object>"
      ]
     },
     "metadata": {},
     "output_type": "display_data"
    },
    {
     "name": "stdout",
     "output_type": "stream",
     "text": [
      "('Inverse Functions', 4)      ('Inputs and Outputs of Functions', 3)\n"
     ]
    },
    {
     "data": {
      "text/markdown": [
       "**50fe84**"
      ],
      "text/plain": [
       "<IPython.core.display.Markdown object>"
      ]
     },
     "metadata": {},
     "output_type": "display_data"
    },
    {
     "name": "stdout",
     "output_type": "stream",
     "text": [
      "('Geography Form 4', 3)      ('I.R.E. Form 2', 4)\n"
     ]
    },
    {
     "data": {
      "text/markdown": [
       "**ef93f0**"
      ],
      "text/plain": [
       "<IPython.core.display.Markdown object>"
      ]
     },
     "metadata": {},
     "output_type": "display_data"
    },
    {
     "name": "stdout",
     "output_type": "stream",
     "text": [
      "('Videos', 4)      ('Air pollution - Cause, effect, the green house effect', 3)\n"
     ]
    },
    {
     "data": {
      "text/markdown": [
       "**cf94d5**"
      ],
      "text/plain": [
       "<IPython.core.display.Markdown object>"
      ]
     },
     "metadata": {},
     "output_type": "display_data"
    },
    {
     "name": "stdout",
     "output_type": "stream",
     "text": [
      "('Supplemental Modules (Modern Physics)', 3)      ('Front Matter', 4)\n"
     ]
    },
    {
     "data": {
      "text/markdown": [
       "**c6dab5**"
      ],
      "text/plain": [
       "<IPython.core.display.Markdown object>"
      ]
     },
     "metadata": {},
     "output_type": "display_data"
    },
    {
     "name": "stdout",
     "output_type": "stream",
     "text": [
      "('Curriculum', 1)      ('Iterative Process [07-IPP-02]', 4)\n"
     ]
    },
    {
     "data": {
      "text/markdown": [
       "**484bd2**"
      ],
      "text/plain": [
       "<IPython.core.display.Markdown object>"
      ]
     },
     "metadata": {},
     "output_type": "display_data"
    },
    {
     "name": "stdout",
     "output_type": "stream",
     "text": [
      "('Sumar y restar fracciones con denominadores comunes', 3)      ('Problemas con sumas y restas.', 4)\n"
     ]
    },
    {
     "data": {
      "text/markdown": [
       "**14cb7f**"
      ],
      "text/plain": [
       "<IPython.core.display.Markdown object>"
      ]
     },
     "metadata": {},
     "output_type": "display_data"
    },
    {
     "name": "stdout",
     "output_type": "stream",
     "text": [
      "('Ionic bonding', 3)      ('Measurement of Distance', 4)\n"
     ]
    },
    {
     "data": {
      "text/markdown": [
       "**d5fb04**"
      ],
      "text/plain": [
       "<IPython.core.display.Markdown object>"
      ]
     },
     "metadata": {},
     "output_type": "display_data"
    },
    {
     "name": "stdout",
     "output_type": "stream",
     "text": [
      "('Percentage: another way of comparing quantities', 3)      ('Visualizing solid shapes', 2)\n"
     ]
    },
    {
     "data": {
      "text/markdown": [
       "**a13d2e**"
      ],
      "text/plain": [
       "<IPython.core.display.Markdown object>"
      ]
     },
     "metadata": {},
     "output_type": "display_data"
    },
    {
     "name": "stdout",
     "output_type": "stream",
     "text": [
      "('التمثيل الرياضي للمعلومات', 3)      ('القوى والحركة', 4)\n"
     ]
    },
    {
     "data": {
      "text/markdown": [
       "**05be9f**"
      ],
      "text/plain": [
       "<IPython.core.display.Markdown object>"
      ]
     },
     "metadata": {},
     "output_type": "display_data"
    },
    {
     "name": "stdout",
     "output_type": "stream",
     "text": [
      "('10.5.2.1 Calculate length and area using a given scale and vice versa.', 4)      ('11.4.2 Composite functions', 3)\n"
     ]
    },
    {
     "data": {
      "text/markdown": [
       "**d4eeb3**"
      ],
      "text/plain": [
       "<IPython.core.display.Markdown object>"
      ]
     },
     "metadata": {},
     "output_type": "display_data"
    },
    {
     "name": "stdout",
     "output_type": "stream",
     "text": [
      "('Module 6 - Selfies & Self-Esteem', 2)      ('The writing process', 4)\n"
     ]
    },
    {
     "data": {
      "text/markdown": [
       "**c88ff6**"
      ],
      "text/plain": [
       "<IPython.core.display.Markdown object>"
      ]
     },
     "metadata": {},
     "output_type": "display_data"
    },
    {
     "name": "stdout",
     "output_type": "stream",
     "text": [
      "(\"MYDev Facilitator's Manuals\", 2)      ('Module 5_ Safety and Health at Work', 3)\n"
     ]
    },
    {
     "data": {
      "text/markdown": [
       "**50083f**"
      ],
      "text/plain": [
       "<IPython.core.display.Markdown object>"
      ]
     },
     "metadata": {},
     "output_type": "display_data"
    },
    {
     "name": "stdout",
     "output_type": "stream",
     "text": [
      "('Numerical adjectives', 4)      ('Adverbs of Manner', 5)\n"
     ]
    },
    {
     "data": {
      "text/markdown": [
       "**6b09a4**"
      ],
      "text/plain": [
       "<IPython.core.display.Markdown object>"
      ]
     },
     "metadata": {},
     "output_type": "display_data"
    },
    {
     "name": "stdout",
     "output_type": "stream",
     "text": [
      "('Complex conjugates and dividing complex numbers', 5)      (\"Working with 'i'\", 4)\n"
     ]
    },
    {
     "data": {
      "text/markdown": [
       "**2293a4**"
      ],
      "text/plain": [
       "<IPython.core.display.Markdown object>"
      ]
     },
     "metadata": {},
     "output_type": "display_data"
    },
    {
     "name": "stdout",
     "output_type": "stream",
     "text": [
      "('Listen to and retell stories', 5)      ('Draw with Bush Baby', 6)\n"
     ]
    },
    {
     "data": {
      "text/markdown": [
       "**36068f**"
      ],
      "text/plain": [
       "<IPython.core.display.Markdown object>"
      ]
     },
     "metadata": {},
     "output_type": "display_data"
    },
    {
     "name": "stdout",
     "output_type": "stream",
     "text": [
      "('পদার্থ বিজ্ঞান', 2)      ('অধ্যায় ৭: ব্যাবহারিক জ্যামিতি', 3)\n"
     ]
    },
    {
     "data": {
      "text/markdown": [
       "**00a2b4**"
      ],
      "text/plain": [
       "<IPython.core.display.Markdown object>"
      ]
     },
     "metadata": {},
     "output_type": "display_data"
    },
    {
     "name": "stdout",
     "output_type": "stream",
     "text": [
      "('নিজে করি (১)', 4)      ('৬ষ্ঠ অধ্যায়: যোগ, বিয়োগ, গুন ও ভাগ সংক্রান্ত সমস্যা', 3)\n"
     ]
    },
    {
     "data": {
      "text/markdown": [
       "**06fb18**"
      ],
      "text/plain": [
       "<IPython.core.display.Markdown object>"
      ]
     },
     "metadata": {},
     "output_type": "display_data"
    },
    {
     "name": "stdout",
     "output_type": "stream",
     "text": [
      "('4.- LA FUNCIÓN DE REPRODUCCIÓN', 3)      ('2.4.- APARATO CIRCULATORIO ANIMAL', 4)\n"
     ]
    },
    {
     "data": {
      "text/markdown": [
       "**f65044**"
      ],
      "text/plain": [
       "<IPython.core.display.Markdown object>"
      ]
     },
     "metadata": {},
     "output_type": "display_data"
    },
    {
     "name": "stdout",
     "output_type": "stream",
     "text": [
      "('7 Persistiré hasta lograr lo que me propongo', 4)      ('Actividades y recursos', 5)\n"
     ]
    },
    {
     "data": {
      "text/markdown": [
       "**5c4c46**"
      ],
      "text/plain": [
       "<IPython.core.display.Markdown object>"
      ]
     },
     "metadata": {},
     "output_type": "display_data"
    },
    {
     "name": "stdout",
     "output_type": "stream",
     "text": [
      "('7.3.a.iii Kuchora mistari sambamba', 4)      ('7.3.e Ukubwa wa miche', 3)\n"
     ]
    },
    {
     "data": {
      "text/markdown": [
       "**4b0f81**"
      ],
      "text/plain": [
       "<IPython.core.display.Markdown object>"
      ]
     },
     "metadata": {},
     "output_type": "display_data"
    },
    {
     "name": "stdout",
     "output_type": "stream",
     "text": [
      "('Forming Questions', 3)      ('Verbs', 2)\n"
     ]
    },
    {
     "data": {
      "text/markdown": [
       "**49ea7a**"
      ],
      "text/plain": [
       "<IPython.core.display.Markdown object>"
      ]
     },
     "metadata": {},
     "output_type": "display_data"
    },
    {
     "name": "stdout",
     "output_type": "stream",
     "text": [
      "('Stoichiometry', 3)      ('Calculating Molar Mass', 4)\n"
     ]
    },
    {
     "data": {
      "text/markdown": [
       "**57e9d3**"
      ],
      "text/plain": [
       "<IPython.core.display.Markdown object>"
      ]
     },
     "metadata": {},
     "output_type": "display_data"
    },
    {
     "name": "stdout",
     "output_type": "stream",
     "text": [
      "('Trecho C2: Bacias Hidrográficas', 4)      ('Desvendando os Mistérios', 5)\n"
     ]
    },
    {
     "data": {
      "text/markdown": [
       "**0f546a**"
      ],
      "text/plain": [
       "<IPython.core.display.Markdown object>"
      ]
     },
     "metadata": {},
     "output_type": "display_data"
    },
    {
     "name": "stdout",
     "output_type": "stream",
     "text": [
      "('8.5.2.1 Evaluate algebraic expressions.', 4)      ('8.5.4 Construction of formulae.', 3)\n"
     ]
    },
    {
     "data": {
      "text/markdown": [
       "**0a9df7**"
      ],
      "text/plain": [
       "<IPython.core.display.Markdown object>"
      ]
     },
     "metadata": {},
     "output_type": "display_data"
    },
    {
     "name": "stdout",
     "output_type": "stream",
     "text": [
      "('Plants and Animals', 3)      ('Career And Occupation Skills (Supplemental)', 4)\n"
     ]
    },
    {
     "data": {
      "text/markdown": [
       "**735876**"
      ],
      "text/plain": [
       "<IPython.core.display.Markdown object>"
      ]
     },
     "metadata": {},
     "output_type": "display_data"
    },
    {
     "name": "stdout",
     "output_type": "stream",
     "text": [
      "('Persuasive Writing', 3)      ('21st Century Skills', 2)\n"
     ]
    },
    {
     "data": {
      "text/markdown": [
       "**8afc0b**"
      ],
      "text/plain": [
       "<IPython.core.display.Markdown object>"
      ]
     },
     "metadata": {},
     "output_type": "display_data"
    },
    {
     "name": "stdout",
     "output_type": "stream",
     "text": [
      "('Assessment', 1)      ('Revision on the set of rational Numbers Topic', 4)\n"
     ]
    },
    {
     "data": {
      "text/markdown": [
       "**11171c**"
      ],
      "text/plain": [
       "<IPython.core.display.Markdown object>"
      ]
     },
     "metadata": {},
     "output_type": "display_data"
    },
    {
     "name": "stdout",
     "output_type": "stream",
     "text": [
      "('9.7.3 Observe permanent slides of mammalian skin', 4)      ('7.7 Additional Resources for Gaseous Exchange', 3)\n"
     ]
    },
    {
     "data": {
      "text/markdown": [
       "**494cf2**"
      ],
      "text/plain": [
       "<IPython.core.display.Markdown object>"
      ]
     },
     "metadata": {},
     "output_type": "display_data"
    },
    {
     "name": "stdout",
     "output_type": "stream",
     "text": [
      "('9.1.0 State the unit of charge', 5)      ('5.2.2 Brownian motion', 4)\n"
     ]
    },
    {
     "data": {
      "text/markdown": [
       "**179e73**"
      ],
      "text/plain": [
       "<IPython.core.display.Markdown object>"
      ]
     },
     "metadata": {},
     "output_type": "display_data"
    },
    {
     "name": "stdout",
     "output_type": "stream",
     "text": [
      "('4 Practicamos actividades físicas al ritmo de la música peruana para construir nuestra identidad nacional', 4)      ('Materiales adaptados', 5)\n"
     ]
    },
    {
     "data": {
      "text/markdown": [
       "**d5963f**"
      ],
      "text/plain": [
       "<IPython.core.display.Markdown object>"
      ]
     },
     "metadata": {},
     "output_type": "display_data"
    },
    {
     "name": "stdout",
     "output_type": "stream",
     "text": [
      "('4. A descubrir lo elemental (144-191)', 3)      ('Volúmenes de prismas', 5)\n"
     ]
    },
    {
     "data": {
      "text/markdown": [
       "**bae253**"
      ],
      "text/plain": [
       "<IPython.core.display.Markdown object>"
      ]
     },
     "metadata": {},
     "output_type": "display_data"
    },
    {
     "name": "stdout",
     "output_type": "stream",
     "text": [
      "('Principles for a Healthy Life', 1)      ('The reproductive system', 2)\n"
     ]
    },
    {
     "data": {
      "text/markdown": [
       "**686d66**"
      ],
      "text/plain": [
       "<IPython.core.display.Markdown object>"
      ]
     },
     "metadata": {},
     "output_type": "display_data"
    },
    {
     "name": "stdout",
     "output_type": "stream",
     "text": [
      "('10.7.1.1 Carry out calculations that involve Shares, dividends and investment Bonds.', 4)      ('10.2.1 Indices', 3)\n"
     ]
    },
    {
     "data": {
      "text/markdown": [
       "**c1d57e**"
      ],
      "text/plain": [
       "<IPython.core.display.Markdown object>"
      ]
     },
     "metadata": {},
     "output_type": "display_data"
    },
    {
     "name": "stdout",
     "output_type": "stream",
     "text": [
      "('Test', 3)      ('Os cinco sentidos', 2)\n"
     ]
    },
    {
     "data": {
      "text/markdown": [
       "**23f9e1**"
      ],
      "text/plain": [
       "<IPython.core.display.Markdown object>"
      ]
     },
     "metadata": {},
     "output_type": "display_data"
    },
    {
     "name": "stdout",
     "output_type": "stream",
     "text": [
      "('Spheres', 3)      ('Intro to rates', 4)\n"
     ]
    },
    {
     "data": {
      "text/markdown": [
       "**d30518**"
      ],
      "text/plain": [
       "<IPython.core.display.Markdown object>"
      ]
     },
     "metadata": {},
     "output_type": "display_data"
    },
    {
     "name": "stdout",
     "output_type": "stream",
     "text": [
      "('Exponent properties- part 2/3', 3)      ('Fractional Exponents', 4)\n"
     ]
    },
    {
     "data": {
      "text/markdown": [
       "**71fd51**"
      ],
      "text/plain": [
       "<IPython.core.display.Markdown object>"
      ]
     },
     "metadata": {},
     "output_type": "display_data"
    },
    {
     "name": "stdout",
     "output_type": "stream",
     "text": [
      "('Cambios en la programación didáctica', 3)      ('TIC_PROFESIONAL - Las TIC al servicio de la educación', 2)\n"
     ]
    },
    {
     "data": {
      "text/markdown": [
       "**b3f329**"
      ],
      "text/plain": [
       "<IPython.core.display.Markdown object>"
      ]
     },
     "metadata": {},
     "output_type": "display_data"
    },
    {
     "name": "stdout",
     "output_type": "stream",
     "text": [
      "('Objective 1.5.2 Solve problems on circumference of a circle', 3)      ('Precursor skills', 4)\n"
     ]
    },
    {
     "data": {
      "text/markdown": [
       "**2765c6**"
      ],
      "text/plain": [
       "<IPython.core.display.Markdown object>"
      ]
     },
     "metadata": {},
     "output_type": "display_data"
    },
    {
     "name": "stdout",
     "output_type": "stream",
     "text": [
      "('Neuroscience', 3)      ('History', 2)\n"
     ]
    },
    {
     "data": {
      "text/markdown": [
       "**abd7dc**"
      ],
      "text/plain": [
       "<IPython.core.display.Markdown object>"
      ]
     },
     "metadata": {},
     "output_type": "display_data"
    },
    {
     "name": "stdout",
     "output_type": "stream",
     "text": [
      "('Plate Heat Exchanger', 4)      ('Book: Distillation Science (Coleman)', 3)\n"
     ]
    },
    {
     "data": {
      "text/markdown": [
       "**9d5527**"
      ],
      "text/plain": [
       "<IPython.core.display.Markdown object>"
      ]
     },
     "metadata": {},
     "output_type": "display_data"
    },
    {
     "name": "stdout",
     "output_type": "stream",
     "text": [
      "('B4.6.1.1 Read widely for pleasure, personal development and demonstrate independent reading and learning in the literary content areas', 3)      ('Sub-Strand 6: Using Adverbs', 2)\n"
     ]
    },
    {
     "data": {
      "text/markdown": [
       "**c36745**"
      ],
      "text/plain": [
       "<IPython.core.display.Markdown object>"
      ]
     },
     "metadata": {},
     "output_type": "display_data"
    },
    {
     "name": "stdout",
     "output_type": "stream",
     "text": [
      "('Pedagogical Innovation Itinerary professional', 3)      (\"TIC_PROFESSIONNEL – Les TIC au service de l'éducation\", 2)\n"
     ]
    },
    {
     "data": {
      "text/markdown": [
       "**956596**"
      ],
      "text/plain": [
       "<IPython.core.display.Markdown object>"
      ]
     },
     "metadata": {},
     "output_type": "display_data"
    },
    {
     "name": "stdout",
     "output_type": "stream",
     "text": [
      "('৮ম অধ্যায়: ভগ্নাংশ', 3)      ('সময়ের রূপান্তর', 4)\n"
     ]
    },
    {
     "data": {
      "text/markdown": [
       "**02be07**"
      ],
      "text/plain": [
       "<IPython.core.display.Markdown object>"
      ]
     },
     "metadata": {},
     "output_type": "display_data"
    },
    {
     "name": "stdout",
     "output_type": "stream",
     "text": [
      "('গুণিতক', 4)      ('অধ্যায় ৮: গড়', 3)\n"
     ]
    },
    {
     "data": {
      "text/markdown": [
       "**5d4a02**"
      ],
      "text/plain": [
       "<IPython.core.display.Markdown object>"
      ]
     },
     "metadata": {},
     "output_type": "display_data"
    },
    {
     "name": "stdout",
     "output_type": "stream",
     "text": [
      "('6.3.2 - Angles and Arcs Determined by Lines Intersecting Outside a Circle', 4)      ('6.2 - Special Quadrilaterals', 3)\n"
     ]
    },
    {
     "data": {
      "text/markdown": [
       "**7db7f2**"
      ],
      "text/plain": [
       "<IPython.core.display.Markdown object>"
      ]
     },
     "metadata": {},
     "output_type": "display_data"
    },
    {
     "name": "stdout",
     "output_type": "stream",
     "text": [
      "('Decimals', 2)      ('Fraction practice: simulation', 3)\n"
     ]
    },
    {
     "data": {
      "text/markdown": [
       "**00fda4**"
      ],
      "text/plain": [
       "<IPython.core.display.Markdown object>"
      ]
     },
     "metadata": {},
     "output_type": "display_data"
    },
    {
     "name": "stdout",
     "output_type": "stream",
     "text": [
      "('ﺎﻠﻔﻳﺰﻳﺍﺀ', 3)      ('صيغة المبالغة وصفة مشبهة', 4)\n"
     ]
    },
    {
     "data": {
      "text/markdown": [
       "**998b74**"
      ],
      "text/plain": [
       "<IPython.core.display.Markdown object>"
      ]
     },
     "metadata": {},
     "output_type": "display_data"
    },
    {
     "name": "stdout",
     "output_type": "stream",
     "text": [
      "('Properties of Elements', 3)      ('Ions', 2)\n"
     ]
    },
    {
     "data": {
      "text/markdown": [
       "**03de11**"
      ],
      "text/plain": [
       "<IPython.core.display.Markdown object>"
      ]
     },
     "metadata": {},
     "output_type": "display_data"
    },
    {
     "name": "stdout",
     "output_type": "stream",
     "text": [
      "('7.4.3 Importance of noble gases', 4)      ('11.3 Preparation and properties of carbon (IV) oxide (carbon dioxide)', 3)\n"
     ]
    },
    {
     "data": {
      "text/markdown": [
       "**fc1d48**"
      ],
      "text/plain": [
       "<IPython.core.display.Markdown object>"
      ]
     },
     "metadata": {},
     "output_type": "display_data"
    },
    {
     "name": "stdout",
     "output_type": "stream",
     "text": [
      "('TEMA SEMANAS DEL 15 AL 28 DE MARZO', 6)      ('Tema Especifico', 7)\n"
     ]
    },
    {
     "data": {
      "text/markdown": [
       "**c8450a**"
      ],
      "text/plain": [
       "<IPython.core.display.Markdown object>"
      ]
     },
     "metadata": {},
     "output_type": "display_data"
    },
    {
     "name": "stdout",
     "output_type": "stream",
     "text": [
      "('সপ্তম শ্ৰেণী/ Standard 7', 2)      ('পৰিৱেশ বিজ্ঞান/Environmental science', 1)\n"
     ]
    },
    {
     "data": {
      "text/markdown": [
       "**75fbe2**"
      ],
      "text/plain": [
       "<IPython.core.display.Markdown object>"
      ]
     },
     "metadata": {},
     "output_type": "display_data"
    },
    {
     "name": "stdout",
     "output_type": "stream",
     "text": [
      "('Modeling grass with parabolas', 3)      ('Orientation', 2)\n"
     ]
    },
    {
     "data": {
      "text/markdown": [
       "**239d8f**"
      ],
      "text/plain": [
       "<IPython.core.display.Markdown object>"
      ]
     },
     "metadata": {},
     "output_type": "display_data"
    },
    {
     "name": "stdout",
     "output_type": "stream",
     "text": [
      "('Modelo atómico actual', 6)      ('Tercer Periodo', 2)\n"
     ]
    },
    {
     "data": {
      "text/markdown": [
       "**1843c5**"
      ],
      "text/plain": [
       "<IPython.core.display.Markdown object>"
      ]
     },
     "metadata": {},
     "output_type": "display_data"
    },
    {
     "name": "stdout",
     "output_type": "stream",
     "text": [
      "('Bird Structure', 2)      ('Plants', 1)\n"
     ]
    },
    {
     "data": {
      "text/markdown": [
       "**8b5488**"
      ],
      "text/plain": [
       "<IPython.core.display.Markdown object>"
      ]
     },
     "metadata": {},
     "output_type": "display_data"
    },
    {
     "name": "stdout",
     "output_type": "stream",
     "text": [
      "('Perímetro', 3)      ('Polígonos', 2)\n"
     ]
    },
    {
     "data": {
      "text/markdown": [
       "**cfc6dd**"
      ],
      "text/plain": [
       "<IPython.core.display.Markdown object>"
      ]
     },
     "metadata": {},
     "output_type": "display_data"
    },
    {
     "name": "stdout",
     "output_type": "stream",
     "text": [
      "('Area of trapezoids & composite figures', 3)      ('Multiplying matrices by scalars', 4)\n"
     ]
    },
    {
     "data": {
      "text/markdown": [
       "**ca3996**"
      ],
      "text/plain": [
       "<IPython.core.display.Markdown object>"
      ]
     },
     "metadata": {},
     "output_type": "display_data"
    },
    {
     "name": "stdout",
     "output_type": "stream",
     "text": [
      "('Numeracy', 3)      ('Looking at Life', 4)\n"
     ]
    },
    {
     "data": {
      "text/markdown": [
       "**f08256**"
      ],
      "text/plain": [
       "<IPython.core.display.Markdown object>"
      ]
     },
     "metadata": {},
     "output_type": "display_data"
    },
    {
     "name": "stdout",
     "output_type": "stream",
     "text": [
      "('Polygons', 4)      ('Present Perfect & Present Perfect Continuous', 5)\n"
     ]
    },
    {
     "data": {
      "text/markdown": [
       "**d4c17c**"
      ],
      "text/plain": [
       "<IPython.core.display.Markdown object>"
      ]
     },
     "metadata": {},
     "output_type": "display_data"
    },
    {
     "name": "stdout",
     "output_type": "stream",
     "text": [
      "('Recursos', 2)      ('A Arte das Vendas Fundamentos de Venda', 1)\n"
     ]
    },
    {
     "data": {
      "text/markdown": [
       "**fc72b4**"
      ],
      "text/plain": [
       "<IPython.core.display.Markdown object>"
      ]
     },
     "metadata": {},
     "output_type": "display_data"
    },
    {
     "name": "stdout",
     "output_type": "stream",
     "text": [
      "('Les activités du programme principal', 2)      ('Manuel de Formation', 1)\n"
     ]
    },
    {
     "data": {
      "text/markdown": [
       "**b03884**"
      ],
      "text/plain": [
       "<IPython.core.display.Markdown object>"
      ]
     },
     "metadata": {},
     "output_type": "display_data"
    },
    {
     "name": "stdout",
     "output_type": "stream",
     "text": [
      "('Knowing One’s Heights and Weight', 3)      ('Training Manual', 1)\n"
     ]
    },
    {
     "data": {
      "text/markdown": [
       "**983e56**"
      ],
      "text/plain": [
       "<IPython.core.display.Markdown object>"
      ]
     },
     "metadata": {},
     "output_type": "display_data"
    },
    {
     "name": "stdout",
     "output_type": "stream",
     "text": [
      "('1.1.0 Classify natural numbers as odd numbers', 4)      ('Prime numbers', 5)\n"
     ]
    },
    {
     "data": {
      "text/markdown": [
       "**38a3e2**"
      ],
      "text/plain": [
       "<IPython.core.display.Markdown object>"
      ]
     },
     "metadata": {},
     "output_type": "display_data"
    },
    {
     "name": "stdout",
     "output_type": "stream",
     "text": [
      "('Unit 12', 3)      ('المهارات الأساسية في الحسابات الرياضية', 2)\n"
     ]
    },
    {
     "data": {
      "text/markdown": [
       "**8299ce**"
      ],
      "text/plain": [
       "<IPython.core.display.Markdown object>"
      ]
     },
     "metadata": {},
     "output_type": "display_data"
    },
    {
     "name": "stdout",
     "output_type": "stream",
     "text": [
      "('可下載的資源', 2)      ('销售的艺术：销售的基本要素', 1)\n"
     ]
    },
    {
     "data": {
      "text/markdown": [
       "**b14cf2**"
      ],
      "text/plain": [
       "<IPython.core.display.Markdown object>"
      ]
     },
     "metadata": {},
     "output_type": "display_data"
    },
    {
     "name": "stdout",
     "output_type": "stream",
     "text": [
      "('સૂચનોનો સમૂહ અમલમાં મૂકવો [02-DA-01]', 2)      ('અભ્યાસક્રમ (Curriculum)', 1)\n"
     ]
    },
    {
     "data": {
      "text/markdown": [
       "**bda367**"
      ],
      "text/plain": [
       "<IPython.core.display.Markdown object>"
      ]
     },
     "metadata": {},
     "output_type": "display_data"
    },
    {
     "name": "stdout",
     "output_type": "stream",
     "text": [
      "('12.0 Length', 2)      ('Conversion of units', 3)\n"
     ]
    },
    {
     "data": {
      "text/markdown": [
       "**cd1388**"
      ],
      "text/plain": [
       "<IPython.core.display.Markdown object>"
      ]
     },
     "metadata": {},
     "output_type": "display_data"
    },
    {
     "name": "stdout",
     "output_type": "stream",
     "text": [
      "(' DNA', 3)      ('Microorganisms', 2)\n"
     ]
    },
    {
     "data": {
      "text/markdown": [
       "**64cbe8**"
      ],
      "text/plain": [
       "<IPython.core.display.Markdown object>"
      ]
     },
     "metadata": {},
     "output_type": "display_data"
    },
    {
     "name": "stdout",
     "output_type": "stream",
     "text": [
      "('Noción de fracción, partes de una fracción', 4)      ('Derechos Básicos de Aprendizaje - GRADO 3', 3)\n"
     ]
    },
    {
     "data": {
      "text/markdown": [
       "**b632e3**"
      ],
      "text/plain": [
       "<IPython.core.display.Markdown object>"
      ]
     },
     "metadata": {},
     "output_type": "display_data"
    },
    {
     "name": "stdout",
     "output_type": "stream",
     "text": [
      "('तार्किक पहेली [02-PS-33]', 2)      ('पाठ्यक्रम', 1)\n"
     ]
    },
    {
     "data": {
      "text/markdown": [
       "**1b97a4**"
      ],
      "text/plain": [
       "<IPython.core.display.Markdown object>"
      ]
     },
     "metadata": {},
     "output_type": "display_data"
    },
    {
     "name": "stdout",
     "output_type": "stream",
     "text": [
      "('Trecho D3: Modelos Visuais', 4)      ('Comparação entre números decimais', 5)\n"
     ]
    },
    {
     "data": {
      "text/markdown": [
       "**064c49**"
      ],
      "text/plain": [
       "<IPython.core.display.Markdown object>"
      ]
     },
     "metadata": {},
     "output_type": "display_data"
    },
    {
     "name": "stdout",
     "output_type": "stream",
     "text": [
      "('Opportunities', 1)      ('Using Butter', 5)\n"
     ]
    },
    {
     "data": {
      "text/markdown": [
       "**c3dc85**"
      ],
      "text/plain": [
       "<IPython.core.display.Markdown object>"
      ]
     },
     "metadata": {},
     "output_type": "display_data"
    },
    {
     "name": "stdout",
     "output_type": "stream",
     "text": [
      "('माहीती मांडणी व विश्लेषण [03-IP-01]', 2)      ('अभ्यासक्रम', 1)\n"
     ]
    },
    {
     "data": {
      "text/markdown": [
       "**858f89**"
      ],
      "text/plain": [
       "<IPython.core.display.Markdown object>"
      ]
     },
     "metadata": {},
     "output_type": "display_data"
    },
    {
     "name": "stdout",
     "output_type": "stream",
     "text": [
      "('Resources- Unit 4', 3)      ('Forms of Energy', 4)\n"
     ]
    },
    {
     "data": {
      "text/markdown": [
       "**f9db19**"
      ],
      "text/plain": [
       "<IPython.core.display.Markdown object>"
      ]
     },
     "metadata": {},
     "output_type": "display_data"
    },
    {
     "name": "stdout",
     "output_type": "stream",
     "text": [
      "('Problemas verbales de multiplicación y división', 3)      ('4.1 Numeros Naturales', 2)\n"
     ]
    },
    {
     "data": {
      "text/markdown": [
       "**bb3a0c**"
      ],
      "text/plain": [
       "<IPython.core.display.Markdown object>"
      ]
     },
     "metadata": {},
     "output_type": "display_data"
    },
    {
     "name": "stdout",
     "output_type": "stream",
     "text": [
      "('Introduction to rational numbers', 3)      ('Cubes and cubes roots', 2)\n"
     ]
    },
    {
     "data": {
      "text/markdown": [
       "**a2924d**"
      ],
      "text/plain": [
       "<IPython.core.display.Markdown object>"
      ]
     },
     "metadata": {},
     "output_type": "display_data"
    },
    {
     "name": "stdout",
     "output_type": "stream",
     "text": [
      "('Square Roots', 2)      ('Real Numbers', 1)\n"
     ]
    },
    {
     "data": {
      "text/markdown": [
       "**9905b7**"
      ],
      "text/plain": [
       "<IPython.core.display.Markdown object>"
      ]
     },
     "metadata": {},
     "output_type": "display_data"
    },
    {
     "name": "stdout",
     "output_type": "stream",
     "text": [
      "('العلوم للصف الرابع الإبتدائي', 3)      ('الأحياء للصف الثالث الثانوي', 4)\n"
     ]
    },
    {
     "data": {
      "text/markdown": [
       "**f41d17**"
      ],
      "text/plain": [
       "<IPython.core.display.Markdown object>"
      ]
     },
     "metadata": {},
     "output_type": "display_data"
    },
    {
     "name": "stdout",
     "output_type": "stream",
     "text": [
      "('10-13 años', 2)      ('13-14 años', 3)\n"
     ]
    },
    {
     "data": {
      "text/markdown": [
       "**231e82**"
      ],
      "text/plain": [
       "<IPython.core.display.Markdown object>"
      ]
     },
     "metadata": {},
     "output_type": "display_data"
    },
    {
     "name": "stdout",
     "output_type": "stream",
     "text": [
      "('II Año', 4)      ('Propósito e importancia de la Educación', 5)\n"
     ]
    },
    {
     "data": {
      "text/markdown": [
       "**4689b3**"
      ],
      "text/plain": [
       "<IPython.core.display.Markdown object>"
      ]
     },
     "metadata": {},
     "output_type": "display_data"
    },
    {
     "name": "stdout",
     "output_type": "stream",
     "text": [
      "('Java 101', 1)      ('ترتيب العمليات', 2)\n"
     ]
    },
    {
     "data": {
      "text/markdown": [
       "**6465e0**"
      ],
      "text/plain": [
       "<IPython.core.display.Markdown object>"
      ]
     },
     "metadata": {},
     "output_type": "display_data"
    },
    {
     "name": "stdout",
     "output_type": "stream",
     "text": [
      "('Números de 0 a 120', 4)      ('Mediatrices', 3)\n"
     ]
    },
    {
     "data": {
      "text/markdown": [
       "**b1e277**"
      ],
      "text/plain": [
       "<IPython.core.display.Markdown object>"
      ]
     },
     "metadata": {},
     "output_type": "display_data"
    },
    {
     "name": "stdout",
     "output_type": "stream",
     "text": [
      "('Documentos de profesorado', 2)      ('El correo electronico', 1)\n"
     ]
    },
    {
     "data": {
      "text/markdown": [
       "**a91e32**"
      ],
      "text/plain": [
       "<IPython.core.display.Markdown object>"
      ]
     },
     "metadata": {},
     "output_type": "display_data"
    },
    {
     "name": "stdout",
     "output_type": "stream",
     "text": [
      "('Algebraic expressions', 3)      ('Sets Worksheets', 4)\n"
     ]
    },
    {
     "data": {
      "text/markdown": [
       "**ed5f98**"
      ],
      "text/plain": [
       "<IPython.core.display.Markdown object>"
      ]
     },
     "metadata": {},
     "output_type": "display_data"
    },
    {
     "name": "stdout",
     "output_type": "stream",
     "text": [
      "('Motion', 2)      ('Earth Science', 1)\n"
     ]
    },
    {
     "data": {
      "text/markdown": [
       "**edb272**"
      ],
      "text/plain": [
       "<IPython.core.display.Markdown object>"
      ]
     },
     "metadata": {},
     "output_type": "display_data"
    },
    {
     "name": "stdout",
     "output_type": "stream",
     "text": [
      "('Concepts', 2)      ('Biology', 1)\n"
     ]
    },
    {
     "data": {
      "text/markdown": [
       "**cc360a**"
      ],
      "text/plain": [
       "<IPython.core.display.Markdown object>"
      ]
     },
     "metadata": {},
     "output_type": "display_data"
    },
    {
     "name": "stdout",
     "output_type": "stream",
     "text": [
      "('How to Give a Vaccine', 3)      ('Dyslipidemia', 2)\n"
     ]
    },
    {
     "data": {
      "text/markdown": [
       "**16c07b**"
      ],
      "text/plain": [
       "<IPython.core.display.Markdown object>"
      ]
     },
     "metadata": {},
     "output_type": "display_data"
    },
    {
     "name": "stdout",
     "output_type": "stream",
     "text": [
      "('Word of the Day', 1)      ('English Sentences', 2)\n"
     ]
    },
    {
     "data": {
      "text/markdown": [
       "**9dd9a7**"
      ],
      "text/plain": [
       "<IPython.core.display.Markdown object>"
      ]
     },
     "metadata": {},
     "output_type": "display_data"
    },
    {
     "name": "stdout",
     "output_type": "stream",
     "text": [
      "('2 - ၂၁ ရာစု စိတ်နေသဘောထားများနှင့် အလေ့အကျင့်များ', 3)      ('Videos', 2)\n"
     ]
    }
   ],
   "source": [
    "import IPython.display\n",
    "def dfs_find_leaves(node, mlist):\n",
    "    child_count = len(node.children)\n",
    "    if child_count == 0:\n",
    "        mlist.append((node.title, node.level))\n",
    "    else:\n",
    "        for child in node.children:\n",
    "            dfs_find_leaves(child, mlist)\n",
    "\n",
    "for channel in data.topic_trees_id_list:\n",
    "    root_node = data.topic_trees[channel]\n",
    "    mlist = []\n",
    "    dfs_find_leaves(root_node, mlist)\n",
    "    level = mlist[0]\n",
    "    all_equal = True\n",
    "    problem = None\n",
    "    for lv in mlist:\n",
    "        if lv[1] != level[1]:\n",
    "            all_equal = False\n",
    "            problem = lv\n",
    "            break\n",
    "    if not all_equal:\n",
    "        display(IPython.display.Markdown(\"**{}**\".format(channel)))\n",
    "        print(level, \"    \", problem)"
   ]
  },
  {
   "cell_type": "markdown",
   "id": "4a6a8ccd",
   "metadata": {},
   "source": [
    "Not all trees have leaves all in the same level."
   ]
  },
  {
   "cell_type": "markdown",
   "id": "b0afca1e",
   "metadata": {},
   "source": [
    "# See if all leaf nodes contain some content"
   ]
  },
  {
   "cell_type": "code",
   "execution_count": 8,
   "id": "fde4bea7",
   "metadata": {},
   "outputs": [
    {
     "data": {
      "text/markdown": [
       "**channel: ef2088   title: CBSE**"
      ],
      "text/plain": [
       "<IPython.core.display.Markdown object>"
      ]
     },
     "metadata": {},
     "output_type": "display_data"
    },
    {
     "name": "stdout",
     "output_type": "stream",
     "text": [
      "61 ,    New Questions and Ideas\n"
     ]
    },
    {
     "data": {
      "text/markdown": [
       "**channel: 274269   title: Maths G3 to G10**"
      ],
      "text/plain": [
       "<IPython.core.display.Markdown object>"
      ]
     },
     "metadata": {},
     "output_type": "display_data"
    },
    {
     "name": "stdout",
     "output_type": "stream",
     "text": [
      "35 ,    Assessments\n"
     ]
    },
    {
     "data": {
      "text/markdown": [
       "**channel: 88c9d6   title: LibreTexts Engineering**"
      ],
      "text/plain": [
       "<IPython.core.display.Markdown object>"
      ]
     },
     "metadata": {},
     "output_type": "display_data"
    },
    {
     "name": "stdout",
     "output_type": "stream",
     "text": [
      "471 ,    1: Part I - Ecosystems and Humans\n"
     ]
    },
    {
     "data": {
      "text/markdown": [
       "**channel: ebc86c   title: Libretext Open Educational Resource Library**"
      ],
      "text/plain": [
       "<IPython.core.display.Markdown object>"
      ]
     },
     "metadata": {},
     "output_type": "display_data"
    },
    {
     "name": "stdout",
     "output_type": "stream",
     "text": [
      "95 ,    2.5: Structures Outside the Cell Wall\n"
     ]
    },
    {
     "data": {
      "text/markdown": [
       "**channel: 14d190   title: Ghana English Language Curriculum**"
      ],
      "text/plain": [
       "<IPython.core.display.Markdown object>"
      ]
     },
     "metadata": {},
     "output_type": "display_data"
    },
    {
     "name": "stdout",
     "output_type": "stream",
     "text": [
      "25 ,    Unit 4: Verb Tense Forms (Past Perfect ,Past Perfect Continuous ,Simple Future)\n"
     ]
    },
    {
     "data": {
      "text/markdown": [
       "**channel: 344113   title: Secondary Education**"
      ],
      "text/plain": [
       "<IPython.core.display.Markdown object>"
      ]
     },
     "metadata": {},
     "output_type": "display_data"
    },
    {
     "name": "stdout",
     "output_type": "stream",
     "text": [
      "88 ,    Study design\n"
     ]
    },
    {
     "data": {
      "text/markdown": [
       "**channel: c7ca13   title: Kolibri Library for Kenya**"
      ],
      "text/plain": [
       "<IPython.core.display.Markdown object>"
      ]
     },
     "metadata": {},
     "output_type": "display_data"
    },
    {
     "name": "stdout",
     "output_type": "stream",
     "text": [
      "18 ,    7.4.3 Importance of noble gases\n"
     ]
    },
    {
     "data": {
      "text/markdown": [
       "**channel: 7f116c   title: SCHOOL-DEV**"
      ],
      "text/plain": [
       "<IPython.core.display.Markdown object>"
      ]
     },
     "metadata": {},
     "output_type": "display_data"
    },
    {
     "name": "stdout",
     "output_type": "stream",
     "text": [
      "393 ,    Rational numbers\n"
     ]
    },
    {
     "data": {
      "text/markdown": [
       "**channel: 5223e0   title: DIGITAL EDUCATION WITH MEHUL**"
      ],
      "text/plain": [
       "<IPython.core.display.Markdown object>"
      ]
     },
     "metadata": {},
     "output_type": "display_data"
    },
    {
     "name": "stdout",
     "output_type": "stream",
     "text": [
      "21 ,    સંભાવના\n"
     ]
    },
    {
     "data": {
      "text/markdown": [
       "**channel: 1fb613   title: Libretext Open Educational Resource Library**"
      ],
      "text/plain": [
       "<IPython.core.display.Markdown object>"
      ]
     },
     "metadata": {},
     "output_type": "display_data"
    },
    {
     "name": "stdout",
     "output_type": "stream",
     "text": [
      "110 ,    Chapter 1: Problem Solving Strategies\n"
     ]
    },
    {
     "data": {
      "text/markdown": [
       "**channel: 760ea6   title: Science channel**"
      ],
      "text/plain": [
       "<IPython.core.display.Markdown object>"
      ]
     },
     "metadata": {},
     "output_type": "display_data"
    },
    {
     "name": "stdout",
     "output_type": "stream",
     "text": [
      "19 ,    Assessments\n"
     ]
    },
    {
     "data": {
      "text/markdown": [
       "**channel: 42e8ef   title: Ganar - Habilidades para el Trabajo**"
      ],
      "text/plain": [
       "<IPython.core.display.Markdown object>"
      ]
     },
     "metadata": {},
     "output_type": "display_data"
    },
    {
     "name": "stdout",
     "output_type": "stream",
     "text": [
      "257 ,    Nuestro juego de mesa\n"
     ]
    },
    {
     "data": {
      "text/markdown": [
       "**channel: d2ac0e   title: Rajasthan State Hindi Channel**"
      ],
      "text/plain": [
       "<IPython.core.display.Markdown object>"
      ]
     },
     "metadata": {},
     "output_type": "display_data"
    },
    {
     "name": "stdout",
     "output_type": "stream",
     "text": [
      "15 ,    Number systems\n"
     ]
    },
    {
     "data": {
      "text/markdown": [
       "**channel: 8bbad6   title: Maharashtra State Class 3 to 9 (English)**"
      ],
      "text/plain": [
       "<IPython.core.display.Markdown object>"
      ]
     },
     "metadata": {},
     "output_type": "display_data"
    },
    {
     "name": "stdout",
     "output_type": "stream",
     "text": [
      "34 ,    KA resources\n"
     ]
    },
    {
     "data": {
      "text/markdown": [
       "**channel: e77b55   title: Camara Education Ethiopia Secondary Science and Maths for the Deaf**"
      ],
      "text/plain": [
       "<IPython.core.display.Markdown object>"
      ]
     },
     "metadata": {},
     "output_type": "display_data"
    },
    {
     "name": "stdout",
     "output_type": "stream",
     "text": [
      "192 ,    4.3 Graph of functions\n"
     ]
    },
    {
     "data": {
      "text/markdown": [
       "**channel: 54971d   title: Ciencias Naturales - Honduras**"
      ],
      "text/plain": [
       "<IPython.core.display.Markdown object>"
      ]
     },
     "metadata": {},
     "output_type": "display_data"
    },
    {
     "name": "stdout",
     "output_type": "stream",
     "text": [
      "60 ,    Lactancia materna\n"
     ]
    },
    {
     "data": {
      "text/markdown": [
       "**channel: 39979b   title: BB-Science**"
      ],
      "text/plain": [
       "<IPython.core.display.Markdown object>"
      ]
     },
     "metadata": {},
     "output_type": "display_data"
    },
    {
     "name": "stdout",
     "output_type": "stream",
     "text": [
      "138 ,    Social Health\n"
     ]
    },
    {
     "data": {
      "text/markdown": [
       "**channel: 998df9   title: Chile - 1° Básico a 2° Medio - Matemáticas**"
      ],
      "text/plain": [
       "<IPython.core.display.Markdown object>"
      ]
     },
     "metadata": {},
     "output_type": "display_data"
    },
    {
     "name": "stdout",
     "output_type": "stream",
     "text": [
      "31 ,    Representan cantidades de 0 a 20 de manera concreta y escriben el número representado.\n"
     ]
    },
    {
     "data": {
      "text/markdown": [
       "**channel: b4897d   title: BB-English**"
      ],
      "text/plain": [
       "<IPython.core.display.Markdown object>"
      ]
     },
     "metadata": {},
     "output_type": "display_data"
    },
    {
     "name": "stdout",
     "output_type": "stream",
     "text": [
      "75 ,    Prepositions\n"
     ]
    },
    {
     "data": {
      "text/markdown": [
       "**channel: fc9105   title: Laboratoria**"
      ],
      "text/plain": [
       "<IPython.core.display.Markdown object>"
      ]
     },
     "metadata": {},
     "output_type": "display_data"
    },
    {
     "name": "stdout",
     "output_type": "stream",
     "text": [
      "388 ,    Intro\n"
     ]
    },
    {
     "data": {
      "text/markdown": [
       "**channel: bfc678   title: Math**"
      ],
      "text/plain": [
       "<IPython.core.display.Markdown object>"
      ]
     },
     "metadata": {},
     "output_type": "display_data"
    },
    {
     "name": "stdout",
     "output_type": "stream",
     "text": [
      "93 ,    Déplacements\n"
     ]
    },
    {
     "data": {
      "text/markdown": [
       "**channel: 383b8a   title: College**"
      ],
      "text/plain": [
       "<IPython.core.display.Markdown object>"
      ]
     },
     "metadata": {},
     "output_type": "display_data"
    },
    {
     "name": "stdout",
     "output_type": "stream",
     "text": [
      "18 ,    Inputs and Outputs of Functions\n"
     ]
    },
    {
     "data": {
      "text/markdown": [
       "**channel: ef93f0   title: Clone of Science remix channel**"
      ],
      "text/plain": [
       "<IPython.core.display.Markdown object>"
      ]
     },
     "metadata": {},
     "output_type": "display_data"
    },
    {
     "name": "stdout",
     "output_type": "stream",
     "text": [
      "7 ,    Air pollution - Cause, effect, the green house effect\n"
     ]
    },
    {
     "data": {
      "text/markdown": [
       "**channel: cf94d5   title: LibreTexts Physics**"
      ],
      "text/plain": [
       "<IPython.core.display.Markdown object>"
      ]
     },
     "metadata": {},
     "output_type": "display_data"
    },
    {
     "name": "stdout",
     "output_type": "stream",
     "text": [
      "126 ,    Map: Cosmology (Knox)\n"
     ]
    },
    {
     "data": {
      "text/markdown": [
       "**channel: 484bd2   title: PORTAL ESTUDIANTIL**"
      ],
      "text/plain": [
       "<IPython.core.display.Markdown object>"
      ]
     },
     "metadata": {},
     "output_type": "display_data"
    },
    {
     "name": "stdout",
     "output_type": "stream",
     "text": [
      "97 ,    N3: Multiplicación\n"
     ]
    },
    {
     "data": {
      "text/markdown": [
       "**channel: 14cb7f   title: Zim**"
      ],
      "text/plain": [
       "<IPython.core.display.Markdown object>"
      ]
     },
     "metadata": {},
     "output_type": "display_data"
    },
    {
     "name": "stdout",
     "output_type": "stream",
     "text": [
      "60 ,    Measure of Area\n"
     ]
    },
    {
     "data": {
      "text/markdown": [
       "**channel: d5fb04   title: Rajasthan State English Channel**"
      ],
      "text/plain": [
       "<IPython.core.display.Markdown object>"
      ]
     },
     "metadata": {},
     "output_type": "display_data"
    },
    {
     "name": "stdout",
     "output_type": "stream",
     "text": [
      "8 ,    Visualizing solid shapes\n"
     ]
    },
    {
     "data": {
      "text/markdown": [
       "**channel: 05be9f   title: Camara Education ZamSTEM Maths Grade 8 to 12**"
      ],
      "text/plain": [
       "<IPython.core.display.Markdown object>"
      ]
     },
     "metadata": {},
     "output_type": "display_data"
    },
    {
     "name": "stdout",
     "output_type": "stream",
     "text": [
      "50 ,    11.4.2 Composite functions\n"
     ]
    },
    {
     "data": {
      "text/markdown": [
       "**channel: d4eeb3   title: Level 6 (Grade 9)**"
      ],
      "text/plain": [
       "<IPython.core.display.Markdown object>"
      ]
     },
     "metadata": {},
     "output_type": "display_data"
    },
    {
     "name": "stdout",
     "output_type": "stream",
     "text": [
      "67 ,    Parts of speech: the adverb\n"
     ]
    },
    {
     "data": {
      "text/markdown": [
       "**channel: 50083f   title: English Content**"
      ],
      "text/plain": [
       "<IPython.core.display.Markdown object>"
      ]
     },
     "metadata": {},
     "output_type": "display_data"
    },
    {
     "name": "stdout",
     "output_type": "stream",
     "text": [
      "126 ,    Syntax: subject-verb agreement\n"
     ]
    },
    {
     "data": {
      "text/markdown": [
       "**channel: 6b09a4   title: Fiji Y10 Mathematics**"
      ],
      "text/plain": [
       "<IPython.core.display.Markdown object>"
      ]
     },
     "metadata": {},
     "output_type": "display_data"
    },
    {
     "name": "stdout",
     "output_type": "stream",
     "text": [
      "9 ,    Addition and Subtraction\n"
     ]
    },
    {
     "data": {
      "text/markdown": [
       "**channel: 2293a4   title: Ubongo Kids (Malawi)**"
      ],
      "text/plain": [
       "<IPython.core.display.Markdown object>"
      ]
     },
     "metadata": {},
     "output_type": "display_data"
    },
    {
     "name": "stdout",
     "output_type": "stream",
     "text": [
      "22 ,    Talking about different sounds and stories\n"
     ]
    },
    {
     "data": {
      "text/markdown": [
       "**channel: 36068f   title: আগামী**"
      ],
      "text/plain": [
       "<IPython.core.display.Markdown object>"
      ]
     },
     "metadata": {},
     "output_type": "display_data"
    },
    {
     "name": "stdout",
     "output_type": "stream",
     "text": [
      "2 ,    পদার্থ বিজ্ঞান\n"
     ]
    },
    {
     "data": {
      "text/markdown": [
       "**channel: f65044   title: Aprendo en Casa - Primaria**"
      ],
      "text/plain": [
       "<IPython.core.display.Markdown object>"
      ]
     },
     "metadata": {},
     "output_type": "display_data"
    },
    {
     "name": "stdout",
     "output_type": "stream",
     "text": [
      "93 ,    7 Riqueza en la diversidad | Mi mundo y todo el mundo mejor\n"
     ]
    },
    {
     "data": {
      "text/markdown": [
       "**channel: 5c4c46   title: Khan Academy Hisabati (Tanzania)**"
      ],
      "text/plain": [
       "<IPython.core.display.Markdown object>"
      ]
     },
     "metadata": {},
     "output_type": "display_data"
    },
    {
     "name": "stdout",
     "output_type": "stream",
     "text": [
      "5 ,    7.3.e Ukubwa wa miche\n"
     ]
    },
    {
     "data": {
      "text/markdown": [
       "**channel: 4b0f81   title: English (Gr4-7)**"
      ],
      "text/plain": [
       "<IPython.core.display.Markdown object>"
      ]
     },
     "metadata": {},
     "output_type": "display_data"
    },
    {
     "name": "stdout",
     "output_type": "stream",
     "text": [
      "6 ,    Writing\n"
     ]
    },
    {
     "data": {
      "text/markdown": [
       "**channel: 49ea7a   title: Chemistry**"
      ],
      "text/plain": [
       "<IPython.core.display.Markdown object>"
      ]
     },
     "metadata": {},
     "output_type": "display_data"
    },
    {
     "name": "stdout",
     "output_type": "stream",
     "text": [
      "26 ,    8. Extraction of Metals\n"
     ]
    },
    {
     "data": {
      "text/markdown": [
       "**channel: 57e9d3   title: Universo do Conhecimento**"
      ],
      "text/plain": [
       "<IPython.core.display.Markdown object>"
      ]
     },
     "metadata": {},
     "output_type": "display_data"
    },
    {
     "name": "stdout",
     "output_type": "stream",
     "text": [
      "4 ,    Trecho C2: Bacias Hidrográficas\n"
     ]
    },
    {
     "data": {
      "text/markdown": [
       "**channel: 0f546a   title: Camara Education ZamSTEM Maths Junior Secondary - Grade 8 and 9**"
      ],
      "text/plain": [
       "<IPython.core.display.Markdown object>"
      ]
     },
     "metadata": {},
     "output_type": "display_data"
    },
    {
     "name": "stdout",
     "output_type": "stream",
     "text": [
      "11 ,    8.5.4 Construction of formulae.\n"
     ]
    },
    {
     "data": {
      "text/markdown": [
       "**channel: 0a9df7   title: Our World and Our People (Ghana)**"
      ],
      "text/plain": [
       "<IPython.core.display.Markdown object>"
      ]
     },
     "metadata": {},
     "output_type": "display_data"
    },
    {
     "name": "stdout",
     "output_type": "stream",
     "text": [
      "44 ,    Map Making and Landmarks\n"
     ]
    },
    {
     "data": {
      "text/markdown": [
       "**channel: 8afc0b   title: Camara Education - Ethiopia**"
      ],
      "text/plain": [
       "<IPython.core.display.Markdown object>"
      ]
     },
     "metadata": {},
     "output_type": "display_data"
    },
    {
     "name": "stdout",
     "output_type": "stream",
     "text": [
      "1 ,    Assessment\n"
     ]
    },
    {
     "data": {
      "text/markdown": [
       "**channel: 11171c   title: KICD Biology Curriculum (DRAFT)**"
      ],
      "text/plain": [
       "<IPython.core.display.Markdown object>"
      ]
     },
     "metadata": {},
     "output_type": "display_data"
    },
    {
     "name": "stdout",
     "output_type": "stream",
     "text": [
      "50 ,    1.4 Characteristics of living organisms\n"
     ]
    },
    {
     "data": {
      "text/markdown": [
       "**channel: 494cf2   title: Camara Education St. Martin's Physics**"
      ],
      "text/plain": [
       "<IPython.core.display.Markdown object>"
      ]
     },
     "metadata": {},
     "output_type": "display_data"
    },
    {
     "name": "stdout",
     "output_type": "stream",
     "text": [
      "16 ,    5.2.2 Brownian motion\n"
     ]
    },
    {
     "data": {
      "text/markdown": [
       "**channel: bae253   title: PF (English)**"
      ],
      "text/plain": [
       "<IPython.core.display.Markdown object>"
      ]
     },
     "metadata": {},
     "output_type": "display_data"
    },
    {
     "name": "stdout",
     "output_type": "stream",
     "text": [
      "1 ,    Principles for a Healthy Life\n"
     ]
    },
    {
     "data": {
      "text/markdown": [
       "**channel: 686d66   title: Camara Education ZamSTEM Maths Senior Secondary - Grade 10, 11 and 12**"
      ],
      "text/plain": [
       "<IPython.core.display.Markdown object>"
      ]
     },
     "metadata": {},
     "output_type": "display_data"
    },
    {
     "name": "stdout",
     "output_type": "stream",
     "text": [
      "22 ,    10.2.1 Indices\n"
     ]
    },
    {
     "data": {
      "text/markdown": [
       "**channel: c1d57e   title: PF (Português)**"
      ],
      "text/plain": [
       "<IPython.core.display.Markdown object>"
      ]
     },
     "metadata": {},
     "output_type": "display_data"
    },
    {
     "name": "stdout",
     "output_type": "stream",
     "text": [
      "117 ,    IN_PROFISSIONAL - Metodologias de ensino inovadoras\n"
     ]
    },
    {
     "data": {
      "text/markdown": [
       "**channel: 23f9e1   title: F3 Math**"
      ],
      "text/plain": [
       "<IPython.core.display.Markdown object>"
      ]
     },
     "metadata": {},
     "output_type": "display_data"
    },
    {
     "name": "stdout",
     "output_type": "stream",
     "text": [
      "33 ,    Inputs and Outputs of Functions\n"
     ]
    },
    {
     "data": {
      "text/markdown": [
       "**channel: d30518   title: F2 Math**"
      ],
      "text/plain": [
       "<IPython.core.display.Markdown object>"
      ]
     },
     "metadata": {},
     "output_type": "display_data"
    },
    {
     "name": "stdout",
     "output_type": "stream",
     "text": [
      "12 ,    Laws of Exponents\n"
     ]
    },
    {
     "data": {
      "text/markdown": [
       "**channel: 71fd51   title: PF (Español)**"
      ],
      "text/plain": [
       "<IPython.core.display.Markdown object>"
      ]
     },
     "metadata": {},
     "output_type": "display_data"
    },
    {
     "name": "stdout",
     "output_type": "stream",
     "text": [
      "9 ,    TIC_PROFESIONAL - Las TIC al servicio de la educación\n"
     ]
    },
    {
     "data": {
      "text/markdown": [
       "**channel: b3f329   title: Ghana JHS Curriculum (in progress)**"
      ],
      "text/plain": [
       "<IPython.core.display.Markdown object>"
      ]
     },
     "metadata": {},
     "output_type": "display_data"
    },
    {
     "name": "stdout",
     "output_type": "stream",
     "text": [
      "12 ,    Unit 1.4 Shape and Space\n"
     ]
    },
    {
     "data": {
      "text/markdown": [
       "**channel: 9d5527   title: Basic 4 - English**"
      ],
      "text/plain": [
       "<IPython.core.display.Markdown object>"
      ]
     },
     "metadata": {},
     "output_type": "display_data"
    },
    {
     "name": "stdout",
     "output_type": "stream",
     "text": [
      "10 ,    Sub-Strand 6: Using Adverbs\n"
     ]
    },
    {
     "data": {
      "text/markdown": [
       "**channel: c36745   title: PF (Français, langue française)**"
      ],
      "text/plain": [
       "<IPython.core.display.Markdown object>"
      ]
     },
     "metadata": {},
     "output_type": "display_data"
    },
    {
     "name": "stdout",
     "output_type": "stream",
     "text": [
      "4 ,    TIC_PROFESSIONNEL – Les TIC au service de l'éducation\n"
     ]
    },
    {
     "data": {
      "text/markdown": [
       "**channel: 02be07   title: Exercise (KAB)**"
      ],
      "text/plain": [
       "<IPython.core.display.Markdown object>"
      ]
     },
     "metadata": {},
     "output_type": "display_data"
    },
    {
     "name": "stdout",
     "output_type": "stream",
     "text": [
      "20 ,    অধ্যায় ৮: গড়\n"
     ]
    },
    {
     "data": {
      "text/markdown": [
       "**channel: 5d4a02   title: Camara Education Ethiopia Impact Maths**"
      ],
      "text/plain": [
       "<IPython.core.display.Markdown object>"
      ]
     },
     "metadata": {},
     "output_type": "display_data"
    },
    {
     "name": "stdout",
     "output_type": "stream",
     "text": [
      "14 ,    5.2 - The reciprocal Functions of the Basic Trigonometric Functions\n"
     ]
    },
    {
     "data": {
      "text/markdown": [
       "**channel: 998b74   title: Chemistry CP**"
      ],
      "text/plain": [
       "<IPython.core.display.Markdown object>"
      ]
     },
     "metadata": {},
     "output_type": "display_data"
    },
    {
     "name": "stdout",
     "output_type": "stream",
     "text": [
      "22 ,    Ions\n"
     ]
    },
    {
     "data": {
      "text/markdown": [
       "**channel: 03de11   title: KICD Chemistry Curriculum (DRAFT)**"
      ],
      "text/plain": [
       "<IPython.core.display.Markdown object>"
      ]
     },
     "metadata": {},
     "output_type": "display_data"
    },
    {
     "name": "stdout",
     "output_type": "stream",
     "text": [
      "21 ,    11.3 Preparation and properties of carbon (IV) oxide (carbon dioxide)\n"
     ]
    },
    {
     "data": {
      "text/markdown": [
       "**channel: fc1d48   title: BLIBLIOTECA - EDUCACIÒN FISICA - GRADO PRIMERO A ONCE**"
      ],
      "text/plain": [
       "<IPython.core.display.Markdown object>"
      ]
     },
     "metadata": {},
     "output_type": "display_data"
    },
    {
     "name": "stdout",
     "output_type": "stream",
     "text": [
      "34 ,    Tema General\n"
     ]
    },
    {
     "data": {
      "text/markdown": [
       "**channel: c8450a   title: Assam SEBA Curriculum (Assamese-Medium)**"
      ],
      "text/plain": [
       "<IPython.core.display.Markdown object>"
      ]
     },
     "metadata": {},
     "output_type": "display_data"
    },
    {
     "name": "stdout",
     "output_type": "stream",
     "text": [
      "4 ,    পৰিৱেশ বিজ্ঞান/Environmental science\n"
     ]
    },
    {
     "data": {
      "text/markdown": [
       "**channel: 75fbe2   title: Computer Science**"
      ],
      "text/plain": [
       "<IPython.core.display.Markdown object>"
      ]
     },
     "metadata": {},
     "output_type": "display_data"
    },
    {
     "name": "stdout",
     "output_type": "stream",
     "text": [
      "25 ,    Orientation\n"
     ]
    },
    {
     "data": {
      "text/markdown": [
       "**channel: 239d8f   title: BIBLIOTECA . QUIMINICA GRADO DECIMO A GRADO ONCE**"
      ],
      "text/plain": [
       "<IPython.core.display.Markdown object>"
      ]
     },
     "metadata": {},
     "output_type": "display_data"
    },
    {
     "name": "stdout",
     "output_type": "stream",
     "text": [
      "23 ,    Tema General\n"
     ]
    },
    {
     "data": {
      "text/markdown": [
       "**channel: 1843c5   title: Form 3 Biology**"
      ],
      "text/plain": [
       "<IPython.core.display.Markdown object>"
      ]
     },
     "metadata": {},
     "output_type": "display_data"
    },
    {
     "name": "stdout",
     "output_type": "stream",
     "text": [
      "46 ,    Fish\n"
     ]
    },
    {
     "data": {
      "text/markdown": [
       "**channel: 8b5488   title: Matemáticas grado segundo**"
      ],
      "text/plain": [
       "<IPython.core.display.Markdown object>"
      ]
     },
     "metadata": {},
     "output_type": "display_data"
    },
    {
     "name": "stdout",
     "output_type": "stream",
     "text": [
      "5 ,    Medición\n"
     ]
    },
    {
     "data": {
      "text/markdown": [
       "**channel: cfc6dd   title: F4 Math**"
      ],
      "text/plain": [
       "<IPython.core.display.Markdown object>"
      ]
     },
     "metadata": {},
     "output_type": "display_data"
    },
    {
     "name": "stdout",
     "output_type": "stream",
     "text": [
      "65 ,    Simultaneous Equations word problems 2\n"
     ]
    },
    {
     "data": {
      "text/markdown": [
       "**channel: f08256   title: Ghana Education Service (GES) Curriculum**"
      ],
      "text/plain": [
       "<IPython.core.display.Markdown object>"
      ]
     },
     "metadata": {},
     "output_type": "display_data"
    },
    {
     "name": "stdout",
     "output_type": "stream",
     "text": [
      "23 ,    Geometric Construction\n"
     ]
    },
    {
     "data": {
      "text/markdown": [
       "**channel: 983e56   title: Camara Learning Studio Demo**"
      ],
      "text/plain": [
       "<IPython.core.display.Markdown object>"
      ]
     },
     "metadata": {},
     "output_type": "display_data"
    },
    {
     "name": "stdout",
     "output_type": "stream",
     "text": [
      "9 ,    1.1.0 Round of numbers to the nearest tens, hundreds, thousands, millions and billions,\n"
     ]
    },
    {
     "data": {
      "text/markdown": [
       "**channel: cd1388   title: FuseSchool**"
      ],
      "text/plain": [
       "<IPython.core.display.Markdown object>"
      ]
     },
     "metadata": {},
     "output_type": "display_data"
    },
    {
     "name": "stdout",
     "output_type": "stream",
     "text": [
      "17 ,    Geometry and Measures \n"
     ]
    },
    {
     "data": {
      "text/markdown": [
       "**channel: 64cbe8   title: GRADO 3**"
      ],
      "text/plain": [
       "<IPython.core.display.Markdown object>"
      ]
     },
     "metadata": {},
     "output_type": "display_data"
    },
    {
     "name": "stdout",
     "output_type": "stream",
     "text": [
      "47 ,    Algoritmos de multiplicación\n"
     ]
    },
    {
     "data": {
      "text/markdown": [
       "**channel: 064c49   title: Real Futures**"
      ],
      "text/plain": [
       "<IPython.core.display.Markdown object>"
      ]
     },
     "metadata": {},
     "output_type": "display_data"
    },
    {
     "name": "stdout",
     "output_type": "stream",
     "text": [
      "16 ,    Baking and Home-Made Desserts\n"
     ]
    },
    {
     "data": {
      "text/markdown": [
       "**channel: bb3a0c   title: khan math 8**"
      ],
      "text/plain": [
       "<IPython.core.display.Markdown object>"
      ]
     },
     "metadata": {},
     "output_type": "display_data"
    },
    {
     "name": "stdout",
     "output_type": "stream",
     "text": [
      "26 ,    Cubes and cubes roots\n"
     ]
    },
    {
     "data": {
      "text/markdown": [
       "**channel: a2924d   title: Form 2 Maths**"
      ],
      "text/plain": [
       "<IPython.core.display.Markdown object>"
      ]
     },
     "metadata": {},
     "output_type": "display_data"
    },
    {
     "name": "stdout",
     "output_type": "stream",
     "text": [
      "8 ,    Real Numbers\n"
     ]
    },
    {
     "data": {
      "text/markdown": [
       "**channel: 231e82   title: Fundación Fab**"
      ],
      "text/plain": [
       "<IPython.core.display.Markdown object>"
      ]
     },
     "metadata": {},
     "output_type": "display_data"
    },
    {
     "name": "stdout",
     "output_type": "stream",
     "text": [
      "4 ,    II Año\n"
     ]
    }
   ],
   "source": [
    "import IPython.display\n",
    "\n",
    "for channel in data.topic_trees_id_list:\n",
    "    root_node = data.topic_trees[channel]\n",
    "    result = root_node.search_preorder(lambda x: not x.has_content, at = \"leaf\")\n",
    "    \n",
    "    if result is not None:\n",
    "        display(IPython.display.Markdown(\"**channel: {}   title: {}**\".format(channel, root_node.title)))\n",
    "        print(result[0], \",   \", result[1].title)"
   ]
  },
  {
   "cell_type": "markdown",
   "id": "978daa6f",
   "metadata": {},
   "source": [
    "Not all leaf nodes contain some content"
   ]
  },
  {
   "cell_type": "markdown",
   "id": "73156307",
   "metadata": {},
   "source": [
    "# See if all the contents only appear in leaf nodes"
   ]
  },
  {
   "cell_type": "code",
   "execution_count": 11,
   "id": "442091dc",
   "metadata": {},
   "outputs": [
    {
     "data": {
      "text/markdown": [
       "**channel: 6e90a7   title: CREE**"
      ],
      "text/plain": [
       "<IPython.core.display.Markdown object>"
      ]
     },
     "metadata": {},
     "output_type": "display_data"
    },
    {
     "name": "stdout",
     "output_type": "stream",
     "text": [
      "2 ,    Educación Media\n"
     ]
    },
    {
     "data": {
      "text/markdown": [
       "**channel: ef2088   title: CBSE**"
      ],
      "text/plain": [
       "<IPython.core.display.Markdown object>"
      ]
     },
     "metadata": {},
     "output_type": "display_data"
    },
    {
     "name": "stdout",
     "output_type": "stream",
     "text": [
      "1670 ,    Coordinating Conjunctions\n"
     ]
    },
    {
     "data": {
      "text/markdown": [
       "**channel: 410920   title: EngageNY (es)**"
      ],
      "text/plain": [
       "<IPython.core.display.Markdown object>"
      ]
     },
     "metadata": {},
     "output_type": "display_data"
    },
    {
     "name": "stdout",
     "output_type": "stream",
     "text": [
      "2 ,    Módulo 5\n"
     ]
    },
    {
     "data": {
      "text/markdown": [
       "**channel: 5139e9   title: وزارة التربية والتعليم الأردنية**"
      ],
      "text/plain": [
       "<IPython.core.display.Markdown object>"
      ]
     },
     "metadata": {},
     "output_type": "display_data"
    },
    {
     "name": "stdout",
     "output_type": "stream",
     "text": [
      "0 ,    وزارة التربية والتعليم الأردنية\n"
     ]
    },
    {
     "data": {
      "text/markdown": [
       "**channel: 274269   title: Maths G3 to G10**"
      ],
      "text/plain": [
       "<IPython.core.display.Markdown object>"
      ]
     },
     "metadata": {},
     "output_type": "display_data"
    },
    {
     "name": "stdout",
     "output_type": "stream",
     "text": [
      "6 ,    Assessments\n"
     ]
    },
    {
     "data": {
      "text/markdown": [
       "**channel: 217993   title: PraDigi**"
      ],
      "text/plain": [
       "<IPython.core.display.Markdown object>"
      ]
     },
     "metadata": {},
     "output_type": "display_data"
    },
    {
     "name": "stdout",
     "output_type": "stream",
     "text": [
      "7 ,    ਇੰਗਲਿਸ਼\n"
     ]
    },
    {
     "data": {
      "text/markdown": [
       "**channel: 88c9d6   title: LibreTexts Engineering**"
      ],
      "text/plain": [
       "<IPython.core.display.Markdown object>"
      ]
     },
     "metadata": {},
     "output_type": "display_data"
    },
    {
     "name": "stdout",
     "output_type": "stream",
     "text": [
      "6 ,    1: Chapters\n"
     ]
    },
    {
     "data": {
      "text/markdown": [
       "**channel: ebc86c   title: Libretext Open Educational Resource Library**"
      ],
      "text/plain": [
       "<IPython.core.display.Markdown object>"
      ]
     },
     "metadata": {},
     "output_type": "display_data"
    },
    {
     "name": "stdout",
     "output_type": "stream",
     "text": [
      "14 ,    1: Fundamental Properties of Genes\n"
     ]
    },
    {
     "data": {
      "text/markdown": [
       "**channel: 9fd860   title: Edraak (العربيّة)**"
      ],
      "text/plain": [
       "<IPython.core.display.Markdown object>"
      ]
     },
     "metadata": {},
     "output_type": "display_data"
    },
    {
     "name": "stdout",
     "output_type": "stream",
     "text": [
      "2 ,    استقصاء الحاجة إلى مقاييس التشتّت وحساب هذه المقاييس وتوضيح المعلومات التي تقدّمها عن البيانات\n"
     ]
    },
    {
     "data": {
      "text/markdown": [
       "**channel: 14d190   title: Ghana English Language Curriculum**"
      ],
      "text/plain": [
       "<IPython.core.display.Markdown object>"
      ]
     },
     "metadata": {},
     "output_type": "display_data"
    },
    {
     "name": "stdout",
     "output_type": "stream",
     "text": [
      "45 ,    J2.5.1.4 determine how stories are developed i.e. plot.\n"
     ]
    },
    {
     "data": {
      "text/markdown": [
       "**channel: 344113   title: Secondary Education**"
      ],
      "text/plain": [
       "<IPython.core.display.Markdown object>"
      ]
     },
     "metadata": {},
     "output_type": "display_data"
    },
    {
     "name": "stdout",
     "output_type": "stream",
     "text": [
      "8 ,    Ratio and Proportion\n"
     ]
    },
    {
     "data": {
      "text/markdown": [
       "**channel: c7ca13   title: Kolibri Library for Kenya**"
      ],
      "text/plain": [
       "<IPython.core.display.Markdown object>"
      ]
     },
     "metadata": {},
     "output_type": "display_data"
    },
    {
     "name": "stdout",
     "output_type": "stream",
     "text": [
      "0 ,    Kolibri Library for Kenya\n"
     ]
    },
    {
     "data": {
      "text/markdown": [
       "**channel: 7f116c   title: SCHOOL-DEV**"
      ],
      "text/plain": [
       "<IPython.core.display.Markdown object>"
      ]
     },
     "metadata": {},
     "output_type": "display_data"
    },
    {
     "name": "stdout",
     "output_type": "stream",
     "text": [
      "4 ,    ICT JSS2\n"
     ]
    },
    {
     "data": {
      "text/markdown": [
       "**channel: 5223e0   title: DIGITAL EDUCATION WITH MEHUL**"
      ],
      "text/plain": [
       "<IPython.core.display.Markdown object>"
      ]
     },
     "metadata": {},
     "output_type": "display_data"
    },
    {
     "name": "stdout",
     "output_type": "stream",
     "text": [
      "15 ,    ધો-૩ વાંચન-ગણન-લેખન Topic\n"
     ]
    },
    {
     "data": {
      "text/markdown": [
       "**channel: 1fb613   title: Libretext Open Educational Resource Library**"
      ],
      "text/plain": [
       "<IPython.core.display.Markdown object>"
      ]
     },
     "metadata": {},
     "output_type": "display_data"
    },
    {
     "name": "stdout",
     "output_type": "stream",
     "text": [
      "12 ,    9 Rational numbers, Irrational Numbers, and Continued fractions\n"
     ]
    },
    {
     "data": {
      "text/markdown": [
       "**channel: 760ea6   title: Science channel**"
      ],
      "text/plain": [
       "<IPython.core.display.Markdown object>"
      ]
     },
     "metadata": {},
     "output_type": "display_data"
    },
    {
     "name": "stdout",
     "output_type": "stream",
     "text": [
      "9 ,    Assessments\n"
     ]
    },
    {
     "data": {
      "text/markdown": [
       "**channel: 42e8ef   title: Ganar - Habilidades para el Trabajo**"
      ],
      "text/plain": [
       "<IPython.core.display.Markdown object>"
      ]
     },
     "metadata": {},
     "output_type": "display_data"
    },
    {
     "name": "stdout",
     "output_type": "stream",
     "text": [
      "2 ,    Bootcamp @Laboratoria\n"
     ]
    },
    {
     "data": {
      "text/markdown": [
       "**channel: d2ac0e   title: Rajasthan State Hindi Channel**"
      ],
      "text/plain": [
       "<IPython.core.display.Markdown object>"
      ]
     },
     "metadata": {},
     "output_type": "display_data"
    },
    {
     "name": "stdout",
     "output_type": "stream",
     "text": [
      "0 ,    Rajasthan State Hindi Channel\n"
     ]
    },
    {
     "data": {
      "text/markdown": [
       "**channel: 6e3ba4   title: MIT Blossoms**"
      ],
      "text/plain": [
       "<IPython.core.display.Markdown object>"
      ]
     },
     "metadata": {},
     "output_type": "display_data"
    },
    {
     "name": "stdout",
     "output_type": "stream",
     "text": [
      "2 ,    An Introduction to the Physics of Sailing\n"
     ]
    },
    {
     "data": {
      "text/markdown": [
       "**channel: 8bbad6   title: Maharashtra State Class 3 to 9 (English)**"
      ],
      "text/plain": [
       "<IPython.core.display.Markdown object>"
      ]
     },
     "metadata": {},
     "output_type": "display_data"
    },
    {
     "name": "stdout",
     "output_type": "stream",
     "text": [
      "16 ,    3 digit numbers\n"
     ]
    },
    {
     "data": {
      "text/markdown": [
       "**channel: e77b55   title: Camara Education Ethiopia Secondary Science and Maths for the Deaf**"
      ],
      "text/plain": [
       "<IPython.core.display.Markdown object>"
      ]
     },
     "metadata": {},
     "output_type": "display_data"
    },
    {
     "name": "stdout",
     "output_type": "stream",
     "text": [
      "2 ,    Mathematics\n"
     ]
    },
    {
     "data": {
      "text/markdown": [
       "**channel: 54971d   title: Ciencias Naturales - Honduras**"
      ],
      "text/plain": [
       "<IPython.core.display.Markdown object>"
      ]
     },
     "metadata": {},
     "output_type": "display_data"
    },
    {
     "name": "stdout",
     "output_type": "stream",
     "text": [
      "2 ,    9eno\n"
     ]
    },
    {
     "data": {
      "text/markdown": [
       "**channel: 998df9   title: Chile - 1° Básico a 2° Medio - Matemáticas**"
      ],
      "text/plain": [
       "<IPython.core.display.Markdown object>"
      ]
     },
     "metadata": {},
     "output_type": "display_data"
    },
    {
     "name": "stdout",
     "output_type": "stream",
     "text": [
      "3 ,    OA 14. Identificar figuras 2D y 3D\n"
     ]
    },
    {
     "data": {
      "text/markdown": [
       "**channel: b4897d   title: BB-English**"
      ],
      "text/plain": [
       "<IPython.core.display.Markdown object>"
      ]
     },
     "metadata": {},
     "output_type": "display_data"
    },
    {
     "name": "stdout",
     "output_type": "stream",
     "text": [
      "7 ,    Coordinating Conjunctions\n"
     ]
    },
    {
     "data": {
      "text/markdown": [
       "**channel: fc9105   title: Laboratoria**"
      ],
      "text/plain": [
       "<IPython.core.display.Markdown object>"
      ]
     },
     "metadata": {},
     "output_type": "display_data"
    },
    {
     "name": "stdout",
     "output_type": "stream",
     "text": [
      "0 ,    Laboratoria\n"
     ]
    },
    {
     "data": {
      "text/markdown": [
       "**channel: 4d2d4a   title: TESSIndia**"
      ],
      "text/plain": [
       "<IPython.core.display.Markdown object>"
      ]
     },
     "metadata": {},
     "output_type": "display_data"
    },
    {
     "name": "stdout",
     "output_type": "stream",
     "text": [
      "2 ,    বিদ্যালয়ের নেতৃত্ব\n"
     ]
    },
    {
     "data": {
      "text/markdown": [
       "**channel: 383b8a   title: College**"
      ],
      "text/plain": [
       "<IPython.core.display.Markdown object>"
      ]
     },
     "metadata": {},
     "output_type": "display_data"
    },
    {
     "name": "stdout",
     "output_type": "stream",
     "text": [
      "217 ,    Quadratics Exercises 1\n"
     ]
    },
    {
     "data": {
      "text/markdown": [
       "**channel: 50fe84   title: High School**"
      ],
      "text/plain": [
       "<IPython.core.display.Markdown object>"
      ]
     },
     "metadata": {},
     "output_type": "display_data"
    },
    {
     "name": "stdout",
     "output_type": "stream",
     "text": [
      "0 ,    High School\n"
     ]
    },
    {
     "data": {
      "text/markdown": [
       "**channel: ef93f0   title: Clone of Science remix channel**"
      ],
      "text/plain": [
       "<IPython.core.display.Markdown object>"
      ]
     },
     "metadata": {},
     "output_type": "display_data"
    },
    {
     "name": "stdout",
     "output_type": "stream",
     "text": [
      "157 ,    Assessments\n"
     ]
    },
    {
     "data": {
      "text/markdown": [
       "**channel: cf94d5   title: LibreTexts Physics**"
      ],
      "text/plain": [
       "<IPython.core.display.Markdown object>"
      ]
     },
     "metadata": {},
     "output_type": "display_data"
    },
    {
     "name": "stdout",
     "output_type": "stream",
     "text": [
      "4 ,    Book: Spiral Modern Physics (D'Alessandris)\n"
     ]
    },
    {
     "data": {
      "text/markdown": [
       "**channel: 14cb7f   title: Zim**"
      ],
      "text/plain": [
       "<IPython.core.display.Markdown object>"
      ]
     },
     "metadata": {},
     "output_type": "display_data"
    },
    {
     "name": "stdout",
     "output_type": "stream",
     "text": [
      "254 ,    Transformation\n"
     ]
    },
    {
     "data": {
      "text/markdown": [
       "**channel: 653433   title: Khan Academy - Standardized Test Preparation**"
      ],
      "text/plain": [
       "<IPython.core.display.Markdown object>"
      ]
     },
     "metadata": {},
     "output_type": "display_data"
    },
    {
     "name": "stdout",
     "output_type": "stream",
     "text": [
      "0 ,    Khan Academy - Standardized Test Preparation\n"
     ]
    },
    {
     "data": {
      "text/markdown": [
       "**channel: d5fb04   title: Rajasthan State English Channel**"
      ],
      "text/plain": [
       "<IPython.core.display.Markdown object>"
      ]
     },
     "metadata": {},
     "output_type": "display_data"
    },
    {
     "name": "stdout",
     "output_type": "stream",
     "text": [
      "9 ,    Triangle and its properties\n"
     ]
    },
    {
     "data": {
      "text/markdown": [
       "**channel: d4eeb3   title: Level 6 (Grade 9)**"
      ],
      "text/plain": [
       "<IPython.core.display.Markdown object>"
      ]
     },
     "metadata": {},
     "output_type": "display_data"
    },
    {
     "name": "stdout",
     "output_type": "stream",
     "text": [
      "18 ,    Summary\n"
     ]
    },
    {
     "data": {
      "text/markdown": [
       "**channel: c88ff6   title: Alternative Learning System**"
      ],
      "text/plain": [
       "<IPython.core.display.Markdown object>"
      ]
     },
     "metadata": {},
     "output_type": "display_data"
    },
    {
     "name": "stdout",
     "output_type": "stream",
     "text": [
      "3 ,    Opportunity 2.0 Self-Directed Learning Modules\n"
     ]
    },
    {
     "data": {
      "text/markdown": [
       "**channel: 50083f   title: English Content**"
      ],
      "text/plain": [
       "<IPython.core.display.Markdown object>"
      ]
     },
     "metadata": {},
     "output_type": "display_data"
    },
    {
     "name": "stdout",
     "output_type": "stream",
     "text": [
      "39 ,    Verbs\n"
     ]
    },
    {
     "data": {
      "text/markdown": [
       "**channel: 2293a4   title: Ubongo Kids (Malawi)**"
      ],
      "text/plain": [
       "<IPython.core.display.Markdown object>"
      ]
     },
     "metadata": {},
     "output_type": "display_data"
    },
    {
     "name": "stdout",
     "output_type": "stream",
     "text": [
      "134 ,    Questions\n"
     ]
    },
    {
     "data": {
      "text/markdown": [
       "**channel: 36068f   title: আগামী**"
      ],
      "text/plain": [
       "<IPython.core.display.Markdown object>"
      ]
     },
     "metadata": {},
     "output_type": "display_data"
    },
    {
     "name": "stdout",
     "output_type": "stream",
     "text": [
      "10 ,    অধ্যায় ৮: তথ্য ও উপাত্ত\n"
     ]
    },
    {
     "data": {
      "text/markdown": [
       "**channel: 06fb18   title: Proyecto Biosfera**"
      ],
      "text/plain": [
       "<IPython.core.display.Markdown object>"
      ]
     },
     "metadata": {},
     "output_type": "display_data"
    },
    {
     "name": "stdout",
     "output_type": "stream",
     "text": [
      "2 ,    LAS FUNCIONES DE LOS SERES VIVOS\n"
     ]
    },
    {
     "data": {
      "text/markdown": [
       "**channel: f65044   title: Aprendo en Casa - Primaria**"
      ],
      "text/plain": [
       "<IPython.core.display.Markdown object>"
      ]
     },
     "metadata": {},
     "output_type": "display_data"
    },
    {
     "name": "stdout",
     "output_type": "stream",
     "text": [
      "10 ,    Experiencia 6\n"
     ]
    },
    {
     "data": {
      "text/markdown": [
       "**channel: 4b0f81   title: English (Gr4-7)**"
      ],
      "text/plain": [
       "<IPython.core.display.Markdown object>"
      ]
     },
     "metadata": {},
     "output_type": "display_data"
    },
    {
     "name": "stdout",
     "output_type": "stream",
     "text": [
      "1 ,    Gr 4 Spare Files\n"
     ]
    },
    {
     "data": {
      "text/markdown": [
       "**channel: 49ea7a   title: Chemistry**"
      ],
      "text/plain": [
       "<IPython.core.display.Markdown object>"
      ]
     },
     "metadata": {},
     "output_type": "display_data"
    },
    {
     "name": "stdout",
     "output_type": "stream",
     "text": [
      "5 ,    Molar Mass\n"
     ]
    },
    {
     "data": {
      "text/markdown": [
       "**channel: 57e9d3   title: Universo do Conhecimento**"
      ],
      "text/plain": [
       "<IPython.core.display.Markdown object>"
      ]
     },
     "metadata": {},
     "output_type": "display_data"
    },
    {
     "name": "stdout",
     "output_type": "stream",
     "text": [
      "17 ,    Trilha G: Água na Terra\n"
     ]
    },
    {
     "data": {
      "text/markdown": [
       "**channel: 0f546a   title: Camara Education ZamSTEM Maths Junior Secondary - Grade 8 and 9**"
      ],
      "text/plain": [
       "<IPython.core.display.Markdown object>"
      ]
     },
     "metadata": {},
     "output_type": "display_data"
    },
    {
     "name": "stdout",
     "output_type": "stream",
     "text": [
      "1 ,    Grade 8\n"
     ]
    },
    {
     "data": {
      "text/markdown": [
       "**channel: 0a9df7   title: Our World and Our People (Ghana)**"
      ],
      "text/plain": [
       "<IPython.core.display.Markdown object>"
      ]
     },
     "metadata": {},
     "output_type": "display_data"
    },
    {
     "name": "stdout",
     "output_type": "stream",
     "text": [
      "12 ,    Home and School\n"
     ]
    },
    {
     "data": {
      "text/markdown": [
       "**channel: 8afc0b   title: Camara Education - Ethiopia**"
      ],
      "text/plain": [
       "<IPython.core.display.Markdown object>"
      ]
     },
     "metadata": {},
     "output_type": "display_data"
    },
    {
     "name": "stdout",
     "output_type": "stream",
     "text": [
      "2 ,    Math Grade 9\n"
     ]
    },
    {
     "data": {
      "text/markdown": [
       "**channel: 11171c   title: KICD Biology Curriculum (DRAFT)**"
      ],
      "text/plain": [
       "<IPython.core.display.Markdown object>"
      ]
     },
     "metadata": {},
     "output_type": "display_data"
    },
    {
     "name": "stdout",
     "output_type": "stream",
     "text": [
      "1 ,    Form 2 Biology Curriculum\n"
     ]
    },
    {
     "data": {
      "text/markdown": [
       "**channel: 494cf2   title: Camara Education St. Martin's Physics**"
      ],
      "text/plain": [
       "<IPython.core.display.Markdown object>"
      ]
     },
     "metadata": {},
     "output_type": "display_data"
    },
    {
     "name": "stdout",
     "output_type": "stream",
     "text": [
      "2 ,    Form 1\n"
     ]
    },
    {
     "data": {
      "text/markdown": [
       "**channel: 179e73   title: Aprendo en Casa - Secundaria**"
      ],
      "text/plain": [
       "<IPython.core.display.Markdown object>"
      ]
     },
     "metadata": {},
     "output_type": "display_data"
    },
    {
     "name": "stdout",
     "output_type": "stream",
     "text": [
      "35 ,    5 Elaboramos prototipos que revaloren la diversidad cultural de nuestro entorno\n"
     ]
    },
    {
     "data": {
      "text/markdown": [
       "**channel: d5963f   title: Cubo Educativo (Chile)**"
      ],
      "text/plain": [
       "<IPython.core.display.Markdown object>"
      ]
     },
     "metadata": {},
     "output_type": "display_data"
    },
    {
     "name": "stdout",
     "output_type": "stream",
     "text": [
      "2 ,    Química\n"
     ]
    },
    {
     "data": {
      "text/markdown": [
       "**channel: bae253   title: PF (English)**"
      ],
      "text/plain": [
       "<IPython.core.display.Markdown object>"
      ]
     },
     "metadata": {},
     "output_type": "display_data"
    },
    {
     "name": "stdout",
     "output_type": "stream",
     "text": [
      "60 ,    Level Up\n"
     ]
    },
    {
     "data": {
      "text/markdown": [
       "**channel: 686d66   title: Camara Education ZamSTEM Maths Senior Secondary - Grade 10, 11 and 12**"
      ],
      "text/plain": [
       "<IPython.core.display.Markdown object>"
      ]
     },
     "metadata": {},
     "output_type": "display_data"
    },
    {
     "name": "stdout",
     "output_type": "stream",
     "text": [
      "1 ,    Grade 10\n"
     ]
    },
    {
     "data": {
      "text/markdown": [
       "**channel: d30518   title: F2 Math**"
      ],
      "text/plain": [
       "<IPython.core.display.Markdown object>"
      ]
     },
     "metadata": {},
     "output_type": "display_data"
    },
    {
     "name": "stdout",
     "output_type": "stream",
     "text": [
      "117 ,    52 Statistics 3\n"
     ]
    },
    {
     "data": {
      "text/markdown": [
       "**channel: b3f329   title: Ghana JHS Curriculum (in progress)**"
      ],
      "text/plain": [
       "<IPython.core.display.Markdown object>"
      ]
     },
     "metadata": {},
     "output_type": "display_data"
    },
    {
     "name": "stdout",
     "output_type": "stream",
     "text": [
      "4 ,    Objective 1.5.1 Solve problems on perimeter of polygons\n"
     ]
    },
    {
     "data": {
      "text/markdown": [
       "**channel: abd7dc   title: Libretext Open Educational Resource Library**"
      ],
      "text/plain": [
       "<IPython.core.display.Markdown object>"
      ]
     },
     "metadata": {},
     "output_type": "display_data"
    },
    {
     "name": "stdout",
     "output_type": "stream",
     "text": [
      "75 ,    9: Dimensional Analysis\n"
     ]
    },
    {
     "data": {
      "text/markdown": [
       "**channel: 9d5527   title: Basic 4 - English**"
      ],
      "text/plain": [
       "<IPython.core.display.Markdown object>"
      ]
     },
     "metadata": {},
     "output_type": "display_data"
    },
    {
     "name": "stdout",
     "output_type": "stream",
     "text": [
      "2 ,    Sub-Strand 1: Building the Love and Culture of Reading\n"
     ]
    },
    {
     "data": {
      "text/markdown": [
       "**channel: 956596   title: Videos (KAB)**"
      ],
      "text/plain": [
       "<IPython.core.display.Markdown object>"
      ]
     },
     "metadata": {},
     "output_type": "display_data"
    },
    {
     "name": "stdout",
     "output_type": "stream",
     "text": [
      "64 ,    অধ্যায় ৭: ব্যাবহারিক জ্যামিতি\n"
     ]
    },
    {
     "data": {
      "text/markdown": [
       "**channel: 5d4a02   title: Camara Education Ethiopia Impact Maths**"
      ],
      "text/plain": [
       "<IPython.core.display.Markdown object>"
      ]
     },
     "metadata": {},
     "output_type": "display_data"
    },
    {
     "name": "stdout",
     "output_type": "stream",
     "text": [
      "1 ,    Grade 10\n"
     ]
    },
    {
     "data": {
      "text/markdown": [
       "**channel: 7db7f2   title: Level 1 (Grade 4)**"
      ],
      "text/plain": [
       "<IPython.core.display.Markdown object>"
      ]
     },
     "metadata": {},
     "output_type": "display_data"
    },
    {
     "name": "stdout",
     "output_type": "stream",
     "text": [
      "10 ,    Multiple Operations and Grouping\n"
     ]
    },
    {
     "data": {
      "text/markdown": [
       "**channel: 00fda4   title: Awael Educational Website (العربيّة)**"
      ],
      "text/plain": [
       "<IPython.core.display.Markdown object>"
      ]
     },
     "metadata": {},
     "output_type": "display_data"
    },
    {
     "name": "stdout",
     "output_type": "stream",
     "text": [
      "4 ,    اللغة العربية\n"
     ]
    },
    {
     "data": {
      "text/markdown": [
       "**channel: 018d08   title: KICD Physics Curriculum (DRAFT)**"
      ],
      "text/plain": [
       "<IPython.core.display.Markdown object>"
      ]
     },
     "metadata": {},
     "output_type": "display_data"
    },
    {
     "name": "stdout",
     "output_type": "stream",
     "text": [
      "26 ,    8.0 Rectilinear propagation of light and reflection at a plane surface (16 lessons)\n"
     ]
    },
    {
     "data": {
      "text/markdown": [
       "**channel: 03de11   title: KICD Chemistry Curriculum (DRAFT)**"
      ],
      "text/plain": [
       "<IPython.core.display.Markdown object>"
      ]
     },
     "metadata": {},
     "output_type": "display_data"
    },
    {
     "name": "stdout",
     "output_type": "stream",
     "text": [
      "26 ,    8.0 Structure and Bonding (20 lessons)\n"
     ]
    },
    {
     "data": {
      "text/markdown": [
       "**channel: bbce73   title: ELD Teacher Professional Development Cources (العربيّة)**"
      ],
      "text/plain": [
       "<IPython.core.display.Markdown object>"
      ]
     },
     "metadata": {},
     "output_type": "display_data"
    },
    {
     "name": "stdout",
     "output_type": "stream",
     "text": [
      "37 ,    علم النفس التربوي\n"
     ]
    },
    {
     "data": {
      "text/markdown": [
       "**channel: c8450a   title: Assam SEBA Curriculum (Assamese-Medium)**"
      ],
      "text/plain": [
       "<IPython.core.display.Markdown object>"
      ]
     },
     "metadata": {},
     "output_type": "display_data"
    },
    {
     "name": "stdout",
     "output_type": "stream",
     "text": [
      "15 ,    জ্যামিতি আৰু জোখ / Geometry and Measurement\n"
     ]
    },
    {
     "data": {
      "text/markdown": [
       "**channel: 239d8f   title: BIBLIOTECA . QUIMINICA GRADO DECIMO A GRADO ONCE**"
      ],
      "text/plain": [
       "<IPython.core.display.Markdown object>"
      ]
     },
     "metadata": {},
     "output_type": "display_data"
    },
    {
     "name": "stdout",
     "output_type": "stream",
     "text": [
      "2 ,    Segundo Periodo\n"
     ]
    },
    {
     "data": {
      "text/markdown": [
       "**channel: 8b5488   title: Matemáticas grado segundo**"
      ],
      "text/plain": [
       "<IPython.core.display.Markdown object>"
      ]
     },
     "metadata": {},
     "output_type": "display_data"
    },
    {
     "name": "stdout",
     "output_type": "stream",
     "text": [
      "1 ,    Pensamiento Espacial\n"
     ]
    },
    {
     "data": {
      "text/markdown": [
       "**channel: cfc6dd   title: F4 Math**"
      ],
      "text/plain": [
       "<IPython.core.display.Markdown object>"
      ]
     },
     "metadata": {},
     "output_type": "display_data"
    },
    {
     "name": "stdout",
     "output_type": "stream",
     "text": [
      "13 ,    Invertible matrices\n"
     ]
    },
    {
     "data": {
      "text/markdown": [
       "**channel: ca3996   title: TESSA - Teacher Resources**"
      ],
      "text/plain": [
       "<IPython.core.display.Markdown object>"
      ]
     },
     "metadata": {},
     "output_type": "display_data"
    },
    {
     "name": "stdout",
     "output_type": "stream",
     "text": [
      "40 ,    Handbooks and Toolkits for Teachers and Teacher Educators\n"
     ]
    },
    {
     "data": {
      "text/markdown": [
       "**channel: d4c17c   title: HP LIFE - Cursos (Português)**"
      ],
      "text/plain": [
       "<IPython.core.display.Markdown object>"
      ]
     },
     "metadata": {},
     "output_type": "display_data"
    },
    {
     "name": "stdout",
     "output_type": "stream",
     "text": [
      "1 ,    Lucros e prejuízos\n"
     ]
    },
    {
     "data": {
      "text/markdown": [
       "**channel: 983e56   title: Camara Learning Studio Demo**"
      ],
      "text/plain": [
       "<IPython.core.display.Markdown object>"
      ]
     },
     "metadata": {},
     "output_type": "display_data"
    },
    {
     "name": "stdout",
     "output_type": "stream",
     "text": [
      "1 ,    Form 1 Maths\n"
     ]
    },
    {
     "data": {
      "text/markdown": [
       "**channel: 03f103   title: HP LIFE - कार्यक्रम (हिन्दी)**"
      ],
      "text/plain": [
       "<IPython.core.display.Markdown object>"
      ]
     },
     "metadata": {},
     "output_type": "display_data"
    },
    {
     "name": "stdout",
     "output_type": "stream",
     "text": [
      "1 ,    लाभ और हानि\n"
     ]
    },
    {
     "data": {
      "text/markdown": [
       "**channel: 38a3e2   title: ELD King Khaled University Learning (العربيّة)**"
      ],
      "text/plain": [
       "<IPython.core.display.Markdown object>"
      ]
     },
     "metadata": {},
     "output_type": "display_data"
    },
    {
     "name": "stdout",
     "output_type": "stream",
     "text": [
      "14 ,    قواعد الإملاء العربي\n"
     ]
    },
    {
     "data": {
      "text/markdown": [
       "**channel: 8299ce   title: HP LIFE - 课程 (中国大陆)**"
      ],
      "text/plain": [
       "<IPython.core.display.Markdown object>"
      ]
     },
     "metadata": {},
     "output_type": "display_data"
    },
    {
     "name": "stdout",
     "output_type": "stream",
     "text": [
      "1 ,    商务电子邮件\n"
     ]
    },
    {
     "data": {
      "text/markdown": [
       "**channel: 32e583   title: HP LIFE - Cours (Français)**"
      ],
      "text/plain": [
       "<IPython.core.display.Markdown object>"
      ]
     },
     "metadata": {},
     "output_type": "display_data"
    },
    {
     "name": "stdout",
     "output_type": "stream",
     "text": [
      "1 ,    Leadership efficace\n"
     ]
    },
    {
     "data": {
      "text/markdown": [
       "**channel: 0ea5f3   title: HP LIFE - Courses (English)**"
      ],
      "text/plain": [
       "<IPython.core.display.Markdown object>"
      ]
     },
     "metadata": {},
     "output_type": "display_data"
    },
    {
     "name": "stdout",
     "output_type": "stream",
     "text": [
      "1 ,    Selling online\n"
     ]
    },
    {
     "data": {
      "text/markdown": [
       "**channel: f27bd5   title: HP LIFE - دورات ومسارات (العربية)**"
      ],
      "text/plain": [
       "<IPython.core.display.Markdown object>"
      ]
     },
     "metadata": {},
     "output_type": "display_data"
    },
    {
     "name": "stdout",
     "output_type": "stream",
     "text": [
      "1 ,    تعيين الموظفين\n"
     ]
    },
    {
     "data": {
      "text/markdown": [
       "**channel: 27d43f   title: HP LIFE - Cursos (Español)**"
      ],
      "text/plain": [
       "<IPython.core.display.Markdown object>"
      ]
     },
     "metadata": {},
     "output_type": "display_data"
    },
    {
     "name": "stdout",
     "output_type": "stream",
     "text": [
      "1 ,    Administración del inventario\n"
     ]
    },
    {
     "data": {
      "text/markdown": [
       "**channel: 64cbe8   title: GRADO 3**"
      ],
      "text/plain": [
       "<IPython.core.display.Markdown object>"
      ]
     },
     "metadata": {},
     "output_type": "display_data"
    },
    {
     "name": "stdout",
     "output_type": "stream",
     "text": [
      "5 ,    CONTENIDOS PARA MATEMÁTICAS GRADO 3\n"
     ]
    },
    {
     "data": {
      "text/markdown": [
       "**channel: 1b97a4   title: Matemática - Preparando o Futuro**"
      ],
      "text/plain": [
       "<IPython.core.display.Markdown object>"
      ]
     },
     "metadata": {},
     "output_type": "display_data"
    },
    {
     "name": "stdout",
     "output_type": "stream",
     "text": [
      "3 ,    Trilha D: Porcentagens\n"
     ]
    },
    {
     "data": {
      "text/markdown": [
       "**channel: 064c49   title: Real Futures**"
      ],
      "text/plain": [
       "<IPython.core.display.Markdown object>"
      ]
     },
     "metadata": {},
     "output_type": "display_data"
    },
    {
     "name": "stdout",
     "output_type": "stream",
     "text": [
      "34 ,    For educators and caregivers\n"
     ]
    },
    {
     "data": {
      "text/markdown": [
       "**channel: 858f89   title: KPK - Class 6**"
      ],
      "text/plain": [
       "<IPython.core.display.Markdown object>"
      ]
     },
     "metadata": {},
     "output_type": "display_data"
    },
    {
     "name": "stdout",
     "output_type": "stream",
     "text": [
      "1 ,    General Science\n"
     ]
    },
    {
     "data": {
      "text/markdown": [
       "**channel: f9db19   title: Matemáticas Quinto Grado (Guatemala)**"
      ],
      "text/plain": [
       "<IPython.core.display.Markdown object>"
      ]
     },
     "metadata": {},
     "output_type": "display_data"
    },
    {
     "name": "stdout",
     "output_type": "stream",
     "text": [
      "0 ,    Matemáticas Quinto Grado (Guatemala)\n"
     ]
    },
    {
     "data": {
      "text/markdown": [
       "**channel: bae778   title: Form 4 Biology**"
      ],
      "text/plain": [
       "<IPython.core.display.Markdown object>"
      ]
     },
     "metadata": {},
     "output_type": "display_data"
    },
    {
     "name": "stdout",
     "output_type": "stream",
     "text": [
      "7 ,    Respiration\n"
     ]
    },
    {
     "data": {
      "text/markdown": [
       "**channel: 6465e0   title: Matemáticas - 1° Básico a 6° Básico - Chile**"
      ],
      "text/plain": [
       "<IPython.core.display.Markdown object>"
      ]
     },
     "metadata": {},
     "output_type": "display_data"
    },
    {
     "name": "stdout",
     "output_type": "stream",
     "text": [
      "9 ,    Geometría\n"
     ]
    },
    {
     "data": {
      "text/markdown": [
       "**channel: a91e32   title: Malawi Mathematics Syllabus**"
      ],
      "text/plain": [
       "<IPython.core.display.Markdown object>"
      ]
     },
     "metadata": {},
     "output_type": "display_data"
    },
    {
     "name": "stdout",
     "output_type": "stream",
     "text": [
      "0 ,    Malawi Mathematics Syllabus\n"
     ]
    },
    {
     "data": {
      "text/markdown": [
       "**channel: cc360a   title: Medicine**"
      ],
      "text/plain": [
       "<IPython.core.display.Markdown object>"
      ]
     },
     "metadata": {},
     "output_type": "display_data"
    },
    {
     "name": "stdout",
     "output_type": "stream",
     "text": [
      "0 ,    Medicine\n"
     ]
    },
    {
     "data": {
      "text/markdown": [
       "**channel: 9dd9a7   title: PointB 21CS Guide**"
      ],
      "text/plain": [
       "<IPython.core.display.Markdown object>"
      ]
     },
     "metadata": {},
     "output_type": "display_data"
    },
    {
     "name": "stdout",
     "output_type": "stream",
     "text": [
      "2 ,    21st Century Guide\n"
     ]
    }
   ],
   "source": [
    "import IPython.display\n",
    "\n",
    "for channel in data.topic_trees_id_list:\n",
    "    root_node = data.topic_trees[channel]\n",
    "    result = root_node.search_preorder(lambda x: x.has_content, at = \"nonleaf\")\n",
    "    \n",
    "    if result is not None:\n",
    "        display(IPython.display.Markdown(\"**channel: {}   title: {}**\".format(channel, root_node.title)))\n",
    "        print(result[0], \",   \", result[1].title)"
   ]
  },
  {
   "cell_type": "markdown",
   "id": "b3bf20ee",
   "metadata": {},
   "source": [
    "Not all contents are in leaf nodes."
   ]
  },
  {
   "cell_type": "markdown",
   "id": "a9147454",
   "metadata": {},
   "source": [
    "# See if all the contents are contained by some node"
   ]
  },
  {
   "cell_type": "code",
   "execution_count": 9,
   "id": "c896161b",
   "metadata": {},
   "outputs": [
    {
     "data": {
      "text/html": [
       "<div>\n",
       "<style scoped>\n",
       "    .dataframe tbody tr th:only-of-type {\n",
       "        vertical-align: middle;\n",
       "    }\n",
       "\n",
       "    .dataframe tbody tr th {\n",
       "        vertical-align: top;\n",
       "    }\n",
       "\n",
       "    .dataframe thead th {\n",
       "        text-align: right;\n",
       "    }\n",
       "</style>\n",
       "<table border=\"1\" class=\"dataframe\">\n",
       "  <thead>\n",
       "    <tr style=\"text-align: right;\">\n",
       "      <th></th>\n",
       "      <th>content_ids</th>\n",
       "    </tr>\n",
       "    <tr>\n",
       "      <th>topic_id</th>\n",
       "      <th></th>\n",
       "    </tr>\n",
       "  </thead>\n",
       "  <tbody>\n",
       "    <tr>\n",
       "      <th>t_00004da3a1b2</th>\n",
       "      <td>c_1108dd0c7a5d c_376c5a8eb028 c_5bc0e1e2cba0 c...</td>\n",
       "    </tr>\n",
       "    <tr>\n",
       "      <th>t_00068291e9a4</th>\n",
       "      <td>c_639ea2ef9c95 c_89ce9367be10 c_ac1672cdcd2c c...</td>\n",
       "    </tr>\n",
       "    <tr>\n",
       "      <th>t_00069b63a70a</th>\n",
       "      <td>c_11a1dc0bfb99</td>\n",
       "    </tr>\n",
       "    <tr>\n",
       "      <th>t_0006d41a73a8</th>\n",
       "      <td>c_0c6473c3480d c_1c57a1316568 c_5e375cf14c47 c...</td>\n",
       "    </tr>\n",
       "    <tr>\n",
       "      <th>t_0008768bdee6</th>\n",
       "      <td>c_34e1424229b4 c_7d1a964d66d5 c_aab93ee667f4</td>\n",
       "    </tr>\n",
       "    <tr>\n",
       "      <th>...</th>\n",
       "      <td>...</td>\n",
       "    </tr>\n",
       "    <tr>\n",
       "      <th>t_fff830472691</th>\n",
       "      <td>c_61fb63326e5d c_8f224e321c87</td>\n",
       "    </tr>\n",
       "    <tr>\n",
       "      <th>t_fff9e5407d13</th>\n",
       "      <td>c_026db653a269 c_0fb048a6412c c_20de77522603 c...</td>\n",
       "    </tr>\n",
       "    <tr>\n",
       "      <th>t_fffbe1d5d43c</th>\n",
       "      <td>c_46f852a49c08 c_6659207b25d5</td>\n",
       "    </tr>\n",
       "    <tr>\n",
       "      <th>t_fffe14f1be1e</th>\n",
       "      <td>c_cece166bad6a</td>\n",
       "    </tr>\n",
       "    <tr>\n",
       "      <th>t_fffe811a6da9</th>\n",
       "      <td>c_92b8fad372ee</td>\n",
       "    </tr>\n",
       "  </tbody>\n",
       "</table>\n",
       "<p>61517 rows × 1 columns</p>\n",
       "</div>"
      ],
      "text/plain": [
       "                                                      content_ids\n",
       "topic_id                                                         \n",
       "t_00004da3a1b2  c_1108dd0c7a5d c_376c5a8eb028 c_5bc0e1e2cba0 c...\n",
       "t_00068291e9a4  c_639ea2ef9c95 c_89ce9367be10 c_ac1672cdcd2c c...\n",
       "t_00069b63a70a                                     c_11a1dc0bfb99\n",
       "t_0006d41a73a8  c_0c6473c3480d c_1c57a1316568 c_5e375cf14c47 c...\n",
       "t_0008768bdee6       c_34e1424229b4 c_7d1a964d66d5 c_aab93ee667f4\n",
       "...                                                           ...\n",
       "t_fff830472691                      c_61fb63326e5d c_8f224e321c87\n",
       "t_fff9e5407d13  c_026db653a269 c_0fb048a6412c c_20de77522603 c...\n",
       "t_fffbe1d5d43c                      c_46f852a49c08 c_6659207b25d5\n",
       "t_fffe14f1be1e                                     c_cece166bad6a\n",
       "t_fffe811a6da9                                     c_92b8fad372ee\n",
       "\n",
       "[61517 rows x 1 columns]"
      ]
     },
     "metadata": {},
     "output_type": "display_data"
    }
   ],
   "source": [
    "display(data.correlations)"
   ]
  },
  {
   "cell_type": "code",
   "execution_count": 10,
   "id": "6c89faec",
   "metadata": {},
   "outputs": [
    {
     "data": {
      "text/plain": [
       "0"
      ]
     },
     "metadata": {},
     "output_type": "display_data"
    }
   ],
   "source": [
    "mcontents = data.correlations[\"content_ids\"].apply(lambda x: pd.Series(data = x.split())).stack().reset_index(drop = True)\n",
    "mcontents.name = \"id\"\n",
    "mcontents = pd.DataFrame(data = mcontents, index = mcontents.index)\n",
    "mcontents[\"dummy\"] = True\n",
    "merged = data.contents.merge(mcontents, right_on = \"id\", left_on = \"id\", how = \"left\")\n",
    "display(merged[\"dummy\"].isnull().sum())"
   ]
  },
  {
   "cell_type": "markdown",
   "id": "83e2ee6f",
   "metadata": {},
   "source": [
    "This creates a list of content_ids from the correlations data (mcontents). A left outer join is used to see if the data there are ids in data.contents which are not in the correlations file (mcontents). If such exists, there should be a null value in the dummy column in merge. So all contents are contained by some node."
   ]
  },
  {
   "cell_type": "markdown",
   "id": "b66bab7a",
   "metadata": {},
   "source": [
    "# Systematically display the intersections of the contents of different trees"
   ]
  },
  {
   "cell_type": "code",
   "execution_count": 16,
   "id": "5d10c73f",
   "metadata": {},
   "outputs": [
    {
     "data": {
      "image/png": "[encoded data removed]",
      "text/plain": [
       "<Figure size 2000x2000 with 2 Axes>"
      ]
     },
     "metadata": {},
     "output_type": "display_data"
    }
   ],
   "source": [
    "n = len(data.topic_trees_id_list) # number of topic channels (trees)\n",
    "intersection_matrix = np.zeros(shape = (n, n)) # numpy n x n matrix of zeros\n",
    "intersection_relative_matrix = np.zeros(shape = (n, n)) # to store the relative number of intersections\n",
    "\n",
    "def find_number_intersections(i, j):\n",
    "    channel_i = data.topic_trees_id_list[i]\n",
    "    channel_j = data.topic_trees_id_list[j]\n",
    "    intersection = set(data.topic_trees_contents[channel_i]).intersection(set(data.topic_trees_contents[channel_j]))\n",
    "    union = set(data.topic_trees_contents[channel_i]).union(set(data.topic_trees_contents[channel_j]))\n",
    "    return len(intersection), len(union)\n",
    "\n",
    "# we only need to fill in matrix i not equal to j\n",
    "for i in range(n):\n",
    "    for j in range(i):\n",
    "        no_intersections, no_union = find_number_intersections(i, j)\n",
    "        intersection_matrix[j, i] = intersection_matrix[i, j] = no_intersections\n",
    "        intersection_relative_matrix[j, i] = intersection_relative_matrix[i, j] = no_intersections / no_union\n",
    "\n",
    "# now display it\n",
    "intersect_data = pd.DataFrame(data = intersection_matrix, columns = data.topic_trees_id_list, index = data.topic_trees_id_list)\n",
    "intersect_relative_data = pd.DataFrame(data = intersection_relative_matrix, columns = data.topic_trees_id_list, index = data.topic_trees_id_list)\n",
    "plt.figure(figsize = (20, 20)) # plot with size\n",
    "plt.title(\"Number of intersections of contents\")\n",
    "sns.heatmap(data = intersect_relative_data)\n",
    "plt.show()"
   ]
  },
  {
   "cell_type": "markdown",
   "id": "56228d68",
   "metadata": {},
   "source": [
    "It appears that the intersection of the contents are quite sparse. Two different trees are likely to not have any intersections. It is useful to restrict our attention to trees that have intersection with some other tree. We manipulate the previous intersect_data dataframe."
   ]
  },
  {
   "cell_type": "markdown",
   "id": "e828a158",
   "metadata": {},
   "source": [
    "# Restriction to a subset of the trees"
   ]
  },
  {
   "cell_type": "code",
   "execution_count": 29,
   "id": "208d5ee8",
   "metadata": {},
   "outputs": [
    {
     "data": {
      "image/png": "[encoded data removed]",
      "text/plain": [
       "<Figure size 2000x2000 with 2 Axes>"
      ]
     },
     "metadata": {},
     "output_type": "display_data"
    }
   ],
   "source": [
    "# obviously intersect_data is symmetric matrix. we find the list of trees which intersect with some other tree.\n",
    "# list of number of intersections with other trees, indexed by the channel id\n",
    "intersections_with_others = intersect_data.sum()\n",
    "# obtain the list of trees satisfying that now\n",
    "has_intersection_trees = list(intersections_with_others.loc[intersections_with_others > 0].index)\n",
    "# project to submatrix, first do selection on rows, and do projection on columns\n",
    "intersect_subdata = intersect_data.loc[intersect_data.index.isin(has_intersection_trees)][has_intersection_trees]\n",
    "intersect_relative_subdata = intersect_relative_data.loc[intersect_relative_data.index.isin(has_intersection_trees)][has_intersection_trees]\n",
    "plt.figure(figsize = (20, 20))\n",
    "plt.title(\"Number of intersections of contents\")\n",
    "sns.heatmap(data = intersect_relative_subdata)\n",
    "plt.show()"
   ]
  },
  {
   "cell_type": "markdown",
   "id": "a9ddf3f7",
   "metadata": {},
   "source": [
    "data is still sparse, we use graph connectivity to find the connected components of the content trees, where tree $T_1$ is connected to $T_2$ if and only if $\\text{contents}(T_1) \\cap \\text{contents}(T_2) \\neq \\varnothing$"
   ]
  },
  {
   "cell_type": "code",
   "execution_count": 39,
   "id": "57d2fdcf",
   "metadata": {},
   "outputs": [
    {
     "name": "stdout",
     "output_type": "stream",
     "text": [
      "component:  ['fef095', '14d190', '0ec697', '2ee29d', '274269', 'ef2088', 'ebc86c', '760ea6', '217993', 'ef93f0', '344113', 'c7ca13', '7f116c', '8bbad6', 'e77b55', '39979b', 'b4897d', 'd4eeb3', '383b8a', '50fe84', '5139e9', '6e3ba4', '54971d', '6e90a7', '36a98b', '998df9', '410920', '42e8ef', 'fc9105', '8b5488', '484bd2', 'd5963f', '7385f9', '71fd51', '64cbe8', 'f41d17', '6465e0', '51bdd1', 'edb272', 'f9db19', '27d43f', '239d8f', '1cc2ee', '06fb18', '11171c', '653433', '14cb7f', '73843d', '05be9f', 'd5fb04', '6b09a4', '0f546a', '8afc0b', '686d66', '23f9e1', 'd30518', 'b3f329', '4d2d4a', '03de11', 'e7a498', '018d08', '49ea7a', '0a9df7', '4b0f81', '50083f', '9d5527', '735876', '7db7f2', '494cf2', 'bda367', '5d4a02', 'cfc6dd', '75fbe2', 'a2924d', '983e56', 'bb3a0c', 'a91e32', '1dfd91', '4a1401', 'ed5f98', 'f2e966', '16c07b', 'ca3996', '858f89', 'bae253', '5de4e5', '1843c5', 'bae778', 'cc360a', '01133c', 'b03884', '064c49', '2765c6', 'a13d2e', '00fda4', '9905b7', '38a3e2', '4689b3', 'f2acc1', '2293a4', '8260fc']\n",
      "component:  ['8e286a', 'f9b74f', '57e9d3', '1b97a4']\n",
      "component:  ['0c929f', '5c4c46']\n",
      "component:  ['4662df', '5223e0', 'b14cf2']\n",
      "component:  ['e6bdbc', '36068f', '00a2b4', '956596', '02be07']\n",
      "component:  ['88c9d6', 'abd7dc']\n",
      "component:  ['5aa8ba', 'd2ac0e']\n",
      "component:  ['ffbd13', '0d3492']\n",
      "component:  ['f65044', '179e73']\n",
      "component:  ['b632e3', 'c3dc85']\n",
      "component:  ['231e82', '5a410f']\n"
     ]
    },
    {
     "data": {
      "image/png": "[encoded data removed]",
      "text/plain": [
       "<Figure size 2000x2000 with 2 Axes>"
      ]
     },
     "metadata": {},
     "output_type": "display_data"
    }
   ],
   "source": [
    "graph_components = []\n",
    "visited_trees = []\n",
    "\n",
    "def dfs_traverse(channel, cluster_idx):\n",
    "    # visit this node and add it to the graph\n",
    "    visited_trees.append(channel)\n",
    "    graph_components[cluster_idx].append(channel)\n",
    "    \n",
    "    # visit unvisited neighbors\n",
    "    neighbors = list(intersect_subdata.loc[intersect_subdata[channel] > 0].index)\n",
    "    for channel_neighbor in neighbors:\n",
    "        if channel_neighbor not in visited_trees:\n",
    "            dfs_traverse(channel_neighbor, cluster_idx)\n",
    "            \n",
    "cidx = 0\n",
    "for channel in has_intersection_trees:\n",
    "    if channel not in visited_trees:\n",
    "        graph_components.append([])\n",
    "        dfs_traverse(channel, cidx)\n",
    "        cidx += 1\n",
    "\n",
    "total_channels = []\n",
    "for component in graph_components:\n",
    "    print(\"component: \",component)\n",
    "    for channel in component:\n",
    "        total_channels.append(channel)\n",
    "\n",
    "intersect_relative_sorted = intersect_relative_data.reindex(columns = total_channels).reindex(index = total_channels)\n",
    "plt.figure(figsize = (20, 20))\n",
    "plt.title(\"Intersections (sorted)\")\n",
    "sns.heatmap(data = intersect_relative_sorted)\n",
    "plt.show()"
   ]
  },
  {
   "cell_type": "code",
   "execution_count": 44,
   "id": "4afc6b14",
   "metadata": {},
   "outputs": [
    {
     "data": {
      "image/png": "[encoded data removed]",
      "text/plain": [
       "<Figure size 700x700 with 2 Axes>"
      ]
     },
     "metadata": {},
     "output_type": "display_data"
    },
    {
     "name": "stdout",
     "output_type": "stream",
     "text": [
      "0.7241323517514764\n",
      "0.8911637931034483\n"
     ]
    }
   ],
   "source": [
    "max_rel_intersect = intersect_relative_data.max()\n",
    "high_corr_potentials = list(max_rel_intersect.loc[max_rel_intersect > 0.5].index)\n",
    "intersect_relative_high_corr = intersect_relative_data.loc[intersect_relative_data.index.isin(high_corr_potentials)][high_corr_potentials]\n",
    "plt.figure(figsize = (7, 7))\n",
    "plt.title(\"Intersections (sorted)\")\n",
    "sns.heatmap(data = intersect_relative_high_corr)\n",
    "plt.show()\n",
    "\n",
    "print(intersect_relative_data.loc[\"0ec697\", \"2ee29d\"])\n",
    "print(intersect_relative_data.loc[\"0d3492\", \"ffbd13\"])"
   ]
  },
  {
   "cell_type": "markdown",
   "id": "7e8e8348",
   "metadata": {},
   "source": [
    "# Check whether the language in each tree (by channel) is uniform"
   ]
  },
  {
   "cell_type": "code",
   "execution_count": 47,
   "id": "aea4f693",
   "metadata": {},
   "outputs": [
    {
     "data": {
      "text/plain": [
       "channel\n",
       "217993    13\n",
       "38a3e2     2\n",
       "4d2d4a     7\n",
       "5139e9     2\n",
       "6e90a7     2\n",
       "8260fc     3\n",
       "9a51b0     2\n",
       "9dd9a7     3\n",
       "bbce73     2\n",
       "c8450a     2\n",
       "Name: language, dtype: int64"
      ]
     },
     "execution_count": 47,
     "metadata": {},
     "output_type": "execute_result"
    }
   ],
   "source": [
    "num_languages_by_channel = data.topics.groupby(\"channel\")[\"language\"].nunique()\n",
    "num_languages_by_channel.loc[num_languages_by_channel > 1]"
   ]
  },
  {
   "cell_type": "markdown",
   "id": "79acdb6a",
   "metadata": {},
   "source": [
    "most of the trees have same language, although some have multiple."
   ]
  },
  {
   "cell_type": "markdown",
   "id": "cc58b277",
   "metadata": {},
   "source": [
    "# Check whether the contents in each non-empty topic has same language"
   ]
  },
  {
   "cell_type": "code",
   "execution_count": 35,
   "id": "5583e39f",
   "metadata": {},
   "outputs": [
    {
     "data": {
      "text/html": [
       "<div>\n",
       "<style scoped>\n",
       "    .dataframe tbody tr th:only-of-type {\n",
       "        vertical-align: middle;\n",
       "    }\n",
       "\n",
       "    .dataframe tbody tr th {\n",
       "        vertical-align: top;\n",
       "    }\n",
       "\n",
       "    .dataframe thead th {\n",
       "        text-align: right;\n",
       "    }\n",
       "</style>\n",
       "<table border=\"1\" class=\"dataframe\">\n",
       "  <thead>\n",
       "    <tr style=\"text-align: right;\">\n",
       "      <th></th>\n",
       "      <th>title</th>\n",
       "      <th>description</th>\n",
       "      <th>channel</th>\n",
       "      <th>category</th>\n",
       "      <th>level</th>\n",
       "      <th>language</th>\n",
       "      <th>parent</th>\n",
       "      <th>has_content</th>\n",
       "      <th>content_ids</th>\n",
       "    </tr>\n",
       "  </thead>\n",
       "  <tbody>\n",
       "    <tr>\n",
       "      <th>t_00004da3a1b2</th>\n",
       "      <td>Откриването на резисторите</td>\n",
       "      <td>Изследване на материали, които предизвикват на...</td>\n",
       "      <td>000cf7</td>\n",
       "      <td>source</td>\n",
       "      <td>4</td>\n",
       "      <td>bg</td>\n",
       "      <td>t_16e29365b50d</td>\n",
       "      <td>True</td>\n",
       "      <td>c_1108dd0c7a5d c_376c5a8eb028 c_5bc0e1e2cba0 c...</td>\n",
       "    </tr>\n",
       "    <tr>\n",
       "      <th>t_00068291e9a4</th>\n",
       "      <td>Entradas e saídas de uma função</td>\n",
       "      <td>Entenda um pouco mais sobre funções.</td>\n",
       "      <td>8e286a</td>\n",
       "      <td>source</td>\n",
       "      <td>4</td>\n",
       "      <td>pt</td>\n",
       "      <td>t_d14b6c2a2b70</td>\n",
       "      <td>True</td>\n",
       "      <td>c_639ea2ef9c95 c_89ce9367be10 c_ac1672cdcd2c c...</td>\n",
       "    </tr>\n",
       "    <tr>\n",
       "      <th>t_00069b63a70a</th>\n",
       "      <td>Transcripts</td>\n",
       "      <td>NaN</td>\n",
       "      <td>6e3ba4</td>\n",
       "      <td>source</td>\n",
       "      <td>3</td>\n",
       "      <td>en</td>\n",
       "      <td>t_4054df11a74e</td>\n",
       "      <td>True</td>\n",
       "      <td>c_11a1dc0bfb99</td>\n",
       "    </tr>\n",
       "    <tr>\n",
       "      <th>t_0006d41a73a8</th>\n",
       "      <td>Графики на експоненциални функции (Алгебра 2 н...</td>\n",
       "      <td>Научи повече за графиките на сложните показате...</td>\n",
       "      <td>000cf7</td>\n",
       "      <td>source</td>\n",
       "      <td>4</td>\n",
       "      <td>bg</td>\n",
       "      <td>t_e2452e21d252</td>\n",
       "      <td>True</td>\n",
       "      <td>c_0c6473c3480d c_1c57a1316568 c_5e375cf14c47 c...</td>\n",
       "    </tr>\n",
       "    <tr>\n",
       "      <th>t_0008768bdee6</th>\n",
       "      <td>100 સુધીનો સરવાળો</td>\n",
       "      <td>37 અને 49 જેવી બે-અંકની સંખ્યાઓ ઉમેરતા શીખો.</td>\n",
       "      <td>5223e0</td>\n",
       "      <td>supplemental</td>\n",
       "      <td>4</td>\n",
       "      <td>gu</td>\n",
       "      <td>t_0da7a331d666</td>\n",
       "      <td>True</td>\n",
       "      <td>c_34e1424229b4 c_7d1a964d66d5 c_aab93ee667f4</td>\n",
       "    </tr>\n",
       "    <tr>\n",
       "      <th>...</th>\n",
       "      <td>...</td>\n",
       "      <td>...</td>\n",
       "      <td>...</td>\n",
       "      <td>...</td>\n",
       "      <td>...</td>\n",
       "      <td>...</td>\n",
       "      <td>...</td>\n",
       "      <td>...</td>\n",
       "      <td>...</td>\n",
       "    </tr>\n",
       "    <tr>\n",
       "      <th>t_fff830472691</th>\n",
       "      <td>Scalar Projections</td>\n",
       "      <td>NaN</td>\n",
       "      <td>fef095</td>\n",
       "      <td>source</td>\n",
       "      <td>4</td>\n",
       "      <td>en</td>\n",
       "      <td>t_c75d6acecf78</td>\n",
       "      <td>True</td>\n",
       "      <td>c_61fb63326e5d c_8f224e321c87</td>\n",
       "    </tr>\n",
       "    <tr>\n",
       "      <th>t_fff9e5407d13</th>\n",
       "      <td>NA_U06 - El periódico</td>\n",
       "      <td>NaN</td>\n",
       "      <td>71fd51</td>\n",
       "      <td>supplemental</td>\n",
       "      <td>2</td>\n",
       "      <td>es</td>\n",
       "      <td>t_5bd8f6ae9f7d</td>\n",
       "      <td>True</td>\n",
       "      <td>c_026db653a269 c_0fb048a6412c c_20de77522603 c...</td>\n",
       "    </tr>\n",
       "    <tr>\n",
       "      <th>t_fffbe1d5d43c</th>\n",
       "      <td>Inscribed shapes problem solving</td>\n",
       "      <td>Use properties of inscribed angles to prove pr...</td>\n",
       "      <td>0c929f</td>\n",
       "      <td>source</td>\n",
       "      <td>4</td>\n",
       "      <td>sw</td>\n",
       "      <td>t_50145b9bab3f</td>\n",
       "      <td>True</td>\n",
       "      <td>c_46f852a49c08 c_6659207b25d5</td>\n",
       "    </tr>\n",
       "    <tr>\n",
       "      <th>t_fffe14f1be1e</th>\n",
       "      <td>Lección 7</td>\n",
       "      <td>NaN</td>\n",
       "      <td>6e90a7</td>\n",
       "      <td>aligned</td>\n",
       "      <td>6</td>\n",
       "      <td>es</td>\n",
       "      <td>t_d448c707984d</td>\n",
       "      <td>True</td>\n",
       "      <td>c_cece166bad6a</td>\n",
       "    </tr>\n",
       "    <tr>\n",
       "      <th>t_fffe811a6da9</th>\n",
       "      <td>تحديد العلاقة بين الإحداثيّات القطبية والإحداث...</td>\n",
       "      <td>5b9e5ca86571f90499ea987f</td>\n",
       "      <td>9fd860</td>\n",
       "      <td>source</td>\n",
       "      <td>2</td>\n",
       "      <td>ar</td>\n",
       "      <td>t_5b4f3ba4eb7d</td>\n",
       "      <td>True</td>\n",
       "      <td>c_92b8fad372ee</td>\n",
       "    </tr>\n",
       "  </tbody>\n",
       "</table>\n",
       "<p>61517 rows × 9 columns</p>\n",
       "</div>"
      ],
      "text/plain": [
       "                                                            title  \\\n",
       "t_00004da3a1b2                         Откриването на резисторите   \n",
       "t_00068291e9a4                    Entradas e saídas de uma função   \n",
       "t_00069b63a70a                                        Transcripts   \n",
       "t_0006d41a73a8  Графики на експоненциални функции (Алгебра 2 н...   \n",
       "t_0008768bdee6                                  100 સુધીનો સરવાળો   \n",
       "...                                                           ...   \n",
       "t_fff830472691                                 Scalar Projections   \n",
       "t_fff9e5407d13                              NA_U06 - El periódico   \n",
       "t_fffbe1d5d43c                   Inscribed shapes problem solving   \n",
       "t_fffe14f1be1e                                          Lección 7   \n",
       "t_fffe811a6da9  تحديد العلاقة بين الإحداثيّات القطبية والإحداث...   \n",
       "\n",
       "                                                      description channel  \\\n",
       "t_00004da3a1b2  Изследване на материали, които предизвикват на...  000cf7   \n",
       "t_00068291e9a4               Entenda um pouco mais sobre funções.  8e286a   \n",
       "t_00069b63a70a                                                NaN  6e3ba4   \n",
       "t_0006d41a73a8  Научи повече за графиките на сложните показате...  000cf7   \n",
       "t_0008768bdee6       37 અને 49 જેવી બે-અંકની સંખ્યાઓ ઉમેરતા શીખો.  5223e0   \n",
       "...                                                           ...     ...   \n",
       "t_fff830472691                                                NaN  fef095   \n",
       "t_fff9e5407d13                                                NaN  71fd51   \n",
       "t_fffbe1d5d43c  Use properties of inscribed angles to prove pr...  0c929f   \n",
       "t_fffe14f1be1e                                                NaN  6e90a7   \n",
       "t_fffe811a6da9                           5b9e5ca86571f90499ea987f  9fd860   \n",
       "\n",
       "                    category  level language          parent  has_content  \\\n",
       "t_00004da3a1b2        source      4       bg  t_16e29365b50d         True   \n",
       "t_00068291e9a4        source      4       pt  t_d14b6c2a2b70         True   \n",
       "t_00069b63a70a        source      3       en  t_4054df11a74e         True   \n",
       "t_0006d41a73a8        source      4       bg  t_e2452e21d252         True   \n",
       "t_0008768bdee6  supplemental      4       gu  t_0da7a331d666         True   \n",
       "...                      ...    ...      ...             ...          ...   \n",
       "t_fff830472691        source      4       en  t_c75d6acecf78         True   \n",
       "t_fff9e5407d13  supplemental      2       es  t_5bd8f6ae9f7d         True   \n",
       "t_fffbe1d5d43c        source      4       sw  t_50145b9bab3f         True   \n",
       "t_fffe14f1be1e       aligned      6       es  t_d448c707984d         True   \n",
       "t_fffe811a6da9        source      2       ar  t_5b4f3ba4eb7d         True   \n",
       "\n",
       "                                                      content_ids  \n",
       "t_00004da3a1b2  c_1108dd0c7a5d c_376c5a8eb028 c_5bc0e1e2cba0 c...  \n",
       "t_00068291e9a4  c_639ea2ef9c95 c_89ce9367be10 c_ac1672cdcd2c c...  \n",
       "t_00069b63a70a                                     c_11a1dc0bfb99  \n",
       "t_0006d41a73a8  c_0c6473c3480d c_1c57a1316568 c_5e375cf14c47 c...  \n",
       "t_0008768bdee6       c_34e1424229b4 c_7d1a964d66d5 c_aab93ee667f4  \n",
       "...                                                           ...  \n",
       "t_fff830472691                      c_61fb63326e5d c_8f224e321c87  \n",
       "t_fff9e5407d13  c_026db653a269 c_0fb048a6412c c_20de77522603 c...  \n",
       "t_fffbe1d5d43c                      c_46f852a49c08 c_6659207b25d5  \n",
       "t_fffe14f1be1e                                     c_cece166bad6a  \n",
       "t_fffe811a6da9                                     c_92b8fad372ee  \n",
       "\n",
       "[61517 rows x 9 columns]"
      ]
     },
     "metadata": {},
     "output_type": "display_data"
    },
    {
     "data": {
      "text/html": [
       "<div>\n",
       "<style scoped>\n",
       "    .dataframe tbody tr th:only-of-type {\n",
       "        vertical-align: middle;\n",
       "    }\n",
       "\n",
       "    .dataframe tbody tr th {\n",
       "        vertical-align: top;\n",
       "    }\n",
       "\n",
       "    .dataframe thead th {\n",
       "        text-align: right;\n",
       "    }\n",
       "</style>\n",
       "<table border=\"1\" class=\"dataframe\">\n",
       "  <thead>\n",
       "    <tr style=\"text-align: right;\">\n",
       "      <th></th>\n",
       "      <th>topic_id</th>\n",
       "      <th>title</th>\n",
       "      <th>description</th>\n",
       "      <th>channel</th>\n",
       "      <th>category</th>\n",
       "      <th>level</th>\n",
       "      <th>language</th>\n",
       "      <th>title_content</th>\n",
       "      <th>description_content</th>\n",
       "      <th>kind</th>\n",
       "      <th>text</th>\n",
       "      <th>language_content</th>\n",
       "      <th>copyright_holder</th>\n",
       "      <th>license</th>\n",
       "    </tr>\n",
       "  </thead>\n",
       "  <tbody>\n",
       "    <tr>\n",
       "      <th>c_010fdf43f03e</th>\n",
       "      <td>t_b40178fcca38</td>\n",
       "      <td>filterOddElements</td>\n",
       "      <td>NaN</td>\n",
       "      <td>42e8ef</td>\n",
       "      <td>supplemental</td>\n",
       "      <td>7</td>\n",
       "      <td>es</td>\n",
       "      <td>test_filterOddElements.spec.js</td>\n",
       "      <td>NaN</td>\n",
       "      <td>html5</td>\n",
       "      <td>NaN</td>\n",
       "      <td>en</td>\n",
       "      <td>NaN</td>\n",
       "      <td>NaN</td>\n",
       "    </tr>\n",
       "    <tr>\n",
       "      <th>c_010fdf43f03e</th>\n",
       "      <td>t_cbc6f37e7833</td>\n",
       "      <td>filterOddElements</td>\n",
       "      <td>NaN</td>\n",
       "      <td>fc9105</td>\n",
       "      <td>supplemental</td>\n",
       "      <td>6</td>\n",
       "      <td>es</td>\n",
       "      <td>test_filterOddElements.spec.js</td>\n",
       "      <td>NaN</td>\n",
       "      <td>html5</td>\n",
       "      <td>NaN</td>\n",
       "      <td>en</td>\n",
       "      <td>NaN</td>\n",
       "      <td>NaN</td>\n",
       "    </tr>\n",
       "    <tr>\n",
       "      <th>c_016874dbc462</th>\n",
       "      <td>t_154423db29ed</td>\n",
       "      <td>The Mailman and the Five Packages: Data Packet...</td>\n",
       "      <td>This lesson will explain the process of data t...</td>\n",
       "      <td>6e3ba4</td>\n",
       "      <td>source</td>\n",
       "      <td>3</td>\n",
       "      <td>en</td>\n",
       "      <td>Arabic: The Mailman and the Five Packages: Dat...</td>\n",
       "      <td>This lesson will explain the process of data t...</td>\n",
       "      <td>video</td>\n",
       "      <td>NaN</td>\n",
       "      <td>ar</td>\n",
       "      <td>NaN</td>\n",
       "      <td>NaN</td>\n",
       "    </tr>\n",
       "    <tr>\n",
       "      <th>c_016874dbc462</th>\n",
       "      <td>t_50bf9c224dfb</td>\n",
       "      <td>The Mailman and the Five Packages: Data Packet...</td>\n",
       "      <td>This lesson will explain the process of data t...</td>\n",
       "      <td>6e3ba4</td>\n",
       "      <td>source</td>\n",
       "      <td>3</td>\n",
       "      <td>en</td>\n",
       "      <td>Arabic: The Mailman and the Five Packages: Dat...</td>\n",
       "      <td>This lesson will explain the process of data t...</td>\n",
       "      <td>video</td>\n",
       "      <td>NaN</td>\n",
       "      <td>ar</td>\n",
       "      <td>NaN</td>\n",
       "      <td>NaN</td>\n",
       "    </tr>\n",
       "    <tr>\n",
       "      <th>c_0178cba405da</th>\n",
       "      <td>t_d4c1e0858e6d</td>\n",
       "      <td>Taking Walks, Delivering Mail: An Introduction...</td>\n",
       "      <td>This learning video presents an introduction t...</td>\n",
       "      <td>6e3ba4</td>\n",
       "      <td>source</td>\n",
       "      <td>3</td>\n",
       "      <td>en</td>\n",
       "      <td>English-Spanish Subtitles: Taking Walks, Deliv...</td>\n",
       "      <td>This learning video presents an introduction t...</td>\n",
       "      <td>video</td>\n",
       "      <td>NaN</td>\n",
       "      <td>es</td>\n",
       "      <td>NaN</td>\n",
       "      <td>NaN</td>\n",
       "    </tr>\n",
       "    <tr>\n",
       "      <th>...</th>\n",
       "      <td>...</td>\n",
       "      <td>...</td>\n",
       "      <td>...</td>\n",
       "      <td>...</td>\n",
       "      <td>...</td>\n",
       "      <td>...</td>\n",
       "      <td>...</td>\n",
       "      <td>...</td>\n",
       "      <td>...</td>\n",
       "      <td>...</td>\n",
       "      <td>...</td>\n",
       "      <td>...</td>\n",
       "      <td>...</td>\n",
       "      <td>...</td>\n",
       "    </tr>\n",
       "    <tr>\n",
       "      <th>c_fea808d07c32</th>\n",
       "      <td>t_5ae63201e1cb</td>\n",
       "      <td>Amount of Substance and Its Unit, Mole: Connec...</td>\n",
       "      <td>This two-part lesson examines the concepts of ...</td>\n",
       "      <td>6e3ba4</td>\n",
       "      <td>source</td>\n",
       "      <td>3</td>\n",
       "      <td>en</td>\n",
       "      <td>Mandarin Voice-over: Amount of Substance and I...</td>\n",
       "      <td>This two-part lesson examines the concepts of ...</td>\n",
       "      <td>video</td>\n",
       "      <td>NaN</td>\n",
       "      <td>zh</td>\n",
       "      <td>NaN</td>\n",
       "      <td>NaN</td>\n",
       "    </tr>\n",
       "    <tr>\n",
       "      <th>c_feea223848fd</th>\n",
       "      <td>t_bab5d2920003</td>\n",
       "      <td>Prepositions-4</td>\n",
       "      <td>NaN</td>\n",
       "      <td>5139e9</td>\n",
       "      <td>source</td>\n",
       "      <td>7</td>\n",
       "      <td>ar</td>\n",
       "      <td>Countable and Uncountable Nouns: Learn English...</td>\n",
       "      <td>NaN</td>\n",
       "      <td>video</td>\n",
       "      <td>NaN</td>\n",
       "      <td>en</td>\n",
       "      <td>NaN</td>\n",
       "      <td>NaN</td>\n",
       "    </tr>\n",
       "    <tr>\n",
       "      <th>c_ff43191fffdf</th>\n",
       "      <td>t_1a662c84efa5</td>\n",
       "      <td>ReferenceError: whatToWear</td>\n",
       "      <td>NaN</td>\n",
       "      <td>42e8ef</td>\n",
       "      <td>supplemental</td>\n",
       "      <td>7</td>\n",
       "      <td>es</td>\n",
       "      <td>boilerplate_whatToWear.js</td>\n",
       "      <td>NaN</td>\n",
       "      <td>html5</td>\n",
       "      <td>NaN</td>\n",
       "      <td>en</td>\n",
       "      <td>NaN</td>\n",
       "      <td>NaN</td>\n",
       "    </tr>\n",
       "    <tr>\n",
       "      <th>c_ffd49393f4c4</th>\n",
       "      <td>t_13047d953c48</td>\n",
       "      <td>Objetos simples</td>\n",
       "      <td>NaN</td>\n",
       "      <td>fc9105</td>\n",
       "      <td>supplemental</td>\n",
       "      <td>6</td>\n",
       "      <td>es</td>\n",
       "      <td>boilerplate_simpleObjects.js</td>\n",
       "      <td>NaN</td>\n",
       "      <td>html5</td>\n",
       "      <td>NaN</td>\n",
       "      <td>en</td>\n",
       "      <td>NaN</td>\n",
       "      <td>NaN</td>\n",
       "    </tr>\n",
       "    <tr>\n",
       "      <th>c_ffd49393f4c4</th>\n",
       "      <td>t_8b11b28762e5</td>\n",
       "      <td>Objetos simples</td>\n",
       "      <td>NaN</td>\n",
       "      <td>42e8ef</td>\n",
       "      <td>supplemental</td>\n",
       "      <td>7</td>\n",
       "      <td>es</td>\n",
       "      <td>boilerplate_simpleObjects.js</td>\n",
       "      <td>NaN</td>\n",
       "      <td>html5</td>\n",
       "      <td>NaN</td>\n",
       "      <td>en</td>\n",
       "      <td>NaN</td>\n",
       "      <td>NaN</td>\n",
       "    </tr>\n",
       "  </tbody>\n",
       "</table>\n",
       "<p>1086 rows × 14 columns</p>\n",
       "</div>"
      ],
      "text/plain": [
       "                      topic_id  \\\n",
       "c_010fdf43f03e  t_b40178fcca38   \n",
       "c_010fdf43f03e  t_cbc6f37e7833   \n",
       "c_016874dbc462  t_154423db29ed   \n",
       "c_016874dbc462  t_50bf9c224dfb   \n",
       "c_0178cba405da  t_d4c1e0858e6d   \n",
       "...                        ...   \n",
       "c_fea808d07c32  t_5ae63201e1cb   \n",
       "c_feea223848fd  t_bab5d2920003   \n",
       "c_ff43191fffdf  t_1a662c84efa5   \n",
       "c_ffd49393f4c4  t_13047d953c48   \n",
       "c_ffd49393f4c4  t_8b11b28762e5   \n",
       "\n",
       "                                                            title  \\\n",
       "c_010fdf43f03e                                  filterOddElements   \n",
       "c_010fdf43f03e                                  filterOddElements   \n",
       "c_016874dbc462  The Mailman and the Five Packages: Data Packet...   \n",
       "c_016874dbc462  The Mailman and the Five Packages: Data Packet...   \n",
       "c_0178cba405da  Taking Walks, Delivering Mail: An Introduction...   \n",
       "...                                                           ...   \n",
       "c_fea808d07c32  Amount of Substance and Its Unit, Mole: Connec...   \n",
       "c_feea223848fd                                     Prepositions-4   \n",
       "c_ff43191fffdf                         ReferenceError: whatToWear   \n",
       "c_ffd49393f4c4                                    Objetos simples   \n",
       "c_ffd49393f4c4                                    Objetos simples   \n",
       "\n",
       "                                                      description channel  \\\n",
       "c_010fdf43f03e                                                NaN  42e8ef   \n",
       "c_010fdf43f03e                                                NaN  fc9105   \n",
       "c_016874dbc462  This lesson will explain the process of data t...  6e3ba4   \n",
       "c_016874dbc462  This lesson will explain the process of data t...  6e3ba4   \n",
       "c_0178cba405da  This learning video presents an introduction t...  6e3ba4   \n",
       "...                                                           ...     ...   \n",
       "c_fea808d07c32  This two-part lesson examines the concepts of ...  6e3ba4   \n",
       "c_feea223848fd                                                NaN  5139e9   \n",
       "c_ff43191fffdf                                                NaN  42e8ef   \n",
       "c_ffd49393f4c4                                                NaN  fc9105   \n",
       "c_ffd49393f4c4                                                NaN  42e8ef   \n",
       "\n",
       "                    category  level language  \\\n",
       "c_010fdf43f03e  supplemental      7       es   \n",
       "c_010fdf43f03e  supplemental      6       es   \n",
       "c_016874dbc462        source      3       en   \n",
       "c_016874dbc462        source      3       en   \n",
       "c_0178cba405da        source      3       en   \n",
       "...                      ...    ...      ...   \n",
       "c_fea808d07c32        source      3       en   \n",
       "c_feea223848fd        source      7       ar   \n",
       "c_ff43191fffdf  supplemental      7       es   \n",
       "c_ffd49393f4c4  supplemental      6       es   \n",
       "c_ffd49393f4c4  supplemental      7       es   \n",
       "\n",
       "                                                    title_content  \\\n",
       "c_010fdf43f03e                     test_filterOddElements.spec.js   \n",
       "c_010fdf43f03e                     test_filterOddElements.spec.js   \n",
       "c_016874dbc462  Arabic: The Mailman and the Five Packages: Dat...   \n",
       "c_016874dbc462  Arabic: The Mailman and the Five Packages: Dat...   \n",
       "c_0178cba405da  English-Spanish Subtitles: Taking Walks, Deliv...   \n",
       "...                                                           ...   \n",
       "c_fea808d07c32  Mandarin Voice-over: Amount of Substance and I...   \n",
       "c_feea223848fd  Countable and Uncountable Nouns: Learn English...   \n",
       "c_ff43191fffdf                          boilerplate_whatToWear.js   \n",
       "c_ffd49393f4c4                       boilerplate_simpleObjects.js   \n",
       "c_ffd49393f4c4                       boilerplate_simpleObjects.js   \n",
       "\n",
       "                                              description_content   kind text  \\\n",
       "c_010fdf43f03e                                                NaN  html5  NaN   \n",
       "c_010fdf43f03e                                                NaN  html5  NaN   \n",
       "c_016874dbc462  This lesson will explain the process of data t...  video  NaN   \n",
       "c_016874dbc462  This lesson will explain the process of data t...  video  NaN   \n",
       "c_0178cba405da  This learning video presents an introduction t...  video  NaN   \n",
       "...                                                           ...    ...  ...   \n",
       "c_fea808d07c32  This two-part lesson examines the concepts of ...  video  NaN   \n",
       "c_feea223848fd                                                NaN  video  NaN   \n",
       "c_ff43191fffdf                                                NaN  html5  NaN   \n",
       "c_ffd49393f4c4                                                NaN  html5  NaN   \n",
       "c_ffd49393f4c4                                                NaN  html5  NaN   \n",
       "\n",
       "               language_content copyright_holder license  \n",
       "c_010fdf43f03e               en              NaN     NaN  \n",
       "c_010fdf43f03e               en              NaN     NaN  \n",
       "c_016874dbc462               ar              NaN     NaN  \n",
       "c_016874dbc462               ar              NaN     NaN  \n",
       "c_0178cba405da               es              NaN     NaN  \n",
       "...                         ...              ...     ...  \n",
       "c_fea808d07c32               zh              NaN     NaN  \n",
       "c_feea223848fd               en              NaN     NaN  \n",
       "c_ff43191fffdf               en              NaN     NaN  \n",
       "c_ffd49393f4c4               en              NaN     NaN  \n",
       "c_ffd49393f4c4               en              NaN     NaN  \n",
       "\n",
       "[1086 rows x 14 columns]"
      ]
     },
     "metadata": {},
     "output_type": "display_data"
    },
    {
     "name": "stdout",
     "output_type": "stream",
     "text": [
      "time elapsed: 106.15864181518555\n"
     ]
    }
   ],
   "source": [
    "import time\n",
    "\n",
    "merged = data.topics.join(data.correlations, how = \"inner\")\n",
    "display(merged)\n",
    "\n",
    "def create_df(x):\n",
    "    tdf = pd.DataFrame(index = x[\"content_ids\"].split())\n",
    "    tdf[\"topic_id\"] = x.name\n",
    "    tdf[\"title\"] = x[\"title\"]\n",
    "    tdf[\"description\"] = x[\"description\"]\n",
    "    tdf[\"channel\"] = x[\"channel\"]\n",
    "    tdf[\"category\"] = x[\"category\"]\n",
    "    tdf[\"level\"] = x[\"level\"]\n",
    "    tdf[\"language\"] = x[\"language\"]\n",
    "    return tdf\n",
    "# returns a series of dataframes with apply. list function turns it into a list of dataframes. and then we concat it\n",
    "ctime = time.time()\n",
    "merged2 = pd.concat(list(merged.apply(create_df, axis = \"columns\")))\n",
    "merged2 = merged2.join(data.contents, how = \"inner\", rsuffix = \"_content\")\n",
    "\n",
    "language_different = merged2.loc[merged2[\"language\"] != merged2[\"language_content\"]]\n",
    "ctime = time.time() - ctime\n",
    "display(language_different)\n",
    "print(\"time elapsed:\", ctime)"
   ]
  },
  {
   "cell_type": "code",
   "execution_count": 50,
   "id": "4a13e2f1",
   "metadata": {},
   "outputs": [
    {
     "data": {
      "text/html": [
       "<div>\n",
       "<style scoped>\n",
       "    .dataframe tbody tr th:only-of-type {\n",
       "        vertical-align: middle;\n",
       "    }\n",
       "\n",
       "    .dataframe tbody tr th {\n",
       "        vertical-align: top;\n",
       "    }\n",
       "\n",
       "    .dataframe thead th {\n",
       "        text-align: right;\n",
       "    }\n",
       "</style>\n",
       "<table border=\"1\" class=\"dataframe\">\n",
       "  <thead>\n",
       "    <tr style=\"text-align: right;\">\n",
       "      <th></th>\n",
       "      <th>topic_id</th>\n",
       "      <th>title</th>\n",
       "      <th>description</th>\n",
       "      <th>channel</th>\n",
       "      <th>category</th>\n",
       "      <th>level</th>\n",
       "      <th>language</th>\n",
       "      <th>title_content</th>\n",
       "      <th>description_content</th>\n",
       "      <th>kind</th>\n",
       "      <th>text</th>\n",
       "      <th>language_content</th>\n",
       "      <th>copyright_holder</th>\n",
       "      <th>license</th>\n",
       "    </tr>\n",
       "  </thead>\n",
       "  <tbody>\n",
       "    <tr>\n",
       "      <th>c_0219af66ef70</th>\n",
       "      <td>t_2f3de0e2997e</td>\n",
       "      <td>WILL vs. GOING TO</td>\n",
       "      <td>The Future in English: WILL vs. GOING TO</td>\n",
       "      <td>5139e9</td>\n",
       "      <td>source</td>\n",
       "      <td>7</td>\n",
       "      <td>ar</td>\n",
       "      <td>The Future in English: WILL vs. GOING TO</td>\n",
       "      <td>NaN</td>\n",
       "      <td>video</td>\n",
       "      <td>NaN</td>\n",
       "      <td>en</td>\n",
       "      <td>NaN</td>\n",
       "      <td>NaN</td>\n",
       "    </tr>\n",
       "    <tr>\n",
       "      <th>c_03d356a7cdfd</th>\n",
       "      <td>t_b973daf20c04</td>\n",
       "      <td>Phrases  thank God thank goodness thanks to you</td>\n",
       "      <td>NaN</td>\n",
       "      <td>5139e9</td>\n",
       "      <td>source</td>\n",
       "      <td>7</td>\n",
       "      <td>ar</td>\n",
       "      <td>Learn English phrases: thank God, thank goodne...</td>\n",
       "      <td>NaN</td>\n",
       "      <td>video</td>\n",
       "      <td>NaN</td>\n",
       "      <td>en</td>\n",
       "      <td>NaN</td>\n",
       "      <td>NaN</td>\n",
       "    </tr>\n",
       "    <tr>\n",
       "      <th>c_045a5a8a37cf</th>\n",
       "      <td>t_98dcf67b1315</td>\n",
       "      <td>SAFE</td>\n",
       "      <td>English Vocabulary Word of the Day: SAFE</td>\n",
       "      <td>5139e9</td>\n",
       "      <td>source</td>\n",
       "      <td>7</td>\n",
       "      <td>ar</td>\n",
       "      <td>English Vocabulary Word of the Day: SAFE</td>\n",
       "      <td>NaN</td>\n",
       "      <td>video</td>\n",
       "      <td>NaN</td>\n",
       "      <td>en</td>\n",
       "      <td>NaN</td>\n",
       "      <td>NaN</td>\n",
       "    </tr>\n",
       "    <tr>\n",
       "      <th>c_049ab7331d7f</th>\n",
       "      <td>t_a66e71ad1899</td>\n",
       "      <td>प्रश्न पूछना: हम बीमार क्यों पड़ते हैं</td>\n",
       "      <td>NaN</td>\n",
       "      <td>4d2d4a</td>\n",
       "      <td>source</td>\n",
       "      <td>4</td>\n",
       "      <td>hi</td>\n",
       "      <td>CBSE Class 9 Science Introductory Video: Why D...</td>\n",
       "      <td>NaN</td>\n",
       "      <td>video</td>\n",
       "      <td>NaN</td>\n",
       "      <td>en</td>\n",
       "      <td>NaN</td>\n",
       "      <td>NaN</td>\n",
       "    </tr>\n",
       "    <tr>\n",
       "      <th>c_05d9a3427a50</th>\n",
       "      <td>t_63dcb0613439</td>\n",
       "      <td>food1</td>\n",
       "      <td>Lunch</td>\n",
       "      <td>5139e9</td>\n",
       "      <td>source</td>\n",
       "      <td>7</td>\n",
       "      <td>ar</td>\n",
       "      <td>Breakfast Song</td>\n",
       "      <td>NaN</td>\n",
       "      <td>video</td>\n",
       "      <td>NaN</td>\n",
       "      <td>en</td>\n",
       "      <td>NaN</td>\n",
       "      <td>NaN</td>\n",
       "    </tr>\n",
       "    <tr>\n",
       "      <th>...</th>\n",
       "      <td>...</td>\n",
       "      <td>...</td>\n",
       "      <td>...</td>\n",
       "      <td>...</td>\n",
       "      <td>...</td>\n",
       "      <td>...</td>\n",
       "      <td>...</td>\n",
       "      <td>...</td>\n",
       "      <td>...</td>\n",
       "      <td>...</td>\n",
       "      <td>...</td>\n",
       "      <td>...</td>\n",
       "      <td>...</td>\n",
       "      <td>...</td>\n",
       "    </tr>\n",
       "    <tr>\n",
       "      <th>c_f6d3b98bf5ac</th>\n",
       "      <td>t_81e4b03a4c49</td>\n",
       "      <td>Questions 2</td>\n",
       "      <td>Subject and Object Questions in English</td>\n",
       "      <td>5139e9</td>\n",
       "      <td>source</td>\n",
       "      <td>7</td>\n",
       "      <td>ar</td>\n",
       "      <td>Subject and Object Questions in English</td>\n",
       "      <td>NaN</td>\n",
       "      <td>video</td>\n",
       "      <td>NaN</td>\n",
       "      <td>en</td>\n",
       "      <td>NaN</td>\n",
       "      <td>NaN</td>\n",
       "    </tr>\n",
       "    <tr>\n",
       "      <th>c_f865936626bb</th>\n",
       "      <td>t_1ef78f17ae88</td>\n",
       "      <td>R9.1.2 build vocabulary by visiting a website</td>\n",
       "      <td>NaN</td>\n",
       "      <td>5139e9</td>\n",
       "      <td>source</td>\n",
       "      <td>8</td>\n",
       "      <td>ar</td>\n",
       "      <td>Lesson 10</td>\n",
       "      <td>NaN</td>\n",
       "      <td>video</td>\n",
       "      <td>NaN</td>\n",
       "      <td>en</td>\n",
       "      <td>NaN</td>\n",
       "      <td>NaN</td>\n",
       "    </tr>\n",
       "    <tr>\n",
       "      <th>c_f8a9b2c2d48f</th>\n",
       "      <td>t_b72c91542389</td>\n",
       "      <td>Adverbs</td>\n",
       "      <td>NaN</td>\n",
       "      <td>5139e9</td>\n",
       "      <td>source</td>\n",
       "      <td>7</td>\n",
       "      <td>ar</td>\n",
       "      <td>Intensifying Adverbs: English Vocabulary Lesson</td>\n",
       "      <td>NaN</td>\n",
       "      <td>video</td>\n",
       "      <td>NaN</td>\n",
       "      <td>en</td>\n",
       "      <td>NaN</td>\n",
       "      <td>NaN</td>\n",
       "    </tr>\n",
       "    <tr>\n",
       "      <th>c_fa8fa031f21e</th>\n",
       "      <td>t_cc03f465fb6f</td>\n",
       "      <td>the verb to like comparison prices clothing co...</td>\n",
       "      <td>Lesson 14</td>\n",
       "      <td>5139e9</td>\n",
       "      <td>source</td>\n",
       "      <td>7</td>\n",
       "      <td>ar</td>\n",
       "      <td>Lesson 14</td>\n",
       "      <td>NaN</td>\n",
       "      <td>video</td>\n",
       "      <td>NaN</td>\n",
       "      <td>en</td>\n",
       "      <td>NaN</td>\n",
       "      <td>NaN</td>\n",
       "    </tr>\n",
       "    <tr>\n",
       "      <th>c_feea223848fd</th>\n",
       "      <td>t_bab5d2920003</td>\n",
       "      <td>Prepositions-4</td>\n",
       "      <td>NaN</td>\n",
       "      <td>5139e9</td>\n",
       "      <td>source</td>\n",
       "      <td>7</td>\n",
       "      <td>ar</td>\n",
       "      <td>Countable and Uncountable Nouns: Learn English...</td>\n",
       "      <td>NaN</td>\n",
       "      <td>video</td>\n",
       "      <td>NaN</td>\n",
       "      <td>en</td>\n",
       "      <td>NaN</td>\n",
       "      <td>NaN</td>\n",
       "    </tr>\n",
       "  </tbody>\n",
       "</table>\n",
       "<p>269 rows × 14 columns</p>\n",
       "</div>"
      ],
      "text/plain": [
       "                      topic_id  \\\n",
       "c_0219af66ef70  t_2f3de0e2997e   \n",
       "c_03d356a7cdfd  t_b973daf20c04   \n",
       "c_045a5a8a37cf  t_98dcf67b1315   \n",
       "c_049ab7331d7f  t_a66e71ad1899   \n",
       "c_05d9a3427a50  t_63dcb0613439   \n",
       "...                        ...   \n",
       "c_f6d3b98bf5ac  t_81e4b03a4c49   \n",
       "c_f865936626bb  t_1ef78f17ae88   \n",
       "c_f8a9b2c2d48f  t_b72c91542389   \n",
       "c_fa8fa031f21e  t_cc03f465fb6f   \n",
       "c_feea223848fd  t_bab5d2920003   \n",
       "\n",
       "                                                            title  \\\n",
       "c_0219af66ef70                                  WILL vs. GOING TO   \n",
       "c_03d356a7cdfd    Phrases  thank God thank goodness thanks to you   \n",
       "c_045a5a8a37cf                                               SAFE   \n",
       "c_049ab7331d7f             प्रश्न पूछना: हम बीमार क्यों पड़ते हैं   \n",
       "c_05d9a3427a50                                              food1   \n",
       "...                                                           ...   \n",
       "c_f6d3b98bf5ac                                        Questions 2   \n",
       "c_f865936626bb      R9.1.2 build vocabulary by visiting a website   \n",
       "c_f8a9b2c2d48f                                            Adverbs   \n",
       "c_fa8fa031f21e  the verb to like comparison prices clothing co...   \n",
       "c_feea223848fd                                     Prepositions-4   \n",
       "\n",
       "                                             description channel category  \\\n",
       "c_0219af66ef70  The Future in English: WILL vs. GOING TO  5139e9   source   \n",
       "c_03d356a7cdfd                                       NaN  5139e9   source   \n",
       "c_045a5a8a37cf  English Vocabulary Word of the Day: SAFE  5139e9   source   \n",
       "c_049ab7331d7f                                       NaN  4d2d4a   source   \n",
       "c_05d9a3427a50                                     Lunch  5139e9   source   \n",
       "...                                                  ...     ...      ...   \n",
       "c_f6d3b98bf5ac   Subject and Object Questions in English  5139e9   source   \n",
       "c_f865936626bb                                       NaN  5139e9   source   \n",
       "c_f8a9b2c2d48f                                       NaN  5139e9   source   \n",
       "c_fa8fa031f21e                                 Lesson 14  5139e9   source   \n",
       "c_feea223848fd                                       NaN  5139e9   source   \n",
       "\n",
       "                level language  \\\n",
       "c_0219af66ef70      7       ar   \n",
       "c_03d356a7cdfd      7       ar   \n",
       "c_045a5a8a37cf      7       ar   \n",
       "c_049ab7331d7f      4       hi   \n",
       "c_05d9a3427a50      7       ar   \n",
       "...               ...      ...   \n",
       "c_f6d3b98bf5ac      7       ar   \n",
       "c_f865936626bb      8       ar   \n",
       "c_f8a9b2c2d48f      7       ar   \n",
       "c_fa8fa031f21e      7       ar   \n",
       "c_feea223848fd      7       ar   \n",
       "\n",
       "                                                    title_content  \\\n",
       "c_0219af66ef70           The Future in English: WILL vs. GOING TO   \n",
       "c_03d356a7cdfd  Learn English phrases: thank God, thank goodne...   \n",
       "c_045a5a8a37cf           English Vocabulary Word of the Day: SAFE   \n",
       "c_049ab7331d7f  CBSE Class 9 Science Introductory Video: Why D...   \n",
       "c_05d9a3427a50                                    Breakfast Song    \n",
       "...                                                           ...   \n",
       "c_f6d3b98bf5ac            Subject and Object Questions in English   \n",
       "c_f865936626bb                                          Lesson 10   \n",
       "c_f8a9b2c2d48f    Intensifying Adverbs: English Vocabulary Lesson   \n",
       "c_fa8fa031f21e                                          Lesson 14   \n",
       "c_feea223848fd  Countable and Uncountable Nouns: Learn English...   \n",
       "\n",
       "               description_content   kind text language_content  \\\n",
       "c_0219af66ef70                 NaN  video  NaN               en   \n",
       "c_03d356a7cdfd                 NaN  video  NaN               en   \n",
       "c_045a5a8a37cf                 NaN  video  NaN               en   \n",
       "c_049ab7331d7f                 NaN  video  NaN               en   \n",
       "c_05d9a3427a50                 NaN  video  NaN               en   \n",
       "...                            ...    ...  ...              ...   \n",
       "c_f6d3b98bf5ac                 NaN  video  NaN               en   \n",
       "c_f865936626bb                 NaN  video  NaN               en   \n",
       "c_f8a9b2c2d48f                 NaN  video  NaN               en   \n",
       "c_fa8fa031f21e                 NaN  video  NaN               en   \n",
       "c_feea223848fd                 NaN  video  NaN               en   \n",
       "\n",
       "               copyright_holder license  \n",
       "c_0219af66ef70              NaN     NaN  \n",
       "c_03d356a7cdfd              NaN     NaN  \n",
       "c_045a5a8a37cf              NaN     NaN  \n",
       "c_049ab7331d7f              NaN     NaN  \n",
       "c_05d9a3427a50              NaN     NaN  \n",
       "...                         ...     ...  \n",
       "c_f6d3b98bf5ac              NaN     NaN  \n",
       "c_f865936626bb              NaN     NaN  \n",
       "c_f8a9b2c2d48f              NaN     NaN  \n",
       "c_fa8fa031f21e              NaN     NaN  \n",
       "c_feea223848fd              NaN     NaN  \n",
       "\n",
       "[269 rows x 14 columns]"
      ]
     },
     "execution_count": 50,
     "metadata": {},
     "output_type": "execute_result"
    }
   ],
   "source": [
    "language_different.loc[\n",
    "    (language_different[\"language_content\"] == \"en\") & (language_different[\"title_content\"].apply(lambda x: not x.endswith(\".js\")))\n",
    "]"
   ]
  },
  {
   "cell_type": "code",
   "execution_count": 49,
   "id": "7a3764f7",
   "metadata": {},
   "outputs": [
    {
     "data": {
      "text/plain": [
       "c_010fdf43f03e     True\n",
       "c_010fdf43f03e     True\n",
       "c_016874dbc462    False\n",
       "c_016874dbc462    False\n",
       "c_0178cba405da    False\n",
       "                  ...  \n",
       "c_fea808d07c32    False\n",
       "c_feea223848fd     True\n",
       "c_ff43191fffdf     True\n",
       "c_ffd49393f4c4     True\n",
       "c_ffd49393f4c4     True\n",
       "Name: language_content, Length: 1086, dtype: bool"
      ]
     },
     "execution_count": 49,
     "metadata": {},
     "output_type": "execute_result"
    }
   ],
   "source": [
    "language_different[\"language_content\"] == \"en\""
   ]
  },
  {
   "cell_type": "code",
   "execution_count": 46,
   "id": "febe2e8e",
   "metadata": {},
   "outputs": [
    {
     "data": {
      "text/plain": [
       "c_010fdf43f03e    False\n",
       "c_010fdf43f03e    False\n",
       "c_016874dbc462     True\n",
       "c_016874dbc462     True\n",
       "c_0178cba405da     True\n",
       "                  ...  \n",
       "c_fea808d07c32     True\n",
       "c_feea223848fd     True\n",
       "c_ff43191fffdf    False\n",
       "c_ffd49393f4c4    False\n",
       "c_ffd49393f4c4    False\n",
       "Name: title_content, Length: 1086, dtype: bool"
      ]
     },
     "execution_count": 46,
     "metadata": {},
     "output_type": "execute_result"
    }
   ],
   "source": [
    "language_different[\"title_content\"].apply(lambda x: not x.endswith(\".js\"))"
   ]
  },
  {
   "cell_type": "code",
   "execution_count": null,
   "id": "173ca1e6",
   "metadata": {},
   "outputs": [],
   "source": []
  }
 ],
 "metadata": {
  "kernelspec": {
   "display_name": "Python 3 (ipykernel)",
   "language": "python",
   "name": "python3"
  },
  "language_info": {
   "codemirror_mode": {
    "name": "ipython",
    "version": 3
   },
   "file_extension": ".py",
   "mimetype": "text/x-python",
   "name": "python",
   "nbconvert_exporter": "python",
   "pygments_lexer": "ipython3",
   "version": "3.10.8"
  }
 },
 "nbformat": 4,
 "nbformat_minor": 5
}
