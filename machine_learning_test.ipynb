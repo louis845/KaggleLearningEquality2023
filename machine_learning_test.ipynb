{
 "cells": [
  {
   "cell_type": "code",
   "execution_count": 1,
   "id": "95a616d7",
   "metadata": {},
   "outputs": [],
   "source": [
    "import data\n",
    "import data_vectorizer\n",
    "import pandas as pd\n",
    "import numpy as np"
   ]
  },
  {
   "cell_type": "code",
   "execution_count": 108,
   "id": "3e59a952",
   "metadata": {},
   "outputs": [
    {
     "name": "stdout",
     "output_type": "stream",
     "text": [
      "[(1, 4), (1, 5), (1, 6), (2, 4), (2, 5), (2, 6), (3, 4), (3, 5), (3, 6)]\n"
     ]
    }
   ],
   "source": [
    "import itertools\n",
    "prod = list(itertools.product([1,2,3],[4,5,6]))\n",
    "print(prod)"
   ]
  },
  {
   "cell_type": "code",
   "execution_count": 109,
   "id": "bfcf08ad",
   "metadata": {},
   "outputs": [
    {
     "data": {
      "text/plain": [
       "[(1, 1, 1, 2, 2, 2, 3, 3, 3), (4, 5, 6, 4, 5, 6, 4, 5, 6)]"
      ]
     },
     "execution_count": 109,
     "metadata": {},
     "output_type": "execute_result"
    }
   ],
   "source": [
    "list(zip(*prod))"
   ]
  },
  {
   "cell_type": "code",
   "execution_count": 9,
   "id": "968c9220",
   "metadata": {},
   "outputs": [],
   "source": [
    "z = list(zip(*[(1, 2), (3, 4), (5, 6)]))"
   ]
  },
  {
   "cell_type": "code",
   "execution_count": 8,
   "id": "8bd624f0",
   "metadata": {},
   "outputs": [
    {
     "data": {
      "text/plain": [
       "Index(['c_e1d73acfff8e', 'c_433f60c8c551', 'c_bd6cb0b2064a', 'c_af05b751efdf',\n",
       "       'c_d95c204965eb', 'c_82fff6f5f011', 'c_e7422d30f9de', 'c_5aee85b81df4',\n",
       "       'c_ee5fdde42578', 'c_6287bfd9a353',\n",
       "       ...\n",
       "       'c_bc0c2f38405e', 'c_d1f6e1a4fdeb', 'c_d6152aa64456', 'c_d9f883585fae',\n",
       "       'c_f281dc119ead', 'c_06e435c5adc4', 'c_1d988f48dbd1', 'c_9535009492ec',\n",
       "       'c_d4456fa82c93', 'c_a3764558c917'],\n",
       "      dtype='object', name='id', length=80172)"
      ]
     },
     "metadata": {},
     "output_type": "display_data"
    },
    {
     "data": {
      "text/plain": [
       "Index(['t_000095e03056', 't_00069b63a70a', 't_0008a1bd84ba', 't_000c0c854f0b',\n",
       "       't_000d1fb3f2f5', 't_00102869fbcb', 't_001139e52dbe', 't_0012a45fa09c',\n",
       "       't_0015856edda8', 't_00165488ad43',\n",
       "       ...\n",
       "       't_ffee896af9ab', 't_fff1f01cfeb0', 't_fff51448598c', 't_fff5da49c4d3',\n",
       "       't_fff7782561f4', 't_fff80f4eee89', 't_fff830472691', 't_fffb0bf2801d',\n",
       "       't_fffe14f1be1e', 't_fffe88835149'],\n",
       "      dtype='object', name='id', length=46149)"
      ]
     },
     "metadata": {},
     "output_type": "display_data"
    },
    {
     "data": {
      "text/plain": [
       "Index(['c_639ea2ef9c95', 'c_89ce9367be10', 'c_ac1672cdcd2c', 'c_ebb7fdf10a7e',\n",
       "       'c_2bbc650030f4', 'c_304ee4f59410', 'c_0baf72ed7e1e', 'c_5eca28e2cdb4',\n",
       "       'c_6a5472fb1483', 'c_ccd6b2522613',\n",
       "       ...\n",
       "       'c_c8afdc5d35e0', 'c_0a14c601790d', 'c_4296e1773043', 'c_467c25f8af6e',\n",
       "       'c_50a388dd2295', 'c_5f678fecd934', 'c_686fc8da9d9e', 'c_bfaf73de8100',\n",
       "       'c_dbc8b01bad08', 'c_ec8c8f6480d0'],\n",
       "      dtype='object', name='id', length=41272)"
      ]
     },
     "metadata": {},
     "output_type": "display_data"
    },
    {
     "data": {
      "text/plain": [
       "Index(['t_00068291e9a4', 't_0010852b7049', 't_001477394250', 't_0014be0167f3',\n",
       "       't_0014d6945f7e', 't_001bc7125ae7', 't_001bd01717d7', 't_002336d97c88',\n",
       "       't_00253e2bc084', 't_002dfcaaf1d7',\n",
       "       ...\n",
       "       't_ffd908252a7d', 't_ffdc013937fc', 't_ffdfd53288a4', 't_ffe5264dc46d',\n",
       "       't_ffe546d714a1', 't_ffe719589252', 't_fff05585df72', 't_fff5d93d4dc2',\n",
       "       't_fff7f2dd208b', 't_fffe811a6da9'],\n",
       "      dtype='object', name='id', length=14469)"
      ]
     },
     "metadata": {},
     "output_type": "display_data"
    }
   ],
   "source": [
    "display(data_vectorizer.train_contents)\n",
    "display(data_vectorizer.train_topics)\n",
    "display(data_vectorizer.test_contents)\n",
    "display(data_vectorizer.test_topics)"
   ]
  },
  {
   "cell_type": "code",
   "execution_count": 104,
   "id": "296cc481",
   "metadata": {},
   "outputs": [
    {
     "name": "stdout",
     "output_type": "stream",
     "text": [
      "45.0\n"
     ]
    }
   ],
   "source": [
    "initial_sample_size = 1000\n",
    "contents_list = data_vectorizer.random_train_contents_sample(initial_sample_size)\n",
    "topics_list = data_vectorizer.random_train_topics_sample(initial_sample_size)\n",
    "cor_frame = data_vectorizer.obtain_correlation_frame(topics_list, contents_list)\n",
    "\n",
    "print(cor_frame.sum().sum())"
   ]
  },
  {
   "cell_type": "code",
   "execution_count": 105,
   "id": "44e22d8c",
   "metadata": {},
   "outputs": [
    {
     "name": "stdout",
     "output_type": "stream",
     "text": [
      "45\n",
      "4545\n"
     ]
    }
   ],
   "source": [
    "cor_mat = cor_frame.to_numpy().astype(dtype = np.int32)\n",
    "\n",
    "zero_to_one_ratio = 100\n",
    "one_locations = np.where(cor_mat == 1)\n",
    "zero_locations = np.where(cor_mat == 0)\n",
    "stopics = list(one_locations[0])\n",
    "scontents = list(one_locations[1])\n",
    "\n",
    "one_length = len(stopics)\n",
    "zero_length = int(one_length * zero_to_one_ratio)\n",
    "correlations = [1] * one_length\n",
    "correlations.extend([0] * zero_length)\n",
    "\n",
    "zero_samples = list(np.random.choice(len(zero_locations[0]), zero_length, replace=False))\n",
    "stopics.extend(zero_locations[0][zero_samples])\n",
    "scontents.extend(zero_locations[1][zero_samples])\n",
    "\n",
    "stopics = topics_list[stopics]\n",
    "scontents = contents_list[scontents]\n",
    "\n",
    "for k in range(len(correlations)):\n",
    "    if int(cor_frame.loc[stopics[k], scontents[k]]) != correlations[k]:\n",
    "        print(\"Error:   \", stopics[k],\" \", scontents[k])\n",
    "        \n",
    "print(cor_mat.sum())\n",
    "print(len(correlations))"
   ]
  },
  {
   "cell_type": "code",
   "execution_count": 58,
   "id": "3b7776d5",
   "metadata": {},
   "outputs": [
    {
     "data": {
      "text/plain": [
       "array([0, 1, 1, 0, 1, 0, 1, 1, 0, 1])"
      ]
     },
     "metadata": {},
     "output_type": "display_data"
    },
    {
     "data": {
      "text/plain": [
       "array([0, 1, 0])"
      ]
     },
     "metadata": {},
     "output_type": "display_data"
    }
   ],
   "source": [
    "rint = np.random.randint(2, size = 10)\n",
    "display(rint)\n",
    "display(rint[[3,1,5]])"
   ]
  },
  {
   "cell_type": "code",
   "execution_count": 47,
   "id": "25fe4258",
   "metadata": {},
   "outputs": [
    {
     "name": "stdout",
     "output_type": "stream",
     "text": [
      "[1, 1, 1, 1, 1, 1, 1, 1, 1, 1, 1, 1, 1, 1, 1, 1, 1, 1, 1, 1, 1, 1, 1, 1, 1, 1, 1, 1, 1, 1, 1, 1, 1, 1, 1, 1, 1, 1, 1, 1, 1, 1]\n"
     ]
    }
   ],
   "source": [
    "print(correlations)"
   ]
  },
  {
   "cell_type": "code",
   "execution_count": 24,
   "id": "99a770f6",
   "metadata": {},
   "outputs": [
    {
     "data": {
      "text/plain": [
       "array([[ 5.54998990e-01, -6.82801331e-01,  4.27462113e-01,\n",
       "         1.56883148e+00, -3.84519873e-02, -2.91942157e-01,\n",
       "        -1.84802245e+00, -4.63534869e-01, -6.46146170e-01,\n",
       "        -1.06448844e+00],\n",
       "       [ 1.07209767e+00, -8.04710991e-01,  6.11925974e-01,\n",
       "        -5.14159239e-01,  4.85407301e-01,  7.41236000e-01,\n",
       "         6.69513159e-01,  1.02792098e+00,  1.57914363e+00,\n",
       "        -9.59296535e-02],\n",
       "       [-4.41025254e-01,  1.45252316e+00,  9.98628448e-01,\n",
       "        -4.23597907e-01,  4.44918004e-01,  1.32930609e+00,\n",
       "         1.25161169e-02,  4.88572476e-01, -2.14411726e+00,\n",
       "         5.79508226e-01],\n",
       "       [ 9.76426066e-02,  2.36971827e-01,  1.48897919e-01,\n",
       "         2.09450969e-01, -1.80561220e+00, -1.93964236e-01,\n",
       "        -4.22927546e-01,  1.06602194e+00, -8.62047607e-01,\n",
       "        -2.90763707e-01],\n",
       "       [-1.07316556e+00, -2.50999050e-01, -5.45049325e-01,\n",
       "         9.30376622e-01,  1.35710432e+00, -1.39971876e+00,\n",
       "        -1.39918093e+00, -1.78556161e+00,  3.89109048e-01,\n",
       "         2.55733739e-01],\n",
       "       [ 4.12384957e-01, -8.45741919e-01, -1.19577395e+00,\n",
       "         5.68965823e-01,  1.17453162e+00, -2.17026213e+00,\n",
       "        -9.07087209e-01, -1.05109333e-01, -1.59747466e+00,\n",
       "         2.74949762e+00],\n",
       "       [ 5.36542762e-01, -5.40155297e-01, -9.13125702e-01,\n",
       "        -1.65606333e+00,  3.23160397e-01,  5.50559733e-01,\n",
       "        -1.99443313e+00, -7.76819274e-01,  1.17471824e+00,\n",
       "        -2.05026117e+00],\n",
       "       [-1.43562084e+00,  1.98954375e+00, -6.12864761e-01,\n",
       "        -7.14501870e-01,  3.22211219e-01, -8.97134637e-01,\n",
       "        -1.39225877e-01, -7.70172174e-01,  1.64072083e-02,\n",
       "        -1.55523894e+00],\n",
       "       [ 2.50512679e-01,  9.66722316e-01,  2.22092599e-01,\n",
       "         1.16647431e+00,  1.62221847e+00, -1.54412712e+00,\n",
       "        -4.44946253e-01,  1.16049013e+00, -1.51889915e-01,\n",
       "         1.79358409e-01],\n",
       "       [ 6.01406297e-01, -2.39514249e-01, -2.74929324e+00,\n",
       "         2.93992038e+00, -5.08791116e-02,  1.10999297e+00,\n",
       "         3.71133514e-01,  2.15869011e+00,  2.05815304e-01,\n",
       "         8.94887649e-01],\n",
       "       [-7.36911984e-01,  7.32612095e-01,  2.32423889e-02,\n",
       "         5.70369721e-01,  1.53936938e-02,  1.08527132e+00,\n",
       "         5.99444728e-01,  1.68478512e+00,  1.19875760e-03,\n",
       "        -1.16117127e+00]])"
      ]
     },
     "metadata": {},
     "output_type": "display_data"
    },
    {
     "data": {
      "text/plain": [
       "array([ 5.54998990e-01, -6.82801331e-01,  4.27462113e-01,  1.56883148e+00,\n",
       "       -3.84519873e-02, -2.91942157e-01, -1.84802245e+00, -4.63534869e-01,\n",
       "       -6.46146170e-01, -1.06448844e+00,  1.07209767e+00, -8.04710991e-01,\n",
       "        6.11925974e-01, -5.14159239e-01,  4.85407301e-01,  7.41236000e-01,\n",
       "        6.69513159e-01,  1.02792098e+00,  1.57914363e+00, -9.59296535e-02,\n",
       "       -4.41025254e-01,  1.45252316e+00,  9.98628448e-01, -4.23597907e-01,\n",
       "        4.44918004e-01,  1.32930609e+00,  1.25161169e-02,  4.88572476e-01,\n",
       "       -2.14411726e+00,  5.79508226e-01,  9.76426066e-02,  2.36971827e-01,\n",
       "        1.48897919e-01,  2.09450969e-01, -1.80561220e+00, -1.93964236e-01,\n",
       "       -4.22927546e-01,  1.06602194e+00, -8.62047607e-01, -2.90763707e-01,\n",
       "       -1.07316556e+00, -2.50999050e-01, -5.45049325e-01,  9.30376622e-01,\n",
       "        1.35710432e+00, -1.39971876e+00, -1.39918093e+00, -1.78556161e+00,\n",
       "        3.89109048e-01,  2.55733739e-01,  4.12384957e-01, -8.45741919e-01,\n",
       "       -1.19577395e+00,  5.68965823e-01,  1.17453162e+00, -2.17026213e+00,\n",
       "       -9.07087209e-01, -1.05109333e-01, -1.59747466e+00,  2.74949762e+00,\n",
       "        5.36542762e-01, -5.40155297e-01, -9.13125702e-01, -1.65606333e+00,\n",
       "        3.23160397e-01,  5.50559733e-01, -1.99443313e+00, -7.76819274e-01,\n",
       "        1.17471824e+00, -2.05026117e+00, -1.43562084e+00,  1.98954375e+00,\n",
       "       -6.12864761e-01, -7.14501870e-01,  3.22211219e-01, -8.97134637e-01,\n",
       "       -1.39225877e-01, -7.70172174e-01,  1.64072083e-02, -1.55523894e+00,\n",
       "        2.50512679e-01,  9.66722316e-01,  2.22092599e-01,  1.16647431e+00,\n",
       "        1.62221847e+00, -1.54412712e+00, -4.44946253e-01,  1.16049013e+00,\n",
       "       -1.51889915e-01,  1.79358409e-01,  6.01406297e-01, -2.39514249e-01,\n",
       "       -2.74929324e+00,  2.93992038e+00, -5.08791116e-02,  1.10999297e+00,\n",
       "        3.71133514e-01,  2.15869011e+00,  2.05815304e-01,  8.94887649e-01,\n",
       "       -7.36911984e-01,  7.32612095e-01,  2.32423889e-02,  5.70369721e-01,\n",
       "        1.53936938e-02,  1.08527132e+00,  5.99444728e-01,  1.68478512e+00,\n",
       "        1.19875760e-03, -1.16117127e+00])"
      ]
     },
     "metadata": {},
     "output_type": "display_data"
    }
   ],
   "source": [
    "mat = np.random.normal(size = (11, 10))\n",
    "display(mat)\n",
    "display(mat.flatten())"
   ]
  },
  {
   "cell_type": "code",
   "execution_count": 16,
   "id": "28fcf3e2",
   "metadata": {},
   "outputs": [
    {
     "name": "stdout",
     "output_type": "stream",
     "text": [
      "33\n",
      "41\n",
      "51\n",
      "33\n",
      "43\n",
      "41\n",
      "46\n",
      "37\n",
      "40\n",
      "51\n",
      "47\n",
      "39\n",
      "48\n",
      "49\n",
      "39\n",
      "40\n",
      "41\n",
      "48\n",
      "47\n",
      "52\n"
     ]
    }
   ],
   "source": [
    "contents_list, topics_list, correlations = data_vectorizer.random_train_batch_sample(initial_sample_size = 1000, zero_to_one_ratio = 1)\n",
    "\n",
    "contents_strings = data_vectorizer.obtain_contents_vector(contents_list)\n",
    "topics_strings = data_vectorizer.obtain_topics_vector(topics_list)"
   ]
  },
  {
   "cell_type": "code",
   "execution_count": 6,
   "id": "2886cc98",
   "metadata": {},
   "outputs": [
    {
     "data": {
      "text/html": [
       "<div>\n",
       "<style scoped>\n",
       "    .dataframe tbody tr th:only-of-type {\n",
       "        vertical-align: middle;\n",
       "    }\n",
       "\n",
       "    .dataframe tbody tr th {\n",
       "        vertical-align: top;\n",
       "    }\n",
       "\n",
       "    .dataframe thead th {\n",
       "        text-align: right;\n",
       "    }\n",
       "</style>\n",
       "<table border=\"1\" class=\"dataframe\">\n",
       "  <thead>\n",
       "    <tr style=\"text-align: right;\">\n",
       "      <th></th>\n",
       "      <th>content_ids</th>\n",
       "    </tr>\n",
       "    <tr>\n",
       "      <th>topic_id</th>\n",
       "      <th></th>\n",
       "    </tr>\n",
       "  </thead>\n",
       "  <tbody>\n",
       "    <tr>\n",
       "      <th>t_00004da3a1b2</th>\n",
       "      <td>c_1108dd0c7a5d c_376c5a8eb028 c_5bc0e1e2cba0 c...</td>\n",
       "    </tr>\n",
       "    <tr>\n",
       "      <th>t_00068291e9a4</th>\n",
       "      <td>c_639ea2ef9c95 c_89ce9367be10 c_ac1672cdcd2c c...</td>\n",
       "    </tr>\n",
       "    <tr>\n",
       "      <th>t_00069b63a70a</th>\n",
       "      <td>c_11a1dc0bfb99</td>\n",
       "    </tr>\n",
       "    <tr>\n",
       "      <th>t_0006d41a73a8</th>\n",
       "      <td>c_0c6473c3480d c_1c57a1316568 c_5e375cf14c47 c...</td>\n",
       "    </tr>\n",
       "    <tr>\n",
       "      <th>t_0008768bdee6</th>\n",
       "      <td>c_34e1424229b4 c_7d1a964d66d5 c_aab93ee667f4</td>\n",
       "    </tr>\n",
       "    <tr>\n",
       "      <th>...</th>\n",
       "      <td>...</td>\n",
       "    </tr>\n",
       "    <tr>\n",
       "      <th>t_fff830472691</th>\n",
       "      <td>c_61fb63326e5d c_8f224e321c87</td>\n",
       "    </tr>\n",
       "    <tr>\n",
       "      <th>t_fff9e5407d13</th>\n",
       "      <td>c_026db653a269 c_0fb048a6412c c_20de77522603 c...</td>\n",
       "    </tr>\n",
       "    <tr>\n",
       "      <th>t_fffbe1d5d43c</th>\n",
       "      <td>c_46f852a49c08 c_6659207b25d5</td>\n",
       "    </tr>\n",
       "    <tr>\n",
       "      <th>t_fffe14f1be1e</th>\n",
       "      <td>c_cece166bad6a</td>\n",
       "    </tr>\n",
       "    <tr>\n",
       "      <th>t_fffe811a6da9</th>\n",
       "      <td>c_92b8fad372ee</td>\n",
       "    </tr>\n",
       "  </tbody>\n",
       "</table>\n",
       "<p>61517 rows × 1 columns</p>\n",
       "</div>"
      ],
      "text/plain": [
       "                                                      content_ids\n",
       "topic_id                                                         \n",
       "t_00004da3a1b2  c_1108dd0c7a5d c_376c5a8eb028 c_5bc0e1e2cba0 c...\n",
       "t_00068291e9a4  c_639ea2ef9c95 c_89ce9367be10 c_ac1672cdcd2c c...\n",
       "t_00069b63a70a                                     c_11a1dc0bfb99\n",
       "t_0006d41a73a8  c_0c6473c3480d c_1c57a1316568 c_5e375cf14c47 c...\n",
       "t_0008768bdee6       c_34e1424229b4 c_7d1a964d66d5 c_aab93ee667f4\n",
       "...                                                           ...\n",
       "t_fff830472691                      c_61fb63326e5d c_8f224e321c87\n",
       "t_fff9e5407d13  c_026db653a269 c_0fb048a6412c c_20de77522603 c...\n",
       "t_fffbe1d5d43c                      c_46f852a49c08 c_6659207b25d5\n",
       "t_fffe14f1be1e                                     c_cece166bad6a\n",
       "t_fffe811a6da9                                     c_92b8fad372ee\n",
       "\n",
       "[61517 rows x 1 columns]"
      ]
     },
     "metadata": {},
     "output_type": "display_data"
    }
   ],
   "source": [
    "display(data.correlations)"
   ]
  },
  {
   "cell_type": "code",
   "execution_count": null,
   "id": "9a474aa5",
   "metadata": {},
   "outputs": [],
   "source": []
  }
 ],
 "metadata": {
  "kernelspec": {
   "display_name": "Python 3 (ipykernel)",
   "language": "python",
   "name": "python3"
  },
  "language_info": {
   "codemirror_mode": {
    "name": "ipython",
    "version": 3
   },
   "file_extension": ".py",
   "mimetype": "text/x-python",
   "name": "python",
   "nbconvert_exporter": "python",
   "pygments_lexer": "ipython3",
   "version": "3.10.8"
  }
 },
 "nbformat": 4,
 "nbformat_minor": 5
}
