{
 "cells": [
  {
   "cell_type": "code",
   "execution_count": 1,
   "id": "95a616d7",
   "metadata": {},
   "outputs": [],
   "source": [
    "import data\n",
    "import data_vectorizer\n",
    "import pandas as pd\n",
    "import numpy as np\n",
    "import model_vectorizer_simple"
   ]
  },
  {
   "cell_type": "code",
   "execution_count": 108,
   "id": "3e59a952",
   "metadata": {},
   "outputs": [
    {
     "name": "stdout",
     "output_type": "stream",
     "text": [
      "[(1, 4), (1, 5), (1, 6), (2, 4), (2, 5), (2, 6), (3, 4), (3, 5), (3, 6)]\n"
     ]
    }
   ],
   "source": [
    "import itertools\n",
    "prod = list(itertools.product([1,2,3],[4,5,6]))\n",
    "print(prod)"
   ]
  },
  {
   "cell_type": "code",
   "execution_count": 109,
   "id": "f844687a",
   "metadata": {},
   "outputs": [
    {
     "data": {
      "text/plain": [
       "[(1, 1, 1, 2, 2, 2, 3, 3, 3), (4, 5, 6, 4, 5, 6, 4, 5, 6)]"
      ]
     },
     "execution_count": 109,
     "metadata": {},
     "output_type": "execute_result"
    }
   ],
   "source": [
    "list(zip(*prod))"
   ]
  },
  {
   "cell_type": "code",
   "execution_count": 9,
   "id": "1c691cfa",
   "metadata": {},
   "outputs": [],
   "source": [
    "z = list(zip(*[(1, 2), (3, 4), (5, 6)]))"
   ]
  },
  {
   "cell_type": "code",
   "execution_count": 8,
   "id": "46f18f04",
   "metadata": {},
   "outputs": [
    {
     "data": {
      "text/plain": [
       "Index(['c_e1d73acfff8e', 'c_433f60c8c551', 'c_bd6cb0b2064a', 'c_af05b751efdf',\n",
       "       'c_d95c204965eb', 'c_82fff6f5f011', 'c_e7422d30f9de', 'c_5aee85b81df4',\n",
       "       'c_ee5fdde42578', 'c_6287bfd9a353',\n",
       "       ...\n",
       "       'c_bc0c2f38405e', 'c_d1f6e1a4fdeb', 'c_d6152aa64456', 'c_d9f883585fae',\n",
       "       'c_f281dc119ead', 'c_06e435c5adc4', 'c_1d988f48dbd1', 'c_9535009492ec',\n",
       "       'c_d4456fa82c93', 'c_a3764558c917'],\n",
       "      dtype='object', name='id', length=80172)"
      ]
     },
     "metadata": {},
     "output_type": "display_data"
    },
    {
     "data": {
      "text/plain": [
       "Index(['t_000095e03056', 't_00069b63a70a', 't_0008a1bd84ba', 't_000c0c854f0b',\n",
       "       't_000d1fb3f2f5', 't_00102869fbcb', 't_001139e52dbe', 't_0012a45fa09c',\n",
       "       't_0015856edda8', 't_00165488ad43',\n",
       "       ...\n",
       "       't_ffee896af9ab', 't_fff1f01cfeb0', 't_fff51448598c', 't_fff5da49c4d3',\n",
       "       't_fff7782561f4', 't_fff80f4eee89', 't_fff830472691', 't_fffb0bf2801d',\n",
       "       't_fffe14f1be1e', 't_fffe88835149'],\n",
       "      dtype='object', name='id', length=46149)"
      ]
     },
     "metadata": {},
     "output_type": "display_data"
    },
    {
     "data": {
      "text/plain": [
       "Index(['c_639ea2ef9c95', 'c_89ce9367be10', 'c_ac1672cdcd2c', 'c_ebb7fdf10a7e',\n",
       "       'c_2bbc650030f4', 'c_304ee4f59410', 'c_0baf72ed7e1e', 'c_5eca28e2cdb4',\n",
       "       'c_6a5472fb1483', 'c_ccd6b2522613',\n",
       "       ...\n",
       "       'c_c8afdc5d35e0', 'c_0a14c601790d', 'c_4296e1773043', 'c_467c25f8af6e',\n",
       "       'c_50a388dd2295', 'c_5f678fecd934', 'c_686fc8da9d9e', 'c_bfaf73de8100',\n",
       "       'c_dbc8b01bad08', 'c_ec8c8f6480d0'],\n",
       "      dtype='object', name='id', length=41272)"
      ]
     },
     "metadata": {},
     "output_type": "display_data"
    },
    {
     "data": {
      "text/plain": [
       "Index(['t_00068291e9a4', 't_0010852b7049', 't_001477394250', 't_0014be0167f3',\n",
       "       't_0014d6945f7e', 't_001bc7125ae7', 't_001bd01717d7', 't_002336d97c88',\n",
       "       't_00253e2bc084', 't_002dfcaaf1d7',\n",
       "       ...\n",
       "       't_ffd908252a7d', 't_ffdc013937fc', 't_ffdfd53288a4', 't_ffe5264dc46d',\n",
       "       't_ffe546d714a1', 't_ffe719589252', 't_fff05585df72', 't_fff5d93d4dc2',\n",
       "       't_fff7f2dd208b', 't_fffe811a6da9'],\n",
       "      dtype='object', name='id', length=14469)"
      ]
     },
     "metadata": {},
     "output_type": "display_data"
    }
   ],
   "source": [
    "display(data_vectorizer.train_contents)\n",
    "display(data_vectorizer.train_topics)\n",
    "display(data_vectorizer.test_contents)\n",
    "display(data_vectorizer.test_topics)"
   ]
  },
  {
   "cell_type": "code",
   "execution_count": 104,
   "id": "eda5b6a5",
   "metadata": {},
   "outputs": [
    {
     "name": "stdout",
     "output_type": "stream",
     "text": [
      "45.0\n"
     ]
    }
   ],
   "source": [
    "initial_sample_size = 1000\n",
    "contents_list = data_vectorizer.random_train_contents_sample(initial_sample_size)\n",
    "topics_list = data_vectorizer.random_train_topics_sample(initial_sample_size)\n",
    "cor_frame = data_vectorizer.obtain_correlation_frame(topics_list, contents_list)\n",
    "\n",
    "print(cor_frame.sum().sum())"
   ]
  },
  {
   "cell_type": "code",
   "execution_count": 105,
   "id": "945dd772",
   "metadata": {},
   "outputs": [
    {
     "name": "stdout",
     "output_type": "stream",
     "text": [
      "45\n",
      "4545\n"
     ]
    }
   ],
   "source": [
    "cor_mat = cor_frame.to_numpy().astype(dtype = np.int32)\n",
    "\n",
    "zero_to_one_ratio = 100\n",
    "one_locations = np.where(cor_mat == 1)\n",
    "zero_locations = np.where(cor_mat == 0)\n",
    "stopics = list(one_locations[0])\n",
    "scontents = list(one_locations[1])\n",
    "\n",
    "one_length = len(stopics)\n",
    "zero_length = int(one_length * zero_to_one_ratio)\n",
    "correlations = [1] * one_length\n",
    "correlations.extend([0] * zero_length)\n",
    "\n",
    "zero_samples = list(np.random.choice(len(zero_locations[0]), zero_length, replace=False))\n",
    "stopics.extend(zero_locations[0][zero_samples])\n",
    "scontents.extend(zero_locations[1][zero_samples])\n",
    "\n",
    "stopics = topics_list[stopics]\n",
    "scontents = contents_list[scontents]\n",
    "\n",
    "for k in range(len(correlations)):\n",
    "    if int(cor_frame.loc[stopics[k], scontents[k]]) != correlations[k]:\n",
    "        print(\"Error:   \", stopics[k],\" \", scontents[k])\n",
    "        \n",
    "print(cor_mat.sum())\n",
    "print(len(correlations))"
   ]
  },
  {
   "cell_type": "code",
   "execution_count": 58,
   "id": "989ad922",
   "metadata": {},
   "outputs": [
    {
     "data": {
      "text/plain": [
       "array([0, 1, 1, 0, 1, 0, 1, 1, 0, 1])"
      ]
     },
     "metadata": {},
     "output_type": "display_data"
    },
    {
     "data": {
      "text/plain": [
       "array([0, 1, 0])"
      ]
     },
     "metadata": {},
     "output_type": "display_data"
    }
   ],
   "source": [
    "rint = np.random.randint(2, size = 10)\n",
    "display(rint)\n",
    "display(rint[[3,1,5]])"
   ]
  },
  {
   "cell_type": "code",
   "execution_count": 47,
   "id": "be902125",
   "metadata": {},
   "outputs": [
    {
     "name": "stdout",
     "output_type": "stream",
     "text": [
      "[1, 1, 1, 1, 1, 1, 1, 1, 1, 1, 1, 1, 1, 1, 1, 1, 1, 1, 1, 1, 1, 1, 1, 1, 1, 1, 1, 1, 1, 1, 1, 1, 1, 1, 1, 1, 1, 1, 1, 1, 1, 1]\n"
     ]
    }
   ],
   "source": [
    "print(correlations)"
   ]
  },
  {
   "cell_type": "code",
   "execution_count": 24,
   "id": "5a021c9c",
   "metadata": {},
   "outputs": [
    {
     "data": {
      "text/plain": [
       "array([[ 5.54998990e-01, -6.82801331e-01,  4.27462113e-01,\n",
       "         1.56883148e+00, -3.84519873e-02, -2.91942157e-01,\n",
       "        -1.84802245e+00, -4.63534869e-01, -6.46146170e-01,\n",
       "        -1.06448844e+00],\n",
       "       [ 1.07209767e+00, -8.04710991e-01,  6.11925974e-01,\n",
       "        -5.14159239e-01,  4.85407301e-01,  7.41236000e-01,\n",
       "         6.69513159e-01,  1.02792098e+00,  1.57914363e+00,\n",
       "        -9.59296535e-02],\n",
       "       [-4.41025254e-01,  1.45252316e+00,  9.98628448e-01,\n",
       "        -4.23597907e-01,  4.44918004e-01,  1.32930609e+00,\n",
       "         1.25161169e-02,  4.88572476e-01, -2.14411726e+00,\n",
       "         5.79508226e-01],\n",
       "       [ 9.76426066e-02,  2.36971827e-01,  1.48897919e-01,\n",
       "         2.09450969e-01, -1.80561220e+00, -1.93964236e-01,\n",
       "        -4.22927546e-01,  1.06602194e+00, -8.62047607e-01,\n",
       "        -2.90763707e-01],\n",
       "       [-1.07316556e+00, -2.50999050e-01, -5.45049325e-01,\n",
       "         9.30376622e-01,  1.35710432e+00, -1.39971876e+00,\n",
       "        -1.39918093e+00, -1.78556161e+00,  3.89109048e-01,\n",
       "         2.55733739e-01],\n",
       "       [ 4.12384957e-01, -8.45741919e-01, -1.19577395e+00,\n",
       "         5.68965823e-01,  1.17453162e+00, -2.17026213e+00,\n",
       "        -9.07087209e-01, -1.05109333e-01, -1.59747466e+00,\n",
       "         2.74949762e+00],\n",
       "       [ 5.36542762e-01, -5.40155297e-01, -9.13125702e-01,\n",
       "        -1.65606333e+00,  3.23160397e-01,  5.50559733e-01,\n",
       "        -1.99443313e+00, -7.76819274e-01,  1.17471824e+00,\n",
       "        -2.05026117e+00],\n",
       "       [-1.43562084e+00,  1.98954375e+00, -6.12864761e-01,\n",
       "        -7.14501870e-01,  3.22211219e-01, -8.97134637e-01,\n",
       "        -1.39225877e-01, -7.70172174e-01,  1.64072083e-02,\n",
       "        -1.55523894e+00],\n",
       "       [ 2.50512679e-01,  9.66722316e-01,  2.22092599e-01,\n",
       "         1.16647431e+00,  1.62221847e+00, -1.54412712e+00,\n",
       "        -4.44946253e-01,  1.16049013e+00, -1.51889915e-01,\n",
       "         1.79358409e-01],\n",
       "       [ 6.01406297e-01, -2.39514249e-01, -2.74929324e+00,\n",
       "         2.93992038e+00, -5.08791116e-02,  1.10999297e+00,\n",
       "         3.71133514e-01,  2.15869011e+00,  2.05815304e-01,\n",
       "         8.94887649e-01],\n",
       "       [-7.36911984e-01,  7.32612095e-01,  2.32423889e-02,\n",
       "         5.70369721e-01,  1.53936938e-02,  1.08527132e+00,\n",
       "         5.99444728e-01,  1.68478512e+00,  1.19875760e-03,\n",
       "        -1.16117127e+00]])"
      ]
     },
     "metadata": {},
     "output_type": "display_data"
    },
    {
     "data": {
      "text/plain": [
       "array([ 5.54998990e-01, -6.82801331e-01,  4.27462113e-01,  1.56883148e+00,\n",
       "       -3.84519873e-02, -2.91942157e-01, -1.84802245e+00, -4.63534869e-01,\n",
       "       -6.46146170e-01, -1.06448844e+00,  1.07209767e+00, -8.04710991e-01,\n",
       "        6.11925974e-01, -5.14159239e-01,  4.85407301e-01,  7.41236000e-01,\n",
       "        6.69513159e-01,  1.02792098e+00,  1.57914363e+00, -9.59296535e-02,\n",
       "       -4.41025254e-01,  1.45252316e+00,  9.98628448e-01, -4.23597907e-01,\n",
       "        4.44918004e-01,  1.32930609e+00,  1.25161169e-02,  4.88572476e-01,\n",
       "       -2.14411726e+00,  5.79508226e-01,  9.76426066e-02,  2.36971827e-01,\n",
       "        1.48897919e-01,  2.09450969e-01, -1.80561220e+00, -1.93964236e-01,\n",
       "       -4.22927546e-01,  1.06602194e+00, -8.62047607e-01, -2.90763707e-01,\n",
       "       -1.07316556e+00, -2.50999050e-01, -5.45049325e-01,  9.30376622e-01,\n",
       "        1.35710432e+00, -1.39971876e+00, -1.39918093e+00, -1.78556161e+00,\n",
       "        3.89109048e-01,  2.55733739e-01,  4.12384957e-01, -8.45741919e-01,\n",
       "       -1.19577395e+00,  5.68965823e-01,  1.17453162e+00, -2.17026213e+00,\n",
       "       -9.07087209e-01, -1.05109333e-01, -1.59747466e+00,  2.74949762e+00,\n",
       "        5.36542762e-01, -5.40155297e-01, -9.13125702e-01, -1.65606333e+00,\n",
       "        3.23160397e-01,  5.50559733e-01, -1.99443313e+00, -7.76819274e-01,\n",
       "        1.17471824e+00, -2.05026117e+00, -1.43562084e+00,  1.98954375e+00,\n",
       "       -6.12864761e-01, -7.14501870e-01,  3.22211219e-01, -8.97134637e-01,\n",
       "       -1.39225877e-01, -7.70172174e-01,  1.64072083e-02, -1.55523894e+00,\n",
       "        2.50512679e-01,  9.66722316e-01,  2.22092599e-01,  1.16647431e+00,\n",
       "        1.62221847e+00, -1.54412712e+00, -4.44946253e-01,  1.16049013e+00,\n",
       "       -1.51889915e-01,  1.79358409e-01,  6.01406297e-01, -2.39514249e-01,\n",
       "       -2.74929324e+00,  2.93992038e+00, -5.08791116e-02,  1.10999297e+00,\n",
       "        3.71133514e-01,  2.15869011e+00,  2.05815304e-01,  8.94887649e-01,\n",
       "       -7.36911984e-01,  7.32612095e-01,  2.32423889e-02,  5.70369721e-01,\n",
       "        1.53936938e-02,  1.08527132e+00,  5.99444728e-01,  1.68478512e+00,\n",
       "        1.19875760e-03, -1.16117127e+00])"
      ]
     },
     "metadata": {},
     "output_type": "display_data"
    }
   ],
   "source": [
    "mat = np.random.normal(size = (11, 10))\n",
    "display(mat)\n",
    "display(mat.flatten())"
   ]
  },
  {
   "cell_type": "code",
   "execution_count": 21,
   "id": "e89a8f0f",
   "metadata": {},
   "outputs": [
    {
     "ename": "NameError",
     "evalue": "name 'tf' is not defined",
     "output_type": "error",
     "traceback": [
      "\u001b[1;31m---------------------------------------------------------------------------\u001b[0m",
      "\u001b[1;31mNameError\u001b[0m                                 Traceback (most recent call last)",
      "Cell \u001b[1;32mIn[21], line 1\u001b[0m\n\u001b[1;32m----> 1\u001b[0m t \u001b[38;5;241m=\u001b[39m \u001b[43mtf\u001b[49m\u001b[38;5;241m.\u001b[39mragged\u001b[38;5;241m.\u001b[39mconstant([[\u001b[38;5;241m3\u001b[39m,\u001b[38;5;241m4\u001b[39m],[\u001b[38;5;241m1\u001b[39m],[\u001b[38;5;241m2\u001b[39m,\u001b[38;5;241m4\u001b[39m,\u001b[38;5;241m7\u001b[39m]])\n",
      "\u001b[1;31mNameError\u001b[0m: name 'tf' is not defined"
     ]
    }
   ],
   "source": [
    "t = tf.ragged.constant([[3,4],[1],[2,4,7]])"
   ]
  },
  {
   "cell_type": "code",
   "execution_count": 10,
   "id": "838bdaea",
   "metadata": {},
   "outputs": [
    {
     "data": {
      "text/plain": [
       "<tf.RaggedTensor [[3, 4], [1], [1], [3, 4], [2, 4, 7], [3, 4]]>"
      ]
     },
     "execution_count": 10,
     "metadata": {},
     "output_type": "execute_result"
    }
   ],
   "source": [
    "tf.gather(t, [0,1,1,0,2,0])"
   ]
  },
  {
   "cell_type": "code",
   "execution_count": 18,
   "id": "c46d1969",
   "metadata": {},
   "outputs": [
    {
     "name": "stdout",
     "output_type": "stream",
     "text": [
      "[4 3 4 2 4 4 2 3 3 0]\n"
     ]
    },
    {
     "data": {
      "text/plain": [
       "array([4, 4, 4, 3])"
      ]
     },
     "execution_count": 18,
     "metadata": {},
     "output_type": "execute_result"
    }
   ],
   "source": [
    "arr = np.random.randint(5, size = (10))\n",
    "print(arr)\n",
    "arr[[0,5,0,7]]"
   ]
  },
  {
   "cell_type": "code",
   "execution_count": 2,
   "id": "d44b6a87",
   "metadata": {},
   "outputs": [
    {
     "name": "stderr",
     "output_type": "stream",
     "text": [
      "D:\\KaggleLearningEquality2023\\data_vectorizer_tf.py:22: SettingWithCopyWarning: \n",
      "A value is trying to be set on a copy of a slice from a DataFrame.\n",
      "Try using .loc[row_indexer,col_indexer] = value instead\n",
      "\n",
      "See the caveats in the documentation: https://pandas.pydata.org/pandas-docs/stable/user_guide/indexing.html#returning-a-view-versus-a-copy\n",
      "  contents_vect[\"title_vectorize\"] = contents_vect[\"title_vectorize\"].apply(transform_string_to_list)\n",
      "D:\\KaggleLearningEquality2023\\data_vectorizer_tf.py:23: SettingWithCopyWarning: \n",
      "A value is trying to be set on a copy of a slice from a DataFrame.\n",
      "Try using .loc[row_indexer,col_indexer] = value instead\n",
      "\n",
      "See the caveats in the documentation: https://pandas.pydata.org/pandas-docs/stable/user_guide/indexing.html#returning-a-view-versus-a-copy\n",
      "  contents_vect[\"description_vectorize\"] = contents_vect[\"description_vectorize\"].apply(transform_string_to_list)\n",
      "D:\\KaggleLearningEquality2023\\data_vectorizer_tf.py:24: SettingWithCopyWarning: \n",
      "A value is trying to be set on a copy of a slice from a DataFrame.\n",
      "Try using .loc[row_indexer,col_indexer] = value instead\n",
      "\n",
      "See the caveats in the documentation: https://pandas.pydata.org/pandas-docs/stable/user_guide/indexing.html#returning-a-view-versus-a-copy\n",
      "  topics_vect[\"title_vectorize\"] = topics_vect[\"title_vectorize\"].apply(transform_string_to_list)\n",
      "D:\\KaggleLearningEquality2023\\data_vectorizer_tf.py:25: SettingWithCopyWarning: \n",
      "A value is trying to be set on a copy of a slice from a DataFrame.\n",
      "Try using .loc[row_indexer,col_indexer] = value instead\n",
      "\n",
      "See the caveats in the documentation: https://pandas.pydata.org/pandas-docs/stable/user_guide/indexing.html#returning-a-view-versus-a-copy\n",
      "  topics_vect[\"description_vectorize\"] = topics_vect[\"description_vectorize\"].apply(transform_string_to_list)\n"
     ]
    }
   ],
   "source": [
    "import data_vectorizer_tf"
   ]
  },
  {
   "cell_type": "code",
   "execution_count": 22,
   "id": "dc32fd9e",
   "metadata": {},
   "outputs": [],
   "source": [
    "contents_list, topics_list, correlations = data_vectorizer_tf.random_train_batch_sample(initial_sample_size = 1000, zero_to_one_ratio = 3)"
   ]
  },
  {
   "cell_type": "code",
   "execution_count": 23,
   "id": "c7fc1c79",
   "metadata": {},
   "outputs": [
    {
     "name": "stdout",
     "output_type": "stream",
     "text": [
      "0.013391971588134766\n"
     ]
    }
   ],
   "source": [
    "import time\n",
    "\n",
    "ctime = time.time()\n",
    "\n",
    "contents_strings = data_vectorizer.obtain_contents_vector(list(data_vectorizer.train_contents[list(contents_list)]))\n",
    "topics_strings = data_vectorizer.obtain_topics_vector(list(data_vectorizer.train_topics[list(topics_list)]))\n",
    "\n",
    "ctime = time.time() - ctime\n",
    "print(ctime)"
   ]
  },
  {
   "cell_type": "code",
   "execution_count": 24,
   "id": "b76a20ad",
   "metadata": {},
   "outputs": [
    {
     "name": "stdout",
     "output_type": "stream",
     "text": [
      "0.004986763000488281\n"
     ]
    }
   ],
   "source": [
    "ctime = time.time()\n",
    "\n",
    "contents_strings2 = data_vectorizer_tf.obtain_train_contents_vector(contents_list)\n",
    "topics_strings2 = data_vectorizer_tf.obtain_train_topics_vector(topics_list)\n",
    "\n",
    "ctime = time.time() - ctime\n",
    "print(ctime)"
   ]
  },
  {
   "cell_type": "code",
   "execution_count": 25,
   "id": "20208dd7",
   "metadata": {},
   "outputs": [
    {
     "data": {
      "text/html": [
       "<div>\n",
       "<style scoped>\n",
       "    .dataframe tbody tr th:only-of-type {\n",
       "        vertical-align: middle;\n",
       "    }\n",
       "\n",
       "    .dataframe tbody tr th {\n",
       "        vertical-align: top;\n",
       "    }\n",
       "\n",
       "    .dataframe thead th {\n",
       "        text-align: right;\n",
       "    }\n",
       "</style>\n",
       "<table border=\"1\" class=\"dataframe\">\n",
       "  <thead>\n",
       "    <tr style=\"text-align: right;\">\n",
       "      <th></th>\n",
       "      <th>title_translate</th>\n",
       "      <th>description_translate</th>\n",
       "    </tr>\n",
       "    <tr>\n",
       "      <th>id</th>\n",
       "      <th></th>\n",
       "      <th></th>\n",
       "    </tr>\n",
       "  </thead>\n",
       "  <tbody>\n",
       "    <tr>\n",
       "      <th>c_f6c01da06f52</th>\n",
       "      <td>[390, 518, 614, 666, 1437, 2505]</td>\n",
       "      <td>[]</td>\n",
       "    </tr>\n",
       "    <tr>\n",
       "      <th>c_9571afea8a25</th>\n",
       "      <td>[295, 1846]</td>\n",
       "      <td>[]</td>\n",
       "    </tr>\n",
       "    <tr>\n",
       "      <th>c_5c644f8c1cb4</th>\n",
       "      <td>[20, 84, 336, 625, 889]</td>\n",
       "      <td>[0, 8, 26, 336, 469, 625, 1323]</td>\n",
       "    </tr>\n",
       "    <tr>\n",
       "      <th>c_d83f7ee4e8c7</th>\n",
       "      <td>[22, 153]</td>\n",
       "      <td>[]</td>\n",
       "    </tr>\n",
       "    <tr>\n",
       "      <th>c_a038aace794e</th>\n",
       "      <td>[79, 220, 1706]</td>\n",
       "      <td>[]</td>\n",
       "    </tr>\n",
       "    <tr>\n",
       "      <th>...</th>\n",
       "      <td>...</td>\n",
       "      <td>...</td>\n",
       "    </tr>\n",
       "    <tr>\n",
       "      <th>c_b0aac88930e5</th>\n",
       "      <td>[30, 34, 73, 107]</td>\n",
       "      <td>[3, 30, 73, 107]</td>\n",
       "    </tr>\n",
       "    <tr>\n",
       "      <th>c_ec1d7616c9f3</th>\n",
       "      <td>[412, 434]</td>\n",
       "      <td>[]</td>\n",
       "    </tr>\n",
       "    <tr>\n",
       "      <th>c_b2288cac2bce</th>\n",
       "      <td>[20, 27, 128, 433, 467, 1178, 1405]</td>\n",
       "      <td>[0, 3, 7, 16, 17, 53, 66, 90, 111, 120, 126, 1...</td>\n",
       "    </tr>\n",
       "    <tr>\n",
       "      <th>c_b3c7827766e3</th>\n",
       "      <td>[66, 325]</td>\n",
       "      <td>[]</td>\n",
       "    </tr>\n",
       "    <tr>\n",
       "      <th>c_a6a1b7b10ca7</th>\n",
       "      <td>[8, 10, 164, 487, 695, 721]</td>\n",
       "      <td>[]</td>\n",
       "    </tr>\n",
       "  </tbody>\n",
       "</table>\n",
       "<p>176 rows × 2 columns</p>\n",
       "</div>"
      ],
      "text/plain": [
       "                                    title_translate  \\\n",
       "id                                                    \n",
       "c_f6c01da06f52     [390, 518, 614, 666, 1437, 2505]   \n",
       "c_9571afea8a25                          [295, 1846]   \n",
       "c_5c644f8c1cb4              [20, 84, 336, 625, 889]   \n",
       "c_d83f7ee4e8c7                            [22, 153]   \n",
       "c_a038aace794e                      [79, 220, 1706]   \n",
       "...                                             ...   \n",
       "c_b0aac88930e5                    [30, 34, 73, 107]   \n",
       "c_ec1d7616c9f3                           [412, 434]   \n",
       "c_b2288cac2bce  [20, 27, 128, 433, 467, 1178, 1405]   \n",
       "c_b3c7827766e3                            [66, 325]   \n",
       "c_a6a1b7b10ca7          [8, 10, 164, 487, 695, 721]   \n",
       "\n",
       "                                            description_translate  \n",
       "id                                                                 \n",
       "c_f6c01da06f52                                                 []  \n",
       "c_9571afea8a25                                                 []  \n",
       "c_5c644f8c1cb4                    [0, 8, 26, 336, 469, 625, 1323]  \n",
       "c_d83f7ee4e8c7                                                 []  \n",
       "c_a038aace794e                                                 []  \n",
       "...                                                           ...  \n",
       "c_b0aac88930e5                                   [3, 30, 73, 107]  \n",
       "c_ec1d7616c9f3                                                 []  \n",
       "c_b2288cac2bce  [0, 3, 7, 16, 17, 53, 66, 90, 111, 120, 126, 1...  \n",
       "c_b3c7827766e3                                                 []  \n",
       "c_a6a1b7b10ca7                                                 []  \n",
       "\n",
       "[176 rows x 2 columns]"
      ]
     },
     "metadata": {},
     "output_type": "display_data"
    }
   ],
   "source": [
    "display(contents_strings)"
   ]
  },
  {
   "cell_type": "code",
   "execution_count": 26,
   "id": "9280471d",
   "metadata": {},
   "outputs": [
    {
     "data": {
      "text/plain": [
       "(<tf.RaggedTensor [[390, 518, 614, 666, 1437, 2505], [295, 1846], [20, 84, 336, 625, 889],\n",
       "  [22, 153], [79, 220, 1706], [3, 19, 46, 128, 1151],\n",
       "  [1, 10, 54, 104, 191, 440, 712], [1284], [105, 248, 512, 580, 735],\n",
       "  [5, 25, 361, 647, 1941], [115, 602, 685, 937], [8, 60, 84, 93, 602],\n",
       "  [23, 219, 289, 910, 1473], [1, 4, 101, 118, 219, 546, 1007, 1886, 2461],\n",
       "  [48, 439, 513, 1117], [8, 276, 1093], [44], [13, 38, 226, 1841],\n",
       "  [186, 198, 799, 1586], [25, 44], [27, 341, 2655], [13, 198, 822, 1589],\n",
       "  [1608, 2348], [54, 321, 339, 402, 619, 1112, 2361], [2679],\n",
       "  [135, 528, 1618, 2475], [1], [13, 345, 732, 822, 951], [86, 151, 428],\n",
       "  [2, 801], [7, 27, 649, 873], [51, 63, 223, 2207], [30], [30],\n",
       "  [20, 720, 2018], [3, 76, 877], [], [107], [39, 558, 981],\n",
       "  [13, 35, 39, 219, 226, 263, 469], [13, 870], [273, 469, 640, 955, 2089],\n",
       "  [215, 466, 1021], [1], [81, 1079, 1267], [342], [137, 1043],\n",
       "  [72, 389, 986], [5, 20, 165, 889, 2511], [51, 63, 223, 2207],\n",
       "  [86, 288, 306, 2508], [78, 449, 544, 661], [13, 730, 1980, 2715],\n",
       "  [147, 399, 459, 1530], [1, 6, 10, 11, 43, 54, 683],\n",
       "  [273, 469, 640, 955, 2089], [3, 30, 46, 47, 77, 113, 834],\n",
       "  [47, 128, 162, 166, 412], [20, 27, 128, 433, 467, 1178, 1405], [62, 1683],\n",
       "  [267, 589, 704], [386], [103], [519, 655, 1695, 2330], [27, 191, 895],\n",
       "  [1], [22, 153], [1, 6, 10, 11, 43, 129, 683], [1, 376], [91, 196, 386],\n",
       "  [45, 252, 475, 2041], [1, 376], [114], [2586], [47, 145], [412, 434],\n",
       "  [1, 10, 11, 42, 43, 129], [1, 14, 173, 380, 976], [47],\n",
       "  [54, 321, 339, 402, 619, 1112, 2361], [22, 296, 1818], [47, 441],\n",
       "  [139, 510], [390, 518, 614, 666, 1437, 2505], [264, 826, 1243, 2473],\n",
       "  [114, 1802], [510, 700, 2356], [1383], [216, 578], [139, 386, 1390],\n",
       "  [110, 248, 977], [1581], [1284], [287, 2431], [2586], [22, 69, 777, 818],\n",
       "  [13, 730, 1980, 2715], [203, 1524], [265, 941], [298, 772, 1153],\n",
       "  [9, 48, 144], [13, 662, 776], [8, 140], [114, 311, 771, 2362], [14, 2636],\n",
       "  [5, 20, 165, 889, 2511], [82, 362, 528], [62, 331], [429],\n",
       "  [25, 44, 47, 135, 138], [1], [7, 35, 345, 405], [27, 786, 1927, 2423],\n",
       "  [11, 50, 161, 634, 808, 1113, 1711], [687], [1, 6, 10, 11, 42, 43, 129],\n",
       "  [816], [], [24, 836, 853, 1231], [7, 85, 374, 1562], [136, 229],\n",
       "  [1, 6, 10, 11, 42, 43, 54], [1857], [66, 298, 565], [78, 449, 544, 661],\n",
       "  [1], [1, 10, 50, 516, 567], [137, 165], [24, 836, 853, 1231],\n",
       "  [1, 50, 380, 1074], [13, 99, 1302], [466], [834, 1292, 1686, 2638], [],\n",
       "  [47, 76, 740], [1, 10, 11, 43, 54, 683], [40, 162, 167, 216, 482, 1937],\n",
       "  [1, 27, 215, 1135], [2, 801], [13, 35, 44, 67, 135, 226],\n",
       "  [852, 1514, 1798], [1853], [114], [76, 165, 412, 646], [1122], [799], [],\n",
       "  [1506], [342, 1039, 1559], [723, 1229], [27, 264, 409, 543, 1782],\n",
       "  [22, 1506], [1183, 1191], [1, 10, 11, 42, 43, 129], [1, 50, 516, 1225],\n",
       "  [696, 1114], [35, 117], [1, 4, 64, 177, 253, 546], [558, 822],\n",
       "  [13, 1213, 1241, 2180], [308, 548, 591], [273, 580, 1530],\n",
       "  [3, 32, 151, 795], [20, 26, 47, 70, 111, 331, 376], [1],\n",
       "  [22, 69, 777, 818], [376, 467, 586, 1196], [9, 160, 469, 963],\n",
       "  [290, 669, 837], [2, 259, 466, 1166], [1, 6, 10, 11, 42, 43, 129],\n",
       "  [30, 34, 73, 107], [412, 434], [20, 27, 128, 433, 467, 1178, 1405],\n",
       "  [66, 325], [8, 10, 164, 487, 695, 721]]>,\n",
       " <tf.RaggedTensor [[], [], [0, 8, 26, 336, 469, 625, 1323], [], [],\n",
       "  [3, 19, 46, 128, 160, 769, 1151], [1, 10, 54, 104, 191, 440, 712],\n",
       "  [2, 47, 71, 159, 182, 350, 390, 457, 517, 835, 1284], [],\n",
       "  [5, 13, 25, 49, 361, 1829, 2214], [233, 602, 685, 937],\n",
       "  [0, 8, 12, 23, 26, 53, 60, 62, 84, 88, 93, 100, 155, 236, 495],\n",
       "  [3, 23, 77, 188, 289, 296, 910, 1001, 1473],\n",
       "  [1, 4, 101, 118, 219, 1007, 1886], [5, 439, 459, 642, 760, 2094, 2619],\n",
       "  [0, 3, 8, 18, 56, 91, 166, 247, 276, 282, 319, 571, 1029], [], [], [],\n",
       "  [0, 5, 20, 23, 25, 32, 44, 49, 97, 126, 198, 345, 475, 585, 822],\n",
       "  [99, 197, 805, 823, 1038, 1484, 1836, 1927, 2206, 2500, 2532, 2655], [],\n",
       "  [211, 252, 376, 430, 594, 754, 843, 1338, 1608, 1701, 2294, 2639, 2681],\n",
       "  [], [312, 745, 802, 813, 820, 838, 940, 1061, 2059, 2403, 2679, 2687], [],\n",
       "  [14, 68, 351, 809], [],\n",
       "  [0, 1, 6, 14, 18, 45, 55, 61, 70, 78, 83, 85, 88, 109, 111, 112, 120, 126,\n",
       "   163, 168, 171, 179, 182, 204, 207, 232, 249, 278, 317, 319, 413, 416, 419,\n",
       "   428, 451, 475, 495, 496, 499, 564, 579, 581, 584, 590, 606, 743, 754, 816,\n",
       "   895, 903, 990, 1241, 1316, 1718, 1745, 1871, 2124, 2258, 2261, 2276]      ,\n",
       "  [], [7, 649, 873, 1904], [2, 49, 51, 108, 200, 404, 623, 2207],\n",
       "  [0, 2, 3, 18, 30, 34, 113], [13, 18, 30], [],\n",
       "  [3, 26, 31, 32, 51, 76, 144, 345, 647, 877],\n",
       "  [0, 12, 20, 31, 69, 74, 78, 87, 97, 170, 393, 601, 660, 855, 1181],\n",
       "  [3, 5, 13, 95, 107], [], [], [], [], [],\n",
       "  [0, 1, 6, 12, 15, 21, 29, 32, 36, 39, 64, 157, 203, 317, 334, 372, 382,\n",
       "   396, 408, 463, 713, 791, 924, 1110, 1280, 1449, 1509, 2585]           ,\n",
       "  [], [], [], [], [5, 147, 178, 460, 739],\n",
       "  [2, 49, 51, 108, 200, 404, 623, 2207], [],\n",
       "  [2, 80, 179, 435, 449, 922, 990, 1352, 1478, 1560, 1760], [],\n",
       "  [3, 7, 27, 144, 147, 167, 172, 377, 399, 459, 1530, 1989],\n",
       "  [1, 6, 10, 11, 43, 54, 96, 683], [], [], [],\n",
       "  [0, 3, 7, 16, 17, 53, 66, 90, 111, 120, 126, 128, 349, 409, 420, 433, 467,\n",
       "   614, 732, 794, 1178, 1216, 1904]                                         ,\n",
       "  [0, 4, 16, 33, 52, 163, 221, 244, 265, 275, 278, 359, 392, 425, 498, 559,\n",
       "   566, 622, 663, 675, 685, 787, 973, 1015, 1032, 1068, 1088]              ,\n",
       "  [], [], [], [2, 4, 13, 24, 1695], [],\n",
       "  [0, 3, 6, 14, 15, 16, 33, 35, 64, 68, 70, 120, 143, 245, 255, 344, 355,\n",
       "   365, 389, 480, 484, 495, 757, 851, 913, 1136, 1177, 1624]             ,\n",
       "  [], [1, 6, 10, 11, 43, 96, 129, 683], [],\n",
       "  [7, 34, 131, 196, 243, 386, 927, 1106, 1987], [], [], [],\n",
       "  [26, 31, 108, 303, 1132, 1409, 1666, 2050], [297], [],\n",
       "  [1, 10, 11, 42, 43, 96, 129], [1, 14, 173, 380, 976], [], [],\n",
       "  [22, 296, 1818], [297], [0, 26, 88, 139, 510, 677, 964], [], [], [],\n",
       "  [0, 75, 117, 225, 252, 311, 478, 510, 513, 704, 715, 716, 785, 793, 830,\n",
       "   940, 946, 1984, 2024]                                                  ,\n",
       "  [], [], [9, 17, 18, 20, 23, 63, 175, 192, 628, 964],\n",
       "  [0, 62, 69, 74, 86, 87, 131, 144, 164, 234, 431, 805, 818, 1558, 1720,\n",
       "   1801, 2267]                                                          ,\n",
       "  [4, 56, 128, 161, 169, 330, 416, 513, 700, 715, 774, 937, 991, 1114, 1161,\n",
       "   1337, 1984, 2309, 2395, 2406, 2693]                                      ,\n",
       "  [2, 47, 71, 159, 182, 350, 390, 457, 517, 835, 1284],\n",
       "  [0, 16, 287, 383, 752, 955, 2431],\n",
       "  [26, 31, 108, 303, 1132, 1409, 1666, 2050],\n",
       "  [2, 12, 13, 24, 92, 133, 218, 256, 291, 327, 333, 565, 673, 799, 1289,\n",
       "   1639, 1757]                                                          ,\n",
       "  [], [], [], [], [9, 22, 48, 144], [], [], [13, 114, 233, 1564, 2362],\n",
       "  [5, 14, 31, 40, 127, 212, 236, 382, 386, 521, 619, 913, 1076, 1220, 1314,\n",
       "   1789, 2155]                                                             ,\n",
       "  [5, 147, 178, 460, 739], [21, 69, 82, 362, 484, 494, 528, 594, 713], [],\n",
       "  [], [297], [3, 49, 118, 135, 155, 189, 218, 511, 693, 743],\n",
       "  [7, 13, 16, 19, 35, 64, 78, 282, 405, 590, 714], [12, 16, 418, 1691],\n",
       "  [11, 50, 161, 634, 808, 1113, 1711], [], [1, 6, 10, 11, 42, 43, 96, 129],\n",
       "  [174, 379], [0, 1729, 2084],\n",
       "  [0, 4, 13, 17, 18, 24, 179, 184, 289, 397, 617, 836, 1199, 1973], [], [],\n",
       "  [1, 6, 10, 11, 42, 43, 54, 96], [], [],\n",
       "  [2, 80, 179, 435, 449, 922, 990, 1352, 1478, 1560, 1760],\n",
       "  [0, 1, 3, 6, 11, 12, 14, 15, 26, 55, 56, 58, 65, 68, 69, 74, 100, 115, 131,\n",
       "   182, 230, 240, 277, 294, 328, 351, 369, 375, 393, 427, 495, 510, 580, 615,\n",
       "   654, 660, 731, 872, 918, 1110, 1246, 1280, 1320, 1402, 1557, 1668, 1781,\n",
       "   2723]                                                                     ,\n",
       "  [1, 10, 50, 516, 567],\n",
       "  [0, 3, 5, 8, 12, 18, 34, 37, 55, 120, 137, 192, 201, 247, 331, 400, 1098,\n",
       "   1106]                                                                   ,\n",
       "  [0, 4, 13, 17, 18, 24, 179, 184, 289, 397, 617, 836, 1199, 1973],\n",
       "  [1, 50, 380, 1074], [], [], [],\n",
       "  [34, 312, 745, 802, 805, 813, 820, 838, 1663, 2282], [297],\n",
       "  [1, 10, 11, 43, 54, 96, 683], [40, 162, 167, 216, 482, 1937], [], [], [],\n",
       "  [2, 4, 480, 852, 1514, 1798], [], [],\n",
       "  [0, 2, 4, 13, 21, 34, 51, 54, 55, 100, 161, 193, 195, 209, 585], [],\n",
       "  [561, 2446], [4, 36, 238], [], [], [],\n",
       "  [3, 264, 409, 543, 704, 1415, 1516], [], [], [1, 10, 11, 42, 43, 96, 129],\n",
       "  [1, 50, 516, 1225], [], [], [1, 4, 64, 177, 253], [], [],\n",
       "  [0, 16, 119, 149, 308, 423, 548, 639],\n",
       "  [31, 61, 273, 556, 580, 834, 1145, 1530], [], [],\n",
       "  [0, 1, 6, 16, 26, 27, 58, 88, 108, 115, 120, 164, 170, 172, 177, 207, 240,\n",
       "   348, 365, 416, 587, 783, 836, 983, 1045]                                 ,\n",
       "  [2, 12, 13, 24, 92, 133, 218, 256, 291, 327, 333, 565, 673, 799, 1289,\n",
       "   1639, 1757]                                                          ,\n",
       "  [], [0, 3, 9, 12, 18, 19, 26, 53, 63, 120, 160, 500, 747, 963], [],\n",
       "  [0, 4, 24, 90, 168, 179, 466, 547, 776, 1166],\n",
       "  [1, 6, 10, 11, 42, 43, 96, 129], [3, 30, 73, 107], [],\n",
       "  [0, 3, 7, 16, 17, 53, 66, 90, 111, 120, 126, 128, 349, 409, 420, 433, 467,\n",
       "   614, 732, 794, 1178, 1216, 1904]                                         ,\n",
       "  [], []]>)"
      ]
     },
     "execution_count": 26,
     "metadata": {},
     "output_type": "execute_result"
    }
   ],
   "source": [
    "contents_strings2"
   ]
  },
  {
   "cell_type": "code",
   "execution_count": null,
   "id": "1bba49b4",
   "metadata": {},
   "outputs": [],
   "source": []
  }
 ],
 "metadata": {
  "kernelspec": {
   "display_name": "Python 3 (ipykernel)",
   "language": "python",
   "name": "python3"
  },
  "language_info": {
   "codemirror_mode": {
    "name": "ipython",
    "version": 3
   },
   "file_extension": ".py",
   "mimetype": "text/x-python",
   "name": "python",
   "nbconvert_exporter": "python",
   "pygments_lexer": "ipython3",
   "version": "3.10.8"
  }
 },
 "nbformat": 4,
 "nbformat_minor": 5
}
