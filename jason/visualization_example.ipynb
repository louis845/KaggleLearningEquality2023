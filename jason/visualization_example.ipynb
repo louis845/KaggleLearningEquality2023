{
 "cells": [
  {
   "cell_type": "code",
   "execution_count": 2,
   "id": "93b1e498",
   "metadata": {},
   "outputs": [],
   "source": [
    "import numpy as np\n",
    "import pandas as pd\n",
    "import matplotlib.pyplot as plt\n",
    "import seaborn as sns\n",
    "from IPython.display import Markdown\n",
    "# ---------------------- IMPORTANT, run this everytime you open the notebook ----------------------"
   ]
  },
  {
   "cell_type": "markdown",
   "id": "d37c955b",
   "metadata": {},
   "source": [
    "## IMPORTANT ---- Run the above everytime you open the notebook"
   ]
  },
  {
   "cell_type": "code",
   "execution_count": null,
   "id": "55a7f9d9",
   "metadata": {},
   "outputs": [],
   "source": [
    "def display_training_data(dframe):\n",
    "    display(Markdown(\"**Entropy metrics**\"))\n",
    "    dframe[[x for x in dframe.columns if \"entropy\" in x]].plot(figsize = (30, 30))\n",
    "    plt.show()\n",
    "\n",
    "    display(Markdown(\"**Training metrics**\"))\n",
    "    dframe[[\"accuracy\", \"precision\", \"recall\"]].plot(figsize = (30, 30))\n",
    "    plt.show()\n",
    "\n",
    "    display(Markdown(\"**Test small metrics**\"))\n",
    "    dframe[[x for x in dframe.columns if (x.startswith(\"test\") and \"square\" not in x and \"overshoot\" not in x)]].plot(figsize = (30, 30))\n",
    "    plt.show()\n",
    "    \n",
    "    display(Markdown(\"**Test metrics**\"))\n",
    "    dframe[[x for x in dframe.columns if (x.startswith(\"test\") and \"square\" in x and \"overshoot\" not in x)]].plot(figsize = (30, 30))\n",
    "    plt.show()\n",
    "    \n",
    "    if len([x for x in dframe.columns if \"overshoot\" in x])>0:\n",
    "        display(Markdown(\"**Test overshoot small metrics**\"))\n",
    "        dframe[[x for x in dframe.columns if (x.startswith(\"test\") and \"square\" not in x and \"overshoot\" in x)]].plot(figsize = (30, 30))\n",
    "        plt.show()\n",
    "\n",
    "        display(Markdown(\"**Test overshoot metrics**\"))\n",
    "        dframe[[x for x in dframe.columns if (x.startswith(\"test\") and \"square\" in x and \"overshoot\" in x)]].plot(figsize = (30, 30))\n",
    "        plt.show()\n",
    "\n",
    "running_data = pd.read_csv(\"models/direct_model_stepup/logfile.csv\")  # use packages to read the data here\n",
    "display_training_data(running_data) # call the function above to visualize it"
   ]
  },
  {
   "cell_type": "markdown",
   "id": "17e75646",
   "metadata": {},
   "source": [
    "# How to plot stuff"
   ]
  },
  {
   "cell_type": "code",
   "execution_count": null,
   "id": "d78079f1",
   "metadata": {},
   "outputs": [],
   "source": [
    "display(running_data) # display the data in table format"
   ]
  },
  {
   "cell_type": "code",
   "execution_count": null,
   "id": "23fa2008",
   "metadata": {},
   "outputs": [],
   "source": [
    "print(running_data.columns) # .columns can help you find what columns there are"
   ]
  },
  {
   "cell_type": "code",
   "execution_count": null,
   "id": "42811648",
   "metadata": {},
   "outputs": [],
   "source": [
    "display(running_data[\"test_entropy\"]) # the [] operator can help you restrict to a smaller column"
   ]
  },
  {
   "cell_type": "code",
   "execution_count": null,
   "id": "f60d3ffe",
   "metadata": {},
   "outputs": [],
   "source": [
    "display(running_data[[\"test_entropy\", \"test_recall\", \"test_accuracy\"]]) # to restrict to multiple columns, we input a list of\n",
    "# strings instead of a single string. this is same as\n",
    "# column_list = [\"test_entropy\", \"test_recall\", \"test_accuracy\"]\n",
    "# display(running_data[column_list])"
   ]
  },
  {
   "cell_type": "code",
   "execution_count": null,
   "id": "bfbf1a04",
   "metadata": {},
   "outputs": [],
   "source": [
    "running_data[[\"test_entropy\", \"test_recall\", \"test_accuracy\"]].plot(figsize = (30, 30))\n",
    "plt.show()   # these two commands plot the columns in a graphical manner."
   ]
  },
  {
   "cell_type": "code",
   "execution_count": null,
   "id": "ab6b07a0",
   "metadata": {},
   "outputs": [],
   "source": [
    "running_data.plot(figsize = (30, 30))\n",
    "plt.show() # or you can plot all the columns (but this will be TOO messy and hard to read of course)"
   ]
  },
  {
   "cell_type": "code",
   "execution_count": null,
   "id": "8739317d",
   "metadata": {},
   "outputs": [],
   "source": [
    "running_data[[\"test_entropy\", \"test_recall\", \"test_accuracy\"]].plot(figsize = (10, 10))\n",
    "plt.show() # you can also change the figsize of the graphical plot"
   ]
  },
  {
   "cell_type": "markdown",
   "id": "921a448b",
   "metadata": {},
   "source": [
    "# How to print stuff\n",
    "Of course you know how to print stuff using print(). But it may be easier to read if you print it in **BOLD** text. This is how you do it:"
   ]
  },
  {
   "cell_type": "code",
   "execution_count": 4,
   "id": "8808cef6",
   "metadata": {},
   "outputs": [
    {
     "data": {
      "text/markdown": [
       "**Training metrics**"
      ],
      "text/plain": [
       "<IPython.core.display.Markdown object>"
      ]
     },
     "metadata": {},
     "output_type": "display_data"
    },
    {
     "data": {
      "text/markdown": [
       "**sometext**"
      ],
      "text/plain": [
       "<IPython.core.display.Markdown object>"
      ]
     },
     "metadata": {},
     "output_type": "display_data"
    },
    {
     "data": {
      "text/markdown": [
       "** if there is space it does not work **"
      ],
      "text/plain": [
       "<IPython.core.display.Markdown object>"
      ]
     },
     "metadata": {},
     "output_type": "display_data"
    },
    {
     "data": {
      "text/markdown": [
       "**no space works (CREATIVITY)**"
      ],
      "text/plain": [
       "<IPython.core.display.Markdown object>"
      ]
     },
     "metadata": {},
     "output_type": "display_data"
    }
   ],
   "source": [
    "display(Markdown(\"**Training metrics**\"))\n",
    "display(Markdown(\"**sometext**\"))\n",
    "display(Markdown(\"** if there is space it does not work **\"))\n",
    "display(Markdown(\"**no space works (CREATIVITY)**\"))"
   ]
  },
  {
   "cell_type": "code",
   "execution_count": 6,
   "id": "18dd3312",
   "metadata": {},
   "outputs": [
    {
     "data": {
      "text/markdown": [
       "Number **0** in BOLD text"
      ],
      "text/plain": [
       "<IPython.core.display.Markdown object>"
      ]
     },
     "metadata": {},
     "output_type": "display_data"
    },
    {
     "data": {
      "text/markdown": [
       "Number **1** in BOLD text"
      ],
      "text/plain": [
       "<IPython.core.display.Markdown object>"
      ]
     },
     "metadata": {},
     "output_type": "display_data"
    },
    {
     "data": {
      "text/markdown": [
       "Number **2** in BOLD text"
      ],
      "text/plain": [
       "<IPython.core.display.Markdown object>"
      ]
     },
     "metadata": {},
     "output_type": "display_data"
    },
    {
     "data": {
      "text/markdown": [
       "Number **3** in BOLD text"
      ],
      "text/plain": [
       "<IPython.core.display.Markdown object>"
      ]
     },
     "metadata": {},
     "output_type": "display_data"
    },
    {
     "data": {
      "text/markdown": [
       "Number **4** in BOLD text"
      ],
      "text/plain": [
       "<IPython.core.display.Markdown object>"
      ]
     },
     "metadata": {},
     "output_type": "display_data"
    },
    {
     "data": {
      "text/markdown": [
       "Number **5** in BOLD text"
      ],
      "text/plain": [
       "<IPython.core.display.Markdown object>"
      ]
     },
     "metadata": {},
     "output_type": "display_data"
    },
    {
     "data": {
      "text/markdown": [
       "Number **6** in BOLD text"
      ],
      "text/plain": [
       "<IPython.core.display.Markdown object>"
      ]
     },
     "metadata": {},
     "output_type": "display_data"
    },
    {
     "data": {
      "text/markdown": [
       "Number **7** in BOLD text"
      ],
      "text/plain": [
       "<IPython.core.display.Markdown object>"
      ]
     },
     "metadata": {},
     "output_type": "display_data"
    },
    {
     "data": {
      "text/markdown": [
       "Number **8** in BOLD text"
      ],
      "text/plain": [
       "<IPython.core.display.Markdown object>"
      ]
     },
     "metadata": {},
     "output_type": "display_data"
    },
    {
     "data": {
      "text/markdown": [
       "Number **9** in BOLD text"
      ],
      "text/plain": [
       "<IPython.core.display.Markdown object>"
      ]
     },
     "metadata": {},
     "output_type": "display_data"
    }
   ],
   "source": [
    "# some demonstration\n",
    "for k in range(10):\n",
    "    display(Markdown(\"Number **\"+str(k)+\"** in BOLD text\"))"
   ]
  },
  {
   "cell_type": "markdown",
   "id": "c2b0bcd4",
   "metadata": {},
   "source": [
    "# How to find the location of maximum\n",
    "Lets say we have to find the **maximum** value of a column in a table. How to do that?"
   ]
  },
  {
   "cell_type": "code",
   "execution_count": 11,
   "id": "f055b38a",
   "metadata": {},
   "outputs": [
    {
     "data": {
      "text/html": [
       "<div>\n",
       "<style scoped>\n",
       "    .dataframe tbody tr th:only-of-type {\n",
       "        vertical-align: middle;\n",
       "    }\n",
       "\n",
       "    .dataframe tbody tr th {\n",
       "        vertical-align: top;\n",
       "    }\n",
       "\n",
       "    .dataframe thead th {\n",
       "        text-align: right;\n",
       "    }\n",
       "</style>\n",
       "<table border=\"1\" class=\"dataframe\">\n",
       "  <thead>\n",
       "    <tr style=\"text-align: right;\">\n",
       "      <th></th>\n",
       "      <th>col1</th>\n",
       "      <th>col2</th>\n",
       "      <th>col3</th>\n",
       "    </tr>\n",
       "  </thead>\n",
       "  <tbody>\n",
       "    <tr>\n",
       "      <th>0</th>\n",
       "      <td>10</td>\n",
       "      <td>15</td>\n",
       "      <td>-20</td>\n",
       "    </tr>\n",
       "    <tr>\n",
       "      <th>1</th>\n",
       "      <td>46</td>\n",
       "      <td>17</td>\n",
       "      <td>29</td>\n",
       "    </tr>\n",
       "    <tr>\n",
       "      <th>2</th>\n",
       "      <td>-52</td>\n",
       "      <td>78</td>\n",
       "      <td>61</td>\n",
       "    </tr>\n",
       "    <tr>\n",
       "      <th>3</th>\n",
       "      <td>20</td>\n",
       "      <td>31</td>\n",
       "      <td>-19</td>\n",
       "    </tr>\n",
       "  </tbody>\n",
       "</table>\n",
       "</div>"
      ],
      "text/plain": [
       "   col1  col2  col3\n",
       "0    10    15   -20\n",
       "1    46    17    29\n",
       "2   -52    78    61\n",
       "3    20    31   -19"
      ]
     },
     "metadata": {},
     "output_type": "display_data"
    },
    {
     "data": {
      "text/markdown": [
       "**Column 1:**"
      ],
      "text/plain": [
       "<IPython.core.display.Markdown object>"
      ]
     },
     "metadata": {},
     "output_type": "display_data"
    },
    {
     "data": {
      "text/plain": [
       "0    10\n",
       "1    46\n",
       "2   -52\n",
       "3    20\n",
       "Name: col1, dtype: int32"
      ]
     },
     "metadata": {},
     "output_type": "display_data"
    },
    {
     "name": "stdout",
     "output_type": "stream",
     "text": [
      "Max location: 1\n"
     ]
    },
    {
     "data": {
      "text/markdown": [
       "**Column 2:**"
      ],
      "text/plain": [
       "<IPython.core.display.Markdown object>"
      ]
     },
     "metadata": {},
     "output_type": "display_data"
    },
    {
     "data": {
      "text/plain": [
       "0    15\n",
       "1    17\n",
       "2    78\n",
       "3    31\n",
       "Name: col2, dtype: int32"
      ]
     },
     "metadata": {},
     "output_type": "display_data"
    },
    {
     "name": "stdout",
     "output_type": "stream",
     "text": [
      "Max location: 2\n"
     ]
    },
    {
     "data": {
      "text/markdown": [
       "**Column 3:**"
      ],
      "text/plain": [
       "<IPython.core.display.Markdown object>"
      ]
     },
     "metadata": {},
     "output_type": "display_data"
    },
    {
     "data": {
      "text/plain": [
       "0   -20\n",
       "1    29\n",
       "2    61\n",
       "3   -19\n",
       "Name: col3, dtype: int32"
      ]
     },
     "metadata": {},
     "output_type": "display_data"
    },
    {
     "name": "stdout",
     "output_type": "stream",
     "text": [
      "Max location: 2\n"
     ]
    }
   ],
   "source": [
    "artifical_data = pd.DataFrame(data = np.array([[10,15,-20], [46,17,29], [-52,78,61], [20,31,-19]]), columns = [\"col1\", \"col2\", \"col3\"])\n",
    "display(artifical_data)\n",
    "\n",
    "display(Markdown(\"**Column 1:**\"))\n",
    "display(artifical_data[\"col1\"])\n",
    "print(\"Max location:\", artifical_data[\"col1\"].argmax())\n",
    "\n",
    "display(Markdown(\"**Column 2:**\"))\n",
    "display(artifical_data[\"col2\"])\n",
    "print(\"Max location:\", artifical_data[\"col2\"].argmax())\n",
    "\n",
    "display(Markdown(\"**Column 3:**\"))\n",
    "display(artifical_data[\"col3\"])\n",
    "print(\"Max location:\", artifical_data[\"col3\"].argmax())"
   ]
  },
  {
   "cell_type": "markdown",
   "id": "77c00566",
   "metadata": {},
   "source": [
    "From the **maximum** location, we can get the row corresponding to the max location. For example, we want to find the row which corresponds to the max of column 3."
   ]
  },
  {
   "cell_type": "code",
   "execution_count": 12,
   "id": "6064eac3",
   "metadata": {},
   "outputs": [
    {
     "data": {
      "text/plain": [
       "col1   -52\n",
       "col2    78\n",
       "col3    61\n",
       "Name: 2, dtype: int32"
      ]
     },
     "metadata": {},
     "output_type": "display_data"
    }
   ],
   "source": [
    "max_location = artifical_data[\"col3\"].argmax()\n",
    "display(artifical_data.loc[max_location])"
   ]
  },
  {
   "cell_type": "markdown",
   "id": "50e06403",
   "metadata": {},
   "source": [
    "# How to plot other graphs\n",
    "The **sns** (seaborn) package can be used to plot other graphs instead of line graphs. The heatmap below plots the same data\n",
    "with colours so its easy for us to see. There are other kinds of useful graphs in the **sns** (seaborn) package, you can learn them here https://www.kaggle.com/learn/data-visualization (its very easy). For more details you can look at the official website: https://seaborn.pydata.org/index.html and search."
   ]
  },
  {
   "cell_type": "code",
   "execution_count": 14,
   "id": "c0662bb7",
   "metadata": {},
   "outputs": [
    {
     "data": {
      "image/png": "[encoded data removed]",
      "text/plain": [
       "<Figure size 500x500 with 2 Axes>"
      ]
     },
     "metadata": {},
     "output_type": "display_data"
    }
   ],
   "source": [
    "plt.figure(figsize=(5,5))\n",
    "plt.title(\"Custom heatmap test\")\n",
    "sns.heatmap(data=artifical_data, annot=True)\n",
    "plt.show()"
   ]
  }
 ],
 "metadata": {
  "kernelspec": {
   "display_name": "Python 3 (ipykernel)",
   "language": "python",
   "name": "python3"
  },
  "language_info": {
   "codemirror_mode": {
    "name": "ipython",
    "version": 3
   },
   "file_extension": ".py",
   "mimetype": "text/x-python",
   "name": "python",
   "nbconvert_exporter": "python",
   "pygments_lexer": "ipython3",
   "version": "3.10.9"
  }
 },
 "nbformat": 4,
 "nbformat_minor": 5
}
