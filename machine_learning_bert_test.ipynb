{
 "cells": [
  {
   "cell_type": "code",
   "execution_count": 1,
   "id": "47647e57",
   "metadata": {},
   "outputs": [
    {
     "name": "stdout",
     "output_type": "stream",
     "text": [
      "premodel\n",
      "presampler\n",
      "postsampler\n",
      "Epoch 1/100\n",
      "1/1 - 10s - accuracy: 0.6607 - precision: 0.6345 - recall: 0.7584 - entropy: 0.6221 - full_accuracy: 0.5791 - full_precision: 6.3753e-05 - full_recall: 0.6667 - full_entropy: 0.6717 - test_precision: 2.6527e-05 - test_recall: 0.3333 - test_small_accuracy: 0.6266 - test_small_precision: 0.5987 - test_small_recall: 0.7682 - test_small_entropy: 0.6595 - no_lang_full_accuracy: 0.5477 - no_lang_full_precision: 5.9328e-05 - no_lang_full_recall: 0.6667 - no_lang_full_entropy: 0.6853 - no_lang_test_precision: 2.6857e-05 - no_lang_test_recall: 0.3333 - no_lang_test_small_accuracy: 0.6302 - no_lang_test_small_precision: 0.6017 - no_lang_test_small_recall: 0.7703 - no_lang_test_small_entropy: 0.6578 - entropy_large_set: 0.6221 - 10s/epoch - 10s/step\n",
      "Epoch 2/100\n",
      "1/1 - 10s - accuracy: 0.7452 - precision: 0.7163 - recall: 0.8120 - entropy: 0.5087 - full_accuracy: 0.6278 - full_precision: 5.4069e-05 - full_recall: 0.4286 - full_entropy: 0.6176 - test_precision: 3.0024e-05 - test_recall: 0.4000 - test_small_accuracy: 0.6486 - test_small_precision: 0.6210 - test_small_recall: 0.7628 - test_small_entropy: 0.6375 - no_lang_full_accuracy: 0.6008 - no_lang_full_precision: 5.0412e-05 - no_lang_full_recall: 0.4286 - no_lang_full_entropy: 0.6370 - no_lang_test_precision: 2.9882e-05 - no_lang_test_recall: 0.4000 - no_lang_test_small_accuracy: 0.6508 - no_lang_test_small_precision: 0.6217 - no_lang_test_small_recall: 0.7704 - no_lang_test_small_entropy: 0.6376 - entropy_large_set: 0.5654 - 10s/epoch - 10s/step\n",
      "Epoch 3/100\n",
      "1/1 - 10s - accuracy: 0.7928 - precision: 0.7597 - recall: 0.8566 - entropy: 0.4335 - full_accuracy: 0.6706 - full_precision: 6.7892e-05 - full_recall: 0.5000 - full_entropy: 0.5647 - test_precision: 6.5689e-05 - test_recall: 0.6667 - test_small_accuracy: 0.6669 - test_small_precision: 0.6423 - test_small_recall: 0.7533 - test_small_entropy: 0.6160 - no_lang_full_accuracy: 0.6340 - no_lang_full_precision: 6.1105e-05 - no_lang_full_recall: 0.5000 - no_lang_full_entropy: 0.6047 - no_lang_test_precision: 6.3669e-05 - no_lang_test_recall: 0.6667 - no_lang_test_small_accuracy: 0.6670 - no_lang_test_small_precision: 0.6388 - no_lang_test_small_recall: 0.7687 - no_lang_test_small_entropy: 0.6199 - entropy_large_set: 0.5214 - 10s/epoch - 10s/step\n",
      "Epoch 4/100\n",
      "1/1 - 10s - accuracy: 0.8279 - precision: 0.8085 - recall: 0.8593 - entropy: 0.3718 - full_accuracy: 0.7100 - full_precision: 9.2545e-05 - full_recall: 0.5714 - full_entropy: 0.5090 - test_precision: 8.1972e-05 - test_recall: 0.6923 - test_small_accuracy: 0.6825 - test_small_precision: 0.6637 - test_small_recall: 0.7401 - test_small_entropy: 0.5987 - no_lang_full_accuracy: 0.6666 - no_lang_full_precision: 8.0488e-05 - no_lang_full_recall: 0.5714 - no_lang_full_entropy: 0.5680 - no_lang_test_precision: 7.5816e-05 - no_lang_test_recall: 0.6923 - no_lang_test_small_accuracy: 0.6772 - no_lang_test_small_precision: 0.6518 - no_lang_test_small_recall: 0.7610 - no_lang_test_small_entropy: 0.6106 - entropy_large_set: 0.4840 - 10s/epoch - 10s/step\n",
      "Epoch 5/100\n",
      "1/1 - 10s - accuracy: 0.8330 - precision: 0.7905 - recall: 0.9060 - entropy: 0.3574 - full_accuracy: 0.7278 - full_precision: 8.8726e-05 - full_recall: 0.6000 - full_entropy: 0.4878 - test_precision: 7.6876e-05 - test_recall: 0.6667 - test_small_accuracy: 0.6958 - test_small_precision: 0.6780 - test_small_recall: 0.7456 - test_small_entropy: 0.5822 - no_lang_full_accuracy: 0.6786 - no_lang_full_precision: 7.5148e-05 - no_lang_full_recall: 0.6000 - no_lang_full_entropy: 0.5614 - no_lang_test_precision: 6.8211e-05 - no_lang_test_recall: 0.6667 - no_lang_test_small_accuracy: 0.6840 - no_lang_test_small_precision: 0.6576 - no_lang_test_small_recall: 0.7679 - no_lang_test_small_entropy: 0.6053 - entropy_large_set: 0.4587 - 10s/epoch - 10s/step\n",
      "Epoch 6/100\n",
      "1/1 - 10s - accuracy: 0.8460 - precision: 0.8039 - recall: 0.9154 - entropy: 0.3374 - full_accuracy: 0.7419 - full_precision: 1.3860e-04 - full_recall: 0.6957 - full_entropy: 0.4689 - test_precision: 8.0798e-05 - test_recall: 0.6667 - test_small_accuracy: 0.7063 - test_small_precision: 0.6906 - test_small_recall: 0.7476 - test_small_entropy: 0.5680 - no_lang_full_accuracy: 0.6905 - no_lang_full_precision: 1.1559e-04 - no_lang_full_recall: 0.6957 - no_lang_full_entropy: 0.5498 - no_lang_test_precision: 6.9238e-05 - no_lang_test_recall: 0.6667 - no_lang_test_small_accuracy: 0.6897 - no_lang_test_small_precision: 0.6631 - no_lang_test_small_recall: 0.7713 - no_lang_test_small_entropy: 0.5988 - entropy_large_set: 0.4385 - 10s/epoch - 10s/step\n",
      "Epoch 7/100\n",
      "1/1 - 10s - accuracy: 0.8611 - precision: 0.8400 - recall: 0.8923 - entropy: 0.3098 - full_accuracy: 0.7586 - full_precision: 1.9051e-04 - full_recall: 0.7059 - full_entropy: 0.4442 - test_precision: 9.2548e-05 - test_recall: 0.6818 - test_small_accuracy: 0.7149 - test_small_precision: 0.7034 - test_small_recall: 0.7432 - test_small_entropy: 0.5571 - no_lang_full_accuracy: 0.7078 - no_lang_full_precision: 1.5087e-04 - no_lang_full_recall: 0.6765 - no_lang_full_entropy: 0.5269 - no_lang_test_precision: 7.7581e-05 - no_lang_test_recall: 0.6818 - no_lang_test_small_accuracy: 0.6959 - no_lang_test_small_precision: 0.6712 - no_lang_test_small_recall: 0.7682 - no_lang_test_small_entropy: 0.5915 - entropy_large_set: 0.4201 - 10s/epoch - 10s/step\n",
      "Epoch 8/100\n",
      "1/1 - 9s - accuracy: 0.8682 - precision: 0.8474 - recall: 0.8982 - entropy: 0.2979 - full_accuracy: 0.7712 - full_precision: 2.1259e-04 - full_recall: 0.7436 - full_entropy: 0.4247 - test_precision: 1.1386e-04 - test_recall: 0.7143 - test_small_accuracy: 0.7217 - test_small_precision: 0.7146 - test_small_recall: 0.7384 - test_small_entropy: 0.5493 - no_lang_full_accuracy: 0.7200 - no_lang_full_precision: 1.6772e-04 - no_lang_full_recall: 0.7179 - no_lang_full_entropy: 0.5110 - no_lang_test_precision: 9.7363e-05 - no_lang_test_recall: 0.7500 - no_lang_test_small_accuracy: 0.7015 - no_lang_test_small_precision: 0.6785 - no_lang_test_small_recall: 0.7659 - no_lang_test_small_entropy: 0.5850 - entropy_large_set: 0.4048 - 9s/epoch - 9s/step\n",
      "Epoch 9/100\n",
      "1/1 - 9s - accuracy: 0.8707 - precision: 0.8415 - recall: 0.9134 - entropy: 0.2928 - full_accuracy: 0.7805 - full_precision: 2.1729e-04 - full_recall: 0.7619 - full_entropy: 0.4114 - test_precision: 1.2235e-04 - test_recall: 0.7419 - test_small_accuracy: 0.7278 - test_small_precision: 0.7239 - test_small_recall: 0.7366 - test_small_entropy: 0.5419 - no_lang_full_accuracy: 0.7294 - no_lang_full_precision: 1.7075e-04 - no_lang_full_recall: 0.7381 - no_lang_full_entropy: 0.4994 - no_lang_test_precision: 1.0169e-04 - no_lang_test_recall: 0.7742 - no_lang_test_small_accuracy: 0.7058 - no_lang_test_small_precision: 0.6839 - no_lang_test_small_recall: 0.7655 - no_lang_test_small_entropy: 0.5795 - entropy_large_set: 0.3924 - 9s/epoch - 9s/step\n",
      "Epoch 10/100\n",
      "1/1 - 9s - accuracy: 0.8764 - precision: 0.8473 - recall: 0.9184 - entropy: 0.2810 - full_accuracy: 0.7882 - full_precision: 2.3439e-04 - full_recall: 0.7872 - full_entropy: 0.3998 - test_precision: 1.3500e-04 - test_recall: 0.6923 - test_small_accuracy: 0.7330 - test_small_precision: 0.7322 - test_small_recall: 0.7347 - test_small_entropy: 0.5354 - no_lang_full_accuracy: 0.7379 - no_lang_full_precision: 1.8428e-04 - no_lang_full_recall: 0.7660 - no_lang_full_entropy: 0.4881 - no_lang_test_precision: 1.0902e-04 - no_lang_test_recall: 0.7179 - no_lang_test_small_accuracy: 0.7100 - no_lang_test_small_precision: 0.6891 - no_lang_test_small_recall: 0.7654 - no_lang_test_small_entropy: 0.5741 - entropy_large_set: 0.3812 - 9s/epoch - 9s/step\n",
      "Epoch 11/100\n",
      "1/1 - 9s - accuracy: 0.8801 - precision: 0.8485 - recall: 0.9253 - entropy: 0.2724 - full_accuracy: 0.7948 - full_precision: 2.4362e-04 - full_recall: 0.7736 - full_entropy: 0.3906 - test_precision: 1.4659e-04 - test_recall: 0.7045 - test_small_accuracy: 0.7375 - test_small_precision: 0.7395 - test_small_recall: 0.7334 - test_small_entropy: 0.5307 - no_lang_full_accuracy: 0.7447 - no_lang_full_precision: 1.8631e-04 - no_lang_full_recall: 0.7358 - no_lang_full_entropy: 0.4795 - no_lang_test_precision: 1.1543e-04 - no_lang_test_recall: 0.7273 - no_lang_test_small_accuracy: 0.7139 - no_lang_test_small_precision: 0.6939 - no_lang_test_small_recall: 0.7655 - no_lang_test_small_entropy: 0.5702 - entropy_large_set: 0.3713 - 9s/epoch - 9s/step\n"
     ]
    },
    {
     "name": "stdout",
     "output_type": "stream",
     "text": [
      "Epoch 12/100\n",
      "1/1 - 10s - accuracy: 0.8821 - precision: 0.8439 - recall: 0.9377 - entropy: 0.2685 - full_accuracy: 0.7998 - full_precision: 2.6249e-04 - full_recall: 0.7833 - full_entropy: 0.3840 - test_precision: 1.6552e-04 - test_recall: 0.7115 - test_small_accuracy: 0.7419 - test_small_precision: 0.7453 - test_small_recall: 0.7351 - test_small_entropy: 0.5253 - no_lang_full_accuracy: 0.7491 - no_lang_full_precision: 2.0051e-04 - no_lang_full_recall: 0.7500 - no_lang_full_entropy: 0.4743 - no_lang_test_precision: 1.2458e-04 - no_lang_test_recall: 0.7115 - no_lang_test_small_accuracy: 0.7169 - no_lang_test_small_precision: 0.6971 - no_lang_test_small_recall: 0.7671 - no_lang_test_small_entropy: 0.5670 - entropy_large_set: 0.3628 - 10s/epoch - 10s/step\n",
      "Epoch 13/100\n",
      "1/1 - 10s - accuracy: 0.8882 - precision: 0.8588 - recall: 0.9292 - entropy: 0.2590 - full_accuracy: 0.8048 - full_precision: 2.8552e-04 - full_recall: 0.8060 - full_entropy: 0.3767 - test_precision: 1.8279e-04 - test_recall: 0.7049 - test_small_accuracy: 0.7453 - test_small_precision: 0.7514 - test_small_recall: 0.7334 - test_small_entropy: 0.5215 - no_lang_full_accuracy: 0.7551 - no_lang_full_precision: 2.1914e-04 - no_lang_full_recall: 0.7761 - no_lang_full_entropy: 0.4664 - no_lang_test_precision: 1.3926e-04 - no_lang_test_recall: 0.7213 - no_lang_test_small_accuracy: 0.7201 - no_lang_test_small_precision: 0.7013 - no_lang_test_small_recall: 0.7668 - no_lang_test_small_entropy: 0.5625 - entropy_large_set: 0.3548 - 10s/epoch - 10s/step\n",
      "Epoch 14/100\n",
      "1/1 - 10s - accuracy: 0.8920 - precision: 0.8570 - recall: 0.9411 - entropy: 0.2500 - full_accuracy: 0.8096 - full_precision: 3.0187e-04 - full_recall: 0.8219 - full_entropy: 0.3700 - test_precision: 1.8213e-04 - test_recall: 0.6923 - test_small_accuracy: 0.7485 - test_small_precision: 0.7564 - test_small_recall: 0.7333 - test_small_entropy: 0.5179 - no_lang_full_accuracy: 0.7588 - no_lang_full_precision: 2.3038e-04 - no_lang_full_recall: 0.7945 - no_lang_full_entropy: 0.4622 - no_lang_test_precision: 1.4038e-04 - no_lang_test_recall: 0.7231 - no_lang_test_small_accuracy: 0.7226 - no_lang_test_small_precision: 0.7044 - no_lang_test_small_recall: 0.7670 - no_lang_test_small_entropy: 0.5594 - entropy_large_set: 0.3473 - 10s/epoch - 10s/step\n",
      "Epoch 15/100\n",
      "1/1 - 10s - accuracy: 0.8979 - precision: 0.8736 - recall: 0.9304 - entropy: 0.2405 - full_accuracy: 0.8147 - full_precision: 2.9916e-04 - full_recall: 0.8158 - full_entropy: 0.3618 - test_precision: 1.8219e-04 - test_recall: 0.6714 - test_small_accuracy: 0.7510 - test_small_precision: 0.7614 - test_small_recall: 0.7311 - test_small_entropy: 0.5157 - no_lang_full_accuracy: 0.7645 - no_lang_full_precision: 2.2783e-04 - no_lang_full_recall: 0.7895 - no_lang_full_entropy: 0.4536 - no_lang_test_precision: 1.4157e-04 - no_lang_test_recall: 0.7143 - no_lang_test_small_accuracy: 0.7248 - no_lang_test_small_precision: 0.7080 - no_lang_test_small_recall: 0.7652 - no_lang_test_small_entropy: 0.5568 - entropy_large_set: 0.3402 - 10s/epoch - 10s/step\n",
      "Epoch 16/100\n",
      "1/1 - 10s - accuracy: 0.8981 - precision: 0.8672 - recall: 0.9400 - entropy: 0.2388 - full_accuracy: 0.8187 - full_precision: 2.9131e-04 - full_recall: 0.8182 - full_entropy: 0.3559 - test_precision: 1.8697e-04 - test_recall: 0.6757 - test_small_accuracy: 0.7535 - test_small_precision: 0.7664 - test_small_recall: 0.7294 - test_small_entropy: 0.5137 - no_lang_full_accuracy: 0.7689 - no_lang_full_precision: 2.2128e-04 - no_lang_full_recall: 0.7922 - no_lang_full_entropy: 0.4474 - no_lang_test_precision: 1.4324e-04 - no_lang_test_recall: 0.7162 - no_lang_test_small_accuracy: 0.7274 - no_lang_test_small_precision: 0.7118 - no_lang_test_small_recall: 0.7642 - no_lang_test_small_entropy: 0.5537 - entropy_large_set: 0.3339 - 10s/epoch - 10s/step\n",
      "Epoch 17/100\n",
      "1/1 - 9s - accuracy: 0.9012 - precision: 0.8707 - recall: 0.9424 - entropy: 0.2339 - full_accuracy: 0.8220 - full_precision: 3.1471e-04 - full_recall: 0.8353 - full_entropy: 0.3511 - test_precision: 1.9177e-04 - test_recall: 0.6709 - test_small_accuracy: 0.7558 - test_small_precision: 0.7707 - test_small_recall: 0.7284 - test_small_entropy: 0.5118 - no_lang_full_accuracy: 0.7724 - no_lang_full_precision: 2.3918e-04 - no_lang_full_recall: 0.8118 - no_lang_full_entropy: 0.4431 - no_lang_test_precision: 1.4499e-04 - no_lang_test_recall: 0.7089 - no_lang_test_small_accuracy: 0.7296 - no_lang_test_small_precision: 0.7149 - no_lang_test_small_recall: 0.7636 - no_lang_test_small_entropy: 0.5515 - entropy_large_set: 0.3280 - 9s/epoch - 9s/step\n",
      "Epoch 18/100\n",
      "1/1 - 10s - accuracy: 0.9026 - precision: 0.8744 - recall: 0.9401 - entropy: 0.2289 - full_accuracy: 0.8255 - full_precision: 3.1597e-04 - full_recall: 0.8315 - full_entropy: 0.3461 - test_precision: 2.0524e-04 - test_recall: 0.6705 - test_small_accuracy: 0.7579 - test_small_precision: 0.7746 - test_small_recall: 0.7275 - test_small_entropy: 0.5101 - no_lang_full_accuracy: 0.7762 - no_lang_full_precision: 2.3980e-04 - no_lang_full_recall: 0.8090 - no_lang_full_entropy: 0.4380 - no_lang_test_precision: 1.5813e-04 - no_lang_test_recall: 0.7273 - no_lang_test_small_accuracy: 0.7315 - no_lang_test_small_precision: 0.7178 - no_lang_test_small_recall: 0.7630 - no_lang_test_small_entropy: 0.5493 - entropy_large_set: 0.3225 - 10s/epoch - 10s/step\n",
      "Epoch 19/100\n",
      "1/1 - 10s - accuracy: 0.9044 - precision: 0.8704 - recall: 0.9503 - entropy: 0.2279 - full_accuracy: 0.8287 - full_precision: 3.2155e-04 - full_recall: 0.8387 - full_entropy: 0.3408 - test_precision: 2.2132e-04 - test_recall: 0.6875 - test_small_accuracy: 0.7598 - test_small_precision: 0.7780 - test_small_recall: 0.7273 - test_small_entropy: 0.5082 - no_lang_full_accuracy: 0.7796 - no_lang_full_precision: 2.4343e-04 - no_lang_full_recall: 0.8172 - no_lang_full_entropy: 0.4333 - no_lang_test_precision: 1.6561e-04 - no_lang_test_recall: 0.7292 - no_lang_test_small_accuracy: 0.7331 - no_lang_test_small_precision: 0.7201 - no_lang_test_small_recall: 0.7627 - no_lang_test_small_entropy: 0.5475 - entropy_large_set: 0.3175 - 10s/epoch - 10s/step\n",
      "Epoch 20/100\n",
      "1/1 - 10s - accuracy: 0.9067 - precision: 0.8740 - recall: 0.9504 - entropy: 0.2208 - full_accuracy: 0.8317 - full_precision: 3.1885e-04 - full_recall: 0.8421 - full_entropy: 0.3360 - test_precision: 2.3366e-04 - test_recall: 0.6923 - test_small_accuracy: 0.7615 - test_small_precision: 0.7811 - test_small_recall: 0.7268 - test_small_entropy: 0.5071 - no_lang_full_accuracy: 0.7831 - no_lang_full_precision: 2.4116e-04 - no_lang_full_recall: 0.8211 - no_lang_full_entropy: 0.4281 - no_lang_test_precision: 1.7051e-04 - no_lang_test_recall: 0.7212 - no_lang_test_small_accuracy: 0.7346 - no_lang_test_small_precision: 0.7222 - no_lang_test_small_recall: 0.7625 - no_lang_test_small_entropy: 0.5460 - entropy_large_set: 0.3127 - 10s/epoch - 10s/step\n",
      "Epoch 21/100\n",
      "1/1 - 9s - accuracy: 0.9053 - precision: 0.8668 - recall: 0.9580 - entropy: 0.2252 - full_accuracy: 0.8331 - full_precision: 3.1003e-04 - full_recall: 0.8351 - full_entropy: 0.3342 - test_precision: 2.3566e-04 - test_recall: 0.6881 - test_small_accuracy: 0.7633 - test_small_precision: 0.7840 - test_small_recall: 0.7268 - test_small_entropy: 0.5056 - no_lang_full_accuracy: 0.7844 - no_lang_full_precision: 2.3403e-04 - no_lang_full_recall: 0.8144 - no_lang_full_entropy: 0.4264 - no_lang_test_precision: 1.7281e-04 - no_lang_test_recall: 0.7248 - no_lang_test_small_accuracy: 0.7361 - no_lang_test_small_precision: 0.7242 - no_lang_test_small_recall: 0.7627 - no_lang_test_small_entropy: 0.5444 - entropy_large_set: 0.3085 - 9s/epoch - 9s/step\n",
      "Epoch 22/100\n",
      "1/1 - 10s - accuracy: 0.9128 - precision: 0.8936 - recall: 0.9372 - entropy: 0.2089 - full_accuracy: 0.8366 - full_precision: 3.0601e-04 - full_recall: 0.8367 - full_entropy: 0.3281 - test_precision: 2.4209e-04 - test_recall: 0.6930 - test_small_accuracy: 0.7641 - test_small_precision: 0.7872 - test_small_recall: 0.7239 - test_small_entropy: 0.5067 - no_lang_full_accuracy: 0.7887 - no_lang_full_precision: 2.3090e-04 - no_lang_full_recall: 0.8163 - no_lang_full_entropy: 0.4195 - no_lang_test_precision: 1.7370e-04 - no_lang_test_recall: 0.7193 - no_lang_test_small_accuracy: 0.7374 - no_lang_test_small_precision: 0.7270 - no_lang_test_small_recall: 0.7603 - no_lang_test_small_entropy: 0.5438 - entropy_large_set: 0.3040 - 10s/epoch - 10s/step\n"
     ]
    },
    {
     "name": "stdout",
     "output_type": "stream",
     "text": [
      "Epoch 23/100\n",
      "1/1 - 10s - accuracy: 0.9096 - precision: 0.8734 - recall: 0.9582 - entropy: 0.2151 - full_accuracy: 0.8388 - full_precision: 3.0752e-04 - full_recall: 0.8416 - full_entropy: 0.3247 - test_precision: 2.6102e-04 - test_recall: 0.7154 - test_small_accuracy: 0.7656 - test_small_precision: 0.7892 - test_small_recall: 0.7247 - test_small_entropy: 0.5055 - no_lang_full_accuracy: 0.7909 - no_lang_full_precision: 2.3147e-04 - no_lang_full_recall: 0.8218 - no_lang_full_entropy: 0.4165 - no_lang_test_precision: 1.8535e-04 - no_lang_test_recall: 0.7398 - no_lang_test_small_accuracy: 0.7387 - no_lang_test_small_precision: 0.7287 - no_lang_test_small_recall: 0.7608 - no_lang_test_small_entropy: 0.5428 - entropy_large_set: 0.3001 - 10s/epoch - 10s/step\n",
      "Epoch 24/100\n",
      "1/1 - 10s - accuracy: 0.9131 - precision: 0.8831 - recall: 0.9523 - entropy: 0.2078 - full_accuracy: 0.8409 - full_precision: 3.1271e-04 - full_recall: 0.8476 - full_entropy: 0.3210 - test_precision: 2.6828e-04 - test_recall: 0.7209 - test_small_accuracy: 0.7667 - test_small_precision: 0.7918 - test_small_recall: 0.7239 - test_small_entropy: 0.5056 - no_lang_full_accuracy: 0.7935 - no_lang_full_precision: 2.3548e-04 - no_lang_full_recall: 0.8286 - no_lang_full_entropy: 0.4124 - no_lang_test_precision: 1.8925e-04 - no_lang_test_recall: 0.7442 - no_lang_test_small_accuracy: 0.7399 - no_lang_test_small_precision: 0.7305 - no_lang_test_small_recall: 0.7602 - no_lang_test_small_entropy: 0.5423 - entropy_large_set: 0.2963 - 10s/epoch - 10s/step\n",
      "Epoch 25/100\n",
      "1/1 - 10s - accuracy: 0.9131 - precision: 0.8776 - recall: 0.9601 - entropy: 0.2087 - full_accuracy: 0.8430 - full_precision: 3.0760e-04 - full_recall: 0.8411 - full_entropy: 0.3177 - test_precision: 2.7833e-04 - test_recall: 0.7226 - test_small_accuracy: 0.7680 - test_small_precision: 0.7942 - test_small_recall: 0.7236 - test_small_entropy: 0.5050 - no_lang_full_accuracy: 0.7955 - no_lang_full_precision: 2.3087e-04 - no_lang_full_recall: 0.8224 - no_lang_full_entropy: 0.4097 - no_lang_test_precision: 1.9473e-04 - no_lang_test_recall: 0.7445 - no_lang_test_small_accuracy: 0.7411 - no_lang_test_small_precision: 0.7324 - no_lang_test_small_recall: 0.7601 - no_lang_test_small_entropy: 0.5411 - entropy_large_set: 0.2928 - 10s/epoch - 10s/step\n",
      "Epoch 26/100\n",
      "1/1 - 9s - accuracy: 0.9202 - precision: 0.8945 - recall: 0.9530 - entropy: 0.1952 - full_accuracy: 0.8452 - full_precision: 3.1996e-04 - full_recall: 0.8421 - full_entropy: 0.3141 - test_precision: 2.8323e-04 - test_recall: 0.7103 - test_small_accuracy: 0.7688 - test_small_precision: 0.7965 - test_small_recall: 0.7222 - test_small_entropy: 0.5055 - no_lang_full_accuracy: 0.7981 - no_lang_full_precision: 2.3764e-04 - no_lang_full_recall: 0.8158 - no_lang_full_entropy: 0.4055 - no_lang_test_precision: 1.9487e-04 - no_lang_test_recall: 0.7241 - no_lang_test_small_accuracy: 0.7422 - no_lang_test_small_precision: 0.7344 - no_lang_test_small_recall: 0.7589 - no_lang_test_small_entropy: 0.5405 - entropy_large_set: 0.2890 - 9s/epoch - 9s/step\n",
      "Epoch 27/100\n",
      "1/1 - 9s - accuracy: 0.9184 - precision: 0.8905 - recall: 0.9542 - entropy: 0.1973 - full_accuracy: 0.8474 - full_precision: 3.3212e-04 - full_recall: 0.8500 - full_entropy: 0.3104 - test_precision: 2.8493e-04 - test_recall: 0.7020 - test_small_accuracy: 0.7696 - test_small_precision: 0.7986 - test_small_recall: 0.7212 - test_small_entropy: 0.5058 - no_lang_full_accuracy: 0.8007 - no_lang_full_precision: 2.4679e-04 - no_lang_full_recall: 0.8250 - no_lang_full_entropy: 0.4014 - no_lang_test_precision: 2.0070e-04 - no_lang_test_recall: 0.7351 - no_lang_test_small_accuracy: 0.7433 - no_lang_test_small_precision: 0.7362 - no_lang_test_small_recall: 0.7583 - no_lang_test_small_entropy: 0.5397 - entropy_large_set: 0.2856 - 9s/epoch - 9s/step\n",
      "Epoch 28/100\n",
      "1/1 - 10s - accuracy: 0.9216 - precision: 0.8968 - recall: 0.9530 - entropy: 0.1915 - full_accuracy: 0.8498 - full_precision: 3.4117e-04 - full_recall: 0.8560 - full_entropy: 0.3064 - test_precision: 2.9195e-04 - test_recall: 0.6981 - test_small_accuracy: 0.7702 - test_small_precision: 0.8008 - test_small_recall: 0.7194 - test_small_entropy: 0.5075 - no_lang_full_accuracy: 0.8033 - no_lang_full_precision: 2.5336e-04 - no_lang_full_recall: 0.8320 - no_lang_full_entropy: 0.3971 - no_lang_test_precision: 2.0621e-04 - no_lang_test_recall: 0.7358 - no_lang_test_small_accuracy: 0.7443 - no_lang_test_small_precision: 0.7382 - no_lang_test_small_recall: 0.7571 - no_lang_test_small_entropy: 0.5395 - entropy_large_set: 0.2822 - 10s/epoch - 10s/step\n",
      "Epoch 29/100\n",
      "1/1 - 9s - accuracy: 0.9254 - precision: 0.9073 - recall: 0.9477 - entropy: 0.1857 - full_accuracy: 0.8521 - full_precision: 3.4413e-04 - full_recall: 0.8594 - full_entropy: 0.3021 - test_precision: 3.0245e-04 - test_recall: 0.7091 - test_small_accuracy: 0.7705 - test_small_precision: 0.8031 - test_small_recall: 0.7166 - test_small_entropy: 0.5098 - no_lang_full_accuracy: 0.8063 - no_lang_full_precision: 2.5550e-04 - no_lang_full_recall: 0.8359 - no_lang_full_entropy: 0.3920 - no_lang_test_precision: 2.1197e-04 - no_lang_test_recall: 0.7455 - no_lang_test_small_accuracy: 0.7453 - no_lang_test_small_precision: 0.7405 - no_lang_test_small_recall: 0.7554 - no_lang_test_small_entropy: 0.5391 - entropy_large_set: 0.2789 - 9s/epoch - 9s/step\n",
      "Epoch 30/100\n",
      "1/1 - 10s - accuracy: 0.9161 - precision: 0.8765 - recall: 0.9687 - entropy: 0.2031 - full_accuracy: 0.8532 - full_precision: 3.3806e-04 - full_recall: 0.8605 - full_entropy: 0.3005 - test_precision: 3.0531e-04 - test_recall: 0.7118 - test_small_accuracy: 0.7714 - test_small_precision: 0.8045 - test_small_recall: 0.7172 - test_small_entropy: 0.5090 - no_lang_full_accuracy: 0.8075 - no_lang_full_precision: 2.5081e-04 - no_lang_full_recall: 0.8372 - no_lang_full_entropy: 0.3905 - no_lang_test_precision: 2.1309e-04 - no_lang_test_recall: 0.7471 - no_lang_test_small_accuracy: 0.7461 - no_lang_test_small_precision: 0.7414 - no_lang_test_small_recall: 0.7560 - no_lang_test_small_entropy: 0.5384 - entropy_large_set: 0.2764 - 10s/epoch - 10s/step\n",
      "Epoch 31/100\n",
      "1/1 - 10s - accuracy: 0.9211 - precision: 0.8863 - recall: 0.9661 - entropy: 0.1898 - full_accuracy: 0.8547 - full_precision: 3.3641e-04 - full_recall: 0.8626 - full_entropy: 0.2981 - test_precision: 3.1360e-04 - test_recall: 0.7135 - test_small_accuracy: 0.7722 - test_small_precision: 0.8060 - test_small_recall: 0.7169 - test_small_entropy: 0.5092 - no_lang_full_accuracy: 0.8089 - no_lang_full_precision: 2.4913e-04 - no_lang_full_recall: 0.8397 - no_lang_full_entropy: 0.3882 - no_lang_test_precision: 2.1910e-04 - no_lang_test_recall: 0.7528 - no_lang_test_small_accuracy: 0.7470 - no_lang_test_small_precision: 0.7426 - no_lang_test_small_recall: 0.7561 - no_lang_test_small_entropy: 0.5377 - entropy_large_set: 0.2736 - 10s/epoch - 10s/step\n",
      "Epoch 32/100\n",
      "1/1 - 9s - accuracy: 0.9296 - precision: 0.9108 - recall: 0.9525 - entropy: 0.1763 - full_accuracy: 0.8568 - full_precision: 3.3959e-04 - full_recall: 0.8657 - full_entropy: 0.2943 - test_precision: 3.2331e-04 - test_recall: 0.7189 - test_small_accuracy: 0.7724 - test_small_precision: 0.8080 - test_small_recall: 0.7147 - test_small_entropy: 0.5113 - no_lang_full_accuracy: 0.8115 - no_lang_full_precision: 2.5131e-04 - no_lang_full_recall: 0.8433 - no_lang_full_entropy: 0.3839 - no_lang_test_precision: 2.2443e-04 - no_lang_test_recall: 0.7568 - no_lang_test_small_accuracy: 0.7478 - no_lang_test_small_precision: 0.7446 - no_lang_test_small_recall: 0.7543 - no_lang_test_small_entropy: 0.5375 - entropy_large_set: 0.2706 - 9s/epoch - 9s/step\n",
      "Epoch 33/100\n",
      "1/1 - 10s - accuracy: 0.9255 - precision: 0.8965 - recall: 0.9621 - entropy: 0.1831 - full_accuracy: 0.8585 - full_precision: 3.5612e-04 - full_recall: 0.8671 - full_entropy: 0.2915 - test_precision: 3.2339e-04 - test_recall: 0.7158 - test_small_accuracy: 0.7730 - test_small_precision: 0.8096 - test_small_recall: 0.7138 - test_small_entropy: 0.5122 - no_lang_full_accuracy: 0.8133 - no_lang_full_precision: 2.6347e-04 - no_lang_full_recall: 0.8462 - no_lang_full_entropy: 0.3809 - no_lang_test_precision: 2.2544e-04 - no_lang_test_recall: 0.7579 - no_lang_test_small_accuracy: 0.7486 - no_lang_test_small_precision: 0.7461 - no_lang_test_small_recall: 0.7536 - no_lang_test_small_entropy: 0.5372 - entropy_large_set: 0.2679 - 10s/epoch - 10s/step\n"
     ]
    },
    {
     "name": "stdout",
     "output_type": "stream",
     "text": [
      "Epoch 34/100\n",
      "1/1 - 10s - accuracy: 0.9285 - precision: 0.9016 - recall: 0.9620 - entropy: 0.1773 - full_accuracy: 0.8602 - full_precision: 3.5561e-04 - full_recall: 0.8690 - full_entropy: 0.2884 - test_precision: 3.2246e-04 - test_recall: 0.7113 - test_small_accuracy: 0.7735 - test_small_precision: 0.8113 - test_small_recall: 0.7128 - test_small_entropy: 0.5134 - no_lang_full_accuracy: 0.8154 - no_lang_full_precision: 2.6295e-04 - no_lang_full_recall: 0.8483 - no_lang_full_entropy: 0.3773 - no_lang_test_precision: 2.2390e-04 - no_lang_test_recall: 0.7526 - no_lang_test_small_accuracy: 0.7494 - no_lang_test_small_precision: 0.7477 - no_lang_test_small_recall: 0.7529 - no_lang_test_small_entropy: 0.5368 - entropy_large_set: 0.2652 - 10s/epoch - 10s/step\n",
      "Epoch 35/100\n",
      "1/1 - 10s - accuracy: 0.9279 - precision: 0.8966 - recall: 0.9673 - entropy: 0.1780 - full_accuracy: 0.8614 - full_precision: 3.6226e-04 - full_recall: 0.8733 - full_entropy: 0.2864 - test_precision: 3.2838e-04 - test_recall: 0.7114 - test_small_accuracy: 0.7740 - test_small_precision: 0.8126 - test_small_recall: 0.7122 - test_small_entropy: 0.5142 - no_lang_full_accuracy: 0.8170 - no_lang_full_precision: 2.6805e-04 - no_lang_full_recall: 0.8533 - no_lang_full_entropy: 0.3750 - no_lang_test_precision: 2.2823e-04 - no_lang_test_recall: 0.7562 - no_lang_test_small_accuracy: 0.7501 - no_lang_test_small_precision: 0.7489 - no_lang_test_small_recall: 0.7527 - no_lang_test_small_entropy: 0.5363 - entropy_large_set: 0.2627 - 10s/epoch - 10s/step\n",
      "Epoch 36/100\n",
      "1/1 - 10s - accuracy: 0.9307 - precision: 0.9044 - recall: 0.9632 - entropy: 0.1725 - full_accuracy: 0.8629 - full_precision: 3.6966e-04 - full_recall: 0.8774 - full_entropy: 0.2837 - test_precision: 3.3385e-04 - test_recall: 0.7184 - test_small_accuracy: 0.7743 - test_small_precision: 0.8141 - test_small_recall: 0.7109 - test_small_entropy: 0.5160 - no_lang_full_accuracy: 0.8189 - no_lang_full_precision: 2.7155e-04 - no_lang_full_recall: 0.8516 - no_lang_full_entropy: 0.3718 - no_lang_test_precision: 2.3077e-04 - no_lang_test_recall: 0.7621 - no_lang_test_small_accuracy: 0.7508 - no_lang_test_small_precision: 0.7503 - no_lang_test_small_recall: 0.7517 - no_lang_test_small_entropy: 0.5365 - entropy_large_set: 0.2602 - 10s/epoch - 10s/step\n",
      "Epoch 37/100\n",
      "1/1 - 10s - accuracy: 0.9298 - precision: 0.9022 - recall: 0.9641 - entropy: 0.1726 - full_accuracy: 0.8643 - full_precision: 3.8199e-04 - full_recall: 0.8827 - full_entropy: 0.2813 - test_precision: 3.4148e-04 - test_recall: 0.7230 - test_small_accuracy: 0.7747 - test_small_precision: 0.8155 - test_small_recall: 0.7102 - test_small_entropy: 0.5170 - no_lang_full_accuracy: 0.8205 - no_lang_full_precision: 2.8068e-04 - no_lang_full_recall: 0.8580 - no_lang_full_entropy: 0.3692 - no_lang_test_precision: 2.3638e-04 - no_lang_test_recall: 0.7700 - no_lang_test_small_accuracy: 0.7515 - no_lang_test_small_precision: 0.7517 - no_lang_test_small_recall: 0.7512 - no_lang_test_small_entropy: 0.5361 - entropy_large_set: 0.2579 - 10s/epoch - 10s/step\n",
      "Epoch 38/100\n",
      "1/1 - 10s - accuracy: 0.9339 - precision: 0.9084 - recall: 0.9651 - entropy: 0.1675 - full_accuracy: 0.8656 - full_precision: 3.8859e-04 - full_recall: 0.8862 - full_entropy: 0.2791 - test_precision: 3.4311e-04 - test_recall: 0.7104 - test_small_accuracy: 0.7749 - test_small_precision: 0.8169 - test_small_recall: 0.7087 - test_small_entropy: 0.5188 - no_lang_full_accuracy: 0.8222 - no_lang_full_precision: 2.8582e-04 - no_lang_full_recall: 0.8623 - no_lang_full_entropy: 0.3664 - no_lang_test_precision: 2.3658e-04 - no_lang_test_recall: 0.7557 - no_lang_test_small_accuracy: 0.7521 - no_lang_test_small_precision: 0.7531 - no_lang_test_small_recall: 0.7500 - no_lang_test_small_entropy: 0.5364 - entropy_large_set: 0.2555 - 10s/epoch - 10s/step\n",
      "Epoch 39/100\n",
      "1/1 - 10s - accuracy: 0.9340 - precision: 0.9117 - recall: 0.9611 - entropy: 0.1655 - full_accuracy: 0.8670 - full_precision: 3.9557e-04 - full_recall: 0.8895 - full_entropy: 0.2767 - test_precision: 3.5791e-04 - test_recall: 0.7155 - test_small_accuracy: 0.7754 - test_small_precision: 0.8184 - test_small_recall: 0.7079 - test_small_entropy: 0.5197 - no_lang_full_accuracy: 0.8239 - no_lang_full_precision: 2.9097e-04 - no_lang_full_recall: 0.8663 - no_lang_full_entropy: 0.3637 - no_lang_test_precision: 2.4671e-04 - no_lang_test_recall: 0.7629 - no_lang_test_small_accuracy: 0.7528 - no_lang_test_small_precision: 0.7546 - no_lang_test_small_recall: 0.7493 - no_lang_test_small_entropy: 0.5361 - entropy_large_set: 0.2532 - 10s/epoch - 10s/step\n",
      "Epoch 40/100\n",
      "1/1 - 10s - accuracy: 0.9305 - precision: 0.8967 - recall: 0.9730 - entropy: 0.1724 - full_accuracy: 0.8679 - full_precision: 4.0369e-04 - full_recall: 0.8933 - full_entropy: 0.2751 - test_precision: 3.5380e-04 - test_recall: 0.7076 - test_small_accuracy: 0.7758 - test_small_precision: 0.8194 - test_small_recall: 0.7077 - test_small_entropy: 0.5200 - no_lang_full_accuracy: 0.8250 - no_lang_full_precision: 2.9711e-04 - no_lang_full_recall: 0.8708 - no_lang_full_entropy: 0.3619 - no_lang_test_precision: 2.4337e-04 - no_lang_test_recall: 0.7542 - no_lang_test_small_accuracy: 0.7534 - no_lang_test_small_precision: 0.7555 - no_lang_test_small_recall: 0.7493 - no_lang_test_small_entropy: 0.5356 - entropy_large_set: 0.2512 - 10s/epoch - 10s/step\n",
      "Epoch 41/100\n",
      "1/1 - 10s - accuracy: 0.9368 - precision: 0.9137 - recall: 0.9647 - entropy: 0.1586 - full_accuracy: 0.8693 - full_precision: 4.1540e-04 - full_recall: 0.8973 - full_entropy: 0.2726 - test_precision: 3.6210e-04 - test_recall: 0.7149 - test_small_accuracy: 0.7759 - test_small_precision: 0.8208 - test_small_recall: 0.7059 - test_small_entropy: 0.5226 - no_lang_full_accuracy: 0.8266 - no_lang_full_precision: 3.0572e-04 - no_lang_full_recall: 0.8757 - no_lang_full_entropy: 0.3590 - no_lang_test_precision: 2.4804e-04 - no_lang_test_recall: 0.7603 - no_lang_test_small_accuracy: 0.7539 - no_lang_test_small_precision: 0.7569 - no_lang_test_small_recall: 0.7480 - no_lang_test_small_entropy: 0.5361 - entropy_large_set: 0.2489 - 10s/epoch - 10s/step\n",
      "Epoch 42/100\n",
      "1/1 - 10s - accuracy: 0.9339 - precision: 0.9043 - recall: 0.9704 - entropy: 0.1656 - full_accuracy: 0.8704 - full_precision: 4.2144e-04 - full_recall: 0.9000 - full_entropy: 0.2705 - test_precision: 3.5919e-04 - test_recall: 0.7073 - test_small_accuracy: 0.7762 - test_small_precision: 0.8219 - test_small_recall: 0.7052 - test_small_entropy: 0.5235 - no_lang_full_accuracy: 0.8281 - no_lang_full_precision: 3.1023e-04 - no_lang_full_recall: 0.8789 - no_lang_full_entropy: 0.3566 - no_lang_test_precision: 2.4538e-04 - no_lang_test_recall: 0.7520 - no_lang_test_small_accuracy: 0.7545 - no_lang_test_small_precision: 0.7581 - no_lang_test_small_recall: 0.7475 - no_lang_test_small_entropy: 0.5362 - entropy_large_set: 0.2469 - 10s/epoch - 10s/step\n",
      "Epoch 43/100\n",
      "1/1 - 10s - accuracy: 0.9327 - precision: 0.8971 - recall: 0.9776 - entropy: 0.1673 - full_accuracy: 0.8712 - full_precision: 4.2372e-04 - full_recall: 0.9021 - full_entropy: 0.2693 - test_precision: 3.6771e-04 - test_recall: 0.7126 - test_small_accuracy: 0.7766 - test_small_precision: 0.8228 - test_small_recall: 0.7052 - test_small_entropy: 0.5241 - no_lang_full_accuracy: 0.8290 - no_lang_full_precision: 3.1187e-04 - no_lang_full_recall: 0.8814 - no_lang_full_entropy: 0.3553 - no_lang_test_precision: 2.5034e-04 - no_lang_test_recall: 0.7559 - no_lang_test_small_accuracy: 0.7550 - no_lang_test_small_precision: 0.7589 - no_lang_test_small_recall: 0.7475 - no_lang_test_small_entropy: 0.5361 - entropy_large_set: 0.2451 - 10s/epoch - 10s/step\n",
      "Epoch 44/100\n",
      "1/1 - 10s - accuracy: 0.9327 - precision: 0.8980 - recall: 0.9764 - entropy: 0.1672 - full_accuracy: 0.8720 - full_precision: 4.2629e-04 - full_recall: 0.9040 - full_entropy: 0.2678 - test_precision: 3.6963e-04 - test_recall: 0.7171 - test_small_accuracy: 0.7770 - test_small_precision: 0.8238 - test_small_recall: 0.7049 - test_small_entropy: 0.5245 - no_lang_full_accuracy: 0.8300 - no_lang_full_precision: 3.1380e-04 - no_lang_full_recall: 0.8838 - no_lang_full_entropy: 0.3536 - no_lang_test_precision: 2.5094e-04 - no_lang_test_recall: 0.7597 - no_lang_test_small_accuracy: 0.7555 - no_lang_test_small_precision: 0.7598 - no_lang_test_small_recall: 0.7472 - no_lang_test_small_entropy: 0.5360 - entropy_large_set: 0.2433 - 10s/epoch - 10s/step\n"
     ]
    },
    {
     "name": "stdout",
     "output_type": "stream",
     "text": [
      "Epoch 45/100\n",
      "1/1 - 10s - accuracy: 0.9365 - precision: 0.9070 - recall: 0.9728 - entropy: 0.1592 - full_accuracy: 0.8731 - full_precision: 4.4148e-04 - full_recall: 0.9082 - full_entropy: 0.2659 - test_precision: 3.7809e-04 - test_recall: 0.7191 - test_small_accuracy: 0.7773 - test_small_precision: 0.8248 - test_small_recall: 0.7041 - test_small_entropy: 0.5257 - no_lang_full_accuracy: 0.8313 - no_lang_full_precision: 3.2507e-04 - no_lang_full_recall: 0.8889 - no_lang_full_entropy: 0.3514 - no_lang_test_precision: 2.5709e-04 - no_lang_test_recall: 0.7640 - no_lang_test_small_accuracy: 0.7559 - no_lang_test_small_precision: 0.7607 - no_lang_test_small_recall: 0.7468 - no_lang_test_small_entropy: 0.5363 - entropy_large_set: 0.2414 - 10s/epoch - 10s/step\n",
      "Epoch 46/100\n",
      "1/1 - 10s - accuracy: 0.9341 - precision: 0.9017 - recall: 0.9745 - entropy: 0.1637 - full_accuracy: 0.8738 - full_precision: 4.4132e-04 - full_recall: 0.9095 - full_entropy: 0.2647 - test_precision: 3.8267e-04 - test_recall: 0.7216 - test_small_accuracy: 0.7776 - test_small_precision: 0.8257 - test_small_recall: 0.7039 - test_small_entropy: 0.5266 - no_lang_full_accuracy: 0.8322 - no_lang_full_precision: 3.2495e-04 - no_lang_full_recall: 0.8905 - no_lang_full_entropy: 0.3500 - no_lang_test_precision: 2.5946e-04 - no_lang_test_recall: 0.7656 - no_lang_test_small_accuracy: 0.7565 - no_lang_test_small_precision: 0.7616 - no_lang_test_small_recall: 0.7467 - no_lang_test_small_entropy: 0.5361 - entropy_large_set: 0.2397 - 10s/epoch - 10s/step\n",
      "Epoch 47/100\n",
      "1/1 - 10s - accuracy: 0.9372 - precision: 0.9073 - recall: 0.9739 - entropy: 0.1582 - full_accuracy: 0.8747 - full_precision: 4.5775e-04 - full_recall: 0.9136 - full_entropy: 0.2632 - test_precision: 3.8053e-04 - test_recall: 0.7236 - test_small_accuracy: 0.7780 - test_small_precision: 0.8267 - test_small_recall: 0.7036 - test_small_entropy: 0.5271 - no_lang_full_accuracy: 0.8332 - no_lang_full_precision: 3.3540e-04 - no_lang_full_recall: 0.8909 - no_lang_full_entropy: 0.3483 - no_lang_test_precision: 2.5784e-04 - no_lang_test_recall: 0.7673 - no_lang_test_small_accuracy: 0.7570 - no_lang_test_small_precision: 0.7627 - no_lang_test_small_recall: 0.7464 - no_lang_test_small_entropy: 0.5359 - entropy_large_set: 0.2380 - 10s/epoch - 10s/step\n",
      "Epoch 48/100\n",
      "1/1 - 10s - accuracy: 0.9382 - precision: 0.9082 - recall: 0.9750 - entropy: 0.1549 - full_accuracy: 0.8756 - full_precision: 4.6937e-04 - full_recall: 0.9167 - full_entropy: 0.2615 - test_precision: 3.8142e-04 - test_recall: 0.7189 - test_small_accuracy: 0.7783 - test_small_precision: 0.8277 - test_small_recall: 0.7029 - test_small_entropy: 0.5282 - no_lang_full_accuracy: 0.8342 - no_lang_full_precision: 3.4393e-04 - no_lang_full_recall: 0.8947 - no_lang_full_entropy: 0.3465 - no_lang_test_precision: 2.5903e-04 - no_lang_test_recall: 0.7651 - no_lang_test_small_accuracy: 0.7575 - no_lang_test_small_precision: 0.7636 - no_lang_test_small_recall: 0.7460 - no_lang_test_small_entropy: 0.5359 - entropy_large_set: 0.2363 - 10s/epoch - 10s/step\n",
      "Epoch 49/100\n",
      "1/1 - 10s - accuracy: 0.9387 - precision: 0.9098 - recall: 0.9739 - entropy: 0.1534 - full_accuracy: 0.8765 - full_precision: 4.7219e-04 - full_recall: 0.9181 - full_entropy: 0.2598 - test_precision: 3.8453e-04 - test_recall: 0.7203 - test_small_accuracy: 0.7784 - test_small_precision: 0.8287 - test_small_recall: 0.7021 - test_small_entropy: 0.5295 - no_lang_full_accuracy: 0.8354 - no_lang_full_precision: 3.4586e-04 - no_lang_full_recall: 0.8966 - no_lang_full_entropy: 0.3445 - no_lang_test_precision: 2.6149e-04 - no_lang_test_recall: 0.7692 - no_lang_test_small_accuracy: 0.7579 - no_lang_test_small_precision: 0.7646 - no_lang_test_small_recall: 0.7453 - no_lang_test_small_entropy: 0.5361 - entropy_large_set: 0.2346 - 10s/epoch - 10s/step\n",
      "Epoch 50/100\n",
      "1/1 - 10s - accuracy: 0.9460 - precision: 0.9296 - recall: 0.9651 - entropy: 0.1424 - full_accuracy: 0.8777 - full_precision: 4.7826e-04 - full_recall: 0.9198 - full_entropy: 0.2575 - test_precision: 3.8950e-04 - test_recall: 0.7251 - test_small_accuracy: 0.7784 - test_small_precision: 0.8297 - test_small_recall: 0.7005 - test_small_entropy: 0.5318 - no_lang_full_accuracy: 0.8369 - no_lang_full_precision: 3.5037e-04 - no_lang_full_recall: 0.8987 - no_lang_full_entropy: 0.3417 - no_lang_test_precision: 2.6308e-04 - no_lang_test_recall: 0.7698 - no_lang_test_small_accuracy: 0.7582 - no_lang_test_small_precision: 0.7659 - no_lang_test_small_recall: 0.7439 - no_lang_test_small_entropy: 0.5372 - entropy_large_set: 0.2327 - 10s/epoch - 10s/step\n",
      "Epoch 51/100\n",
      "1/1 - 10s - accuracy: 0.9427 - precision: 0.9182 - recall: 0.9720 - entropy: 0.1460 - full_accuracy: 0.8787 - full_precision: 4.7484e-04 - full_recall: 0.9202 - full_entropy: 0.2558 - test_precision: 3.8741e-04 - test_recall: 0.7211 - test_small_accuracy: 0.7785 - test_small_precision: 0.8307 - test_small_recall: 0.6995 - test_small_entropy: 0.5334 - no_lang_full_accuracy: 0.8381 - no_lang_full_precision: 3.4765e-04 - no_lang_full_recall: 0.8992 - no_lang_full_entropy: 0.3396 - no_lang_test_precision: 2.6107e-04 - no_lang_test_recall: 0.7653 - no_lang_test_small_accuracy: 0.7586 - no_lang_test_small_precision: 0.7669 - no_lang_test_small_recall: 0.7431 - no_lang_test_small_entropy: 0.5378 - entropy_large_set: 0.2310 - 10s/epoch - 10s/step\n",
      "Epoch 52/100\n",
      "1/1 - 10s - accuracy: 0.9413 - precision: 0.9156 - recall: 0.9722 - entropy: 0.1498 - full_accuracy: 0.8795 - full_precision: 4.7311e-04 - full_recall: 0.9208 - full_entropy: 0.2543 - test_precision: 3.9167e-04 - test_recall: 0.7115 - test_small_accuracy: 0.7787 - test_small_precision: 0.8316 - test_small_recall: 0.6989 - test_small_entropy: 0.5346 - no_lang_full_accuracy: 0.8391 - no_lang_full_precision: 3.4465e-04 - no_lang_full_recall: 0.8958 - no_lang_full_entropy: 0.3379 - no_lang_test_precision: 2.6462e-04 - no_lang_test_recall: 0.7574 - no_lang_test_small_accuracy: 0.7590 - no_lang_test_small_precision: 0.7678 - no_lang_test_small_recall: 0.7425 - no_lang_test_small_entropy: 0.5380 - entropy_large_set: 0.2295 - 10s/epoch - 10s/step\n",
      "Epoch 53/100\n",
      "1/1 - 10s - accuracy: 0.9434 - precision: 0.9180 - recall: 0.9739 - entropy: 0.1430 - full_accuracy: 0.8803 - full_precision: 4.8003e-04 - full_recall: 0.9228 - full_entropy: 0.2528 - test_precision: 3.9287e-04 - test_recall: 0.7074 - test_small_accuracy: 0.7787 - test_small_precision: 0.8325 - test_small_recall: 0.6979 - test_small_entropy: 0.5365 - no_lang_full_accuracy: 0.8399 - no_lang_full_precision: 3.4940e-04 - no_lang_full_recall: 0.8984 - no_lang_full_entropy: 0.3363 - no_lang_test_precision: 2.6484e-04 - no_lang_test_recall: 0.7524 - no_lang_test_small_accuracy: 0.7593 - no_lang_test_small_precision: 0.7688 - no_lang_test_small_recall: 0.7416 - no_lang_test_small_entropy: 0.5388 - entropy_large_set: 0.2278 - 10s/epoch - 10s/step\n",
      "Epoch 54/100\n",
      "1/1 - 10s - accuracy: 0.9434 - precision: 0.9166 - recall: 0.9755 - entropy: 0.1452 - full_accuracy: 0.8810 - full_precision: 4.7803e-04 - full_recall: 0.9234 - full_entropy: 0.2515 - test_precision: 3.9571e-04 - test_recall: 0.7044 - test_small_accuracy: 0.7788 - test_small_precision: 0.8333 - test_small_recall: 0.6969 - test_small_entropy: 0.5382 - no_lang_full_accuracy: 0.8408 - no_lang_full_precision: 3.4790e-04 - no_lang_full_recall: 0.8992 - no_lang_full_entropy: 0.3348 - no_lang_test_precision: 2.6850e-04 - no_lang_test_recall: 0.7547 - no_lang_test_small_accuracy: 0.7596 - no_lang_test_small_precision: 0.7698 - no_lang_test_small_recall: 0.7407 - no_lang_test_small_entropy: 0.5395 - entropy_large_set: 0.2263 - 10s/epoch - 10s/step\n",
      "Epoch 55/100\n",
      "1/1 - 10s - accuracy: 0.9405 - precision: 0.9083 - recall: 0.9799 - entropy: 0.1519 - full_accuracy: 0.8816 - full_precision: 4.7784e-04 - full_recall: 0.9243 - full_entropy: 0.2505 - test_precision: 4.0292e-04 - test_recall: 0.7064 - test_small_accuracy: 0.7789 - test_small_precision: 0.8340 - test_small_recall: 0.6965 - test_small_entropy: 0.5390 - no_lang_full_accuracy: 0.8415 - no_lang_full_precision: 3.4779e-04 - no_lang_full_recall: 0.9004 - no_lang_full_entropy: 0.3336 - no_lang_test_precision: 2.7128e-04 - no_lang_test_recall: 0.7523 - no_lang_test_small_accuracy: 0.7598 - no_lang_test_small_precision: 0.7704 - no_lang_test_small_recall: 0.7403 - no_lang_test_small_entropy: 0.5399 - entropy_large_set: 0.2250 - 10s/epoch - 10s/step\n"
     ]
    },
    {
     "name": "stdout",
     "output_type": "stream",
     "text": [
      "Epoch 56/100\n",
      "1/1 - 10s - accuracy: 0.9432 - precision: 0.9146 - recall: 0.9777 - entropy: 0.1445 - full_accuracy: 0.8824 - full_precision: 4.8058e-04 - full_recall: 0.9255 - full_entropy: 0.2490 - test_precision: 4.0123e-04 - test_recall: 0.7061 - test_small_accuracy: 0.7791 - test_small_precision: 0.8347 - test_small_recall: 0.6960 - test_small_entropy: 0.5400 - no_lang_full_accuracy: 0.8424 - no_lang_full_precision: 3.4965e-04 - no_lang_full_recall: 0.9020 - no_lang_full_entropy: 0.3320 - no_lang_test_precision: 2.6982e-04 - no_lang_test_recall: 0.7515 - no_lang_test_small_accuracy: 0.7602 - no_lang_test_small_precision: 0.7712 - no_lang_test_small_recall: 0.7399 - no_lang_test_small_entropy: 0.5401 - entropy_large_set: 0.2235 - 10s/epoch - 10s/step\n",
      "Epoch 57/100\n",
      "1/1 - 10s - accuracy: 0.9442 - precision: 0.9154 - recall: 0.9789 - entropy: 0.1415 - full_accuracy: 0.8831 - full_precision: 4.8501e-04 - full_recall: 0.9269 - full_entropy: 0.2478 - test_precision: 4.0043e-04 - test_recall: 0.7015 - test_small_accuracy: 0.7793 - test_small_precision: 0.8355 - test_small_recall: 0.6957 - test_small_entropy: 0.5408 - no_lang_full_accuracy: 0.8433 - no_lang_full_precision: 3.5288e-04 - no_lang_full_recall: 0.9038 - no_lang_full_entropy: 0.3305 - no_lang_test_precision: 2.6986e-04 - no_lang_test_recall: 0.7493 - no_lang_test_small_accuracy: 0.7606 - no_lang_test_small_precision: 0.7720 - no_lang_test_small_recall: 0.7396 - no_lang_test_small_entropy: 0.5401 - entropy_large_set: 0.2221 - 10s/epoch - 10s/step\n",
      "Epoch 58/100\n",
      "1/1 - 10s - accuracy: 0.9430 - precision: 0.9124 - recall: 0.9800 - entropy: 0.1450 - full_accuracy: 0.8838 - full_precision: 4.8542e-04 - full_recall: 0.9278 - full_entropy: 0.2466 - test_precision: 4.0094e-04 - test_recall: 0.7021 - test_small_accuracy: 0.7796 - test_small_precision: 0.8362 - test_small_recall: 0.6953 - test_small_entropy: 0.5415 - no_lang_full_accuracy: 0.8440 - no_lang_full_precision: 3.5293e-04 - no_lang_full_recall: 0.9049 - no_lang_full_entropy: 0.3292 - no_lang_test_precision: 2.6966e-04 - no_lang_test_recall: 0.7493 - no_lang_test_small_accuracy: 0.7609 - no_lang_test_small_precision: 0.7729 - no_lang_test_small_recall: 0.7391 - no_lang_test_small_entropy: 0.5403 - entropy_large_set: 0.2208 - 10s/epoch - 10s/step\n",
      "Epoch 59/100\n",
      "1/1 - 10s - accuracy: 0.9457 - precision: 0.9201 - recall: 0.9762 - entropy: 0.1383 - full_accuracy: 0.8845 - full_precision: 4.9223e-04 - full_recall: 0.9294 - full_entropy: 0.2452 - test_precision: 4.0200e-04 - test_recall: 0.7026 - test_small_accuracy: 0.7796 - test_small_precision: 0.8370 - test_small_recall: 0.6946 - test_small_entropy: 0.5428 - no_lang_full_accuracy: 0.8451 - no_lang_full_precision: 3.5804e-04 - no_lang_full_recall: 0.9071 - no_lang_full_entropy: 0.3274 - no_lang_test_precision: 2.6987e-04 - no_lang_test_recall: 0.7493 - no_lang_test_small_accuracy: 0.7612 - no_lang_test_small_precision: 0.7737 - no_lang_test_small_recall: 0.7386 - no_lang_test_small_entropy: 0.5406 - entropy_large_set: 0.2194 - 10s/epoch - 10s/step\n",
      "Epoch 60/100\n",
      "1/1 - 10s - accuracy: 0.9487 - precision: 0.9348 - recall: 0.9646 - entropy: 0.1365 - full_accuracy: 0.8855 - full_precision: 4.9601e-04 - full_recall: 0.9304 - full_entropy: 0.2433 - test_precision: 4.0841e-04 - test_recall: 0.7037 - test_small_accuracy: 0.7794 - test_small_precision: 0.8378 - test_small_recall: 0.6930 - test_small_entropy: 0.5453 - no_lang_full_accuracy: 0.8464 - no_lang_full_precision: 3.6087e-04 - no_lang_full_recall: 0.9084 - no_lang_full_entropy: 0.3250 - no_lang_test_precision: 2.7453e-04 - no_lang_test_recall: 0.7521 - no_lang_test_small_accuracy: 0.7613 - no_lang_test_small_precision: 0.7746 - no_lang_test_small_recall: 0.7370 - no_lang_test_small_entropy: 0.5421 - entropy_large_set: 0.2180 - 10s/epoch - 10s/step\n",
      "Epoch 61/100\n",
      "1/1 - 10s - accuracy: 0.9476 - precision: 0.9225 - recall: 0.9773 - entropy: 0.1359 - full_accuracy: 0.8863 - full_precision: 5.0099e-04 - full_recall: 0.9317 - full_entropy: 0.2418 - test_precision: 4.0783e-04 - test_recall: 0.6975 - test_small_accuracy: 0.7794 - test_small_precision: 0.8385 - test_small_recall: 0.6920 - test_small_entropy: 0.5469 - no_lang_full_accuracy: 0.8474 - no_lang_full_precision: 3.6453e-04 - no_lang_full_recall: 0.9101 - no_lang_full_entropy: 0.3232 - no_lang_test_precision: 2.7395e-04 - no_lang_test_recall: 0.7451 - no_lang_test_small_accuracy: 0.7615 - no_lang_test_small_precision: 0.7755 - no_lang_test_small_recall: 0.7363 - no_lang_test_small_entropy: 0.5427 - entropy_large_set: 0.2166 - 10s/epoch - 10s/step\n",
      "Epoch 62/100\n",
      "1/1 - 10s - accuracy: 0.9495 - precision: 0.9260 - recall: 0.9771 - entropy: 0.1318 - full_accuracy: 0.8872 - full_precision: 5.0031e-04 - full_recall: 0.9321 - full_entropy: 0.2402 - test_precision: 4.1266e-04 - test_recall: 0.6959 - test_small_accuracy: 0.7793 - test_small_precision: 0.8393 - test_small_recall: 0.6910 - test_small_entropy: 0.5488 - no_lang_full_accuracy: 0.8484 - no_lang_full_precision: 3.6400e-04 - no_lang_full_recall: 0.9107 - no_lang_full_entropy: 0.3212 - no_lang_test_precision: 2.7547e-04 - no_lang_test_recall: 0.7397 - no_lang_test_small_accuracy: 0.7618 - no_lang_test_small_precision: 0.7764 - no_lang_test_small_recall: 0.7355 - no_lang_test_small_entropy: 0.5433 - entropy_large_set: 0.2153 - 10s/epoch - 10s/step\n",
      "Epoch 63/100\n",
      "1/1 - 10s - accuracy: 0.9483 - precision: 0.9215 - recall: 0.9800 - entropy: 0.1345 - full_accuracy: 0.8879 - full_precision: 4.9931e-04 - full_recall: 0.9326 - full_entropy: 0.2389 - test_precision: 4.1533e-04 - test_recall: 0.6954 - test_small_accuracy: 0.7794 - test_small_precision: 0.8400 - test_small_recall: 0.6903 - test_small_entropy: 0.5501 - no_lang_full_accuracy: 0.8493 - no_lang_full_precision: 3.6315e-04 - no_lang_full_recall: 0.9113 - no_lang_full_entropy: 0.3196 - no_lang_test_precision: 2.7577e-04 - no_lang_test_recall: 0.7358 - no_lang_test_small_accuracy: 0.7620 - no_lang_test_small_precision: 0.7772 - no_lang_test_small_recall: 0.7347 - no_lang_test_small_entropy: 0.5439 - entropy_large_set: 0.2140 - 10s/epoch - 10s/step\n",
      "Epoch 64/100\n",
      "1/1 - 10s - accuracy: 0.9500 - precision: 0.9264 - recall: 0.9777 - entropy: 0.1309 - full_accuracy: 0.8887 - full_precision: 5.0061e-04 - full_recall: 0.9333 - full_entropy: 0.2375 - test_precision: 4.1685e-04 - test_recall: 0.6960 - test_small_accuracy: 0.7794 - test_small_precision: 0.8407 - test_small_recall: 0.6894 - test_small_entropy: 0.5518 - no_lang_full_accuracy: 0.8502 - no_lang_full_precision: 3.6385e-04 - no_lang_full_recall: 0.9123 - no_lang_full_entropy: 0.3180 - no_lang_test_precision: 2.7739e-04 - no_lang_test_recall: 0.7387 - no_lang_test_small_accuracy: 0.7622 - no_lang_test_small_precision: 0.7779 - no_lang_test_small_recall: 0.7338 - no_lang_test_small_entropy: 0.5449 - entropy_large_set: 0.2127 - 10s/epoch - 10s/step\n",
      "Epoch 65/100\n",
      "1/1 - 10s - accuracy: 0.9471 - precision: 0.9185 - recall: 0.9813 - entropy: 0.1363 - full_accuracy: 0.8893 - full_precision: 4.9930e-04 - full_recall: 0.9338 - full_entropy: 0.2364 - test_precision: 4.2069e-04 - test_recall: 0.6963 - test_small_accuracy: 0.7796 - test_small_precision: 0.8413 - test_small_recall: 0.6892 - test_small_entropy: 0.5524 - no_lang_full_accuracy: 0.8509 - no_lang_full_precision: 3.6268e-04 - no_lang_full_recall: 0.9129 - no_lang_full_entropy: 0.3167 - no_lang_test_precision: 2.7942e-04 - no_lang_test_recall: 0.7382 - no_lang_test_small_accuracy: 0.7624 - no_lang_test_small_precision: 0.7786 - no_lang_test_small_recall: 0.7334 - no_lang_test_small_entropy: 0.5453 - entropy_large_set: 0.2115 - 10s/epoch - 10s/step\n",
      "Epoch 66/100\n",
      "1/1 - 10s - accuracy: 0.9498 - precision: 0.9228 - recall: 0.9817 - entropy: 0.1299 - full_accuracy: 0.8898 - full_precision: 4.9975e-04 - full_recall: 0.9345 - full_entropy: 0.2354 - test_precision: 4.1981e-04 - test_recall: 0.6979 - test_small_accuracy: 0.7797 - test_small_precision: 0.8419 - test_small_recall: 0.6888 - test_small_entropy: 0.5533 - no_lang_full_accuracy: 0.8516 - no_lang_full_precision: 3.6294e-04 - no_lang_full_recall: 0.9138 - no_lang_full_entropy: 0.3155 - no_lang_test_precision: 2.7862e-04 - no_lang_test_recall: 0.7396 - no_lang_test_small_accuracy: 0.7627 - no_lang_test_small_precision: 0.7793 - no_lang_test_small_recall: 0.7331 - no_lang_test_small_entropy: 0.5457 - entropy_large_set: 0.2103 - 10s/epoch - 10s/step\n"
     ]
    },
    {
     "name": "stdout",
     "output_type": "stream",
     "text": [
      "Epoch 67/100\n",
      "1/1 - 10s - accuracy: 0.9440 - precision: 0.9098 - recall: 0.9856 - entropy: 0.1405 - full_accuracy: 0.8903 - full_precision: 5.0891e-04 - full_recall: 0.9362 - full_entropy: 0.2346 - test_precision: 4.1985e-04 - test_recall: 0.6985 - test_small_accuracy: 0.7799 - test_small_precision: 0.8424 - test_small_recall: 0.6886 - test_small_entropy: 0.5541 - no_lang_full_accuracy: 0.8522 - no_lang_full_precision: 3.6966e-04 - no_lang_full_recall: 0.9161 - no_lang_full_entropy: 0.3146 - no_lang_test_precision: 2.7821e-04 - no_lang_test_recall: 0.7397 - no_lang_test_small_accuracy: 0.7630 - no_lang_test_small_precision: 0.7798 - no_lang_test_small_recall: 0.7330 - no_lang_test_small_entropy: 0.5458 - entropy_large_set: 0.2092 - 10s/epoch - 10s/step\n",
      "Epoch 68/100\n",
      "1/1 - 10s - accuracy: 0.9513 - precision: 0.9278 - recall: 0.9787 - entropy: 0.1286 - full_accuracy: 0.8910 - full_precision: 5.1557e-04 - full_recall: 0.9375 - full_entropy: 0.2332 - test_precision: 4.1925e-04 - test_recall: 0.6947 - test_small_accuracy: 0.7799 - test_small_precision: 0.8431 - test_small_recall: 0.6878 - test_small_entropy: 0.5554 - no_lang_full_accuracy: 0.8530 - no_lang_full_precision: 3.7438e-04 - no_lang_full_recall: 0.9178 - no_lang_full_entropy: 0.3131 - no_lang_test_precision: 2.7753e-04 - no_lang_test_recall: 0.7354 - no_lang_test_small_accuracy: 0.7632 - no_lang_test_small_precision: 0.7806 - no_lang_test_small_recall: 0.7322 - no_lang_test_small_entropy: 0.5465 - entropy_large_set: 0.2080 - 10s/epoch - 10s/step\n",
      "Epoch 69/100\n",
      "1/1 - 10s - accuracy: 0.9481 - precision: 0.9172 - recall: 0.9851 - entropy: 0.1329 - full_accuracy: 0.8915 - full_precision: 5.1760e-04 - full_recall: 0.9383 - full_entropy: 0.2324 - test_precision: 4.2358e-04 - test_recall: 0.6958 - test_small_accuracy: 0.7801 - test_small_precision: 0.8437 - test_small_recall: 0.6876 - test_small_entropy: 0.5560 - no_lang_full_accuracy: 0.8537 - no_lang_full_precision: 3.7595e-04 - no_lang_full_recall: 0.9188 - no_lang_full_entropy: 0.3119 - no_lang_test_precision: 2.8104e-04 - no_lang_test_recall: 0.7382 - no_lang_test_small_accuracy: 0.7635 - no_lang_test_small_precision: 0.7814 - no_lang_test_small_recall: 0.7319 - no_lang_test_small_entropy: 0.5467 - entropy_large_set: 0.2070 - 10s/epoch - 10s/step\n",
      "Epoch 70/100\n",
      "1/1 - 10s - accuracy: 0.9513 - precision: 0.9254 - recall: 0.9818 - entropy: 0.1287 - full_accuracy: 0.8920 - full_precision: 5.2347e-04 - full_recall: 0.9395 - full_entropy: 0.2314 - test_precision: 4.2020e-04 - test_recall: 0.6906 - test_small_accuracy: 0.7801 - test_small_precision: 0.8443 - test_small_recall: 0.6868 - test_small_entropy: 0.5575 - no_lang_full_accuracy: 0.8543 - no_lang_full_precision: 3.8016e-04 - no_lang_full_recall: 0.9204 - no_lang_full_entropy: 0.3108 - no_lang_test_precision: 2.8045e-04 - no_lang_test_recall: 0.7376 - no_lang_test_small_accuracy: 0.7637 - no_lang_test_small_precision: 0.7821 - no_lang_test_small_recall: 0.7313 - no_lang_test_small_entropy: 0.5473 - entropy_large_set: 0.2058 - 10s/epoch - 10s/step\n",
      "Epoch 71/100\n",
      "1/1 - 10s - accuracy: 0.9516 - precision: 0.9237 - recall: 0.9845 - entropy: 0.1259 - full_accuracy: 0.8925 - full_precision: 5.3614e-04 - full_recall: 0.9414 - full_entropy: 0.2305 - test_precision: 4.2215e-04 - test_recall: 0.6919 - test_small_accuracy: 0.7801 - test_small_precision: 0.8449 - test_small_recall: 0.6864 - test_small_entropy: 0.5586 - no_lang_full_accuracy: 0.8550 - no_lang_full_precision: 3.8946e-04 - no_lang_full_recall: 0.9228 - no_lang_full_entropy: 0.3096 - no_lang_test_precision: 2.8239e-04 - no_lang_test_recall: 0.7408 - no_lang_test_small_accuracy: 0.7640 - no_lang_test_small_precision: 0.7827 - no_lang_test_small_recall: 0.7308 - no_lang_test_small_entropy: 0.5477 - entropy_large_set: 0.2047 - 10s/epoch - 10s/step\n",
      "Epoch 72/100\n",
      "1/1 - 10s - accuracy: 0.9472 - precision: 0.9141 - recall: 0.9873 - entropy: 0.1359 - full_accuracy: 0.8930 - full_precision: 5.3970e-04 - full_recall: 0.9422 - full_entropy: 0.2297 - test_precision: 4.2413e-04 - test_recall: 0.6916 - test_small_accuracy: 0.7804 - test_small_precision: 0.8453 - test_small_recall: 0.6864 - test_small_entropy: 0.5590 - no_lang_full_accuracy: 0.8554 - no_lang_full_precision: 3.9174e-04 - no_lang_full_recall: 0.9240 - no_lang_full_entropy: 0.3089 - no_lang_test_precision: 2.8122e-04 - no_lang_test_recall: 0.7349 - no_lang_test_small_accuracy: 0.7643 - no_lang_test_small_precision: 0.7832 - no_lang_test_small_recall: 0.7308 - no_lang_test_small_entropy: 0.5479 - entropy_large_set: 0.2038 - 10s/epoch - 10s/step\n",
      "Epoch 73/100\n",
      "1/1 - 10s - accuracy: 0.9520 - precision: 0.9249 - recall: 0.9838 - entropy: 0.1270 - full_accuracy: 0.8935 - full_precision: 5.4516e-04 - full_recall: 0.9433 - full_entropy: 0.2288 - test_precision: 4.2624e-04 - test_recall: 0.6863 - test_small_accuracy: 0.7805 - test_small_precision: 0.8459 - test_small_recall: 0.6861 - test_small_entropy: 0.5597 - no_lang_full_accuracy: 0.8561 - no_lang_full_precision: 3.9573e-04 - no_lang_full_recall: 0.9254 - no_lang_full_entropy: 0.3078 - no_lang_test_precision: 2.8322e-04 - no_lang_test_recall: 0.7311 - no_lang_test_small_accuracy: 0.7645 - no_lang_test_small_precision: 0.7839 - no_lang_test_small_recall: 0.7305 - no_lang_test_small_entropy: 0.5482 - entropy_large_set: 0.2027 - 10s/epoch - 10s/step\n",
      "Epoch 74/100\n",
      "1/1 - 10s - accuracy: 0.9504 - precision: 0.9211 - recall: 0.9852 - entropy: 0.1285 - full_accuracy: 0.8941 - full_precision: 5.4580e-04 - full_recall: 0.9438 - full_entropy: 0.2278 - test_precision: 4.2532e-04 - test_recall: 0.6862 - test_small_accuracy: 0.7807 - test_small_precision: 0.8464 - test_small_recall: 0.6858 - test_small_entropy: 0.5605 - no_lang_full_accuracy: 0.8567 - no_lang_full_precision: 3.9581e-04 - no_lang_full_recall: 0.9260 - no_lang_full_entropy: 0.3067 - no_lang_test_precision: 2.8232e-04 - no_lang_test_recall: 0.7307 - no_lang_test_small_accuracy: 0.7648 - no_lang_test_small_precision: 0.7845 - no_lang_test_small_recall: 0.7301 - no_lang_test_small_entropy: 0.5487 - entropy_large_set: 0.2017 - 10s/epoch - 10s/step\n",
      "Epoch 75/100\n",
      "1/1 - 10s - accuracy: 0.9525 - precision: 0.9269 - recall: 0.9825 - entropy: 0.1243 - full_accuracy: 0.8947 - full_precision: 5.4684e-04 - full_recall: 0.9443 - full_entropy: 0.2266 - test_precision: 4.2283e-04 - test_recall: 0.6837 - test_small_accuracy: 0.7807 - test_small_precision: 0.8469 - test_small_recall: 0.6854 - test_small_entropy: 0.5617 - no_lang_full_accuracy: 0.8574 - no_lang_full_precision: 3.9640e-04 - no_lang_full_recall: 0.9267 - no_lang_full_entropy: 0.3053 - no_lang_test_precision: 2.8054e-04 - no_lang_test_recall: 0.7279 - no_lang_test_small_accuracy: 0.7649 - no_lang_test_small_precision: 0.7851 - no_lang_test_small_recall: 0.7296 - no_lang_test_small_entropy: 0.5495 - entropy_large_set: 0.2007 - 10s/epoch - 10s/step\n",
      "Epoch 76/100\n",
      "1/1 - 10s - accuracy: 0.9479 - precision: 0.9145 - recall: 0.9881 - entropy: 0.1337 - full_accuracy: 0.8951 - full_precision: 5.4986e-04 - full_recall: 0.9451 - full_entropy: 0.2261 - test_precision: 4.2555e-04 - test_recall: 0.6826 - test_small_accuracy: 0.7810 - test_small_precision: 0.8474 - test_small_recall: 0.6854 - test_small_entropy: 0.5620 - no_lang_full_accuracy: 0.8578 - no_lang_full_precision: 3.9839e-04 - no_lang_full_recall: 0.9277 - no_lang_full_entropy: 0.3048 - no_lang_test_precision: 2.8294e-04 - no_lang_test_recall: 0.7283 - no_lang_test_small_accuracy: 0.7652 - no_lang_test_small_precision: 0.7856 - no_lang_test_small_recall: 0.7295 - no_lang_test_small_entropy: 0.5497 - entropy_large_set: 0.1998 - 10s/epoch - 10s/step\n",
      "Epoch 77/100\n",
      "1/1 - 10s - accuracy: 0.9499 - precision: 0.9193 - recall: 0.9865 - entropy: 0.1301 - full_accuracy: 0.8954 - full_precision: 5.4633e-04 - full_recall: 0.9452 - full_entropy: 0.2254 - test_precision: 4.2843e-04 - test_recall: 0.6831 - test_small_accuracy: 0.7811 - test_small_precision: 0.8478 - test_small_recall: 0.6853 - test_small_entropy: 0.5624 - no_lang_full_accuracy: 0.8582 - no_lang_full_precision: 3.9560e-04 - no_lang_full_recall: 0.9280 - no_lang_full_entropy: 0.3041 - no_lang_test_precision: 2.8539e-04 - no_lang_test_recall: 0.7303 - no_lang_test_small_accuracy: 0.7654 - no_lang_test_small_precision: 0.7861 - no_lang_test_small_recall: 0.7293 - no_lang_test_small_entropy: 0.5500 - entropy_large_set: 0.1989 - 10s/epoch - 10s/step\n"
     ]
    },
    {
     "name": "stdout",
     "output_type": "stream",
     "text": [
      "Epoch 78/100\n",
      "1/1 - 10s - accuracy: 0.9531 - precision: 0.9254 - recall: 0.9855 - entropy: 0.1239 - full_accuracy: 0.8958 - full_precision: 5.5453e-04 - full_recall: 0.9465 - full_entropy: 0.2247 - test_precision: 4.3295e-04 - test_recall: 0.6874 - test_small_accuracy: 0.7812 - test_small_precision: 0.8483 - test_small_recall: 0.6850 - test_small_entropy: 0.5633 - no_lang_full_accuracy: 0.8588 - no_lang_full_precision: 4.0179e-04 - no_lang_full_recall: 0.9296 - no_lang_full_entropy: 0.3031 - no_lang_test_precision: 2.8807e-04 - no_lang_test_recall: 0.7339 - no_lang_test_small_accuracy: 0.7656 - no_lang_test_small_precision: 0.7866 - no_lang_test_small_recall: 0.7290 - no_lang_test_small_entropy: 0.5505 - entropy_large_set: 0.1979 - 10s/epoch - 10s/step\n",
      "Epoch 79/100\n",
      "1/1 - 10s - accuracy: 0.9577 - precision: 0.9370 - recall: 0.9814 - entropy: 0.1163 - full_accuracy: 0.8965 - full_precision: 5.5087e-04 - full_recall: 0.9465 - full_entropy: 0.2234 - test_precision: 4.3528e-04 - test_recall: 0.6841 - test_small_accuracy: 0.7811 - test_small_precision: 0.8488 - test_small_recall: 0.6841 - test_small_entropy: 0.5651 - no_lang_full_accuracy: 0.8596 - no_lang_full_precision: 3.9901e-04 - no_lang_full_recall: 0.9296 - no_lang_full_entropy: 0.3015 - no_lang_test_precision: 2.9018e-04 - no_lang_test_recall: 0.7320 - no_lang_test_small_accuracy: 0.7657 - no_lang_test_small_precision: 0.7874 - no_lang_test_small_recall: 0.7281 - no_lang_test_small_entropy: 0.5514 - entropy_large_set: 0.1969 - 10s/epoch - 10s/step\n",
      "Epoch 80/100\n",
      "1/1 - 10s - accuracy: 0.9543 - precision: 0.9275 - recall: 0.9857 - entropy: 0.1206 - full_accuracy: 0.8969 - full_precision: 5.5628e-04 - full_recall: 0.9474 - full_entropy: 0.2225 - test_precision: 4.3521e-04 - test_recall: 0.6817 - test_small_accuracy: 0.7812 - test_small_precision: 0.8493 - test_small_recall: 0.6838 - test_small_entropy: 0.5662 - no_lang_full_accuracy: 0.8602 - no_lang_full_precision: 4.0166e-04 - no_lang_full_recall: 0.9280 - no_lang_full_entropy: 0.3004 - no_lang_test_precision: 2.8917e-04 - no_lang_test_recall: 0.7269 - no_lang_test_small_accuracy: 0.7659 - no_lang_test_small_precision: 0.7879 - no_lang_test_small_recall: 0.7278 - no_lang_test_small_entropy: 0.5520 - entropy_large_set: 0.1959 - 10s/epoch - 10s/step\n",
      "Epoch 81/100\n",
      "1/1 - 10s - accuracy: 0.9532 - precision: 0.9259 - recall: 0.9851 - entropy: 0.1227 - full_accuracy: 0.8974 - full_precision: 5.6318e-04 - full_recall: 0.9484 - full_entropy: 0.2217 - test_precision: 4.3601e-04 - test_recall: 0.6809 - test_small_accuracy: 0.7813 - test_small_precision: 0.8498 - test_small_recall: 0.6835 - test_small_entropy: 0.5669 - no_lang_full_accuracy: 0.8607 - no_lang_full_precision: 4.0654e-04 - no_lang_full_recall: 0.9293 - no_lang_full_entropy: 0.2995 - no_lang_test_precision: 2.8930e-04 - no_lang_test_recall: 0.7255 - no_lang_test_small_accuracy: 0.7661 - no_lang_test_small_precision: 0.7884 - no_lang_test_small_recall: 0.7274 - no_lang_test_small_entropy: 0.5524 - entropy_large_set: 0.1950 - 10s/epoch - 10s/step\n",
      "Epoch 82/100\n",
      "1/1 - 10s - accuracy: 0.9539 - precision: 0.9266 - recall: 0.9859 - entropy: 0.1203 - full_accuracy: 0.8978 - full_precision: 5.7795e-04 - full_recall: 0.9500 - full_entropy: 0.2208 - test_precision: 4.3918e-04 - test_recall: 0.6785 - test_small_accuracy: 0.7813 - test_small_precision: 0.8502 - test_small_recall: 0.6831 - test_small_entropy: 0.5679 - no_lang_full_accuracy: 0.8613 - no_lang_full_precision: 4.1740e-04 - no_lang_full_recall: 0.9316 - no_lang_full_entropy: 0.2984 - no_lang_test_precision: 2.9117e-04 - no_lang_test_recall: 0.7223 - no_lang_test_small_accuracy: 0.7662 - no_lang_test_small_precision: 0.7890 - no_lang_test_small_recall: 0.7269 - no_lang_test_small_entropy: 0.5532 - entropy_large_set: 0.1941 - 10s/epoch - 10s/step\n",
      "Epoch 83/100\n",
      "1/1 - 10s - accuracy: 0.9512 - precision: 0.9213 - recall: 0.9868 - entropy: 0.1271 - full_accuracy: 0.8983 - full_precision: 5.8454e-04 - full_recall: 0.9509 - full_entropy: 0.2201 - test_precision: 4.4214e-04 - test_recall: 0.6818 - test_small_accuracy: 0.7815 - test_small_precision: 0.8506 - test_small_recall: 0.6830 - test_small_entropy: 0.5685 - no_lang_full_accuracy: 0.8618 - no_lang_full_precision: 4.2213e-04 - no_lang_full_recall: 0.9328 - no_lang_full_entropy: 0.2975 - no_lang_test_precision: 2.9113e-04 - no_lang_test_recall: 0.7211 - no_lang_test_small_accuracy: 0.7664 - no_lang_test_small_precision: 0.7895 - no_lang_test_small_recall: 0.7267 - no_lang_test_small_entropy: 0.5537 - entropy_large_set: 0.1933 - 10s/epoch - 10s/step\n",
      "Epoch 84/100\n",
      "1/1 - 10s - accuracy: 0.9569 - precision: 0.9337 - recall: 0.9835 - entropy: 0.1148 - full_accuracy: 0.8988 - full_precision: 5.9163e-04 - full_recall: 0.9518 - full_entropy: 0.2191 - test_precision: 4.4702e-04 - test_recall: 0.6843 - test_small_accuracy: 0.7814 - test_small_precision: 0.8510 - test_small_recall: 0.6823 - test_small_entropy: 0.5701 - no_lang_full_accuracy: 0.8625 - no_lang_full_precision: 4.2734e-04 - no_lang_full_recall: 0.9340 - no_lang_full_entropy: 0.2962 - no_lang_test_precision: 2.9391e-04 - no_lang_test_recall: 0.7230 - no_lang_test_small_accuracy: 0.7665 - no_lang_test_small_precision: 0.7900 - no_lang_test_small_recall: 0.7260 - no_lang_test_small_entropy: 0.5546 - entropy_large_set: 0.1924 - 10s/epoch - 10s/step\n",
      "Epoch 85/100\n",
      "1/1 - 10s - accuracy: 0.9537 - precision: 0.9251 - recall: 0.9873 - entropy: 0.1202 - full_accuracy: 0.8992 - full_precision: 6.0121e-04 - full_recall: 0.9529 - full_entropy: 0.2183 - test_precision: 4.5151e-04 - test_recall: 0.6854 - test_small_accuracy: 0.7815 - test_small_precision: 0.8514 - test_small_recall: 0.6820 - test_small_entropy: 0.5711 - no_lang_full_accuracy: 0.8629 - no_lang_full_precision: 4.3403e-04 - no_lang_full_recall: 0.9355 - no_lang_full_entropy: 0.2954 - no_lang_test_precision: 2.9730e-04 - no_lang_test_recall: 0.7255 - no_lang_test_small_accuracy: 0.7667 - no_lang_test_small_precision: 0.7905 - no_lang_test_small_recall: 0.7256 - no_lang_test_small_entropy: 0.5552 - entropy_large_set: 0.1915 - 10s/epoch - 10s/step\n",
      "Epoch 86/100\n",
      "1/1 - 10s - accuracy: 0.9561 - precision: 0.9285 - recall: 0.9884 - entropy: 0.1162 - full_accuracy: 0.8996 - full_precision: 6.0592e-04 - full_recall: 0.9535 - full_entropy: 0.2175 - test_precision: 4.5491e-04 - test_recall: 0.6885 - test_small_accuracy: 0.7815 - test_small_precision: 0.8518 - test_small_recall: 0.6817 - test_small_entropy: 0.5719 - no_lang_full_accuracy: 0.8635 - no_lang_full_precision: 4.3531e-04 - no_lang_full_recall: 0.9315 - no_lang_full_entropy: 0.2943 - no_lang_test_precision: 2.9916e-04 - no_lang_test_recall: 0.7282 - no_lang_test_small_accuracy: 0.7668 - no_lang_test_small_precision: 0.7910 - no_lang_test_small_recall: 0.7253 - no_lang_test_small_entropy: 0.5558 - entropy_large_set: 0.1907 - 10s/epoch - 10s/step\n",
      "Epoch 87/100\n",
      "1/1 - 10s - accuracy: 0.9560 - precision: 0.9286 - recall: 0.9878 - entropy: 0.1152 - full_accuracy: 0.9001 - full_precision: 6.0462e-04 - full_recall: 0.9538 - full_entropy: 0.2167 - test_precision: 4.5642e-04 - test_recall: 0.6896 - test_small_accuracy: 0.7816 - test_small_precision: 0.8523 - test_small_recall: 0.6813 - test_small_entropy: 0.5727 - no_lang_full_accuracy: 0.8641 - no_lang_full_precision: 4.3436e-04 - no_lang_full_recall: 0.9319 - no_lang_full_entropy: 0.2933 - no_lang_test_precision: 2.9997e-04 - no_lang_test_recall: 0.7289 - no_lang_test_small_accuracy: 0.7670 - no_lang_test_small_precision: 0.7915 - no_lang_test_small_recall: 0.7248 - no_lang_test_small_entropy: 0.5564 - entropy_large_set: 0.1898 - 10s/epoch - 10s/step\n",
      "Epoch 88/100\n",
      "1/1 - 10s - accuracy: 0.9558 - precision: 0.9267 - recall: 0.9898 - entropy: 0.1178 - full_accuracy: 0.9005 - full_precision: 6.0470e-04 - full_recall: 0.9541 - full_entropy: 0.2160 - test_precision: 4.5715e-04 - test_recall: 0.6901 - test_small_accuracy: 0.7817 - test_small_precision: 0.8527 - test_small_recall: 0.6812 - test_small_entropy: 0.5734 - no_lang_full_accuracy: 0.8645 - no_lang_full_precision: 4.3419e-04 - no_lang_full_recall: 0.9324 - no_lang_full_entropy: 0.2925 - no_lang_test_precision: 2.9950e-04 - no_lang_test_recall: 0.7271 - no_lang_test_small_accuracy: 0.7671 - no_lang_test_small_precision: 0.7920 - no_lang_test_small_recall: 0.7245 - no_lang_test_small_entropy: 0.5569 - entropy_large_set: 0.1890 - 10s/epoch - 10s/step\n"
     ]
    },
    {
     "name": "stdout",
     "output_type": "stream",
     "text": [
      "Epoch 89/100\n",
      "1/1 - 10s - accuracy: 0.9557 - precision: 0.9280 - recall: 0.9880 - entropy: 0.1158 - full_accuracy: 0.9010 - full_precision: 6.0703e-04 - full_recall: 0.9545 - full_entropy: 0.2150 - test_precision: 4.6015e-04 - test_recall: 0.6917 - test_small_accuracy: 0.7818 - test_small_precision: 0.8531 - test_small_recall: 0.6809 - test_small_entropy: 0.5742 - no_lang_full_accuracy: 0.8651 - no_lang_full_precision: 4.3572e-04 - no_lang_full_recall: 0.9330 - no_lang_full_entropy: 0.2913 - no_lang_test_precision: 3.0024e-04 - no_lang_test_recall: 0.7264 - no_lang_test_small_accuracy: 0.7673 - no_lang_test_small_precision: 0.7926 - no_lang_test_small_recall: 0.7241 - no_lang_test_small_entropy: 0.5574 - entropy_large_set: 0.1881 - 10s/epoch - 10s/step\n",
      "Epoch 90/100\n",
      "1/1 - 10s - accuracy: 0.9550 - precision: 0.9268 - recall: 0.9881 - entropy: 0.1182 - full_accuracy: 0.9013 - full_precision: 6.1016e-04 - full_recall: 0.9551 - full_entropy: 0.2143 - test_precision: 4.6294e-04 - test_recall: 0.6894 - test_small_accuracy: 0.7819 - test_small_precision: 0.8535 - test_small_recall: 0.6807 - test_small_entropy: 0.5749 - no_lang_full_accuracy: 0.8656 - no_lang_full_precision: 4.3800e-04 - no_lang_full_recall: 0.9338 - no_lang_full_entropy: 0.2904 - no_lang_test_precision: 3.0110e-04 - no_lang_test_recall: 0.7216 - no_lang_test_small_accuracy: 0.7674 - no_lang_test_small_precision: 0.7931 - no_lang_test_small_recall: 0.7238 - no_lang_test_small_entropy: 0.5580 - entropy_large_set: 0.1874 - 10s/epoch - 10s/step\n",
      "Epoch 91/100\n",
      "1/1 - 10s - accuracy: 0.9543 - precision: 0.9235 - recall: 0.9906 - entropy: 0.1192 - full_accuracy: 0.9017 - full_precision: 6.1609e-04 - full_recall: 0.9536 - full_entropy: 0.2137 - test_precision: 4.6143e-04 - test_recall: 0.6854 - test_small_accuracy: 0.7820 - test_small_precision: 0.8538 - test_small_recall: 0.6806 - test_small_entropy: 0.5754 - no_lang_full_accuracy: 0.8661 - no_lang_full_precision: 4.4236e-04 - no_lang_full_recall: 0.9327 - no_lang_full_entropy: 0.2896 - no_lang_test_precision: 3.0003e-04 - no_lang_test_recall: 0.7172 - no_lang_test_small_accuracy: 0.7676 - no_lang_test_small_precision: 0.7934 - no_lang_test_small_recall: 0.7236 - no_lang_test_small_entropy: 0.5584 - entropy_large_set: 0.1866 - 10s/epoch - 10s/step\n",
      "Epoch 92/100\n",
      "1/1 - 10s - accuracy: 0.9571 - precision: 0.9297 - recall: 0.9889 - entropy: 0.1133 - full_accuracy: 0.9021 - full_precision: 6.2389e-04 - full_recall: 0.9544 - full_entropy: 0.2129 - test_precision: 4.6058e-04 - test_recall: 0.6840 - test_small_accuracy: 0.7821 - test_small_precision: 0.8542 - test_small_recall: 0.6803 - test_small_entropy: 0.5764 - no_lang_full_accuracy: 0.8665 - no_lang_full_precision: 4.4780e-04 - no_lang_full_recall: 0.9339 - no_lang_full_entropy: 0.2887 - no_lang_test_precision: 3.0014e-04 - no_lang_test_recall: 0.7175 - no_lang_test_small_accuracy: 0.7677 - no_lang_test_small_precision: 0.7939 - no_lang_test_small_recall: 0.7232 - no_lang_test_small_entropy: 0.5589 - entropy_large_set: 0.1858 - 10s/epoch - 10s/step\n",
      "Epoch 93/100\n",
      "1/1 - 10s - accuracy: 0.9564 - precision: 0.9279 - recall: 0.9896 - entropy: 0.1167 - full_accuracy: 0.9025 - full_precision: 6.2133e-04 - full_recall: 0.9545 - full_entropy: 0.2121 - test_precision: 4.6093e-04 - test_recall: 0.6832 - test_small_accuracy: 0.7822 - test_small_precision: 0.8546 - test_small_recall: 0.6800 - test_small_entropy: 0.5771 - no_lang_full_accuracy: 0.8670 - no_lang_full_precision: 4.4568e-04 - no_lang_full_recall: 0.9341 - no_lang_full_entropy: 0.2879 - no_lang_test_precision: 3.0108e-04 - no_lang_test_recall: 0.7182 - no_lang_test_small_accuracy: 0.7678 - no_lang_test_small_precision: 0.7944 - no_lang_test_small_recall: 0.7228 - no_lang_test_small_entropy: 0.5595 - entropy_large_set: 0.1851 - 10s/epoch - 10s/step\n",
      "Epoch 94/100\n",
      "1/1 - 10s - accuracy: 0.9596 - precision: 0.9356 - recall: 0.9873 - entropy: 0.1093 - full_accuracy: 0.9030 - full_precision: 6.2650e-04 - full_recall: 0.9552 - full_entropy: 0.2112 - test_precision: 4.6047e-04 - test_recall: 0.6832 - test_small_accuracy: 0.7821 - test_small_precision: 0.8550 - test_small_recall: 0.6794 - test_small_entropy: 0.5786 - no_lang_full_accuracy: 0.8676 - no_lang_full_precision: 4.4944e-04 - no_lang_full_recall: 0.9350 - no_lang_full_entropy: 0.2867 - no_lang_test_precision: 3.0067e-04 - no_lang_test_recall: 0.7179 - no_lang_test_small_accuracy: 0.7679 - no_lang_test_small_precision: 0.7949 - no_lang_test_small_recall: 0.7222 - no_lang_test_small_entropy: 0.5604 - entropy_large_set: 0.1843 - 10s/epoch - 10s/step\n",
      "Epoch 95/100\n",
      "1/1 - 10s - accuracy: 0.9564 - precision: 0.9275 - recall: 0.9903 - entropy: 0.1152 - full_accuracy: 0.9034 - full_precision: 6.2393e-04 - full_recall: 0.9553 - full_entropy: 0.2104 - test_precision: 4.6071e-04 - test_recall: 0.6824 - test_small_accuracy: 0.7821 - test_small_precision: 0.8554 - test_small_recall: 0.6791 - test_small_entropy: 0.5794 - no_lang_full_accuracy: 0.8681 - no_lang_full_precision: 4.4733e-04 - no_lang_full_recall: 0.9351 - no_lang_full_entropy: 0.2858 - no_lang_test_precision: 3.0079e-04 - no_lang_test_recall: 0.7169 - no_lang_test_small_accuracy: 0.7680 - no_lang_test_small_precision: 0.7954 - no_lang_test_small_recall: 0.7218 - no_lang_test_small_entropy: 0.5610 - entropy_large_set: 0.1835 - 10s/epoch - 10s/step\n",
      "Epoch 96/100\n",
      "1/1 - 10s - accuracy: 0.9521 - precision: 0.9184 - recall: 0.9924 - entropy: 0.1237 - full_accuracy: 0.9036 - full_precision: 6.2332e-04 - full_recall: 0.9513 - full_entropy: 0.2101 - test_precision: 4.6187e-04 - test_recall: 0.6835 - test_small_accuracy: 0.7823 - test_small_precision: 0.8557 - test_small_recall: 0.6793 - test_small_entropy: 0.5796 - no_lang_full_accuracy: 0.8683 - no_lang_full_precision: 4.4675e-04 - no_lang_full_recall: 0.9314 - no_lang_full_entropy: 0.2855 - no_lang_test_precision: 3.0063e-04 - no_lang_test_recall: 0.7158 - no_lang_test_small_accuracy: 0.7683 - no_lang_test_small_precision: 0.7957 - no_lang_test_small_recall: 0.7219 - no_lang_test_small_entropy: 0.5611 - entropy_large_set: 0.1829 - 10s/epoch - 10s/step\n",
      "Epoch 97/100\n",
      "1/1 - 10s - accuracy: 0.9601 - precision: 0.9371 - recall: 0.9865 - entropy: 0.1067 - full_accuracy: 0.9040 - full_precision: 6.2240e-04 - full_recall: 0.9515 - full_entropy: 0.2093 - test_precision: 4.6422e-04 - test_recall: 0.6845 - test_small_accuracy: 0.7823 - test_small_precision: 0.8562 - test_small_recall: 0.6787 - test_small_entropy: 0.5809 - no_lang_full_accuracy: 0.8689 - no_lang_full_precision: 4.4617e-04 - no_lang_full_recall: 0.9317 - no_lang_full_entropy: 0.2843 - no_lang_test_precision: 3.0193e-04 - no_lang_test_recall: 0.7166 - no_lang_test_small_accuracy: 0.7683 - no_lang_test_small_precision: 0.7963 - no_lang_test_small_recall: 0.7212 - no_lang_test_small_entropy: 0.5620 - entropy_large_set: 0.1821 - 10s/epoch - 10s/step\n",
      "Epoch 98/100\n",
      "1/1 - 10s - accuracy: 0.9569 - precision: 0.9295 - recall: 0.9888 - entropy: 0.1133 - full_accuracy: 0.9044 - full_precision: 6.2263e-04 - full_recall: 0.9519 - full_entropy: 0.2086 - test_precision: 4.6236e-04 - test_recall: 0.6826 - test_small_accuracy: 0.7824 - test_small_precision: 0.8565 - test_small_recall: 0.6785 - test_small_entropy: 0.5818 - no_lang_full_accuracy: 0.8694 - no_lang_full_precision: 4.4625e-04 - no_lang_full_recall: 0.9322 - no_lang_full_entropy: 0.2835 - no_lang_test_precision: 3.0141e-04 - no_lang_test_recall: 0.7163 - no_lang_test_small_accuracy: 0.7685 - no_lang_test_small_precision: 0.7967 - no_lang_test_small_recall: 0.7209 - no_lang_test_small_entropy: 0.5626 - entropy_large_set: 0.1814 - 10s/epoch - 10s/step\n",
      "Epoch 99/100\n",
      "1/1 - 10s - accuracy: 0.9567 - precision: 0.9271 - recall: 0.9913 - entropy: 0.1132 - full_accuracy: 0.9047 - full_precision: 6.2664e-04 - full_recall: 0.9525 - full_entropy: 0.2080 - test_precision: 4.6390e-04 - test_recall: 0.6825 - test_small_accuracy: 0.7825 - test_small_precision: 0.8568 - test_small_recall: 0.6783 - test_small_entropy: 0.5824 - no_lang_full_accuracy: 0.8697 - no_lang_full_precision: 4.4815e-04 - no_lang_full_recall: 0.9309 - no_lang_full_entropy: 0.2828 - no_lang_test_precision: 3.0292e-04 - no_lang_test_recall: 0.7175 - no_lang_test_small_accuracy: 0.7686 - no_lang_test_small_precision: 0.7971 - no_lang_test_small_recall: 0.7206 - no_lang_test_small_entropy: 0.5631 - entropy_large_set: 0.1807 - 10s/epoch - 10s/step\n"
     ]
    },
    {
     "name": "stdout",
     "output_type": "stream",
     "text": [
      "Epoch 100/100\n",
      "1/1 - 10s - accuracy: 0.9565 - precision: 0.9267 - recall: 0.9916 - entropy: 0.1129 - full_accuracy: 0.9050 - full_precision: 6.3219e-04 - full_recall: 0.9512 - full_entropy: 0.2075 - test_precision: 4.6673e-04 - test_recall: 0.6840 - test_small_accuracy: 0.7826 - test_small_precision: 0.8571 - test_small_recall: 0.6782 - test_small_entropy: 0.5833 - no_lang_full_accuracy: 0.8701 - no_lang_full_precision: 4.5229e-04 - no_lang_full_recall: 0.9299 - no_lang_full_entropy: 0.2821 - no_lang_test_precision: 3.0441e-04 - no_lang_test_recall: 0.7188 - no_lang_test_small_accuracy: 0.7687 - no_lang_test_small_precision: 0.7975 - no_lang_test_small_recall: 0.7204 - no_lang_test_small_entropy: 0.5636 - entropy_large_set: 0.1801 - 10s/epoch - 10s/step\n",
      "967.0166757106781\n"
     ]
    },
    {
     "ename": "NameError",
     "evalue": "name 'pd' is not defined",
     "output_type": "error",
     "traceback": [
      "\u001b[1;31m---------------------------------------------------------------------------\u001b[0m",
      "\u001b[1;31mNameError\u001b[0m                                 Traceback (most recent call last)",
      "\u001b[1;32m~\\AppData\\Local\\Temp\\ipykernel_15616\\3379888310.py\u001b[0m in \u001b[0;36m<module>\u001b[1;34m\u001b[0m\n\u001b[0;32m     30\u001b[0m \u001b[1;32mdel\u001b[0m \u001b[0mtraining_sampler\u001b[0m\u001b[1;33m\u001b[0m\u001b[1;33m\u001b[0m\u001b[0m\n\u001b[0;32m     31\u001b[0m \u001b[1;33m\u001b[0m\u001b[0m\n\u001b[1;32m---> 32\u001b[1;33m \u001b[0mrunning_data\u001b[0m \u001b[1;33m=\u001b[0m \u001b[0mpd\u001b[0m\u001b[1;33m.\u001b[0m\u001b[0mDataFrame\u001b[0m\u001b[1;33m(\u001b[0m\u001b[0mhist\u001b[0m\u001b[1;33m.\u001b[0m\u001b[0mhistory\u001b[0m\u001b[1;33m)\u001b[0m\u001b[1;33m\u001b[0m\u001b[1;33m\u001b[0m\u001b[0m\n\u001b[0m\u001b[0;32m     33\u001b[0m \u001b[0mdisplay\u001b[0m\u001b[1;33m(\u001b[0m\u001b[0mMarkdown\u001b[0m\u001b[1;33m(\u001b[0m\u001b[1;34m\"**Entropy metrics**\"\u001b[0m\u001b[1;33m)\u001b[0m\u001b[1;33m)\u001b[0m\u001b[1;33m\u001b[0m\u001b[1;33m\u001b[0m\u001b[0m\n\u001b[0;32m     34\u001b[0m \u001b[0mrunning_data\u001b[0m\u001b[1;33m[\u001b[0m\u001b[1;33m[\u001b[0m\u001b[1;34m\"entropy\"\u001b[0m\u001b[1;33m,\u001b[0m \u001b[1;34m\"entropy_large_set\"\u001b[0m\u001b[1;33m,\u001b[0m\u001b[1;34m\"full_entropy\"\u001b[0m\u001b[1;33m]\u001b[0m\u001b[1;33m]\u001b[0m\u001b[1;33m.\u001b[0m\u001b[0mplot\u001b[0m\u001b[1;33m(\u001b[0m\u001b[0mfigsize\u001b[0m \u001b[1;33m=\u001b[0m \u001b[1;33m(\u001b[0m\u001b[1;36m30\u001b[0m\u001b[1;33m,\u001b[0m \u001b[1;36m30\u001b[0m\u001b[1;33m)\u001b[0m\u001b[1;33m)\u001b[0m\u001b[1;33m\u001b[0m\u001b[1;33m\u001b[0m\u001b[0m\n",
      "\u001b[1;31mNameError\u001b[0m: name 'pd' is not defined"
     ]
    }
   ],
   "source": [
    "import model_bert_fix\n",
    "import data_bert\n",
    "import config\n",
    "import time\n",
    "import tensorflow as tf\n",
    "import numpy as np\n",
    "import pandas as pd\n",
    "from IPython.display import Markdown\n",
    "import matplotlib.pyplot as plt\n",
    "\n",
    "print(\"premodel\")\n",
    "model = model_bert_fix.Model(units_size = 450)\n",
    "print(\"presampler\")\n",
    "training_sampler = model_bert_fix.TrainingSampler(embedded_vectors_folder = config.resources_path + \"bert_embedded_vectors/bert_vectorized_L6_H128/\",\n",
    "                               contents_one_hot_file = config.resources_path + \"one_hot_languages/contents_lang_train.npy\",\n",
    "                               topics_one_hot_file = config.resources_path + \"one_hot_languages/topics_lang_train.npy\", device = \"cpu\")\n",
    "print(\"postsampler\")\n",
    "model.compile()\n",
    "model.set_training_params(7500, 7500, training_sampler = training_sampler, training_max_size = 75000)\n",
    "\n",
    "ctime = time.time()\n",
    "checkpoint_file = config.training_models_path + \"model_checkpoints/{epoch:07d}.ckpt\"\n",
    "logging_file = config.training_models_path + \"model_checkpoints/logfile.csv\"\n",
    "callback = tf.keras.callbacks.ModelCheckpoint(filepath=checkpoint_file, save_weights_only = True, verbose = 0, save_freq = 20)\n",
    "csv_logger = tf.keras.callbacks.CSVLogger(logging_file, separator=',', append=False)\n",
    "\n",
    "hist = model.fit(np.array([1, 2]), epochs = 100, callbacks=[callback, csv_logger], verbose = 2, steps_per_epoch = 1)\n",
    "ctime = time.time() - ctime\n",
    "print(ctime)\n",
    "\n",
    "del model\n",
    "del training_sampler\n",
    "\n",
    "running_data = pd.DataFrame(hist.history)\n",
    "display(Markdown(\"**Entropy metrics**\"))\n",
    "running_data[[\"entropy\", \"entropy_large_set\",\"full_entropy\"]].plot(figsize = (30, 30))\n",
    "\n",
    "display(Markdown(\"**Training metrics**\"))\n",
    "running_data[[\"accuracy\", \"precision\", \"recall\"]].plot(figsize = (30, 30))\n",
    "plt.show()\n",
    "\n",
    "display(Markdown(\"**Training full metrics**\"))\n",
    "running_data[[x for x in running_data.columns if x.startswith(\"full\")]].plot(figsize = (30, 30))\n",
    "plt.show()\n",
    "\n",
    "display(Markdown(\"**Test metrics**\"))\n",
    "running_data[[x for x in running_data.columns if x.startswith(\"test\")]].plot(figsize = (30, 30))\n",
    "plt.show()\n",
    "\n",
    "display(Markdown(\"**Training full metrics (no lang)**\"))\n",
    "running_data[[x for x in running_data.columns if x.startswith(\"no_lang_full\")]].plot(figsize = (30, 30))\n",
    "plt.show()\n",
    "\n",
    "display(Markdown(\"**Test metrics (no lang)**\"))\n",
    "running_data[[x for x in running_data.columns if x.startswith(\"no_lang_test\")]].plot(figsize = (30, 30))\n",
    "plt.show()"
   ]
  },
  {
   "cell_type": "code",
   "execution_count": 1,
   "id": "b13c4ae1",
   "metadata": {},
   "outputs": [
    {
     "ename": "NameError",
     "evalue": "name 'hist' is not defined",
     "output_type": "error",
     "traceback": [
      "\u001b[1;31m---------------------------------------------------------------------------\u001b[0m",
      "\u001b[1;31mNameError\u001b[0m                                 Traceback (most recent call last)",
      "\u001b[1;32m~\\AppData\\Local\\Temp\\ipykernel_20540\\26157758.py\u001b[0m in \u001b[0;36m<module>\u001b[1;34m\u001b[0m\n\u001b[0;32m      3\u001b[0m \u001b[1;32mimport\u001b[0m \u001b[0mmatplotlib\u001b[0m\u001b[1;33m.\u001b[0m\u001b[0mpyplot\u001b[0m \u001b[1;32mas\u001b[0m \u001b[0mplt\u001b[0m\u001b[1;33m\u001b[0m\u001b[1;33m\u001b[0m\u001b[0m\n\u001b[0;32m      4\u001b[0m \u001b[1;33m\u001b[0m\u001b[0m\n\u001b[1;32m----> 5\u001b[1;33m \u001b[0mrunning_data\u001b[0m \u001b[1;33m=\u001b[0m \u001b[0mpd\u001b[0m\u001b[1;33m.\u001b[0m\u001b[0mDataFrame\u001b[0m\u001b[1;33m(\u001b[0m\u001b[0mhist\u001b[0m\u001b[1;33m.\u001b[0m\u001b[0mhistory\u001b[0m\u001b[1;33m)\u001b[0m\u001b[1;33m\u001b[0m\u001b[1;33m\u001b[0m\u001b[0m\n\u001b[0m\u001b[0;32m      6\u001b[0m \u001b[0mdisplay\u001b[0m\u001b[1;33m(\u001b[0m\u001b[0mMarkdown\u001b[0m\u001b[1;33m(\u001b[0m\u001b[1;34m\"**Entropy metrics**\"\u001b[0m\u001b[1;33m)\u001b[0m\u001b[1;33m)\u001b[0m\u001b[1;33m\u001b[0m\u001b[1;33m\u001b[0m\u001b[0m\n\u001b[0;32m      7\u001b[0m \u001b[0mrunning_data\u001b[0m\u001b[1;33m[\u001b[0m\u001b[1;33m[\u001b[0m\u001b[1;34m\"entropy\"\u001b[0m\u001b[1;33m,\u001b[0m \u001b[1;34m\"entropy_large_set\"\u001b[0m\u001b[1;33m,\u001b[0m\u001b[1;34m\"full_entropy\"\u001b[0m\u001b[1;33m]\u001b[0m\u001b[1;33m]\u001b[0m\u001b[1;33m.\u001b[0m\u001b[0mplot\u001b[0m\u001b[1;33m(\u001b[0m\u001b[0mfigsize\u001b[0m \u001b[1;33m=\u001b[0m \u001b[1;33m(\u001b[0m\u001b[1;36m30\u001b[0m\u001b[1;33m,\u001b[0m \u001b[1;36m30\u001b[0m\u001b[1;33m)\u001b[0m\u001b[1;33m)\u001b[0m\u001b[1;33m\u001b[0m\u001b[1;33m\u001b[0m\u001b[0m\n",
      "\u001b[1;31mNameError\u001b[0m: name 'hist' is not defined"
     ]
    }
   ],
   "source": [
    "import pandas as pd\n",
    "from IPython.display import Markdown\n",
    "import matplotlib.pyplot as plt\n",
    "\n",
    "running_data = pd.DataFrame(hist.history)\n",
    "display(Markdown(\"**Entropy metrics**\"))\n",
    "running_data[[\"entropy\", \"entropy_large_set\",\"full_entropy\"]].plot(figsize = (30, 30))\n",
    "\n",
    "display(Markdown(\"**Training metrics**\"))\n",
    "running_data[[\"accuracy\", \"precision\", \"recall\"]].plot(figsize = (30, 30))\n",
    "plt.show()\n",
    "\n",
    "display(Markdown(\"**Training full metrics**\"))\n",
    "running_data[[x for x in running_data.columns if x.startswith(\"full\")]].plot(figsize = (30, 30))\n",
    "plt.show()\n",
    "\n",
    "display(Markdown(\"**Test metrics**\"))\n",
    "running_data[[x for x in running_data.columns if x.startswith(\"test\")]].plot(figsize = (30, 30))\n",
    "plt.show()\n",
    "\n",
    "display(Markdown(\"**Training full metrics (no lang)**\"))\n",
    "running_data[[x for x in running_data.columns if x.startswith(\"no_lang_full\")]].plot(figsize = (30, 30))\n",
    "plt.show()\n",
    "\n",
    "display(Markdown(\"**Test metrics (no lang)**\"))\n",
    "running_data[[x for x in running_data.columns if x.startswith(\"no_lang_test\")]].plot(figsize = (30, 30))\n",
    "plt.show()"
   ]
  },
  {
   "cell_type": "code",
   "execution_count": 1,
   "id": "132e39c5",
   "metadata": {},
   "outputs": [],
   "source": [
    "import model_bert_fix\n",
    "\n",
    "model = model_bert_fix.Model(units_size = 425)\n",
    "status = model.load_weights(\"D:/KaggleLearningEquality2023/models/more_layers_noisy/0000020.ckpt\")"
   ]
  },
  {
   "cell_type": "code",
   "execution_count": 2,
   "id": "68b96865",
   "metadata": {},
   "outputs": [
    {
     "name": "stdout",
     "output_type": "stream",
     "text": [
      "<tensorflow.python.training.tracking.util.CheckpointLoadStatus object at 0x000001441F08CE48>\n"
     ]
    }
   ],
   "source": [
    "print(status)"
   ]
  },
  {
   "cell_type": "code",
   "execution_count": 3,
   "id": "29d43b53",
   "metadata": {},
   "outputs": [
    {
     "data": {
      "text/plain": [
       "<tensorflow.python.training.tracking.util.CheckpointLoadStatus at 0x1441f08ce48>"
      ]
     },
     "metadata": {},
     "output_type": "display_data"
    }
   ],
   "source": [
    "display(status)"
   ]
  },
  {
   "cell_type": "code",
   "execution_count": null,
   "id": "1909aa3d",
   "metadata": {},
   "outputs": [],
   "source": [
    "status."
   ]
  }
 ],
 "metadata": {
  "kernelspec": {
   "display_name": "Python 3 (ipykernel)",
   "language": "python",
   "name": "python3"
  },
  "language_info": {
   "codemirror_mode": {
    "name": "ipython",
    "version": 3
   },
   "file_extension": ".py",
   "mimetype": "text/x-python",
   "name": "python",
   "nbconvert_exporter": "python",
   "pygments_lexer": "ipython3",
   "version": "3.7.13"
  }
 },
 "nbformat": 4,
 "nbformat_minor": 5
}
