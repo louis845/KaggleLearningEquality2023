{
 "cells": [
  {
   "cell_type": "code",
   "execution_count": 1,
   "id": "5e00031c",
   "metadata": {},
   "outputs": [],
   "source": [
    "import data_bert\n",
    "import model_bert_evaluation_pipeline\n",
    "import model_bert_tree_evaluation_pipeline\n",
    "import model_bert_evaluation_helpers\n",
    "import config\n",
    "import os\n",
    "import gc\n",
    "\n",
    "import numpy as np\n",
    "import pandas as pd\n",
    "import matplotlib.pyplot as plt\n",
    "import seaborn as sns"
   ]
  },
  {
   "cell_type": "code",
   "execution_count": 5,
   "id": "42f57fb0",
   "metadata": {},
   "outputs": [
    {
     "data": {
      "text/plain": [
       "'topics_vector = np.concatenate([\\n    np.load(config.resources_path + \"sbert_vectors/mininet_L12_english384/topics_description.npy\"),\\n    np.load(config.resources_path + \"sbert_vectors/mininet_L12_english384/topics_title.npy\")\\n], axis=1)'"
      ]
     },
     "execution_count": 5,
     "metadata": {},
     "output_type": "execute_result"
    }
   ],
   "source": [
    "contents_vector = np.concatenate([\n",
    "    np.load(config.resources_path + \"sbert_vectors/mininet_L12_english384/contents_description.npy\"),\n",
    "    np.load(config.resources_path + \"sbert_vectors/mininet_L12_english384/contents_title.npy\")\n",
    "], axis=1)\n",
    "\n",
    "\"\"\"topics_vector = np.concatenate([\n",
    "    np.load(config.resources_path + \"sbert_vectors/mininet_L12_english384/topics_description.npy\"),\n",
    "    np.load(config.resources_path + \"sbert_vectors/mininet_L12_english384/topics_title.npy\")\n",
    "], axis=1)\"\"\""
   ]
  },
  {
   "cell_type": "code",
   "execution_count": null,
   "id": "4d2fe833",
   "metadata": {},
   "outputs": [],
   "source": [
    "for topic_str_id in data_bert.correlations.index:\n",
    "    content_str_ids = data_bert.correlations.loc[topic_str_id, \"content_ids\"].split()\n",
    "    if len(content_str_ids) > 1:\n",
    "        content_num_ids = data_bert.contents_inv_map.loc[content_str_ids]\n",
    "        data_bert."
   ]
  },
  {
   "cell_type": "code",
   "execution_count": 2,
   "id": "a4d7ae1e",
   "metadata": {},
   "outputs": [
    {
     "data": {
      "text/html": [
       "<div>\n",
       "<style scoped>\n",
       "    .dataframe tbody tr th:only-of-type {\n",
       "        vertical-align: middle;\n",
       "    }\n",
       "\n",
       "    .dataframe tbody tr th {\n",
       "        vertical-align: top;\n",
       "    }\n",
       "\n",
       "    .dataframe thead th {\n",
       "        text-align: right;\n",
       "    }\n",
       "</style>\n",
       "<table border=\"1\" class=\"dataframe\">\n",
       "  <thead>\n",
       "    <tr style=\"text-align: right;\">\n",
       "      <th></th>\n",
       "      <th>content_ids</th>\n",
       "    </tr>\n",
       "    <tr>\n",
       "      <th>topic_id</th>\n",
       "      <th></th>\n",
       "    </tr>\n",
       "  </thead>\n",
       "  <tbody>\n",
       "    <tr>\n",
       "      <th>t_00004da3a1b2</th>\n",
       "      <td>c_1108dd0c7a5d c_376c5a8eb028 c_5bc0e1e2cba0 c...</td>\n",
       "    </tr>\n",
       "    <tr>\n",
       "      <th>t_00068291e9a4</th>\n",
       "      <td>c_639ea2ef9c95 c_89ce9367be10 c_ac1672cdcd2c c...</td>\n",
       "    </tr>\n",
       "    <tr>\n",
       "      <th>t_00069b63a70a</th>\n",
       "      <td>c_11a1dc0bfb99</td>\n",
       "    </tr>\n",
       "    <tr>\n",
       "      <th>t_0006d41a73a8</th>\n",
       "      <td>c_0c6473c3480d c_1c57a1316568 c_5e375cf14c47 c...</td>\n",
       "    </tr>\n",
       "    <tr>\n",
       "      <th>t_0008768bdee6</th>\n",
       "      <td>c_34e1424229b4 c_7d1a964d66d5 c_aab93ee667f4</td>\n",
       "    </tr>\n",
       "    <tr>\n",
       "      <th>...</th>\n",
       "      <td>...</td>\n",
       "    </tr>\n",
       "    <tr>\n",
       "      <th>t_fff830472691</th>\n",
       "      <td>c_61fb63326e5d c_8f224e321c87</td>\n",
       "    </tr>\n",
       "    <tr>\n",
       "      <th>t_fff9e5407d13</th>\n",
       "      <td>c_026db653a269 c_0fb048a6412c c_20de77522603 c...</td>\n",
       "    </tr>\n",
       "    <tr>\n",
       "      <th>t_fffbe1d5d43c</th>\n",
       "      <td>c_46f852a49c08 c_6659207b25d5</td>\n",
       "    </tr>\n",
       "    <tr>\n",
       "      <th>t_fffe14f1be1e</th>\n",
       "      <td>c_cece166bad6a</td>\n",
       "    </tr>\n",
       "    <tr>\n",
       "      <th>t_fffe811a6da9</th>\n",
       "      <td>c_92b8fad372ee</td>\n",
       "    </tr>\n",
       "  </tbody>\n",
       "</table>\n",
       "<p>61517 rows × 1 columns</p>\n",
       "</div>"
      ],
      "text/plain": [
       "                                                      content_ids\n",
       "topic_id                                                         \n",
       "t_00004da3a1b2  c_1108dd0c7a5d c_376c5a8eb028 c_5bc0e1e2cba0 c...\n",
       "t_00068291e9a4  c_639ea2ef9c95 c_89ce9367be10 c_ac1672cdcd2c c...\n",
       "t_00069b63a70a                                     c_11a1dc0bfb99\n",
       "t_0006d41a73a8  c_0c6473c3480d c_1c57a1316568 c_5e375cf14c47 c...\n",
       "t_0008768bdee6       c_34e1424229b4 c_7d1a964d66d5 c_aab93ee667f4\n",
       "...                                                           ...\n",
       "t_fff830472691                      c_61fb63326e5d c_8f224e321c87\n",
       "t_fff9e5407d13  c_026db653a269 c_0fb048a6412c c_20de77522603 c...\n",
       "t_fffbe1d5d43c                      c_46f852a49c08 c_6659207b25d5\n",
       "t_fffe14f1be1e                                     c_cece166bad6a\n",
       "t_fffe811a6da9                                     c_92b8fad372ee\n",
       "\n",
       "[61517 rows x 1 columns]"
      ]
     },
     "execution_count": 2,
     "metadata": {},
     "output_type": "execute_result"
    }
   ],
   "source": [
    "data_bert.correlations"
   ]
  }
 ],
 "metadata": {
  "kernelspec": {
   "display_name": "Python 3 (ipykernel)",
   "language": "python",
   "name": "python3"
  },
  "language_info": {
   "codemirror_mode": {
    "name": "ipython",
    "version": 3
   },
   "file_extension": ".py",
   "mimetype": "text/x-python",
   "name": "python",
   "nbconvert_exporter": "python",
   "pygments_lexer": "ipython3",
   "version": "3.7.13"
  }
 },
 "nbformat": 4,
 "nbformat_minor": 5
}
